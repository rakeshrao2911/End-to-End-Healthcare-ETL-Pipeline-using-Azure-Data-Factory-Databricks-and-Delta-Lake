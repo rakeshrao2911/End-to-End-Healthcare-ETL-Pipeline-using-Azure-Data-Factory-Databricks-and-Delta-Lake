{
 "cells": [
  {
   "cell_type": "code",
   "execution_count": 0,
   "metadata": {
    "application/vnd.databricks.v1+cell": {
     "cellMetadata": {
      "byteLimit": 2048000,
      "rowLimit": 10000
     },
     "inputWidgets": {},
     "nuid": "7f5f1aef-64f7-43bc-81e5-883c9e74e32d",
     "showTitle": false,
     "tableResultSettingsMap": {},
     "title": ""
    }
   },
   "outputs": [
    {
     "output_type": "display_data",
     "data": {
      "text/html": [
       "<style scoped>\n",
       "  .table-result-container {\n",
       "    max-height: 300px;\n",
       "    overflow: auto;\n",
       "  }\n",
       "  table, th, td {\n",
       "    border: 1px solid black;\n",
       "    border-collapse: collapse;\n",
       "  }\n",
       "  th, td {\n",
       "    padding: 5px;\n",
       "  }\n",
       "  th {\n",
       "    text-align: left;\n",
       "  }\n",
       "</style><div class='table-result-container'><table class='table-result'><thead style='background-color: white'><tr><th>procedure_code_category</th><th>cpt_codes</th><th>procedure_code_descriptions</th><th>code_status</th></tr></thead><tbody><tr><td>AAA</td><td>34830</td><td>Open repair of infrarenal aortic aneurysm or dissection, plus repair of associated arterial trauma, following unsuccessful endovascular repair; tube prosthesis  </td><td>No Change</td></tr><tr><td>AAA</td><td>34831</td><td>Open repair of infrarenal aortic aneurysm or dissection, plus repair of associated arterial trauma, following unsuccessful endovascular repair; aorto-bi-iliac prosthesis </td><td>No Change</td></tr><tr><td>AAA</td><td>34832</td><td>Open repair of infrarenal aortic aneurysm or dissection, plus repair of associated arterial trauma, following unsuccessful endovascular repair; aorto-bifemoral prosthesis  </td><td>No Change</td></tr><tr><td>AAA</td><td>35081</td><td>Direct repair of aneurysm, pseudoaneurysm, or excision (partial or total) and graft insertion, with or without patch graft; for aneurysm, pseudoaneurysm, and associated occlusive disease, abdominal aorta</td><td>No Change</td></tr><tr><td>AAA</td><td>35082</td><td>Direct repair of aneurysm, pseudoaneurysm, or excision (partial or total) and graft insertion, with or without patch graft; for ruptured aneurysm, abdominal aorta  </td><td>No Change</td></tr><tr><td>AAA</td><td>35091</td><td>Direct repair of aneurysm, pseudoaneurysm, or excision (partial or total) and graft insertion, with or without patch graft; for aneurysm, pseudoaneurysm, and associated occlusive disease, abdominal aorta involving visceral vessels (mesenteric, celiac, renal) </td><td>No Change</td></tr><tr><td>AAA</td><td>35092</td><td>Direct repair of aneurysm, pseudoaneurysm, or excision (partial or total) and graft insertion, with or without patch graft; for ruptured aneurysm, abdominal aorta involving visceral vessels (mesenteric, celiac, renal)  </td><td>No Change</td></tr><tr><td>AAA</td><td>35102</td><td>Direct repair of aneurysm, pseudoaneurysm, or excision (partial or total) and graft insertion, with or without patch graft; for aneurysm, pseudoaneurysm, and associated occlusive disease, abdominal aorta involving iliac vessels (common, hypogastric, external)  </td><td>No Change</td></tr><tr><td>AAA</td><td>35103</td><td>Direct repair of aneurysm, pseudoaneurysm, or excision (partial or total) and graft insertion, with or without patch graft; for ruptured aneurysm, abdominal aorta involving iliac vessels (common, hypogastric, external)  </td><td>No Change</td></tr><tr><td>AMP</td><td>23900</td><td>Interthoracoscapular amputation (forequarter)</td><td>No Change</td></tr><tr><td>AMP</td><td>23920</td><td>Disarticulation of shoulder</td><td>No Change</td></tr><tr><td>AMP</td><td>24900</td><td>Amputation, arm through humerus; with primary closure </td><td>No Change</td></tr><tr><td>AMP</td><td>24920</td><td>Amputation, arm through humerus; open, circular (guillotine) </td><td>No Change</td></tr><tr><td>AMP</td><td>24930</td><td>Amputation, arm through humerus; re-amputation </td><td>No Change</td></tr><tr><td>AMP</td><td>24931</td><td>Amputation, arm through humerus; with implant </td><td>No Change</td></tr><tr><td>AMP</td><td>25900</td><td>Amputation, forearm, through radius and ulna</td><td>No Change</td></tr><tr><td>AMP</td><td>25905</td><td>Amputation, forearm, through radius and ulna; open, circular (guillotine) </td><td>No Change</td></tr><tr><td>AMP</td><td>25909</td><td>Amputation, forearm, through radius and ulna; re-amputation</td><td>No Change</td></tr><tr><td>AMP</td><td>25920</td><td>Disarticulation through wrist</td><td>No Change</td></tr><tr><td>AMP</td><td>25922</td><td>Disarticulation through wrist; secondary closure or scar revision </td><td>No Change</td></tr><tr><td>AMP</td><td>25924</td><td>Disarticulation through wrist; re-amputation </td><td>No Change</td></tr><tr><td>AMP</td><td>25927</td><td>Transmetacarpal amputation;  </td><td>No Change</td></tr><tr><td>AMP</td><td>25929</td><td>Transmetacarpal amputation; secondary closure or scar revision </td><td>No Change</td></tr><tr><td>AMP</td><td>25931</td><td>Transmetacarpal amputation; re-amputation </td><td>No Change</td></tr><tr><td>AMP</td><td>26235</td><td>Partial excision (craterization, saucerization, or diaphysectomy) bone (eg, osteomyelitis); proximal or middle phalanx of finger</td><td>No Change</td></tr><tr><td>AMP</td><td>26236</td><td>Partial excision (craterization, saucerization, or diaphysectomy) bone (eg, osteomyelitis); distal phalanx of finger</td><td>No Change</td></tr><tr><td>AMP</td><td>26910</td><td>Amputation, metacarpal, with finger or thumb (ray amputation), single, with or without interosseous transfer </td><td>No Change</td></tr><tr><td>AMP</td><td>26951</td><td>Amputation, finger or thumb, primary or secondary, any joint or phalanx, single, including neurectomies; with direct closure </td><td>No Change</td></tr><tr><td>AMP</td><td>26952</td><td>Amputation, finger or thumb, primary or secondary, any joint or phalanx, single, including neurectomies; with local advancement flaps (V-Y, hood) </td><td>No Change</td></tr><tr><td>AMP</td><td>27290</td><td>Interpelviabdominal amputation (hindquarter amputation) </td><td>No Change</td></tr><tr><td>AMP</td><td>27295</td><td>Disarticulation of hip </td><td>No Change</td></tr><tr><td>AMP</td><td>27590</td><td>Amputation, thigh, through femur, any level; </td><td>No Change</td></tr><tr><td>AMP</td><td>27591</td><td>Amputation, thigh, through femur, any level; immediate fitting technique including first cast </td><td>No Change</td></tr><tr><td>AMP</td><td>27592</td><td>Amputation, thigh, through femur, any level; open, circular (guillotine) </td><td>No Change</td></tr><tr><td>AMP</td><td>27598</td><td>Disarticulation at knee</td><td>No Change</td></tr><tr><td>AMP</td><td>27880</td><td>Amputation, leg, through tibia and fibula; </td><td>No Change</td></tr><tr><td>AMP</td><td>27881</td><td>Amputation, leg, through tibia and fibula; with immediate fitting technique including application of first cast</td><td>No change</td></tr><tr><td>AMP</td><td>27882</td><td>Amputation, leg, through tibia and fibula; open, circular (guillotine) </td><td>No Change</td></tr><tr><td>AMP</td><td>27884</td><td>Amputation, leg, through tibia and fibula; secondary closure or scar revision </td><td>No Change</td></tr><tr><td>AMP</td><td>27886</td><td>Amputation, leg, through tibia and fibula; re-amputation </td><td>No Change</td></tr><tr><td>AMP</td><td>27888</td><td>Amputation, ankle, through malleoli of tibia and fibula (e.g., Syme, Pirogoff type procedures), with plastic closure and resection of nerves </td><td>No Change</td></tr><tr><td>AMP</td><td>27889</td><td>Ankle disarticulation </td><td>No Change</td></tr><tr><td>AMP</td><td>28124</td><td>Partial excision (craterization, saucerization, sequestrectomy, or diaphysectomy) bone (eg, osteomyelitis or bossing); phalanx of toe</td><td>No Change</td></tr><tr><td>AMP</td><td>28126</td><td>Resection, partial or complete, phalangeal base, each toe</td><td>No Change</td></tr><tr><td>AMP</td><td>28160</td><td>Hemiphalangectomy or interphalangeal joint excision, toe, proximal end of phalanx, each</td><td>No Change</td></tr><tr><td>AMP</td><td>28800</td><td>Amputation, foot; midtarsal (e.g., Chopart type procedure) </td><td>No Change</td></tr><tr><td>AMP</td><td>28805</td><td>Amputation, foot; transmetatarsal </td><td>No Change</td></tr><tr><td>AMP</td><td>28810</td><td>Amputation, metatarsal, with toe, single </td><td>No Change</td></tr><tr><td>AMP</td><td>28820</td><td>Amputation, toe; metatarsophalangeal joint </td><td>No Change</td></tr><tr><td>AMP</td><td>28825</td><td>Amputation, toe; interphalangeal joint </td><td>No Change</td></tr><tr><td>APPY</td><td>44900</td><td>Incision and drainage of appendiceal abscess, open</td><td>No Change</td></tr><tr><td>APPY</td><td>44950</td><td>Appendectomy</td><td>No Change</td></tr><tr><td>APPY</td><td>44955</td><td>Appendectomy; when done for indicated purpose at time of other major procedure (not as separate procedure) (List separately in No changeition to code for primary procedure) </td><td>No Change</td></tr><tr><td>APPY</td><td>44960</td><td>Appendectomy; for ruptured appendix with abscess or generalized peritonitis </td><td>No Change</td></tr><tr><td>APPY</td><td>44970</td><td>Laparoscopy, surgical, appendectomy </td><td>No Change</td></tr><tr><td>APPY</td><td>44979</td><td>Unlisted laparoscopy procedure, appendix </td><td>No Change</td></tr><tr><td>AVSD</td><td>36800</td><td>Insertion of cannula for hemodialysis, other purpose (separate procedure); vein to vein </td><td>No Change</td></tr><tr><td>AVSD</td><td>36810</td><td>Insertion of cannula for hemodialysis, other purpose (separate procedure); arteriovenous, external (Scribner type) </td><td>No Change</td></tr><tr><td>AVSD</td><td>36815</td><td>Insertion of cannula for hemodialysis, other purpose (separate procedure); arteriovenous, external revision, or closure </td><td>No Change</td></tr><tr><td>AVSD</td><td>36818</td><td>Arteriovenous anastomosis, open; by upper arm cephalic vein transposition </td><td>No Change</td></tr><tr><td>AVSD</td><td>36819</td><td>Arteriovenous anastomosis, open; by upper arm basilic vein transposition </td><td>No Change</td></tr><tr><td>AVSD</td><td>36820</td><td>Arteriovenous anastomosis, open; by forearm vein transposition </td><td>No Change</td></tr><tr><td>AVSD</td><td>36821</td><td>Arteriovenous anastomosis, open; direct, any site (e.g., Cimino type) (separate procedure) </td><td>No Change</td></tr><tr><td>AVSD</td><td>36825</td><td>Creation of arteriovenous fistula by other than direct arteriovenous anastomosis (separate procedure); autogenous graft </td><td>No Change</td></tr><tr><td>AVSD</td><td>36830</td><td>Creation of arteriovenous fistula by other than direct arteriovenous anastomosis (separate procedure); non autogenous graft </td><td>No Change</td></tr><tr><td>AVSD</td><td>36832</td><td>Revision, open, arteriovenous fistula; without thrombectomy, autogenous or nonautogenous dialysis graft (separate procedure)</td><td>No Change</td></tr><tr><td>AVSD</td><td>36833</td><td>Revision, open, arteriovenous fistula; with thrombectomy, autogenous or nonautogenous dialysis graft (separate procedure)</td><td>No Change</td></tr><tr><td>AVSD</td><td>36838</td><td>Distal revascularization and interval ligation (DRIL), upper extremity hemodialysis access (steal syndrome) </td><td>No Change</td></tr><tr><td>BILI</td><td>47010</td><td>Hepatotomy; for open drainage of abscess or cyst, 1 or 2 stages </td><td>No Change</td></tr><tr><td>BILI</td><td>47015</td><td>Laparotomy, with aspiration and/or injection of hepatic parasitic (eg, amoebic or echinococcal) cyst(s) or abscess(es </td><td>No Change</td></tr><tr><td>BILI</td><td>47100</td><td>Biopsy of liver, wedge </td><td>No Change</td></tr><tr><td>BILI</td><td>47120</td><td>Hepatectomy, resection of liver; partial lobectomy </td><td>No Change</td></tr><tr><td>BILI</td><td>47122</td><td>Hepatectomy, resection of liver; trisegmentectomy </td><td>No Change</td></tr><tr><td>BILI</td><td>47125</td><td>Hepatectomy, resection of liver; total left lobectomy </td><td>No Change</td></tr><tr><td>BILI</td><td>47130</td><td>Hepatectomy, resection of liver; total right lobectomy </td><td>No Change</td></tr><tr><td>BILI</td><td>47140</td><td>Donor hepatectomy (including cold preservation), from living donor; left lateral segment only (segments II and III) </td><td>No Change</td></tr><tr><td>BILI</td><td>47141</td><td>Donor hepatectomy (including cold preservation), from living donor; total left lobectomy (segments II, III and IV) </td><td>No Change</td></tr><tr><td>BILI</td><td>47142</td><td>Donor hepatectomy (including cold preservation), from living donor; total right lobectomy (segments V, VI, VII and VIII) </td><td>No Change</td></tr><tr><td>BILI</td><td>47300</td><td>Marsupialization of cyst or abscess of liver </td><td>No Change</td></tr><tr><td>BILI</td><td>47350</td><td>Management of liver hemorrhage; simple suture of liver wound or injury </td><td>No Change</td></tr><tr><td>BILI</td><td>47360</td><td>Management of liver hemorrhage; complex suture of liver wound or injury, with or without hepatic artery ligatio</td><td>No Change</td></tr><tr><td>BILI</td><td>47361</td><td>Management of liver hemorrhage; exploration of hepatic wound, extensive debridement, coagulation and/or suture, with or without packing of liver </td><td>No Change</td></tr><tr><td>BILI</td><td>47362</td><td>Management of liver hemorrhage; re-exploration of hepatic wound for removal of packing </td><td>No Change</td></tr><tr><td>BILI</td><td>47370</td><td>Laparoscopy, surgical, ablation of 1 or more liver tumor(s); radiofrequency </td><td>No Change</td></tr><tr><td>BILI</td><td>47371</td><td>Laparoscopy, surgical, ablation of 1 or more liver tumor(s); cryosurgical </td><td>No Change</td></tr><tr><td>BILI</td><td>47379</td><td>Unlisted laparoscopic procedure, liver </td><td>No Change</td></tr><tr><td>BILI</td><td>47380</td><td>Ablation, open, of 1 or more liver tumor(s); radiofrequency </td><td>No Change</td></tr><tr><td>BILI</td><td>47381</td><td>Ablation, open, of 1 or more liver tumor(s); cryosurgical </td><td>No Change</td></tr><tr><td>BILI</td><td>47400</td><td>Hepaticotomy or hepaticostomy with exploration, drainage, or removal of calculus </td><td>No Change</td></tr><tr><td>BILI</td><td>47420</td><td>Choledochotomy or choledochostomy with exploration, drainage, or removal of calculus, with or without cholecystotomy; without transduodenal sphincterotomy or sphincteroplasty </td><td>No Change</td></tr><tr><td>BILI</td><td>47425</td><td>Choledochotomy or choledochostomy with exploration, drainage, or removal of calculus, with or without cholecystotomy; with transduodenal sphincterotomy or sphincteroplasty </td><td>No Change</td></tr><tr><td>BILI</td><td>47460</td><td>Transduodenal sphincterotomy or sphincteroplasty, with or without transduodenal extraction of calculus (separate procedure) </td><td>No Change</td></tr><tr><td>BILI</td><td>47700</td><td>Exploration for congenital atresia of bile ducts, without repair, with or without liver biopsy, with or without cholangiography </td><td>No Change</td></tr><tr><td>BILI</td><td>47701</td><td>Portoenterostomy (eg, Kasai procedure) </td><td>No Change</td></tr><tr><td>BILI</td><td>47711</td><td>Excision of bile duct tumor, with or without primary repair of bile duct; extrahepatic </td><td>No Change</td></tr><tr><td>BILI</td><td>47712</td><td>Excision of bile duct tumor, with or without primary repair of bile duct; intrahepatic </td><td>No Change</td></tr><tr><td>BILI</td><td>47715</td><td>Excision of choledochal cyst </td><td>No Change</td></tr><tr><td>BILI</td><td>47760</td><td>Anastomosis, of extrahepatic biliary ducts and gastrointestinal tract </td><td>No Change</td></tr><tr><td>BILI</td><td>47765</td><td>Anastomosis, of intrahepatic ducts and gastrointestinal tract </td><td>No Change</td></tr><tr><td>BILI</td><td>47780</td><td>Anastomosis, Roux-en-Y, of extrahepatic biliary ducts and gastrointestinal tract </td><td>No Change</td></tr><tr><td>BILI</td><td>47785</td><td>Anastomosis, Roux-en-Y, of intrahepatic biliary ducts and gastrointestinal tract </td><td>No Change</td></tr><tr><td>BILI</td><td>47800</td><td>Reconstruction, plastic, of extrahepatic biliary ducts with end-to-end anastomosis </td><td>No Change</td></tr><tr><td>BILI</td><td>47802</td><td>U-tube hepaticoenterostomy </td><td>No Change</td></tr><tr><td>BILI</td><td>47900</td><td>Suture of extrahepatic biliary duct for pre-existing injury (separate procedure) </td><td>No Change</td></tr><tr><td>BILI</td><td>48000</td><td>Placement of drains, peripancreatic, for acute pancreatitis; </td><td>No Change</td></tr><tr><td>BILI</td><td>48001</td><td>Placement of drains, peripancreatic, for acute pancreatitis; with cholecystostomy, gastrostomy, and jejunostomy </td><td>No Change</td></tr><tr><td>BILI</td><td>48020</td><td>Removal of pancreatic calculus </td><td>No Change</td></tr><tr><td>BILI</td><td>48100</td><td>Biopsy of pancreas, open (eg, fine needle aspiration, needle core biopsy, wedge biopsy) </td><td>No Change</td></tr><tr><td>BILI</td><td>48105</td><td>Resection or debridement of pancreas and peripancreatic tissue for acute necrotizing pancreatitis </td><td>No Change</td></tr><tr><td>BILI</td><td>48120</td><td>Excision of lesion of pancreas (eg, cyst, adenoma) </td><td>No Change</td></tr><tr><td>BILI</td><td>48140</td><td>Pancreatectomy, distal subtotal, with or without splenectomy; without pancreaticojejunostomy </td><td>No Change</td></tr><tr><td>BILI</td><td>48145</td><td>Pancreatectomy, distal subtotal, with or without splenectomy; with pancreaticojejunostomy </td><td>No Change</td></tr><tr><td>BILI</td><td>48146</td><td>Pancreatectomy, distal, near-total with preservation of duodenum (Child-type procedure) </td><td>No Change</td></tr><tr><td>BILI</td><td>48148</td><td>Excision of ampulla of Vater </td><td>No Change</td></tr><tr><td>BILI</td><td>48150</td><td>Pancreatectomy, proximal subtotal with total duodenectomy, partial gastrectomy, choledochoenterostomy and gastrojejunostomy (Whipple-type procedure); with pancreatojejunostomy </td><td>No Change</td></tr><tr><td>BILI</td><td>48152</td><td>Pancreatectomy, proximal subtotal with total duodenectomy, partial gastrectomy, choledochoenterostomy and gastrojejunostomy (Whipple-type procedure); without pancreatojejunostomy </td><td>No Change</td></tr><tr><td>BILI</td><td>48153</td><td>Pancreatectomy, proximal subtotal with near-total duodenectomy, choledochoenterostomy and duodenojejunostomy (pylorus-sparing, Whipple-type procedure); with pancreatojejunostomy </td><td>No Change</td></tr><tr><td>BILI</td><td>48154</td><td>Pancreatectomy, proximal subtotal with near-total duodenectomy, choledochoenterostomy and duodenojejunostomy (pylorus-sparing, Whipple-type procedure); without pancreatojejunostomy </td><td>No Change</td></tr><tr><td>BILI</td><td>48155</td><td>Pancreatectomy, total </td><td>No Change</td></tr><tr><td>BILI</td><td>48160</td><td>Pancreatectomy, total or subtotal, with autologous transplantation of pancreas or pancreatic islet cells </td><td>No Change</td></tr><tr><td>BILI</td><td>48500</td><td>Marsupialization of pancreatic cyst </td><td>No Change</td></tr><tr><td>BILI</td><td>48510</td><td>External drainage, pseudocyst of pancreas; open </td><td>No Change</td></tr><tr><td>BILI</td><td>48520</td><td>Internal anastomosis of pancreatic cyst to gastrointestinal tract; direct </td><td>No Change</td></tr><tr><td>BILI</td><td>48540</td><td>Internal anastomosis of pancreatic cyst to gastrointestinal tract; Roux-en-Y </td><td>No Change</td></tr><tr><td>BILI</td><td>48545</td><td>Pancreatorrhaphy for injury </td><td>No Change</td></tr><tr><td>BILI</td><td>48548</td><td>Pancreaticojejunostomy, side-to-side anastomosis (Puestow-type operation) </td><td>No Change</td></tr><tr><td>BILI</td><td>0585T</td><td>Islet cell transplant, includes portal vein catheterization and infusion, including all imaging, including all guidance, and radiological supervision and interpretation, when performed; laparoscopic</td><td>No change</td></tr><tr><td>BILI</td><td>0586T</td><td>Islet cell transplant, includes portal vein catheterization and infusion, including all imaging, including all guidance, and radiological supervision and interpretation, when performed; open</td><td>No change</td></tr><tr><td>BRST</td><td>11970</td><td>Replacement of tissue expander(s) with permanent implant</td><td>No Change</td></tr><tr><td>BRST</td><td>19101</td><td>Biopsy of breast; open, incisional</td><td>No Change</td></tr><tr><td>BRST</td><td>19105</td><td>Ablation, cryosurgical, of fibroadenoma, including ultrasound guidance, each fibroadenoma</td><td>No Change</td></tr><tr><td>BRST</td><td>19110</td><td>Nipple exploration, with or without excision of a solitary lactiferous duct or a papilloma lactiferous duct</td><td>No Change</td></tr><tr><td>BRST</td><td>19112</td><td>Excision of lactiferous duct fistula</td><td>No Change</td></tr><tr><td>BRST</td><td>19120</td><td>Excision of cyst, fibroadenoma, or other benign or malignant tumor, aberrant breast tissue, duct lesion, nipple or areolar lesion (except 19300), open, male or female, 1 or more lesions</td><td>No Change</td></tr><tr><td>BRST</td><td>19125</td><td>Excision of breast lesion identified by pre-operative placement of radiological marker, open, single lesion </td><td>No Change</td></tr><tr><td>BRST</td><td>19126</td><td>Excision of breast lesion identified by pre-operative placement of radiological marker, open, single lesion; each No changeitional lesion separately identified by a preoperative radiological marker (list separately in No changeition to code for primary procedures) excision of breast lesion identified by pre-operative placement of radiological marker, open, single lesion</td><td>No Change</td></tr><tr><td>BRST</td><td>19300</td><td>Mastectomy for gynecomastia</td><td>No Change</td></tr><tr><td>BRST</td><td>19301</td><td>Mastectomy, partial (eg, lumpectomy, tylectomy, quadrantectomy, segmentectomy);</td><td>No Change</td></tr><tr><td>BRST</td><td>19302</td><td>Mastectomy, partial (eg, lumpectomy, tylectomy, quadrantectomy, segmentectomy); with axillary lymphadenectomy</td><td>No Change</td></tr><tr><td>BRST</td><td>19303</td><td>Mastectomy, simple, complete</td><td>No Change</td></tr><tr><td>BRST</td><td>19305</td><td>Mastectomy, radical, including pectoral muscles, axillary lymph nodes</td><td>No Change</td></tr><tr><td>BRST</td><td>19306</td><td>Mastectomy, radical, including pectoral muscles, axillary and internal mammary lymph nodes (Urban type operation)</td><td>No Change</td></tr><tr><td>BRST</td><td>19307</td><td>Mastectomy, modified radical, including axillary lymph nodes, with or without pectoralis minor muscle, but excluding pectoralis major muscle</td><td>No Change</td></tr><tr><td>BRST</td><td>19316</td><td>Mastopexy</td><td>No Change</td></tr><tr><td>BRST</td><td>19318</td><td>Reduction mammaplasty</td><td>No Change</td></tr><tr><td>BRST</td><td>19324</td><td>Mammaplasty, augmentation; without prosthetic implant</td><td>No Change</td></tr><tr><td>BRST</td><td>19325</td><td>Mammaplasty, augmentation; with prosthetic implant</td><td>No Change</td></tr><tr><td>BRST</td><td>19328</td><td>Removal of intact mammary implant</td><td>No Change</td></tr><tr><td>BRST</td><td>19330</td><td>Removal of mammary implant material</td><td>No Change</td></tr><tr><td>BRST</td><td>19340</td><td>Immediate insertion of breast prosthesis following mastopexy, mastectomy or in reconstruction</td><td>No Change</td></tr><tr><td>BRST</td><td>19342</td><td>Delayed insertion of breast prosthesis following mastopexy, mastectomy or in reconstruction</td><td>No Change</td></tr><tr><td>BRST</td><td>19350</td><td>Nipple/areola reconstruction</td><td>No Change</td></tr><tr><td>BRST</td><td>19355</td><td>Correction of inverted nipples</td><td>No Change</td></tr><tr><td>BRST</td><td>19357</td><td>Breast reconstruction, immediate or delayed, with tissue expander, including subsequent expansion</td><td>No Change</td></tr><tr><td>BRST</td><td>19361</td><td>Breast reconstruction with latissimus dorsi flap, without prosthetic implant</td><td>No Change</td></tr><tr><td>BRST</td><td>19364</td><td>Breast reconstruction with free flap</td><td>No Change</td></tr><tr><td>BRST</td><td>19366</td><td>Breast reconstruction with other technique</td><td>No Change</td></tr><tr><td>BRST</td><td>19367</td><td>Breast reconstruction with transverse rectus abdominis myocutaneous flap (TRAM), single pedicle, including closure of donor site;</td><td>No Change</td></tr><tr><td>BRST</td><td>19368</td><td>Breast reconstruction with transverse rectus abdominis myocutaneous flap (TRAM), single pedicle, including closure of donor site; with microvascular anastomosis (supercharging)</td><td>No Change</td></tr><tr><td>BRST</td><td>19369</td><td>Breast reconstruction with transverse rectus abdominis myocutaneous flap (TRAM), double pedicle, including closure of donor site</td><td>No Change</td></tr><tr><td>BRST</td><td>19370</td><td>Open periprosthetic capsulotomy, breast</td><td>No Change</td></tr><tr><td>BRST</td><td>19371</td><td>Periprosthetic capsulectomy, breast</td><td>No Change</td></tr><tr><td>BRST</td><td>19380</td><td>Revision of reconstructed breast</td><td>No Change</td></tr><tr><td>CARD</td><td>32658</td><td>Thoracoscopy, surgical; with removal of clot or foreign body from pericardial sac</td><td>No Change</td></tr><tr><td>CARD</td><td>32659</td><td>Thoracoscopy, surgical; with creation of pericardial window or partial resection of pericardial sac for drainage</td><td>No Change</td></tr><tr><td>CARD</td><td>32661</td><td>Thoracoscopy, surgical; with excision of pericardial cyst, tumor, or mass</td><td>No Change</td></tr><tr><td>CARD</td><td>33020</td><td>Pericardiotomy for removal of clot or foreign body (primary procedure)</td><td>No Change</td></tr><tr><td>CARD</td><td>33025</td><td>Creation of pericardial window or partial resection for drainage</td><td>No Change</td></tr><tr><td>CARD</td><td>33030</td><td>Pericardiectomy, subtotal or complete; without cardiopulmonary bypass</td><td>No Change</td></tr><tr><td>CARD</td><td>33031</td><td>Pericardiectomy, subtotal or complete; with cardiopulmonary bypass</td><td>No Change</td></tr><tr><td>CARD</td><td>33050</td><td>Resection of pericardial cyst or tumor</td><td>No Change</td></tr><tr><td>CARD</td><td>33120</td><td>Excision of intracardiac tumor, resection with cardiopulmonary bypass</td><td>No Change</td></tr><tr><td>CARD</td><td>33130</td><td>Resection of external cardiac tumor</td><td>No Change</td></tr><tr><td>CARD</td><td>33250</td><td>Operative ablation of supraventricular arrhythmogenic focus or pathway (eg, Wolff-Parkinson-White, atrioventricular node re-entry), tract(s) and/or focus (foci); without cardiopulmonary bypass</td><td>No Change</td></tr><tr><td>CARD</td><td>33251</td><td>Operative ablation of supraventricular arrhythmogenic focus or pathway (eg, Wolff-Parkinson-White, atrioventricular node re-entry), tract(s) and/or focus (foci); with cardiopulmonary bypass</td><td>No Change</td></tr><tr><td>CARD</td><td>33254</td><td>Operative tissue ablation and reconstruction of atria, limited (eg, modified maze procedure)</td><td>No Change</td></tr><tr><td>CARD</td><td>33255</td><td>Operative tissue ablation and reconstruction of atria, extensive (eg, maze procedure); without cardiopulmonary bypass</td><td>No Change</td></tr><tr><td>CARD</td><td>33256</td><td>Operative tissue ablation and reconstruction of atria, extensive (eg, maze procedure); with cardiopulmonary bypass</td><td>No Change</td></tr><tr><td>CARD</td><td>33257</td><td>Operative tissue ablation and reconstruction of atria, performed at the time of other cardiac procedure(s), limited (eg, modified maze procedure) (List separately in No changeition to code for primary procedure)</td><td>No Change</td></tr><tr><td>CARD</td><td>33258</td><td>Operative tissue ablation and reconstruction of atria, performed at the time of other cardiac procedure(s), extensive (eg, maze procedure), without cardiopulmonary bypass (List separately in No changeition to code for primary procedure)</td><td>No Change</td></tr><tr><td>CARD</td><td>33259</td><td>Operative tissue ablation and reconstruction of atria, performed at the time of other cardiac procedure(s), extensive (eg, maze procedure), with cardiopulmonary bypass (List separately in No changeition to code for primary procedure)</td><td>No Change</td></tr><tr><td>CARD</td><td>33261</td><td>Operative ablation of ventricular arrhythmogenic focus with cardiopulmonary bypass</td><td>No Change</td></tr><tr><td>CARD</td><td>33265</td><td>Endoscopy, surgical; operative tissue ablation and reconstruction of atria, limited (eg, modified maze procedure), without cardiopulmonary bypass</td><td>No Change</td></tr><tr><td>CARD</td><td>33266</td><td>Endoscopy, surgical; operative tissue ablation and reconstruction of atria, extensive (eg, maze procedure), without cardiopulmonary bypass </td><td>No Change</td></tr><tr><td>CARD</td><td>33267</td><td>Exclusion of left atrial appendage, open, any method (eg, excision, isolation via stapling, oversewing, ligation, plication, clip)</td><td>No change</td></tr><tr><td>CARD</td><td>33268</td><td>Exclusion of left atrial appendage, open, performed at the time of other sternotomy or thoracotomy procedure(s), any method (eg, excision, isolation via stapling, oversewing, ligation, plication, clip) (List separately in addition to primary procedure)</td><td>No change</td></tr><tr><td>CARD</td><td>33269</td><td>Exclusion of left atrial appendage, thoracoscopic, any method (eg, excision, isolation via stapling, oversewing, ligation, plication, clip)</td><td>No change</td></tr><tr><td>CARD</td><td>33300</td><td>Repair of cardiac wound; without bypass </td><td>No Change</td></tr><tr><td>CARD</td><td>33305</td><td>Repair of cardiac wound; with cardiopulmonary bypass </td><td>No Change</td></tr><tr><td>CARD</td><td>33310</td><td>Cardiotomy, exploratory (includes removal of foreign body, atrial or ventricular thrombus); without bypass  </td><td>No Change</td></tr><tr><td>CARD</td><td>33315</td><td>Cardiotomy, exploratory (includes removal of foreign body, atrial or ventricular thrombus); with cardiopulmonary bypass </td><td>No Change</td></tr><tr><td>CARD</td><td>33365</td><td>Transcatheter aortic valve replacement (TAVR/TAVI) with prosthetic valve; transaortic approach (eg, median sternotomy, mediastinotomy)</td><td>No Change</td></tr><tr><td>CARD</td><td>33366</td><td>Transcatheter aortic valve replacement (TAVR/TAVI) with prosthetic valve; transapical exposure (eg, left thoracotomy) </td><td>No Change</td></tr><tr><td>CARD</td><td>33390</td><td>Valvuloplasty, aortic valve, open, with cardiopulmonary bypass; simple (ie, valvotomy, debridement, debulking, and/or simple commissural resuspension)</td><td>No Change</td></tr><tr><td>CARD</td><td>33391</td><td>Valvuloplasty, aortic valve, open, with cardiopulmonary bypass; complex (eg, leaflet extension, leaflet resection, leaflet reconstruction, or annuloplasty)</td><td>No Change</td></tr><tr><td>CARD</td><td>33404</td><td>Construction of apical-aortic conduit</td><td>No Change</td></tr><tr><td>CARD</td><td>33405</td><td>Replacement, aortic valve, open, with cardiopulmonary bypass; with prosthetic valve other than homograft or stentless valve </td><td>No Change</td></tr><tr><td>CARD</td><td>33406</td><td>Replacement, aortic valve, with cardiopulmonary bypass; with allograft valve (freehand)</td><td>No Change</td></tr><tr><td>CARD</td><td>33410</td><td>Replacement, aortic valve, open, with cardiopulmonary bypass; with stentless tissue valve </td><td>No Change</td></tr><tr><td>CARD</td><td>33411</td><td>Replacement, aortic valve; with aortic annulus enlargement, noncoronary sinus </td><td>No Change</td></tr><tr><td>CARD</td><td>33412</td><td>Replacement, aortic valve; with transventricular aortic annulus enlargement (Konno procedure)</td><td>No Change</td></tr><tr><td>CARD</td><td>33413</td><td>Replacement, aortic valve; by translocation of autologous pulmonary valve with allograft replacement of pulmonary valve (Ross procedure) </td><td>No Change</td></tr><tr><td>CARD</td><td>33414</td><td>Repair of left ventricular outflow tract obstruction by patch enlargement of the outflow tract </td><td>No Change</td></tr><tr><td>CARD</td><td>33415</td><td>Resection or incision of subvalvular tissue for discrete subvalvular aortic stenosis </td><td>No Change</td></tr><tr><td>CARD</td><td>33416</td><td>Ventriculomyotomy (-myectomy) for idiopathic hypertrophic subaortic stenosis (eg, asymmetric septal hypertrophy)</td><td>No Change</td></tr><tr><td>CARD</td><td>33417</td><td>Aortoplasty (gusset) for supravalvular stenosis</td><td>No Change</td></tr><tr><td>CARD</td><td>33420</td><td>Valvotomy, mitral valve; closed heart</td><td>No Change</td></tr><tr><td>CARD</td><td>33422</td><td>Valvotomy, mitral valve; open heart, with cardiopulmonary bypass</td><td>No Change</td></tr><tr><td>CARD</td><td>33425</td><td>Valvuloplasty, mitral valve, with cardiopulmonary bypass;</td><td>No Change</td></tr><tr><td>CARD</td><td>33426</td><td>Valvuloplasty, mitral valve, with cardiopulmonary bypass; with prosthetic ring</td><td>No Change</td></tr><tr><td>CARD</td><td>33427</td><td>Valvuloplasty, mitral valve, with cardiopulmonary bypass; radical reconstruction, with or without ring</td><td>No Change</td></tr><tr><td>CARD</td><td>33430</td><td>Replacement, mitral valve, with cardiopulmonary bypass</td><td>No Change</td></tr><tr><td>CARD</td><td>33440</td><td>Replacement of aortic valve by translocation of autologous pulmonary valve and transventricular aortic annulus enlargement of left ventricular outflow tract with valved conduit replacement of pulmonary valve</td><td>No Change</td></tr><tr><td>CARD</td><td>33460</td><td>Valvectomy, tricuspid valve, with cardiopulmonary bypass</td><td>No Change</td></tr><tr><td>CARD</td><td>33463</td><td>Valvuloplasty, tricuspid valve; without ring insertion </td><td>No Change</td></tr><tr><td>CARD</td><td>33464</td><td>Valvuloplasty, tricuspid valve; with ring insertion</td><td>No Change</td></tr><tr><td>CARD</td><td>33465</td><td>Replacement, tricuspid valve, with cardiopulmonary bypass </td><td>No Change</td></tr><tr><td>CARD</td><td>33468</td><td>Tricuspid valve repositioning and plication for Ebstein anomaly</td><td>No Change</td></tr><tr><td>CARD</td><td>33471</td><td>Valvotomy, pulmonary valve, closed heart; via pulmonary artery</td><td>No Change</td></tr><tr><td>CARD</td><td>33474</td><td>Valvotomy, pulmonary valve, open heart, with cardiopulmonary bypass</td><td>No Change</td></tr><tr><td>CARD</td><td>33475</td><td>Replacement, pulmonary valve </td><td>No Change</td></tr><tr><td>CARD</td><td>33476</td><td>Right ventricular resection for infundibular stenosis, with or without commissurotomy</td><td>No Change</td></tr><tr><td>CARD</td><td>33478</td><td>Outflow tract augmentation (gusset), with or without commissurotomy or infundibular resection</td><td>No Change</td></tr><tr><td>CARD</td><td>33496</td><td>Repair of non-structural prosthetic valve dysfunction with cardiopulmonary bypass (separate procedure)</td><td>No Change</td></tr><tr><td>CARD</td><td>33542</td><td>Myocardial resection (eg, ventricular aneurysmectomy)</td><td>No Change</td></tr><tr><td>CARD</td><td>33545</td><td>Repair of postinfarction ventricular septal defect, with or without myocardial resection </td><td>No Change</td></tr><tr><td>CARD</td><td>33548</td><td>Surgical ventricular restoration procedure, includes prosthetic patch, when performed (eg, ventricular remodeling, SVR, SAVER, Dor procedures)</td><td>No Change</td></tr><tr><td>CARD</td><td>33600</td><td>Closure of atrioventricular valve (mitral or tricuspid) by suture or patch</td><td>No Change</td></tr><tr><td>CARD</td><td>33602</td><td>Closure of semilunar valve (aortic or pulmonary) by suture or patch</td><td>No Change</td></tr><tr><td>CARD</td><td>33608</td><td>Repair of complex cardiac anomaly other than pulmonary atresia with ventricular septal defect by construction or replacement of conduit from right or left ventricle to pulmonary artery </td><td>No Change</td></tr><tr><td>CARD</td><td>33610</td><td>Repair of complex cardiac anomalies (eg, single ventricle with subaortic obstruction) by surgical enlargement of ventricular septal defect</td><td>No Change</td></tr><tr><td>CARD</td><td>33611</td><td>Repair of double outlet right ventricle with intraventricular tunnel repair; </td><td>No Change</td></tr><tr><td>CARD</td><td>33612</td><td>Repair of double outlet right ventricle with intraventricular tunnel repair; with repair of right ventricular outflow tract obstruction </td><td>No Change</td></tr><tr><td>CARD</td><td>33615</td><td>Repair of complex cardiac anomalies (eg, tricuspid atresia) by closure of atrial septal defect and anastomosis of atria or vena cava to pulmonary artery (simple Fontan procedure)</td><td>No Change</td></tr><tr><td>CARD</td><td>33617</td><td>Repair of complex cardiac anomalies (e.g., single ventricle by modified Fontan)</td><td>No Change</td></tr><tr><td>CARD</td><td>33619</td><td>Repair of single ventricle with aortic outflow obstruction and aortic arch hypoplasia (hypoplastic left heart syndrome) (eg, Norwood procedure)</td><td>No Change</td></tr><tr><td>CARD</td><td>33641</td><td>Repair atrial septal defect, secundum, with cardiopulmonary bypass, with or without patch </td><td>No Change</td></tr><tr><td>CARD</td><td>33645</td><td>Direct or patch closure, sinus venosus, with or without anomalous pulmonary venous drainage </td><td>No Change</td></tr><tr><td>CARD</td><td>33647</td><td>Repair of atrial septal defect and ventricular septal defect, with direct or patch closure </td><td>No Change</td></tr><tr><td>CARD</td><td>33660</td><td>Repair of incomplete or partial atrioventricular canal (ostium primum atrial septal defect), with or without atrioventricular valve repair </td><td>No Change</td></tr><tr><td>CARD</td><td>33665</td><td>Repair of intermediate or transitional atrioventricular canal, with or without atrioventricular valve repair </td><td>No Change</td></tr><tr><td>CARD</td><td>33670</td><td>Repair of complete atrioventricular canal, with or without prosthetic valve </td><td>No Change</td></tr><tr><td>CARD</td><td>33675</td><td>Closure of multiple ventricular septal defects; </td><td>No Change</td></tr><tr><td>CARD</td><td>33676</td><td>Closure of multiple ventricular septal defects; with pulmonary valvotomy or infundibular resection (acyanotic) </td><td>No Change</td></tr><tr><td>CARD</td><td>33677</td><td>Closure of multiple ventricular septal defects; with removal of pulmonary artery band, with or without gusset </td><td>No Change</td></tr><tr><td>CARD</td><td>33681</td><td>Closure of single ventricular septal defect, with or without patch; </td><td>No Change</td></tr><tr><td>CARD</td><td>33684</td><td>Closure of single ventricular septal defect, with or without patch; with pulmonary valvotomy or infundibular resection (acyanotic) </td><td>No Change</td></tr><tr><td>CARD</td><td>33688</td><td>Closure of single ventricular septal defect, with or without patch; with removal of pulmonary artery band, with or without gusset </td><td>No Change</td></tr><tr><td>CARD</td><td>33692</td><td>Complete repair tetralogy of Fallot without pulmonary atresia;</td><td>No Change</td></tr><tr><td>CARD</td><td>33694</td><td>Complete repair tetralogy of Fallot without pulmonary atresia; with transannular patch</td><td>No Change</td></tr><tr><td>CARD</td><td>33697</td><td>Complete repair tetralogy of Fallot with pulmonary atresia including construction of conduit from right ventricle to pulmonary artery and closure of ventricular septal defect</td><td>No Change</td></tr><tr><td>CARD</td><td>33702</td><td>Repair sinus of Valsalva fistula, with cardiopulmonary bypass; </td><td>No Change</td></tr><tr><td>CARD</td><td>33710</td><td>Repair sinus of Valsalva fistula, with cardiopulmonary bypass; with repair of ventricular septal defect </td><td>No Change</td></tr><tr><td>CARD</td><td>33720</td><td>Repair sinus of Valsalva aneurysm, with cardiopulmonary bypass </td><td>No Change</td></tr><tr><td>CARD</td><td>33732</td><td>Repair of cor triatriatum or supravalvular mitral ring by resection of left atrial membrane</td><td>No Change</td></tr><tr><td>CARD</td><td>33735</td><td>Atrial septectomy or septostomy; closed heart (Blalock-Hanlon type operation) </td><td>No Change</td></tr><tr><td>CARD</td><td>33736</td><td>Atrial septectomy or septostomy; open heart with cardiopulmonary bypass </td><td>No Change</td></tr><tr><td>CARD</td><td>33737</td><td>Atrial septectomy or septostomy; open heart, with inflow occlusion </td><td>No Change</td></tr><tr><td>CARD</td><td>33770</td><td>Repair of transposition of the great arteries with ventricular septal defect and subpulmonary stenosis; without surgical enlargement of ventricular septal defect</td><td>No Change</td></tr><tr><td>CARD</td><td>33774</td><td>Repair of transposition of the great arteries, atrial baffle procedure (eg, Mustard or Senning type) with cardiopulmonary bypass;</td><td>No Change</td></tr><tr><td>CARD</td><td>33776</td><td>Repair of transposition of the great arteries, atrial baffle procedure (eg, Mustard or Senning type) with cardiopulmonary bypass; with closure of ventricular septal defect </td><td>No Change</td></tr><tr><td>CARD</td><td>33780</td><td>Repair of transposition of the great arteries, aortic pulmonary artery reconstruction (eg, Jatene type); with closure of ventricular septal defect </td><td>No Change</td></tr><tr><td>CARD</td><td>33782</td><td>Aortic root translocation with ventricular septal defect and pulmonary stenosis repair (ie, Nikaidoh procedure); without coronary ostium reimplantation </td><td>No Change</td></tr><tr><td>CARD</td><td>33783</td><td>Aortic root translocation with ventricular septal defect and pulmonary stenosis repair (ie, Nikaidoh procedure); with reimplantation of 1 or both coronary ostia </td><td>No Change</td></tr><tr><td>CARD</td><td>33786</td><td>Total repair, truncus arteriosus (Rastelli type operation)</td><td>No Change</td></tr><tr><td>CARD</td><td>33813</td><td>Obliteration of aortopulmonary septal defect; without cardiopulmonary bypass </td><td>No Change</td></tr><tr><td>CARD</td><td>33814</td><td>Obliteration of aortopulmonary septal defect; with cardiopulmonary bypass </td><td>No Change</td></tr><tr><td>CARD</td><td>33920</td><td>Repair of pulmonary atresia with ventricular septal defect, by construction or replacement of conduit from right or left ventricle to pulmonary artery</td><td>No Change</td></tr><tr><td>CARD</td><td>33975</td><td>Insertion of ventricular assist device; extracorporeal, single ventricle</td><td>No change</td></tr><tr><td>CARD</td><td>33976</td><td>Insertion of ventricular assist device; extracorporeal, biventricle</td><td>No change</td></tr><tr><td>CARD</td><td>33977</td><td>Removal of ventricular assist device; extracorporeal, single ventricle</td><td>No change</td></tr><tr><td>CARD</td><td>33978</td><td>Removal of ventricular assist device; extracorporeal, biventricle</td><td>No change</td></tr><tr><td>CARD</td><td>33979</td><td>Insertion of ventricular assist device; implantable intracorporeal, single ventricle</td><td>No change</td></tr><tr><td>CARD</td><td>33980</td><td>Removal of ventricular assist device; implantable intracorporeal, single ventricle</td><td>No change</td></tr><tr><td>CARD</td><td>0051T</td><td>Implantation of a total replacement heart system (artificial heart) with recipient cardiectomy </td><td>No change</td></tr><tr><td>CARD</td><td>0052T</td><td>Replacement or repair of implantable component or components of total replacement heart system (artificial heart), thoracic unit </td><td>No change</td></tr><tr><td>CARD</td><td>0053T</td><td>Replacement or repair of implantable component or components of total replacement heart system (artificial heart), excluding thoracic unit </td><td>No change</td></tr><tr><td>CBGB</td><td>33509</td><td>Endoscopic harvest of single upper extremity artery segment for coronary artery bypass procedure</td><td>No change</td></tr><tr><td>CBGB</td><td>33510</td><td>Coronary artery bypass, vein only; single coronary venous graft</td><td>No Change</td></tr><tr><td>CBGB</td><td>33511</td><td>Coronary artery bypass, vein only; 2 coronary venous grafts</td><td>No Change</td></tr><tr><td>CBGB</td><td>33512</td><td>Coronary artery bypass, vein only; 3 coronary venous grafts</td><td>No Change</td></tr><tr><td>CBGB</td><td>33513</td><td>Coronary artery bypass, vein only; 4 coronary venous grafts</td><td>No Change</td></tr><tr><td>CBGB</td><td>33514</td><td>Coronary artery bypass, vein only; 5 coronary venous grafts</td><td>No Change</td></tr><tr><td>CBGB</td><td>33516</td><td>Coronary artery bypass, vein only; 6 or more coronary venous grafts</td><td>No Change</td></tr><tr><td>CBGB</td><td>35600</td><td>Harvest of upper extremity artery, 1 segment, for coronary artery bypass procedure, open</td><td>No change</td></tr><tr><td>CBGC</td><td>33533</td><td>Coronary artery bypass, using arterial graft(s); single arterial graft</td><td>No Change</td></tr><tr><td>CBGC</td><td>33534</td><td>Coronary artery bypass, using arterial graft(s); 2 coronary arterial grafts</td><td>No Change</td></tr><tr><td>CBGC</td><td>33535</td><td>Coronary artery bypass, using arterial graft(s); 3 coronary arterial grafts</td><td>No Change</td></tr><tr><td>CBGC</td><td>33536</td><td>Coronary artery bypass, using arterial graft(s);  4 or more coronary arterial grafts</td><td>No Change</td></tr><tr><td>CEA</td><td>35301</td><td>Thromboendarterectomy, including patch graft, if performed; carotid, vertebral, subclavian, by neck incision</td><td>No Change</td></tr><tr><td>CEA</td><td>35390</td><td>Reoperation, carotid, thromboendarterectomy, more than 1 month after original operation (List separately in No changeition to code for primary procedure)</td><td>No Change</td></tr><tr><td>CHOL</td><td>47480</td><td>Cholecystotomy or cholecystostomy, open, with exploration, drainage, or removal of calculus (separate procedure)</td><td>No Change</td></tr><tr><td>CHOL</td><td>47562</td><td>Laparoscopy, surgical; cholecystectomy</td><td>No Change</td></tr><tr><td>CHOL</td><td>47563</td><td>Laparoscopy, surgical; cholecystectomy with cholangiography</td><td>No Change</td></tr><tr><td>CHOL</td><td>47564</td><td>Laparoscopy, surgical; cholecystectomy with exploration of common duct </td><td>No Change</td></tr><tr><td>CHOL</td><td>47570</td><td>Laparoscopy, surgical; cholecystoenterostomy </td><td>No Change</td></tr><tr><td>CHOL</td><td>47600</td><td>Cholecystectomy;</td><td>No Change</td></tr><tr><td>CHOL</td><td>47605</td><td>Cholecystectomy; with cholangiography</td><td>No Change</td></tr><tr><td>CHOL</td><td>47610</td><td>Cholecystectomy with exploration of common duct; </td><td>No Change</td></tr><tr><td>CHOL</td><td>47612</td><td>Cholecystectomy with exploration of common duct; with choledochoenterostomy </td><td>No Change</td></tr><tr><td>CHOL</td><td>47620</td><td>Cholecystectomy with exploration of common duct; with transduodenal sphincterotomy or sphincteroplasty, with or without cholangiography </td><td>No Change</td></tr><tr><td>CHOL</td><td>47720</td><td>Cholecystoenterostomy; direct </td><td>No Change</td></tr><tr><td>CHOL</td><td>47721</td><td>Cholecystoenterostomy; with gastroenterostomy </td><td>No Change</td></tr><tr><td>CHOL</td><td>47740</td><td>Cholecystoenterostomy; Roux-en-Y </td><td>No Change</td></tr><tr><td>CHOL</td><td>47741</td><td>Cholecystoenterostomy; Roux-en-Y with gastroenterostomy </td><td>No Change</td></tr><tr><td>COLO</td><td>44025</td><td>Colotomy, for exploration, biopsy(s), or foreign body removal</td><td>No Change</td></tr><tr><td>COLO</td><td>44110</td><td>Excision of 1 or more lesions of small or large intestine not requiring anastomosis, exteriorization, or fistulization; single enterotomy</td><td>No Change</td></tr><tr><td>COLO</td><td>44111</td><td>Excision of 1 or more lesions of small or large intestine not requiring anastomosis, exteriorization, or fistulization; multiple enterotomies</td><td>No Change</td></tr><tr><td>COLO</td><td>44137</td><td>Removal of transplanted intestinal allograft, complete</td><td>No Change</td></tr><tr><td>COLO</td><td>44140</td><td>Colectomy, partial; with anastomosis</td><td>No Change</td></tr><tr><td>COLO</td><td>44141</td><td>Colectomy, partial; with skin level cecostomy or colostomy</td><td>No Change</td></tr><tr><td>COLO</td><td>44143</td><td>Colectomy, partial; with end colostomy and closure of distal segment (Hartmann type procedure)</td><td>No Change</td></tr><tr><td>COLO</td><td>44144</td><td>Colectomy, partial; with resection, with colostomy or ileostomy and creation of mucofistula</td><td>No Change</td></tr><tr><td>COLO</td><td>44145</td><td>Colectomy, partial; with coloproctostomy (low pelvic anastomosis)</td><td>No Change</td></tr><tr><td>COLO</td><td>44146</td><td>Colectomy, partial; with coloproctostomy (low pelvic anastomosis), with colostomy</td><td>No Change</td></tr><tr><td>COLO</td><td>44147</td><td>Colectomy, partial; abdominal and transanal approach</td><td>No Change</td></tr><tr><td>COLO</td><td>44150</td><td>Colectomy, total, abdominal, without proctectomy; with ileostomy or ileoproctostomy</td><td>No Change</td></tr><tr><td>COLO</td><td>44151</td><td>Colectomy, total, abdominal, without proctectomy; with continent ileostomy</td><td>No Change</td></tr><tr><td>COLO</td><td>44155</td><td>Colectomy, total, abdominal, with proctectomy; with ileostomy</td><td>No Change</td></tr><tr><td>COLO</td><td>44156</td><td>Colectomy, total, abdominal, with proctectomy; with continent ileostomy</td><td>No Change</td></tr><tr><td>COLO</td><td>44157</td><td>Colectomy, total, abdominal, with proctectomy; with ileoanal anastomosis, includes loop ileostomy, and rectal mucosectomy, when performed</td><td>No Change</td></tr><tr><td>COLO</td><td>44158</td><td>Colectomy, total, abdominal, with proctectomy; with ileoanal anastomosis, creation of ileal reservoir (S or J), includes loop ileostomy, and rectal mucosectomy, when performed</td><td>No Change</td></tr><tr><td>COLO</td><td>44160</td><td>Colectomy, partial, with removal of terminal ileum with ileocolostomy</td><td>No Change</td></tr><tr><td>COLO</td><td>44188</td><td>Laparoscopy, surgical, colostomy or skin level cecostomy</td><td>No Change</td></tr><tr><td>COLO</td><td>44204</td><td>Laparoscopy, surgical; colectomy, partial, with anastomosis</td><td>No Change</td></tr><tr><td>COLO</td><td>44205</td><td>Laparoscopy, surgical; colectomy, partial, with removal of terminal ileum with ileocolostomy</td><td>No Change</td></tr><tr><td>COLO</td><td>44206</td><td>Laparoscopy, surgical; colectomy, partial, with end colostomy and closure of distal segment (Hartmann type procedure)</td><td>No Change</td></tr><tr><td>COLO</td><td>44207</td><td>Laparoscopy, surgical; colectomy, partial, with anastomosis, with coloproctostomy (low pelvic anastomosis)</td><td>No Change</td></tr><tr><td>COLO</td><td>44208</td><td>Laparoscopy, surgical; colectomy, partial, with anastomosis, with coloproctostomy (low pelvic anastomosis) with colostomy</td><td>No Change</td></tr><tr><td>COLO</td><td>44210</td><td>Laparoscopy, surgical; colectomy, total, abdominal, without proctectomy, with ileostomy or ileoproctostomy</td><td>No Change</td></tr><tr><td>COLO</td><td>44211</td><td>Laparoscopy, surgical; colectomy, total, abdominal, with proctectomy, with ileoanal anastomosis, creation of ileal reservoir (S or J), with loop ileostomy, includes rectal mucosectomy, when performed</td><td>No Change</td></tr><tr><td>COLO</td><td>44212</td><td>Laparoscopy, surgical; colectomy, total, abdominal, with proctectomy, with ileostomy</td><td>No Change</td></tr><tr><td>COLO</td><td>44213</td><td>Laparoscopy, surgical, mobilization (take-down) of splenic flexure performed in conjunction with partial colectomy (List separately in No changeition to primary procedure)</td><td>No Change</td></tr><tr><td>COLO</td><td>44227</td><td>Laparoscopy, surgical, closure of enterostomy, large or small intestine, with resection and anastomosis</td><td>No Change</td></tr><tr><td>COLO</td><td>44320</td><td>Colostomy or skin level cecostomy;</td><td>No Change</td></tr><tr><td>COLO</td><td>44322</td><td>Colostomy or skin level cecostomy; with multiple biopsies (eg, for congenital megacolon) (separate procedure)</td><td>No Change</td></tr><tr><td>COLO</td><td>44340</td><td>Revision of colostomy; simple (release of superficial scar) (separate procedure)</td><td>No Change</td></tr><tr><td>COLO</td><td>44345</td><td>Revision of colostomy; complicated (reconstruction in-depth) (separate procedure)</td><td>No Change</td></tr><tr><td>COLO</td><td>44346</td><td>Revision of colostomy; with repair of paracolostomy hernia (separate procedure)</td><td>No Change</td></tr><tr><td>COLO</td><td>44604</td><td>Suture of large intestine (colorrhaphy) for perforated ulcer, diverticulum, wound, injury or rupture (single or multiple perforations); without colostomy</td><td>No Change</td></tr><tr><td>COLO</td><td>44605</td><td>Suture of large intestine (colorrhaphy) for perforated ulcer, diverticulum, wound, injury or rupture (single or multiple perforations); with colostomy</td><td>No Change</td></tr><tr><td>COLO</td><td>44620</td><td>Closure of enterostomy, large or small intestine</td><td>No Change</td></tr><tr><td>COLO</td><td>44625</td><td>Closure of enterostomy, large or small intestine; with resection and anastomosis other than colorectal</td><td>No Change</td></tr><tr><td>COLO</td><td>44626</td><td>Closure of enterostomy, large or small intestine; with resection and colorectal anastomosis (eg, closure of Hartmann type procedure)</td><td>No Change</td></tr><tr><td>CRAN</td><td>61105</td><td>Twist drill hole for subdural or ventricular puncture</td><td>No Change</td></tr><tr><td>CRAN</td><td>61107</td><td>Twist drill hole(s) for subdural, intracerebral, or ventricular puncture; for implanting ventricular catheter, pressure recording device, or other intracerebral monitoring device</td><td>No Change</td></tr><tr><td>CRAN</td><td>61108</td><td>Twist drill hole(s) for subdural, intracerebral, or ventricular puncture; for evacuation and/or drainage of subdural hematoma</td><td>No Change</td></tr><tr><td>CRAN</td><td>61120</td><td>Burr hole(s) for ventricular puncture (including injection of gas, contrast media, dye, or radioactive material)</td><td>No Change</td></tr><tr><td>CRAN</td><td>61140</td><td>Burr hole(s) or trephine; with biopsy of brain or intracranial lesion</td><td>No Change</td></tr><tr><td>CRAN</td><td>61150</td><td>Burr hole(s) or trephine; with drainage of brain abscess or cyst</td><td>No Change</td></tr><tr><td>CRAN</td><td>61151</td><td>Burr hole(s) or trephine; with subsequent tapping (aspiration) of intracranial abscess or cyst</td><td>No Change</td></tr><tr><td>CRAN</td><td>61154</td><td>Burr hole(s) with evacuation and/or drainage of hematoma, extradural or subdural</td><td>No Change</td></tr><tr><td>CRAN</td><td>61156</td><td>Burr hole(s); with aspiration of hematoma or cyst, intracerebral</td><td>No Change</td></tr><tr><td>CRAN</td><td>61210</td><td>Burr hole(s); for implanting ventricular catheter, reservoir, EEG electrode(s), pressure recording device, or other cerebral monitoring device (separate procedure)</td><td>No Change</td></tr><tr><td>CRAN</td><td>61250</td><td>Burr hole(s) or trephine, supratentorial, exploratory, not followed by other surgery</td><td>No Change</td></tr><tr><td>CRAN</td><td>61253</td><td>Burr hole(s) or trephine, infratentorial, unilateral or bilateral</td><td>No Change</td></tr><tr><td>CRAN</td><td>61304</td><td>Craniectomy or craniotomy, exploratory; supratentorial</td><td>No Change</td></tr><tr><td>CRAN</td><td>61305</td><td>Craniectomy or craniotomy, exploratory; infratentorial (posterior fossa)</td><td>No Change</td></tr><tr><td>CRAN</td><td>61312</td><td>Craniectomy or craniotomy for evacuation of hematoma, supratentorial; extradural or subdural</td><td>No Change</td></tr><tr><td>CRAN</td><td>61313</td><td>Craniectomy or craniotomy for evacuation of hematoma, supratentorial; intracerebral</td><td>No Change</td></tr><tr><td>CRAN</td><td>61314</td><td>Craniectomy or craniotomy for evacuation of hematoma, infratentorial; extradural or subdural</td><td>No Change</td></tr><tr><td>CRAN</td><td>61315</td><td>Craniectomy or craniotomy for evacuation of hematoma, infratentorial; intracerebellar</td><td>No Change</td></tr><tr><td>CRAN</td><td>61320</td><td>Craniectomy or craniotomy, drainage of intracranial abscess; supratentorial</td><td>No Change</td></tr><tr><td>CRAN</td><td>61321</td><td>Craniectomy or craniotomy, drainage of intracranial abscess; infratentorial</td><td>No Change</td></tr><tr><td>CRAN</td><td>61322</td><td>Craniectomy or craniotomy, decompressive, with or without duraplasty, for treatment of intracranial hypertension, without evacuation of associated intraparenchymal hematoma; without lobectomy</td><td>No Change</td></tr><tr><td>CRAN</td><td>61323</td><td>Craniectomy or craniotomy, decompressive, with or without duraplasty, for treatment of intracranial hypertension, without evacuation of associated intraparenchymal hematoma; with lobectomy</td><td>No Change</td></tr><tr><td>CRAN</td><td>61330</td><td>Decompression of orbit only, transcranial approach</td><td>No Change</td></tr><tr><td>CRAN</td><td>61333</td><td>Exploration of orbit (transcranial approach); with removal of lesion</td><td>No Change</td></tr><tr><td>CRAN</td><td>61340</td><td>Subtemporal cranial decompression (pseudotumor cerebri, slit ventricle syndrome)</td><td>No Change</td></tr><tr><td>CRAN</td><td>61343</td><td>Craniectomy, suboccipital with cervical laminectomy for decompression of medulla and spinal cord, with or without dural graft (eg, Arnold-Chiari malformation)</td><td>No Change</td></tr><tr><td>CRAN</td><td>61345</td><td>Other cranial decompression, posterior fossa</td><td>No Change</td></tr><tr><td>CRAN</td><td>61458</td><td>Craniectomy, suboccipital; for exploration or decompression of cranial nerves</td><td>No Change</td></tr><tr><td>CRAN</td><td>61460</td><td>for section of 1 or more cranial nerves</td><td>No Change</td></tr><tr><td>CRAN</td><td>61510</td><td>Craniectomy, trephination, bone flap craniotomy; for excision of brain tumor, supratentorial, except meningioma</td><td>No Change</td></tr><tr><td>CRAN</td><td>61512</td><td>Craniectomy, trephination, bone flap craniotomy; for excision of meningioma, supratentorial</td><td>No Change</td></tr><tr><td>CRAN</td><td>61514</td><td>Craniectomy, trephination, bone flap craniotomy; for excision of brain abscess, supratentorial</td><td>No Change</td></tr><tr><td>CRAN</td><td>61516</td><td>Craniectomy, trephination, bone flap craniotomy; for excision or fenestration of cyst, supratentorial</td><td>No Change</td></tr><tr><td>CRAN</td><td>61518</td><td>Craniectomy for excision of brain tumor, infratentorial or posterior fossa; except meningioma, cerebellopontine angle tumor, or midline tumor at base of skull</td><td>No Change</td></tr><tr><td>CRAN</td><td>61519</td><td>Craniectomy for excision of brain tumor, infratentorial or posterior fossa; meningioma</td><td>No Change</td></tr><tr><td>CRAN</td><td>61520</td><td>Craniectomy for excision of brain tumor, infratentorial or posterior fossa; cerebellopontine angle tumor</td><td>No Change</td></tr><tr><td>CRAN</td><td>61521</td><td>Craniectomy for excision of brain tumor, infratentorial or posterior fossa; midline tumor at base of skull</td><td>No Change</td></tr><tr><td>CRAN</td><td>61522</td><td>Craniectomy, infratentorial or posterior fossa; for excision of brain abscess</td><td>No Change</td></tr><tr><td>CRAN</td><td>61524</td><td>Craniectomy, infratentorial or posterior fossa; for excision or fenestration of cyst</td><td>No Change</td></tr><tr><td>CRAN</td><td>61526</td><td>Craniectomy, bone flap craniotomy, transtemporal (mastoid) for excision of cerebellopontine angle tumor;</td><td>No Change</td></tr><tr><td>CRAN</td><td>61530</td><td>Craniectomy, bone flap craniotomy, transtemporal (mastoid) for excision of cerebellopontine angle tumor; combined with middle/posterior fossa craniotomy/craniectomy</td><td>No Change</td></tr><tr><td>CRAN</td><td>61531</td><td>Subdural implantation of strip electrodes through 1 or more burr or trephine hole(s) for long-term seizure monitoring</td><td>No Change</td></tr><tr><td>CRAN</td><td>61533</td><td>Craniotomy with elevation of bone flap; for subdural implantation of an electrode array, for long-term seizure monitoring</td><td>No Change</td></tr><tr><td>CRAN</td><td>61534</td><td>Craniotomy with elevation of bone flap; for excision of epileptogenic focus without electrocorticography during surgery</td><td>No Change</td></tr><tr><td>CRAN</td><td>61535</td><td>Craniotomy with elevation of bone flap; for removal of epidural or subdural electrode array, without excision of cerebral tissue (separate procedure)</td><td>No Change</td></tr><tr><td>CRAN</td><td>61536</td><td>Craniotomy with elevation of bone flap; for excision of cerebral epileptogenic focus, with electrocorticography during surgery (includes removal of electrode array)</td><td>No Change</td></tr><tr><td>CRAN</td><td>61537</td><td>Craniotomy with elevation of bone flap; for lobectomy, temporal lobe, without electrocorticography during surgery</td><td>No Change</td></tr><tr><td>CRAN</td><td>61538</td><td>Craniotomy with elevation of bone flap; for lobectomy, temporal lobe, with electrocorticography during surgery</td><td>No Change</td></tr><tr><td>CRAN</td><td>61539</td><td>Craniotomy with elevation of bone flap; for lobectomy, other than temporal lobe, partial or total, with electrocorticography during surgery</td><td>No Change</td></tr><tr><td>CRAN</td><td>61540</td><td>Craniotomy with elevation of bone flap; for lobectomy, other than temporal lobe, partial or total, without electrocorticography during surgery</td><td>No Change</td></tr><tr><td>CRAN</td><td>61541</td><td>Craniotomy with elevation of bone flap; for transection of corpus callosum</td><td>No Change</td></tr><tr><td>CRAN</td><td>61543</td><td>Craniotomy with elevation of bone flap; for partial or subtotal (functional) hemispherectomy</td><td>No Change</td></tr><tr><td>CRAN</td><td>61544</td><td>Craniotomy with elevation of bone flap; for excision or coagulation of choroid plexus</td><td>No Change</td></tr><tr><td>CRAN</td><td>61545</td><td>Craniotomy with elevation of bone flap; for excision of craniopharyngioma</td><td>No Change</td></tr><tr><td>CRAN</td><td>61546</td><td>Craniotomy for hypophysectomy or excision of pituitary tumor, intracranial approach</td><td>No Change</td></tr><tr><td>CRAN</td><td>61548</td><td>Hypophysectomy or excision of pituitary tumor, transnasal or transseptal approach, nonstereotactic</td><td>No Change</td></tr><tr><td>CRAN</td><td>61566</td><td>Craniotomy with elevation of bone flap; for selective amygdalohippocampectomy</td><td>No Change</td></tr><tr><td>CRAN</td><td>61567</td><td>Craniotomy with elevation of bone flap; for multiple subpial transections, with electrocorticography during surgery</td><td>No Change</td></tr><tr><td>CRAN</td><td>61570</td><td>Craniectomy or craniotomy; with excision of foreign body from brain</td><td>No Change</td></tr><tr><td>CRAN</td><td>61571</td><td>Craniectomy or craniotomy; with treatment of penetrating wound of brain</td><td>No Change</td></tr><tr><td>CRAN</td><td>61575</td><td>Transoral approach to skull base, brain stem or upper spinal cord for biopsy, decompression or excision of lesion;</td><td>No Change</td></tr><tr><td>CRAN</td><td>61576</td><td>Transoral approach to skull base, brain stem or upper spinal cord for biopsy, decompression or excision of lesion; requiring splitting of tongue and/or mandible (including tracheostomy)</td><td>No Change</td></tr><tr><td>CRAN</td><td>61580</td><td>Craniofacial approach to anterior cranial fossa; extradural, including lateral rhinotomy, ethmoidectomy, sphenoidectomy, without maxillectomy or orbital exenteration</td><td>No Change</td></tr><tr><td>CRAN</td><td>61581</td><td>Craniofacial approach to anterior cranial fossa; extradural, including lateral rhinotomy, orbital exenteration, ethmoidectomy, sphenoidectomy and/or maxillectomy</td><td>No Change</td></tr><tr><td>CRAN</td><td>61582</td><td>Craniofacial approach to anterior cranial fossa; extradural, including unilateral or bifrontal craniotomy, elevation of frontal lobe(s), osteotomy of base of anterior cranial fossa</td><td>No Change</td></tr><tr><td>CRAN</td><td>61583</td><td>Craniofacial approach to anterior cranial fossa; intradural, including unilateral or bifrontal craniotomy, elevation or resection of frontal lobe, osteotomy of base of anterior cranial fossa</td><td>No Change</td></tr><tr><td>CRAN</td><td>61584</td><td>Orbitocranial approach to anterior cranial fossa, extradural, including supraorbital ridge osteotomy and elevation of frontal and/or temporal lobe(s); without orbital exenteration</td><td>No Change</td></tr><tr><td>CRAN</td><td>61585</td><td>Orbitocranial approach to anterior cranial fossa, extradural, including supraorbital ridge osteotomy and elevation of frontal and/or temporal lobe(s); with orbital exenteration</td><td>No Change</td></tr><tr><td>CRAN</td><td>61586</td><td>Bicoronal, transzygomatic and/or LeFort I osteotomy approach to anterior cranial fossa with or without internal fixation, without bone graft</td><td>No Change</td></tr><tr><td>CRAN</td><td>61590</td><td>Infratemporal pre-auricular approach to middle cranial fossa (parapharyngeal space, infratemporal and midline skull base, nasopharynx), with or without disarticulation of the mandible, including parotidectomy, craniotomy, decompression and/or mobilization</td><td>No Change</td></tr><tr><td>CRAN</td><td>61591</td><td>Infratemporal post-auricular approach to middle cranial fossa (internal auditory meatus, petrous apex, tentorium, cavernous sinus, parasellar area, infratemporal fossa) including mastoidectomy, resection of sigmoid sinus, with or without decompression and</td><td>No Change</td></tr><tr><td>CRAN</td><td>61592</td><td>Orbitocranial zygomatic approach to middle cranial fossa (cavernous sinus and carotid artery, clivus, basilar artery or petrous apex) including osteotomy of zygoma, craniotomy, extra- or intradural elevation of temporal lobe</td><td>No Change</td></tr><tr><td>CRAN</td><td>61595</td><td>Transtemporal approach to posterior cranial fossa, jugular foramen or midline skull base, including mastoidectomy, decompression of sigmoid sinus and/or facial nerve, with or without mobilization</td><td>No Change</td></tr><tr><td>CRAN</td><td>61598</td><td>Transpetrosal approach to posterior cranial fossa, clivus or foramen magnum, including ligation of superior petrosal sinus and/or sigmoid sinus</td><td>No Change</td></tr><tr><td>CRAN</td><td>61600</td><td>Resection or excision of neoplastic, vascular or infectious lesion of base of anterior cranial fossa; extradural</td><td>No Change</td></tr><tr><td>CRAN</td><td>61601</td><td>Resection or excision of neoplastic, vascular or infectious lesion of base of anterior cranial fossa; intradural, including dural repair, with or without graft</td><td>No Change</td></tr><tr><td>CRAN</td><td>61605</td><td>Resection or excision of neoplastic, vascular or infectious lesion of infratemporal fossa, parapharyngeal space, petrous apex; extradural</td><td>No Change</td></tr><tr><td>CRAN</td><td>61606</td><td>Resection or excision of neoplastic, vascular or infectious lesion of infratemporal fossa, parapharyngeal space, petrous apex; intradural, including dural repair, with or without graft</td><td>No Change</td></tr><tr><td>CRAN</td><td>61607</td><td>Resection or excision of neoplastic, vascular or infectious lesion of parasellar area, cavernous sinus, clivus or midline skull base; extradural</td><td>No Change</td></tr><tr><td>CRAN</td><td>61608</td><td>Resection or excision of neoplastic, vascular or infectious lesion of parasellar area, cavernous sinus, clivus or midline skull base; intradural, including dural repair, with or without graft</td><td>No Change</td></tr><tr><td>CRAN</td><td>61615</td><td>Resection or excision of neoplastic, vascular or infectious lesion of base of posterior cranial fossa, jugular foramen, foramen magnum, or C1-C3 vertebral bodies; extradural</td><td>No Change</td></tr><tr><td>CRAN</td><td>61616</td><td>Resection or excision of neoplastic, vascular or infectious lesion of base of posterior cranial fossa, jugular foramen, foramen magnum, or C1-C3 vertebral bodies; intradural, including dural repair, with or without graft</td><td>No Change</td></tr><tr><td>CRAN</td><td>61618</td><td>Secondary repair of dura for cerebrospinal fluid leak, anterior, middle or posterior cranial fossa following surgery of the skull base; by free tissue graft (eg, pericranium, fascia, tensor fascia lata, adipose tissue, homologous or synthetic grafts)</td><td>No Change</td></tr><tr><td>CRAN</td><td>61619</td><td>Secondary repair of dura for cerebrospinal fluid leak, anterior, middle or posterior cranial fossa following surgery of the skull base; by local or regionalized vascularized pedicle flap or myocutaneous flap (including galea, temporalis, frontalis or occi</td><td>No Change</td></tr><tr><td>CRAN</td><td>61680</td><td>Surgery of intracranial arteriovenous malformation; supratentorial, simple</td><td>No Change</td></tr><tr><td>CRAN</td><td>61682</td><td>Surgery of intracranial arteriovenous malformation; supratentorial, complex</td><td>No Change</td></tr><tr><td>CRAN</td><td>61684</td><td>Surgery of intracranial arteriovenous malformation; infratentorial, simple</td><td>No Change</td></tr><tr><td>CRAN</td><td>61686</td><td>Surgery of intracranial arteriovenous malformation; infratentorial, complex</td><td>No Change</td></tr><tr><td>CRAN</td><td>61690</td><td>Surgery of intracranial arteriovenous malformation; dural, simple</td><td>No Change</td></tr><tr><td>CRAN</td><td>61692</td><td>Surgery of intracranial arteriovenous malformation; dural, complex</td><td>No Change</td></tr><tr><td>CRAN</td><td>61697</td><td>Surgery of complex intracranial aneurysm, intracranial approach; carotid circulation</td><td>No Change</td></tr><tr><td>CRAN</td><td>61698</td><td>Surgery of complex intracranial aneurysm, intracranial approach; vertebrobasilar circulation</td><td>No Change</td></tr><tr><td>CRAN</td><td>61700</td><td>Surgery of simple intracranial aneurysm, intracranial approach; carotid circulation</td><td>No Change</td></tr><tr><td>CRAN</td><td>61702</td><td>Surgery of simple intracranial aneurysm, intracranial approach; vertebrobasilar circulation</td><td>No Change</td></tr><tr><td>CRAN</td><td>61703</td><td>Surgery of intracranial aneurysm, cervical approach by application of occluding clamp to cervical carotid artery (Selverstone-Crutchfield type)</td><td>No Change</td></tr><tr><td>CRAN</td><td>61705</td><td>Surgery of aneurysm, vascular malformation or carotid-cavernous fistula; by intracranial and cervical occlusion of carotid artery</td><td>No Change</td></tr><tr><td>CRAN</td><td>61708</td><td>Surgery of aneurysm, vascular malformation or carotid-cavernous fistula; by intracranial electrothrombosis</td><td>No Change</td></tr><tr><td>CRAN</td><td>61710</td><td>Surgery of aneurysm, vascular malformation or carotid-cavernous fistula; by intra-arterial embolization, injection procedure, or balloon catheter</td><td>No Change</td></tr><tr><td>CRAN</td><td>61711</td><td>Anastomosis, arterial, extracranial-intracranial (eg, middle cerebral/cortical) arteries</td><td>No Change</td></tr><tr><td>CRAN</td><td>61720</td><td>Creation of lesion by stereotactic method, including burr hole(s) and localizing and recording techniques, single or multiple stages; globus pallidus or thalamus</td><td>No Change</td></tr><tr><td>CRAN</td><td>61735</td><td>Creation of lesion by stereotactic method, including burr hole(s) and localizing and recording techniques, single or multiple stages; subcortical structure(s) other than globus pallidus or thalamus</td><td>No Change</td></tr><tr><td>CRAN</td><td>61736</td><td>Single-trajectory laser interstitial thermal therapy (LITT) of 1 simple intracranial lesion, including burr hole, with magnetic resonance imaging guidance</td><td>No change</td></tr><tr><td>CRAN</td><td>61737</td><td>Multiple-trajectory laser interstitial thermal therapy (LITT) of complex intracranial lesion, including burr hole</td><td>No change</td></tr><tr><td>CRAN</td><td>61750</td><td>Stereotactic biopsy, aspiration, or excision, including burr hole(s), for intracranial lesion</td><td>No Change</td></tr><tr><td>CRAN</td><td>61751</td><td>Stereotactic biopsy, aspiration, or excision, including burr hole(s), for intracranial lesion; with computed tomography and/or magnetic resonance guidance</td><td>No Change</td></tr><tr><td>CRAN</td><td>61760</td><td>Stereotactic implantation of depth electrodes into the cerebrum for long-term seizure monitoring</td><td>No Change</td></tr><tr><td>CRAN</td><td>61770</td><td>Stereotactic localization, including burr hole(s), with insertion of catheter(s) or probe(s) for placement of radiation source</td><td>No Change</td></tr><tr><td>CRAN</td><td>61850</td><td>Twist drill or burr hole(s) for implantation of neurostimulator electrodes, cortical</td><td>No Change</td></tr><tr><td>CRAN</td><td>61860</td><td>Craniectomy or craniotomy for implantation of neurostimulator electrodes, cerebral, cortical</td><td>No Change</td></tr><tr><td>CRAN</td><td>61863</td><td>Twist drill, burr hole, craniotomy, or craniectomy with stereotactic implantation of neurostimulator electrode array in subcortical site (eg, thalamus, globus pallidus, subthalamic nucleus, periventricular, periaqueductal gray), without use of intraoperative microelectrode recording; first array</td><td>No Change</td></tr><tr><td>CRAN</td><td>61867</td><td>Twist drill, burr hole, craniotomy, or craniectomy with stereotactic implantation of neurostimulator electrode array in subcortical site (eg, thalamus, globus pallidus, subthalamic nucleus, periventricular, periaqueductal gray), with use of intraoperative microelectrode recording; first array</td><td>No Change</td></tr><tr><td>CRAN</td><td>61870</td><td>Craniectomy for implantation of neurostimulator electrodes, cerebellar; cortical</td><td>No Change</td></tr><tr><td>CRAN</td><td>61880</td><td>Revision or removal of intracranial neurostimulator electrodes</td><td>No Change</td></tr><tr><td>CRAN</td><td>62000</td><td>Elevation of depressed skull fracture; simple, extradural</td><td>No Change</td></tr><tr><td>CRAN</td><td>62005</td><td>Elevation of depressed skull fracture; compound or comminuted, extradural</td><td>No Change</td></tr><tr><td>CRAN</td><td>62010</td><td>Elevation of depressed skull fracture; with repair of dura and/or debridement of brain</td><td>No Change</td></tr><tr><td>CRAN</td><td>62100</td><td>Craniotomy for repair of dural/cerebrospinal fluid leak, including surgery for rhinorrhea/otorrhea</td><td>No Change</td></tr><tr><td>CRAN</td><td>62120</td><td>Repair of encephalocele, skull vault, including cranioplasty</td><td>No Change</td></tr><tr><td>CRAN</td><td>62121</td><td>Craniotomy for repair of encephalocele, skull base</td><td>No Change</td></tr><tr><td>CRAN</td><td>62161</td><td>Neuroendoscopy, intracranial; with dissection of adhesions, fenestration of septum pellucidum or intraventricular cysts (including placement, replacement, or removal of ventricular catheter)</td><td>No Change</td></tr><tr><td>CRAN</td><td>62163</td><td>Neuroendoscopy, intracranial; with retrieval of foreign body</td><td>No Change</td></tr><tr><td>CRAN</td><td>62164</td><td>Neuroendoscopy, intracranial; with excision of brain tumor, including placement of external ventricular catheter for drainage</td><td>No Change</td></tr><tr><td>CRAN</td><td>62165</td><td>Neuroendoscopy, intracranial; with excision of pituitary tumor, transnasal or trans-sphenoidal approach</td><td>No Change</td></tr><tr><td>CRAN</td><td>62200</td><td>Ventriculocisternostomy, third ventricle;</td><td>No Change</td></tr><tr><td>CRAN</td><td>62201</td><td>Ventriculocisternostomy, third ventricle; stereotactic, neuroendoscopic method</td><td>No Change</td></tr><tr><td>CSEC</td><td>59100</td><td>Hysterotomy, abdominal (e.g., for hydatidiform mole, abortion)</td><td>No Change</td></tr><tr><td>CSEC</td><td>59510</td><td>Routine obstetric care including antepartum care, cesarean delivery, and postpartum care</td><td>No Change</td></tr><tr><td>CSEC</td><td>59514</td><td>Cesarean delivery only;</td><td>No Change</td></tr><tr><td>CSEC</td><td>59515</td><td>Cesarean delivery only; including postpartum care</td><td>No Change</td></tr><tr><td>CSEC</td><td>59618</td><td>Routine obstetric care including antepartum care, cesarean delivery, and postpartum care, following attempted vaginal delivery after previous cesarean delivery</td><td>No Change</td></tr><tr><td>CSEC</td><td>59620</td><td>Cesarean delivery only, following attempted vaginal delivery after previous cesarean delivery;</td><td>No Change</td></tr><tr><td>CSEC</td><td>59622</td><td>Cesarean delivery only, following attempted vaginal delivery after previous cesarean delivery; including postpartum care</td><td>No Change</td></tr><tr><td>CSEC</td><td>59857</td><td>Induced abortion, by 1 or more vaginal suppositories (e.g., prostaglandin) with or without cervical dilation (e.g., laminaria), including hospital admission and visits, delivery of fetus and secundines; with hysterotomy (failed medical evacuation)</td><td>No Change</td></tr><tr><td>FUSN</td><td>22532</td><td>Arthrodesis, lateral extracavitary technique, including minimal discectomy to prepare interspace (other than for decompression); thoracic</td><td>No Change</td></tr><tr><td>FUSN</td><td>22533</td><td>Arthrodesis, lateral extracavitary technique, including minimal discectomy to prepare interspace (other than for decompression); lumbar</td><td>No Change</td></tr><tr><td>FUSN</td><td>22548</td><td>Arthrodesis, anterior transoral or extraoral technique, clivus-C1-C2 (atlas-axis), with or without excision of odontoid process</td><td>No Change</td></tr><tr><td>FUSN</td><td>22551</td><td>Arthrodesis, anterior interbody, including disc space preparation, discectomy, osteophytectomy and decompression of spinal cord and/or nerve roots; cervical below C2</td><td>No Change</td></tr><tr><td>FUSN</td><td>22554</td><td>Arthrodesis, anterior interbody technique, including minimal discectomy to prepare interspace (other than for decompression); cervical below C2</td><td>No Change</td></tr><tr><td>FUSN</td><td>22556</td><td>Arthrodesis, anterior interbody technique, including minimal discectomy to prepare interspace (other than for decompression); thoracic</td><td>No Change</td></tr><tr><td>FUSN</td><td>22558</td><td>Arthrodesis, anterior interbody technique, including minimal discectomy to prepare interspace (other than for decompression); lumbar</td><td>No Change</td></tr><tr><td>FUSN</td><td>22586</td><td>Arthrodesis, pre-sacral interbody technique, including disc space preparation, discectomy, with posterior instrumentation, with image guidance, includes bone graft when performed, L5-S1 interspace</td><td>No Change</td></tr><tr><td>FUSN</td><td>22590</td><td>Arthrodesis, posterior technique, craniocervical (occiput-C2)</td><td>No Change</td></tr><tr><td>FUSN</td><td>22595</td><td>Arthrodesis, posterior technique, atlas-axis (C1-C2)</td><td>No Change</td></tr><tr><td>FUSN</td><td>22600</td><td>Arthrodesis, posterior or posterolateral technique, single level; cervical below C2 segment</td><td>No Change</td></tr><tr><td>FUSN</td><td>22610</td><td>Arthrodesis, posterior or posterolateral technique, single level; thoracic (with lateral transverse technique, when performed)</td><td>No Change</td></tr><tr><td>FUSN</td><td>22612</td><td>Arthrodesis, posterior or posterolateral technique, single level; lumbar (with lateral transverse technique, when performed)</td><td>No Change</td></tr><tr><td>FUSN</td><td>22630</td><td>Arthrodesis, posterior interbody technique, including laminectomy and/or discectomy to prepare interspace (other than for decompression), single interspace; lumbar</td><td>No Change</td></tr><tr><td>FUSN</td><td>22633</td><td>Arthrodesis, combined posterior or posterolateral technique with posterior interbody technique including laminectomy and/or discectomy sufficient to prepare interspace (other than for decompression), single interspace and segment; lumbar</td><td>No Change</td></tr><tr><td>FUSN</td><td>22800</td><td>Arthrodesis, posterior, for spinal deformity, with or without cast; up to 6 vertebral segments</td><td>No Change</td></tr><tr><td>FUSN</td><td>22802</td><td>Arthrodesis, posterior, for spinal deformity, with or without cast; 7 to 12 vertebral segments</td><td>No Change</td></tr><tr><td>FUSN</td><td>22804</td><td>Arthrodesis, posterior, for spinal deformity, with or without cast; 13 or more vertebral segments</td><td>No Change</td></tr><tr><td>FUSN</td><td>22808</td><td>Arthrodesis, anterior, for spinal deformity, with or without cast; 2 to 3 vertebral segments</td><td>No Change</td></tr><tr><td>FUSN</td><td>22810</td><td>Arthrodesis, anterior, for spinal deformity, with or without cast; 4 to 7 vertebral segments</td><td>No Change</td></tr><tr><td>FUSN</td><td>22812</td><td>Arthrodesis, anterior, for spinal deformity, with or without cast; 8 or more vertebral segments</td><td>No Change</td></tr><tr><td>FUSN</td><td>27280</td><td>Arthrodesis, open, sacroiliac joint, including obtaining bone graft, including instrumentation, when performed</td><td>No Change</td></tr><tr><td>FX</td><td>23615</td><td>Open treatment of proximal humeral (surgical or anatomical neck) fracture, includes internal fixation, when performed, includes repair of tuberosity(s), when performed;</td><td>No Change</td></tr><tr><td>FX</td><td>23616</td><td>Open treatment of proximal humeral (surgical or anatomical neck) fracture, includes internal fixation, when performed, includes repair of tuberosity(s), when performed; with proximal humeral prosthetic replacement</td><td>No Change</td></tr><tr><td>FX</td><td>23630</td><td>Open treatment of greater humeral tuberosity fracture, includes internal fixation, when performed</td><td>No Change</td></tr><tr><td>FX</td><td>23670</td><td>Open treatment of shoulder dislocation, with fracture of greater humeral tuberosity, includes internal fixation, when performed</td><td>No Change</td></tr><tr><td>FX</td><td>23680</td><td>Open treatment of shoulder dislocation, with surgical or anatomical neck fracture, includes internal fixation, when performed</td><td>No Change</td></tr><tr><td>FX</td><td>24515</td><td>Open treatment of humeral shaft fracture with plate/screws, with or without cerclage</td><td>No Change</td></tr><tr><td>FX</td><td>24516</td><td>Treatment of humeral shaft fracture, with insertion of intramedullary implant, with or without cerclage and/or locking screws</td><td>No Change</td></tr><tr><td>FX</td><td>24545</td><td>Open treatment of humeral supracondylar or transcondylar fracture, includes internal fixation, when performed; without intercondylar extension</td><td>No Change</td></tr><tr><td>FX</td><td>24546</td><td>Open treatment of humeral supracondylar or transcondylar fracture, includes internal fixation, when performed; with intercondylar extension</td><td>No Change</td></tr><tr><td>FX</td><td>24575</td><td>Open treatment of humeral epicondylar fracture, medial or lateral, includes internal fixation, when performed</td><td>No Change</td></tr><tr><td>FX</td><td>24579</td><td>Open treatment of humeral condylar fracture, medial or lateral, includes internal fixation, when performed</td><td>No Change</td></tr><tr><td>FX</td><td>24586</td><td>Open treatment of periarticular fracture and/or dislocation of the elbow (fracture distal humerus and proximal ulna and/or proximal radius);</td><td>No Change</td></tr><tr><td>FX</td><td>24587</td><td>Open treatment of periarticular fracture and/or dislocation of the elbow (fracture distal humerus and proximal ulna and/or proximal radius); with implant arthroplasty</td><td>No Change</td></tr><tr><td>FX</td><td>24635</td><td>Open treatment of Monteggia type of fracture dislocation at elbow (fracture proximal end of ulna with dislocation of radial head), includes internal fixation, when performed</td><td>No Change</td></tr><tr><td>FX</td><td>24665</td><td>Open treatment of radial head or neck fracture, includes internal fixation or radial head excision, when performed;</td><td>No Change</td></tr><tr><td>FX</td><td>24666</td><td>Open treatment of radial head or neck fracture, includes internal fixation or radial head excision, when performed; with radial head prosthetic replacement</td><td>No Change</td></tr><tr><td>FX</td><td>24685</td><td>Open treatment of ulnar fracture, proximal end (eg, olecranon or coronoid process[es]), includes internal fixation, when performed</td><td>No Change</td></tr><tr><td>FX</td><td>25337</td><td>Reconstruction for stabilization of unstable distal ulna or distal radioulnar joint, secondary by soft tissue stabilization (eg, tendon transfer, tendon graft or weave, or tenodesis) with or without open reduction of distal radioulnar joint</td><td>No Change</td></tr><tr><td>FX</td><td>25515</td><td>Open treatment of radial shaft fracture, includes internal fixation, when performed</td><td>No Change</td></tr><tr><td>FX</td><td>25525</td><td>Open treatment of radial shaft fracture, includes internal fixation, when performed, and open treatment of distal radioulnar joint dislocation (Galeazzi fracture/ dislocation), includes percutaneous skeletal fixation when performed</td><td>No Change</td></tr><tr><td>FX</td><td>25526</td><td>Open treatment of radial shaft fracture, includes internal fixation, when performed, and open treatment of distal radioulnar joint dislocation (Galeazzi fracture/ dislocation), includes internal fixation, when performed, includes repair of triangular fibrocartilage complex</td><td>No Change</td></tr><tr><td>FX</td><td>25545</td><td>Open treatment of ulnar shaft fracture, includes internal fixation, when performed</td><td>No Change</td></tr><tr><td>FX</td><td>25574</td><td>Open treatment of radial AND ulnar shaft fractures, with internal fixation, when performed; of radius OR ulna</td><td>No Change</td></tr><tr><td>FX</td><td>25575</td><td>Open treatment of radial AND ulnar shaft fractures, with internal fixation, when performed; of radius AND ulna</td><td>No Change</td></tr><tr><td>FX</td><td>25607</td><td>Open treatment of distal radial extra-articular fracture or epiphyseal separation, with internal fixation</td><td>No Change</td></tr><tr><td>FX</td><td>25608</td><td>Open treatment of distal radial intra-articular fracture or epiphyseal separation; with internal fixation of 2 fragments</td><td>No Change</td></tr><tr><td>FX</td><td>25609</td><td>Open treatment of distal radial intra-articular fracture or epiphyseal separation; with internal fixation of 3 or more fragments</td><td>No Change</td></tr><tr><td>FX</td><td>25652</td><td>Open treatment of ulnar styloid fracture</td><td>No Change</td></tr><tr><td>FX</td><td>27177</td><td>Open treatment of slipped femoral epiphysis; single or multiple pinning or bone graft (includes obtaining graft)</td><td>No Change</td></tr><tr><td>FX</td><td>27178</td><td>Open treatment of slipped femoral epiphysis; closed manipulation with single or multiple pinning</td><td>No Change</td></tr><tr><td>FX</td><td>27179</td><td>Open treatment of slipped femoral epiphysis; osteoplasty of femoral neck (Heyman type procedure)</td><td>No Change</td></tr><tr><td>FX</td><td>27181</td><td>Open treatment of slipped femoral epiphysis; osteotomy and internal fixation</td><td>No Change</td></tr><tr><td>FX</td><td>27244</td><td>Treatment of intertrochanteric, peritrochanteric, or subtrochanteric femoral fracture; with plate/screw type implant, with or without cerclage</td><td>No Change</td></tr><tr><td>FX</td><td>27245</td><td>Treatment of intertrochanteric, peritrochanteric, or subtrochanteric femoral fracture; with intramedullary implant, with or without interlocking screws and/or cerclage</td><td>No Change</td></tr><tr><td>FX</td><td>27248</td><td>Open treatment of greater trochanteric fracture, includes internal fixation, when performed</td><td>No Change</td></tr><tr><td>FX</td><td>27254</td><td>Open treatment of hip dislocation, traumatic, with acetabular wall and femoral head fracture, with or without internal or external fixation</td><td>No Change</td></tr><tr><td>FX</td><td>27269</td><td>Open treatment of femoral fracture, proximal end, head, includes internal fixation, when performed</td><td>No Change</td></tr><tr><td>FX</td><td>27506</td><td>Open treatment of femoral shaft fracture, with or without external fixation, with insertion of intramedullary implant, with or without cerclage and/or locking screws</td><td>No Change</td></tr><tr><td>FX</td><td>27507</td><td>Open treatment of femoral shaft fracture with plate/screws, with or without cerclage</td><td>No Change</td></tr><tr><td>FX</td><td>27511</td><td>Open treatment of femoral supracondylar or transcondylar fracture without intercondylar extension, includes internal fixation, when performed</td><td>No Change</td></tr><tr><td>FX</td><td>27513</td><td>Open treatment of femoral supracondylar or transcondylar fracture with intercondylar extension, includes internal fixation, when performed</td><td>No Change</td></tr><tr><td>FX</td><td>27514</td><td>Open treatment of femoral fracture, distal end, medial or lateral condyle, includes internal fixation, when performed</td><td>No Change</td></tr><tr><td>FX</td><td>27519</td><td>Open treatment of distal femoral epiphyseal separation, includes internal fixation, when performed</td><td>No Change</td></tr><tr><td>FX</td><td>27535</td><td>Open treatment of tibial fracture, proximal (plateau); unicondylar, includes internal fixation, when performed</td><td>No Change</td></tr><tr><td>FX</td><td>27536</td><td>Open treatment of tibial fracture, proximal (plateau); bicondylar, with or without internal fixation</td><td>No Change</td></tr><tr><td>FX</td><td>27540</td><td>Open treatment of intercondylar spine(s) and/or tuberosity fracture(s) of the knee, includes internal fixation, when performed</td><td>No Change</td></tr><tr><td>FX</td><td>27758</td><td>Open treatment of tibial shaft fracture (with or without fibular fracture), with plate/screws, with or without cerclage</td><td>No Change</td></tr><tr><td>FX</td><td>27759</td><td>Treatment of tibial shaft fracture (with or without fibular fracture) by intramedullary implant, with or without interlocking screws and/or cerclage</td><td>No Change</td></tr><tr><td>FX</td><td>27766</td><td>Open treatment of medial malleolus fracture, includes internal fixation, when performed</td><td>No Change</td></tr><tr><td>FX</td><td>27769</td><td>Open treatment of posterior malleolus fracture, includes internal fixation, when performed</td><td>No Change</td></tr><tr><td>FX</td><td>27784</td><td>Open treatment of proximal fibula or shaft fracture, includes internal fixation, when performed</td><td>No Change</td></tr><tr><td>FX</td><td>27792</td><td>Open treatment of distal fibular fracture (lateral malleolus), includes internal fixation, when performed</td><td>No Change</td></tr><tr><td>FX</td><td>27814</td><td>Open treatment of bimalleolar ankle fracture (eg, lateral and medial malleoli, or lateral and posterior malleoli, or medial and posterior malleoli), includes internal fixation, when performed</td><td>No Change</td></tr><tr><td>FX</td><td>27822</td><td>Open treatment of trimalleolar ankle fracture, includes internal fixation, when performed, medial and/or lateral malleolus; without fixation of posterior lip</td><td>No Change</td></tr><tr><td>FX</td><td>27823</td><td>Open treatment of trimalleolar ankle fracture, includes internal fixation, when performed, medial and/or lateral malleolus; with fixation of posterior lip</td><td>No Change</td></tr><tr><td>FX</td><td>27826</td><td>Open treatment of fracture of weight bearing articular surface/portion of distal tibia (eg, pilon or tibial plafond), with internal fixation, when performed; of fibula only</td><td>No Change</td></tr><tr><td>FX</td><td>27827</td><td>Open treatment of fracture of weight bearing articular surface/portion of distal tibia (eg, pilon or tibial plafond), with internal fixation, when performed; of tibia only</td><td>No Change</td></tr><tr><td>FX</td><td>27828</td><td>Open treatment of fracture of weight bearing articular surface/portion of distal tibia (eg, pilon or tibial plafond), with internal fixation, when performed; of both tibia and fibula</td><td>No Change</td></tr><tr><td>FX</td><td>27829</td><td>Open treatment of distal tibiofibular joint (syndesmosis) disruption, includes internal fixation, when performed</td><td>No Change</td></tr><tr><td>GAST</td><td>43117</td><td>Partial esophagectomy, distal two-thirds, with thoracotomy and separate abdominal incision, with or without proximal gastrectomy; with thoracic esophagogastrostomy, with or without pyloroplasty (Ivor Lewis)</td><td>No Change</td></tr><tr><td>GAST</td><td>43118</td><td>Partial esophagectomy, distal two-thirds, with thoracotomy and separate abdominal incision, with or without proximal gastrectomy; with colon interposition or small intestine reconstruction, including intestine mobilization, preparation, and anastomosis(es)</td><td>No Change</td></tr><tr><td>GAST</td><td>43121</td><td>Partial esophagectomy, distal two-thirds, with thoracotomy only, with or without proximal gastrectomy, with thoracic esophagogastrostomy, with or without pyloroplasty</td><td>No Change</td></tr><tr><td>GAST</td><td>43122</td><td>Partial esophagectomy, thoracoabdominal or abdominal approach, with or without proximal gastrectomy; with esophagogastrostomy, with or without pyloroplasty</td><td>No Change</td></tr><tr><td>GAST</td><td>43286</td><td>Esophagectomy, total or near total, with laparoscopic mobilization of the abdominal and mediastinal esophagus and proximal gastrectomy, with laparoscopic pyloric drainage procedure if performed, with open cervical pharyngogastrostomy or esophagogastrostomy (ie, laparoscopic transhiatal esophagectomy)</td><td>No Change</td></tr><tr><td>GAST</td><td>43287</td><td>Esophagectomy, distal two-thirds, with laparoscopic mobilization of the abdominal and lower mediastinal esophagus and proximal gastrectomy, with laparoscopic pyloric drainage procedure if performed, with separate thoracoscopic mobilization of the middle and upper mediastinal esophagus and thoracic esophagogastrostomy (ie, laparoscopic thoracoscopic esophagectomy, Ivor Lewis esophagectomy)</td><td>No Change</td></tr><tr><td>GAST</td><td>43288</td><td>Esophagectomy, total or near total, with thoracoscopic mobilization of the upper, middle, and lower mediastinal esophagus, with separate laparoscopic proximal gastrectomy, with laparoscopic pyloric drainage procedure if performed, with open cervical pharyngogastrostomy or esophagogastrostomy (ie, thoracoscopic, laparoscopic and cervical incision esophagectomy, McKeown esophagectomy, tri-incisional esophagectomy)</td><td>No Change</td></tr><tr><td>GAST</td><td>43320</td><td>Esophagogastrostomy (cardioplasty), with or without vagotomy and pyloroplasty, transabdominal or transthoracic approach</td><td>No Change</td></tr><tr><td>GAST</td><td>43360</td><td>Gastrointestinal reconstruction for previous esophagectomy, for obstructing esophageal lesion or fistula, or for previous esophageal exclusion; with stomach, with or without pyloroplasty</td><td>No Change</td></tr><tr><td>GAST</td><td>43500</td><td>Gastrotomy; with exploration or foreign body removal</td><td>No Change</td></tr><tr><td>GAST</td><td>43501</td><td>Gastrotomy; with suture repair of bleeding ulcer</td><td>No Change</td></tr><tr><td>GAST</td><td>43502</td><td>Gastrotomy; with suture repair of pre-existing esophagogastric laceration (eg, Mallory-Weiss)</td><td>No Change</td></tr><tr><td>GAST</td><td>43520</td><td>Pyloromyotomy, cutting of pyloric muscle (Fredet-Ramstedt type operation)</td><td>No Change</td></tr><tr><td>GAST</td><td>43605</td><td>Biopsy of stomach, by laparotomy</td><td>No Change</td></tr><tr><td>GAST</td><td>43610</td><td>Excision, local; ulcer or benign tumor of stomach</td><td>No Change</td></tr><tr><td>GAST</td><td>43611</td><td>Excision, local; malignant tumor of stomach</td><td>No Change</td></tr><tr><td>GAST</td><td>43620</td><td>Gastrectomy, total; with esophagoenterostomy</td><td>No Change</td></tr><tr><td>GAST</td><td>43621</td><td>Gastrectomy, total; with Roux-en-Y reconstruction</td><td>No Change</td></tr><tr><td>GAST</td><td>43622</td><td>Gastrectomy, total; with formation of intestinal pouch, any type</td><td>No Change</td></tr><tr><td>GAST</td><td>43631</td><td>Gastrectomy, partial, distal; with gastroduodenostomy</td><td>No Change</td></tr><tr><td>GAST</td><td>43632</td><td>Gastrectomy, partial, distal; with gastrojejunostomy</td><td>No Change</td></tr><tr><td>GAST</td><td>43633</td><td>Gastrectomy, partial, distal; with Roux-en-Y reconstruction</td><td>No Change</td></tr><tr><td>GAST</td><td>43634</td><td>Gastrectomy, partial, distal; with formation of intestinal pouch</td><td>No Change</td></tr><tr><td>GAST</td><td>43640</td><td>Vagotomy including pyloroplasty, with or without gastrostomy; truncal or selective</td><td>No Change</td></tr><tr><td>GAST</td><td>43641</td><td>Vagotomy including pyloroplasty, with or without gastrostomy; parietal cell (highly selective)</td><td>No Change</td></tr><tr><td>GAST</td><td>43644</td><td>Laparoscopy, surgical, gastric restrictive procedure; with gastric bypass and Roux-en-Y gastroenterostomy (roux limb 150 cm or less)</td><td>No Change</td></tr><tr><td>GAST</td><td>43645</td><td>Laparoscopy, surgical, gastric restrictive procedure; with gastric bypass and small intestine reconstruction to limit absorption</td><td>No Change</td></tr><tr><td>GAST</td><td>43770</td><td>Laparoscopy, surgical, gastric restrictive procedure; placement of adjustable gastric restrictive device (eg, gastric band and subcutaneous port components)</td><td>No Change</td></tr><tr><td>GAST</td><td>43771</td><td>Laparoscopy, surgical, gastric restrictive procedure; revision of adjustable gastric restrictive device component only</td><td>No Change</td></tr><tr><td>GAST</td><td>43772</td><td>Laparoscopy, surgical, gastric restrictive procedure; removal of adjustable gastric restrictive device component only</td><td>No Change</td></tr><tr><td>GAST</td><td>43773</td><td>Laparoscopy, surgical, gastric restrictive procedure; removal and replacement of adjustable gastric restrictive device component only</td><td>No Change</td></tr><tr><td>GAST</td><td>43774</td><td>Laparoscopy, surgical, gastric restrictive procedure; removal of adjustable gastric restrictive device and subcutaneous port components</td><td>No Change</td></tr><tr><td>GAST</td><td>43775</td><td>Laparoscopy, surgical, gastric restrictive procedure; longitudinal gastrectomy (ie, sleeve gastrectomy)</td><td>No Change</td></tr><tr><td>GAST</td><td>43800</td><td>Pyloroplasty</td><td>No Change</td></tr><tr><td>GAST</td><td>43810</td><td>Gastroduodenostomy</td><td>No Change</td></tr><tr><td>GAST</td><td>43820</td><td>Gastrojejunostomy; without vagotomy</td><td>No Change</td></tr><tr><td>GAST</td><td>43825</td><td>Gastrojejunostomy; with vagotomy, any type</td><td>No Change</td></tr><tr><td>GAST</td><td>43840</td><td>Gastrorrhaphy, suture of perforated duodenal or gastric ulcer, wound, or injury</td><td>No Change</td></tr><tr><td>GAST</td><td>43842</td><td>Gastric restrictive procedure, without gastric bypass, for morbid obesity; vertical-banded gastroplasty</td><td>No Change</td></tr><tr><td>GAST</td><td>43843</td><td>Gastric restrictive procedure, without gastric bypass, for morbid obesity; other than vertical-banded gastroplasty</td><td>No Change</td></tr><tr><td>GAST</td><td>43845</td><td>Gastric restrictive procedure with partial gastrectomy, pylorus-preserving duodenoileostomy and ileoileostomy (50 to 100 cm common channel) to limit absorption (biliopancreatic diversion with duodenal switch)</td><td>No Change</td></tr><tr><td>GAST</td><td>43847</td><td>Gastric restrictive procedure, with gastric bypass for morbid obesity; with small intestine reconstruction to limit absorption</td><td>No Change</td></tr><tr><td>GAST</td><td>43848</td><td>Revision, open, of gastric restrictive procedure for morbid obesity, other than adjustable gastric restrictive device (separate procedure)</td><td>No Change</td></tr><tr><td>GAST</td><td>43860</td><td>Revision of gastrojejunal anastomosis (gastrojejunostomy) with reconstruction, with or without partial gastrectomy or intestine resection; without vagotomy</td><td>No Change</td></tr><tr><td>GAST</td><td>43865</td><td>Revision of gastrojejunal anastomosis (gastrojejunostomy) with reconstruction, with or without partial gastrectomy or intestine resection; with vagotomy</td><td>No Change</td></tr><tr><td>GAST</td><td>43870</td><td>Closure of gastrostomy, surgical</td><td>No Change</td></tr><tr><td>GAST</td><td>43880</td><td>Closure of gastrocolic fistula</td><td>No Change</td></tr><tr><td>GAST</td><td>43886</td><td>Gastric restrictive procedure, open; revision of subcutaneous port component only</td><td>No Change</td></tr><tr><td>GAST</td><td>43887</td><td>Gastric restrictive procedure, open; removal of subcutaneous port component only</td><td>No Change</td></tr><tr><td>GAST</td><td>43888</td><td>Gastric restrictive procedure, open; removal and replacement of subcutaneous port component only</td><td>No Change</td></tr><tr><td>HER</td><td>11008</td><td>Removal of prosthetic material or mesh, abdominal wall for infection (eg, for chronic or recurrent mesh infection or necrotizing soft tissue infection) (List separately in No changeition to code for primary procedure)</td><td>No Change</td></tr><tr><td>HER</td><td>49491</td><td>Repair, initial inguinal hernia, preterm infant (younger than 37 weeks gestation at birth), performed from birth up to 50 weeks postconception age, with or without hydrocelectomy; reducible</td><td>No Change</td></tr><tr><td>HER</td><td>49492</td><td>Repair, initial inguinal hernia, preterm infant (younger than 37 weeks gestation at birth), performed from birth up to 50 weeks postconception age, with or without hydrocelectomy; incarcerated or strangulated</td><td>No Change</td></tr><tr><td>HER</td><td>49495</td><td>Repair, initial inguinal hernia, full term infant younger than age 6 months, or preterm infant older than 50 weeks postconception age and younger than age 6 months at the time of surgery, with or without hydrocelectomy; reducible</td><td>No Change</td></tr><tr><td>HER</td><td>49496</td><td>Repair, initial inguinal hernia, full term infant younger than age 6 months, or preterm infant older than 50 weeks postconception age and younger than age 6 months at the time of surgery, with or without hydrocelectomy; incarcerated or strangulated</td><td>No Change</td></tr><tr><td>HER</td><td>49500</td><td>Repair initial inguinal hernia, age 6 months to younger than 5 years, with or without hydrocelectomy; reducible</td><td>No Change</td></tr><tr><td>HER</td><td>49501</td><td>Repair initial inguinal hernia, age 6 months to younger than 5 years, with or without hydrocelectomy; incarcerated or strangulated</td><td>No Change</td></tr><tr><td>HER</td><td>49505</td><td>Repair initial inguinal hernia, age 5 years or older; reducible</td><td>No Change</td></tr><tr><td>HER</td><td>49507</td><td>Repair initial inguinal hernia, age 5 years or older; incarcerated or strangulated</td><td>No Change</td></tr><tr><td>HER</td><td>49520</td><td>Repair recurrent inguinal hernia, any age; reducible</td><td>No Change</td></tr><tr><td>HER</td><td>49521</td><td>Repair recurrent inguinal hernia, any age; incarcerated or strangulated</td><td>No Change</td></tr><tr><td>HER</td><td>49525</td><td>Repair inguinal hernia, sliding, any age</td><td>No Change</td></tr><tr><td>HER</td><td>49550</td><td>Repair initial femoral hernia, any age; reducible</td><td>No Change</td></tr><tr><td>HER</td><td>49553</td><td>Repair initial femoral hernia, any age; incarcerated or strangulated</td><td>No Change</td></tr><tr><td>HER</td><td>49555</td><td>Repair recurrent femoral hernia; reducible</td><td>No Change</td></tr><tr><td>HER</td><td>49557</td><td>Repair recurrent femoral hernia; incarcerated or strangulated</td><td>No Change</td></tr><tr><td>HER</td><td>49591</td><td>Repair of anterior abdominal hernia(s) (ie, epigastric, incisional, ventral, umbilical, spigelian), any approach (ie, open, laparoscopic, robotic), initial, including mesh or other prosthesis when performed, total length of defect(s); less than 3 cm, reducible</td><td>No Change</td></tr><tr><td>HER</td><td>49592</td><td>Repair of anterior abdominal hernia(s) (ie, epigastric, incisional, ventral, umbilical, spigelian), any approach (ie, open, laparoscopic, robotic), initial, including mesh or other prosthesis when performed, total length of defect(s); less than 3 cm, incarcerated</td><td>No Change</td></tr><tr><td>HER</td><td>49593</td><td>Repair of anterior abdominal hernia(s) (ie, epigastric, incisional, ventral, umbilical, spigelian), any approach (ie, open, laparoscopic, robotic), initial, including mesh or other prosthesis when performed, total length of defect(s); 3 cm to 10 cm, reducible</td><td>No Change</td></tr><tr><td>HER</td><td>49594</td><td>Repair of anterior abdominal hernia(s) (ie, epigastric, incisional, ventral, umbilical, spigelian), any approach (ie, open, laparoscopic, robotic), initial, including mesh or other prosthesis when performed, total length of defect(s); 3 cm to 10 cm, incarcerated</td><td>No Change</td></tr><tr><td>HER</td><td>49595</td><td>Repair of anterior abdominal hernia(s) (ie, epigastric, incisional, ventral, umbilical, spigelian), any approach (ie, open, laparoscopic, robotic), initial, including mesh or other prosthesis when performed, total length of defect(s); greater than 10 cm, reducible</td><td>No Change</td></tr><tr><td>HER</td><td>49596</td><td>Repair of anterior abdominal hernia(s) (ie, epigastric, incisional, ventral, umbilical, spigelian), any approach (ie, open, laparoscopic, robotic), initial, including mesh or other prosthesis when performed, total length of defect(s); greater than 10 cm, incarcerated</td><td>No Change</td></tr><tr><td>HER</td><td>49600</td><td>Repair of small omphalocele, with primary closure</td><td>No Change</td></tr><tr><td>HER</td><td>49605</td><td>Repair of large omphalocele or gastroschisis; with or without prosthesis</td><td>No Change</td></tr><tr><td>HER</td><td>49606</td><td>Repair of large omphalocele or gastroschisis; with removal of prosthesis, final reduction and closure, in operating room</td><td>No Change</td></tr><tr><td>HER</td><td>49610</td><td>Repair of omphalocele (Gross type operation); first stage</td><td>No Change</td></tr><tr><td>HER</td><td>49611</td><td>Repair of omphalocele (Gross type operation); second stage</td><td>No Change</td></tr><tr><td>HER</td><td>49613</td><td>Repair of anterior abdominal hernia(s) (ie, epigastric, incisional, ventral, umbilical, spigelian), any approach (ie, open, laparoscopic, robotic), recurrent, including mesh or other prosthesis when performed, total length of defect(s); less than 3 cm, reducible</td><td>No Change</td></tr><tr><td>HER</td><td>49614</td><td>Repair of anterior abdominal hernia(s) (ie, epigastric, incisional, ventral, umbilical, spigelian), any approach (ie, open, laparoscopic, robotic), recurrent, including mesh or other prosthesis when performed, total length of defect(s); less than 3 cm, incarcerated</td><td>No Change</td></tr><tr><td>HER</td><td>49615</td><td>Repair of anterior abdominal hernia(s) (ie, epigastric, incisional, ventral, umbilical, spigelian), any approach (ie, open, laparoscopic, robotic), recurrent, including mesh or other prosthesis when performed, total length of defect(s); 3 cm to 10 cm, reducible</td><td>No Change</td></tr><tr><td>HER</td><td>49616</td><td>Repair of anterior abdominal hernia(s) (ie, epigastric, incisional, ventral, umbilical, spigelian), any approach (ie, open, laparoscopic, robotic), recurrent, including mesh or other prosthesis when performed, total length of defect(s); 3 cm to 10 cm, incarcerated</td><td>No Change</td></tr><tr><td>HER</td><td>49617</td><td>Repair of anterior abdominal hernia(s) (ie, epigastric, incisional, ventral, umbilical, spigelian), any approach (ie, open, laparoscopic, robotic), recurrent, including mesh or other prosthesis when performed, total length of defect(s); greater than 10 cm, reducible</td><td>No Change</td></tr><tr><td>HER</td><td>49618</td><td>Repair of anterior abdominal hernia(s) (ie, epigastric, incisional, ventral, umbilical, spigelian), any approach (ie, open, laparoscopic, robotic), recurrent, including mesh or other prosthesis when performed, total length of defect(s); greater than 10 cm, incarcerated</td><td>No Change</td></tr><tr><td>HER</td><td>49621</td><td>Repair of parastomal hernia, any approach (ie, open, laparoscopic, robotic), initial or recurrent, including implantation of mesh or other prosthesis, when performed; reducible</td><td>No Change</td></tr><tr><td>HER</td><td>49622</td><td>Repair of parastomal hernia, any approach (ie, open, laparoscopic, robotic), initial or recurrent, including implantation of mesh or other prosthesis, when performed; incarcerated or strangulated</td><td>No Change</td></tr><tr><td>HER</td><td>49650</td><td>Laparoscopy, surgical; repair initial inguinal hernia</td><td>No Change</td></tr><tr><td>HER</td><td>49651</td><td>Laparoscopy, surgical; repair recurrent inguinal hernia</td><td>No Change</td></tr><tr><td>HER</td><td>49659</td><td>Unlisted laparoscopy procedure, hernioplasty, herniorrhaphy, herniotomy</td><td>No Change</td></tr><tr><td>HPRO</td><td>27125</td><td>Hemiarthroplasty, hip, partial (eg, femoral stem prosthesis, bipolar arthroplasty)</td><td>No Change</td></tr><tr><td>HPRO</td><td>27130</td><td>Arthroplasty, acetabular and proximal femoral prosthetic replacement (total hip arthroplasty), with or without autograft or allograft</td><td>No Change</td></tr><tr><td>HPRO</td><td>27132</td><td>Conversion of previous hip surgery to total hip arthroplasty, with or without autograft or allograft</td><td>No Change</td></tr><tr><td>HPRO</td><td>27134</td><td>Revision of total hip arthroplasty; both components, with or without autograft or allograft </td><td>No Change</td></tr><tr><td>HPRO</td><td>27137</td><td>Revision of total hip arthroplasty; acetabular component only, with or without autograft or allograft </td><td>No Change</td></tr><tr><td>HPRO</td><td>27138</td><td>Revision of total hip arthroplasty; femoral component only, with or without allograft</td><td>No Change</td></tr><tr><td>HPRO</td><td>27236</td><td>Open treatment of femoral fracture, proximal end, neck, internal fixation or prosthetic replacement</td><td>No Change</td></tr><tr><td>HTP</td><td>33935</td><td>Heart-lung transplant with recipient cardiectomy-pneumonectomy</td><td>No Change</td></tr><tr><td>HTP</td><td>33945</td><td>Heart transplant, with or without recipient cardiectomy  </td><td>No Change</td></tr><tr><td>HYST</td><td>58150</td><td>Total abdominal hysterectomy (corpus and cervix), with or without removal of tube(s), with or without removal of ovary(s)</td><td>No Change</td></tr><tr><td>HYST</td><td>58152</td><td>Total abdominal hysterectomy (corpus and cervix), with or without removal of tube(s), with or without removal of ovary(s); with colpo-urethrocystopexy (eg, Marshall-Marchetti-Krantz, Burch)</td><td>No Change</td></tr><tr><td>HYST</td><td>58180</td><td>Supracervical abdominal hysterectomy (subtotal hysterectomy), with or without removal of tube(s), with or without removal of ovary(s)</td><td>No Change</td></tr><tr><td>HYST</td><td>58200</td><td>Total abdominal hysterectomy, including partial vaginectomy, with para-aortic and pelvic lymph node sampling, with or without removal of tube(s), with or without removal of ovary(s)</td><td>No Change</td></tr><tr><td>HYST</td><td>58210</td><td>Radical abdominal hysterectomy, with bilateral total pelvic lymphadenectomy and para-aortic lymph node sampling (biopsy), with or without removal of tube(s), with or without removal of ovary(s)</td><td>No Change</td></tr><tr><td>HYST</td><td>58240</td><td>Pelvic exenteration for gynecologic malignancy, with total abdominal hysterectomy or cervicectomy, with or without removal of tube(s), with or without removal of ovary(s), with removal of bladder and ureteral transplantations, and/or abdominoperineal resection of rectum and colon and colostomy, or any combination thereof</td><td>No Change</td></tr><tr><td>HYST</td><td>58541</td><td>Laparoscopy, surgical, supracervical hysterectomy, for uterus 250 g or less;</td><td>No Change</td></tr><tr><td>HYST</td><td>58542</td><td>Laparoscopy, surgical, supracervical hysterectomy, for uterus 250 g or less; with removal of tube(s) and/or ovary(s)</td><td>No Change</td></tr><tr><td>HYST</td><td>58543</td><td>Laparoscopy, surgical, supracervical hysterectomy, for uterus greater than 250 g;</td><td>No Change</td></tr><tr><td>HYST</td><td>58544</td><td>Laparoscopy, surgical, supracervical hysterectomy, for uterus greater than 250 g; with removal of tube(s) and/or ovary(s)</td><td>No Change</td></tr><tr><td>HYST</td><td>58548</td><td>Laparoscopy, surgical, with radical hysterectomy, with bilateral total pelvic lymphadenectomy and para-aortic lymph node sampling (biopsy), with removal of tube(s) and ovary(s), if performed</td><td>No Change</td></tr><tr><td>HYST</td><td>58550</td><td>Laparoscopy, surgical, with vaginal hysterectomy, for uterus 250 g or less</td><td>No Change</td></tr><tr><td>HYST</td><td>58552</td><td>Laparoscopy, surgical, with vaginal hysterectomy, for uterus 250 g or less; with removal of tubes(s) and /or ovary(s)</td><td>No Change</td></tr><tr><td>HYST</td><td>58553</td><td>Laparoscopy, surgical, with vaginal hysterectomy, for uterus greater than 250 g</td><td>No Change</td></tr><tr><td>HYST</td><td>58554</td><td>Laparoscopy, surgical, with vaginal hysterectomy, for uterus greater than 250 g; with removal of tube(s) and/or ovary(s)</td><td>No Change</td></tr><tr><td>HYST</td><td>58570</td><td>Laparoscopy, surgical, with total hysterectomy, for uterus 250 g or less;</td><td>No Change</td></tr><tr><td>HYST</td><td>58571</td><td>Laparoscopy, surgical, with total hysterectomy, for uterus 250 g or less; with removal of tube(s) and/or ovary(s)</td><td>No Change</td></tr><tr><td>HYST</td><td>58572</td><td>Laparoscopy, surgical, with total hysterectomy, for uterus greater than 250 g;</td><td>No Change</td></tr><tr><td>HYST</td><td>58573</td><td>Laparoscopy, surgical, with total hysterectomy, for uterus greater than 250 g; with removal of tube(s) and/or ovary(s)</td><td>No Change</td></tr><tr><td>HYST</td><td>58575</td><td>Laparaoscopy, surgical, total hysterectomy for resection of malignancy (tumor debulking), with omentectomy including salpingo-oopherectomy, unilateral or bilateral, when performed</td><td>No Change</td></tr><tr><td>HYST</td><td>58951</td><td>Resection (initial) of ovarian, tubal or primary peritoneal malignancy with bilateral salpingo-oophorectomy and omentectomy; with total abdominal hysterectomy, pelvic and limited para-aortic lymphadenectomy</td><td>No Change</td></tr><tr><td>HYST</td><td>58953</td><td>Bilateral salpingo-oophorectomy with omentectomy, total abdominal hysterectomy and radical dissection for debulking</td><td>No Change</td></tr><tr><td>HYST</td><td>58954</td><td>Bilateral salpingo-oophorectomy with omentectomy, total abdominal hysterectomy and radical dissection for debulking; with pelvic lymphadenectomy and limited para-aortic lymphadenectomy</td><td>No Change</td></tr><tr><td>HYST</td><td>58956</td><td>Bilateral salpingo-oophorectomy with total omentectomy, total abdominal hysterectomy for malignancy</td><td>No Change</td></tr><tr><td>HYST</td><td>59525</td><td>Subtotal or total hysterectomy after cesarean delivery</td><td>No Change</td></tr><tr><td>KPRO</td><td>27438</td><td>Arthroplasty, patella; with prosthesis</td><td>No Change</td></tr><tr><td>KPRO</td><td>27440</td><td>Arthroplasty, knee, tibial plateau</td><td>No Change</td></tr><tr><td>KPRO</td><td>27441</td><td>Arthroplasty, knee, tibial plateau; with debridement and partial synovectomy</td><td>No Change</td></tr><tr><td>KPRO</td><td>27442</td><td>Arthroplasty, femoral condyles or tibial plateau(s), knee</td><td>No Change</td></tr><tr><td>KPRO</td><td>27443</td><td>Arthroplasty, femoral condyles or tibial plateau(s), knee; with debridement and partial synovectomy</td><td>No Change</td></tr><tr><td>KPRO</td><td>27445</td><td>Arthroplasty, knee, hinge prosthesis (eg, Walldius type)</td><td>No Change</td></tr><tr><td>KPRO</td><td>27446</td><td>Arthroplasty, knee, condyle and plateau; medial OR lateral compartment</td><td>No Change</td></tr><tr><td>KPRO</td><td>27447</td><td>Arthroplasty, knee, condyle and plateau; medial AND lateral compartments with or without patella resurfacing (total knee arthroplasty)</td><td>No Change</td></tr><tr><td>KPRO</td><td>27486</td><td>Revision of total knee athroplasty, with or without allograft, one component</td><td>No Change</td></tr><tr><td>KPRO</td><td>27487</td><td>Revision of total knee arthroplasty, with or without allograft; femoral and entire tibial component</td><td>No Change</td></tr><tr><td>KTP</td><td>50340</td><td>Recipient nephrectomy (separate procedure)  </td><td>No Change</td></tr><tr><td>KTP</td><td>50360</td><td>Renal allotransplantation, implantation of graft; without recipient nephrectomy </td><td>No Change</td></tr><tr><td>KTP</td><td>50365</td><td>Renal allotransplantation, implantation of graft; with recipient nephrectomy </td><td>No Change</td></tr><tr><td>KTP</td><td>50380</td><td>Renal autotransplantation, reimplantation of kidney </td><td>No Change</td></tr><tr><td>LAM</td><td>22220</td><td>Osteotomy of spine, including discectomy, anterior approach, single vertebral segment; cervical</td><td>No Change</td></tr><tr><td>LAM</td><td>22222</td><td>Osteotomy of spine, including discectomy, anterior approach, single vertebral segment; thoracic</td><td>No Change</td></tr><tr><td>LAM</td><td>22224</td><td>Osteotomy of spine, including discectomy, anterior approach, single vertebral segment; lumbar</td><td>No Change</td></tr><tr><td>LAM</td><td>22856</td><td>Total disc arthroplasty (artificial disc), anterior approach, including discectomy with end plate preparation (includes osteophytectomy for nerve root or spinal cord decompression and microdissection); single interspace, cervical</td><td>No Change</td></tr><tr><td>LAM</td><td>22857</td><td>Total disc arthroplasty (artificial disc), anterior approach, including discectomy to prepare interspace (other than for decompression), single interspace, lumbar</td><td>No Change</td></tr><tr><td>LAM</td><td>22861</td><td>Revision including replacement of total disc arthroplasty (artificial disc), anterior approach, single interspace; cervical</td><td>No Change</td></tr><tr><td>LAM</td><td>22862</td><td>Revision including replacement of total disc arthroplasty (artificial disc), anterior approach, single interspace; lumbar</td><td>No Change</td></tr><tr><td>LAM</td><td>22867</td><td>Insertion of interlaminar/interspinous process stabilization/distraction device, without fusion, including image guidance when performed, with open decompression, lumbar; single level </td><td>No Change</td></tr><tr><td>LAM</td><td>62287</td><td>Decompression procedure, percutaneous, of nucleus pulposus of intervertebral disc, any method utilizing needle based technique to remove disc material under fluoroscopic imaging or other form of indirect visualization, with the use of an endoscope, with discography and/or epidural injection(s) at the treated level(s), when performed, single or multiple levels, lumbar</td><td>No Change</td></tr><tr><td>LAM</td><td>62351</td><td>Implantation, revision or repositioning of tunneled intrathecal or epidural catheter, for long-term medication administration via an external pump or implantable reservoir/infusion pump; with laminectomy</td><td>No Change</td></tr><tr><td>LAM</td><td>62380</td><td>Endoscopic decompression of spinal cord, nerve root(s), including laminectomy, partial facetectomy, foraminotomy, discectomy and/or excision of herniated intervertebral disc, 1 interpace, lumbar</td><td>No Change</td></tr><tr><td>LAM</td><td>63001</td><td>Laminectomy with exploration and/or decompression of spinal cord and/or cauda equina, without facetectomy, foraminotomy or discectomy (eg, spinal stenosis), 1 or 2 vertebral segments; cervical</td><td>No Change</td></tr><tr><td>LAM</td><td>63003</td><td>Laminectomy with exploration and/or decompression of spinal cord and/or cauda equina, without facetectomy, foraminotomy or discectomy (eg, spinal stenosis), 1 or 2 vertebral segments; thoracic</td><td>No Change</td></tr><tr><td>LAM</td><td>63005</td><td>Laminectomy with exploration and/or decompression of spinal cord and/or cauda equina, without facetectomy, foraminotomy or discectomy (eg, spinal stenosis), 1 or 2 vertebral segments; lumbar, except for spondylolisthesis</td><td>No Change</td></tr><tr><td>LAM</td><td>63011</td><td>Laminectomy with exploration and/or decompression of spinal cord and/or cauda equina, without facetectomy, foraminotomy or discectomy (eg, spinal stenosis), 1 or 2 vertebral segments; sacral</td><td>No Change</td></tr><tr><td>LAM</td><td>63012</td><td>Laminectomy with removal of abnormal facets and/or pars inter-articularis with decompression of cauda equina and nerve roots for spondylolisthesis, lumbar (Gill type procedure)</td><td>No Change</td></tr><tr><td>LAM</td><td>63015</td><td>Laminectomy with exploration and/or decompression of spinal cord and/or cauda equina, without facetectomy, foraminotomy or discectomy (eg, spinal stenosis), more than 2 vertebral segments; cervical</td><td>No Change</td></tr><tr><td>LAM</td><td>63016</td><td>Laminectomy with exploration and/or decompression of spinal cord and/or cauda equina, without facetectomy, foraminotomy or discectomy (eg, spinal stenosis), more than 2 vertebral segments; thoracic</td><td>No Change</td></tr><tr><td>LAM</td><td>63017</td><td>Laminectomy with exploration and/or decompression of spinal cord and/or cauda equina, without facetectomy, foraminotomy or discectomy (eg, spinal stenosis), more than 2 vertebral segments; lumbar</td><td>No Change</td></tr><tr><td>LAM</td><td>63020</td><td>Laminotomy (hemilaminectomy), with decompression of nerve root(s), including partial facetectomy, foraminotomy and/or excision of herniated intervertebral disc; 1 interspace, cervical</td><td>No Change</td></tr><tr><td>LAM</td><td>63030</td><td>Laminotomy (hemilaminectomy), with decompression of nerve root(s), including partial facetectomy, foraminotomy and/or excision of herniated intervertebral disc; 1 interspace, lumbar</td><td>No Change</td></tr><tr><td>LAM</td><td>63035</td><td>Laminotomy (hemilaminectomy), with decompression of nerve root(s), including partial facetectomy, foraminotomy and/or excision of herniated intervertebral disc; each No changeitional interspace, cervical or lumbar (List separately in No changeition to code for primary procedure)</td><td>No Change</td></tr><tr><td>LAM</td><td>63040</td><td>Laminotomy (hemilaminectomy), with decompression of nerve root(s), including partial facetectomy, foraminotomy and/or excision of herniated intervertebral disc, reexploration, single interspace; cervical</td><td>No Change</td></tr><tr><td>LAM</td><td>63042</td><td>Laminotomy (hemilaminectomy), with decompression of nerve root(s), including partial facetectomy, foraminotomy and/or excision of herniated intervertebral disc, reexploration, single interspace; lumbar</td><td>No Change</td></tr><tr><td>LAM</td><td>63045</td><td>Laminectomy, facetectomy and foraminotomy (unilateral or bilateral with decompression of spinal cord, cauda equina and/or nerve root[s], [eg, spinal or lateral recess stenosis]), single vertebral segment; cervical</td><td>No Change</td></tr><tr><td>LAM</td><td>63046</td><td>Laminectomy, facetectomy and foraminotomy (unilateral or bilateral with decompression of spinal cord, cauda equina and/or nerve root[s], [eg, spinal or lateral recess stenosis]), single vertebral segment; thoracic</td><td>No Change</td></tr><tr><td>LAM</td><td>63047</td><td>Laminectomy, facetectomy and foraminotomy (unilateral or bilateral with decompression of spinal cord, cauda equina and/or nerve root[s], [eg, spinal or lateral recess stenosis]), single vertebral segment; lumbar</td><td>No Change</td></tr><tr><td>LAM</td><td>63048</td><td>Laminectomy, facetectomy and foraminotomy (unilateral or bilateral with decompression of spinal cord, cauda equina and/or nerve root[s], [eg, spinal or lateral recess stenosis]), single vertebral segment; each No changeitional segment, cervical, thoracic, or lumbar (List separately in No changeition to code for primary procedure)</td><td>No Change</td></tr><tr><td>LAM</td><td>63050</td><td>Laminoplasty, cervical, with decompression of the spinal cord, 2 or more vertebral segments;</td><td>No Change</td></tr><tr><td>LAM</td><td>63051</td><td>Laminoplasty, cervical, with decompression of the spinal cord, 2 or more vertebral segments; with reconstruction of the posterior bony elements (including the application of bridging bone graft and non-segmental fixation devices [eg, wire, suture, mini-plates], when performed)</td><td>No Change</td></tr><tr><td>LAM</td><td>63055</td><td>Transpedicular approach with decompression of spinal cord, equina and/or nerve root(s) (eg, herniated intervertebral disc), single segment; thoracic</td><td>No Change</td></tr><tr><td>LAM</td><td>63056</td><td>lumbar (including transfacet, or lateral extraforaminal approach) (eg, far lateral herniated intervertebral disc</td><td>No Change</td></tr><tr><td>LAM</td><td>63064</td><td>Costovertebral approach with decompression of spinal cord or nerve root(s), (eg, herniated intervertebral disc), thoracic; single segment</td><td>No Change</td></tr><tr><td>LAM</td><td>63075</td><td>Discectomy, anterior, with decompression of spinal cord and/or nerve root(s), including osteophytectomy; cervical, single interspace</td><td>No Change</td></tr><tr><td>LAM</td><td>63077</td><td>Discectomy, anterior, with decompression of spinal cord and/or nerve root(s), including osteophytectomy; thoracic, single interspace</td><td>No Change</td></tr><tr><td>LAM</td><td>63081</td><td>Vertebral corpectomy (vertebral body resection), partial or complete, anterior approach with decompression of spinal cord and/or nerve root(s); cervical, single segment</td><td>No Change</td></tr><tr><td>LAM</td><td>63082</td><td>Vertebral corpectomy (vertebral body resection), partial or complete, anterior approach with decompression of spinal cord and/or nerve root(s); cervical, each No changeitional segment (List separately in No changeition to code for primary procedure)</td><td>No Change</td></tr><tr><td>LAM</td><td>63085</td><td>Vertebral corpectomy (vertebral body resection), partial or complete, transthoracic approach with decompression of spinal cord and/or nerve root(s); thoracic, single segment</td><td>No Change</td></tr><tr><td>LAM</td><td>63086</td><td>Vertebral corpectomy (vertebral body resection), partial or complete, transthoracic approach with decompression of spinal cord and/or nerve root(s); thoracic, each No changeitional segment (List separately in No changeition to code for primary procedure)</td><td>No Change</td></tr><tr><td>LAM</td><td>63087</td><td>Vertebral corpectomy (vertebral body resection), partial or complete, combined thoracolumbar approach with decompression of spinal cord, cauda equina or nerve root(s), lower thoracic or lumbar; single segment</td><td>No Change</td></tr><tr><td>LAM</td><td>63088</td><td>Vertebral corpectomy (vertebral body resection), partial or complete, combined thoracolumbar approach with decompression of spinal cord, cauda equina or nerve root(s), lower thoracic or lumbar; each No changeitional segment (List separately in No changeition to code for primary procedure)</td><td>No Change</td></tr><tr><td>LAM</td><td>63090</td><td>Vertebral corpectomy (vertebral body resection), partial or complete, transperitoneal or retroperitoneal approach with decompression of spinal cord, cauda equina or nerve root(s), lower thoracic, lumbar, or sacral; single segment</td><td>No Change</td></tr><tr><td>LAM</td><td>63091</td><td>Vertebral corpectomy (vertebral body resection), partial or complete, transperitoneal or retroperitoneal approach with decompression of spinal cord, cauda equina or nerve root(s), lower thoracic, lumbar, or sacral; each No changeitional segment (List separately in No changeition to code for primary procedure)</td><td>No Change</td></tr><tr><td>LAM</td><td>63101</td><td>Vertebral corpectomy (vertebral body resection), partial or complete, lateral extracavitary approach with decompression of spinal cord and/or nerve root(s) (eg, for tumor or retropulsed bone fragments); thoracic, single segment</td><td>No Change</td></tr><tr><td>LAM</td><td>63102</td><td>Vertebral corpectomy (vertebral body resection), partial or complete, lateral extracavitary approach with decompression of spinal cord and/or nerve root(s) (eg, for tumor or retropulsed bone fragments); lumbar, single segment</td><td>No Change</td></tr><tr><td>LAM</td><td>63103</td><td>Vertebral corpectomy (vertebral body resection), partial or complete, lateral extracavitary approach with decompression of spinal cord and/or nerve root(s) (eg, for tumor or retropulsed bone fragments); thoracic or lumbar, each No changeitional segment (List separately in No changeition to code for primary procedure)</td><td>No Change</td></tr><tr><td>LAM</td><td>63170</td><td>Laminectomy with myelotomy (eg, Bischof or DREZ type), cervical, thoracic, or thoracolumbar</td><td>No Change</td></tr><tr><td>LAM</td><td>63172</td><td>Laminectomy with drainage of intramedullary cyst/syrinx; to subarachnoid space</td><td>No Change</td></tr><tr><td>LAM</td><td>63173</td><td>Laminectomy with drainage of intramedullary cyst/syrinx; to peritoneal or pleural space</td><td>No Change</td></tr><tr><td>LAM</td><td>63180</td><td>Laminectomy and section of dentate ligaments, with or without dural graft, cervical; 1 or 2 segments</td><td>No Change</td></tr><tr><td>LAM</td><td>63182</td><td>Laminectomy and section of dentate ligaments, with or without dural graft, cervical; more than 2 segments</td><td>No Change</td></tr><tr><td>LAM</td><td>63185</td><td>Laminectomy with rhizotomy; 1 or 2 segments</td><td>No Change</td></tr><tr><td>LAM</td><td>63190</td><td>Laminectomy with rhizotomy; more than 2 segments</td><td>No Change</td></tr><tr><td>LAM</td><td>63191</td><td>Laminectomy with section of spinal accessory nerve</td><td>No Change</td></tr><tr><td>LAM</td><td>63197</td><td>Laminectomy with cordotomy, with section of both spinothalamic tracts, 1 stage; thoracic</td><td>No Change</td></tr><tr><td>LAM</td><td>63200</td><td>Laminectomy, with release of tethered spinal cord, lumbar</td><td>No Change</td></tr><tr><td>LAM</td><td>63250</td><td>Laminectomy for excision or occlusion of arteriovenous malformation of spinal cord; cervical</td><td>No change</td></tr><tr><td>LAM</td><td>63251</td><td>Laminectomy for excision or occlusion of arteriovenous malformation of spinal cord; thoracic</td><td>No change</td></tr><tr><td>LAM</td><td>63252</td><td>Laminectomy for excision or occlusion of arteriovenous malformation of spinal cord; thoracolumbar</td><td>No change</td></tr><tr><td>LAM</td><td>63265</td><td>Laminectomy for excision or evacuation of intraspinal lesion other than neoplasm, extradural; cervical</td><td>No change</td></tr><tr><td>LAM</td><td>63266</td><td>Laminectomy for excision or evacuation of intraspinal lesion other than neoplasm, extradural; thoracic</td><td>No change</td></tr><tr><td>LAM</td><td>63267</td><td>Laminectomy for excision or evacuation of intraspinal lesion other than neoplasm, extradural; lumbar</td><td>No change</td></tr><tr><td>LAM</td><td>63268</td><td>Laminectomy for excision or evacuation of intraspinal lesion other than neoplasm, extradural; sacral</td><td>No change</td></tr><tr><td>LAM</td><td>63270</td><td>Laminectomy for excision of intraspinal lesion other than neoplasm, intradural; cervical</td><td>No change</td></tr><tr><td>LAM</td><td>63271</td><td>Laminectomy for excision of intraspinal lesion other than neoplasm, intradural; thoracic</td><td>No change</td></tr><tr><td>LAM</td><td>63272</td><td>Laminectomy for excision of intraspinal lesion other than neoplasm, intradural; lumbar</td><td>No change</td></tr><tr><td>LAM</td><td>63273</td><td>Laminectomy for excision of intraspinal lesion other than neoplasm, intradural; sacral</td><td>No change</td></tr><tr><td>LAM</td><td>63275</td><td>Laminectomy for biopsy/excision of intraspinal neoplasm; extradural, cervical</td><td>No change</td></tr><tr><td>LAM</td><td>63276</td><td>Laminectomy for biopsy/excision of intraspinal neoplasm; extradural, thoracic</td><td>No change</td></tr><tr><td>LAM</td><td>63277</td><td>Laminectomy for biopsy/excision of intraspinal neoplasm; extradural, lumbar</td><td>No change</td></tr><tr><td>LAM</td><td>63278</td><td>Laminectomy for biopsy/excision of intraspinal neoplasm; extradural, sacral</td><td>No change</td></tr><tr><td>LAM</td><td>63280</td><td>Laminectomy for biopsy/excision of intraspinal neoplasm; intradural, extramedullary, cervical</td><td>No change</td></tr><tr><td>LAM</td><td>63281</td><td>Laminectomy for biopsy/excision of intraspinal neoplasm; intradural, extramedullary, thoracic</td><td>No change</td></tr><tr><td>LAM</td><td>63282</td><td>Laminectomy for biopsy/excision of intraspinal neoplasm; intradural, extramedullary, lumbar</td><td>No change</td></tr><tr><td>LAM</td><td>63283</td><td>Laminectomy for biopsy/excision of intraspinal neoplasm; intradural, sacral</td><td>No change</td></tr><tr><td>LAM</td><td>63285</td><td>Laminectomy for biopsy/excision of intraspinal neoplasm; intradural, intramedullary, cervical</td><td>No change</td></tr><tr><td>LAM</td><td>63286</td><td>Laminectomy for biopsy/excision of intraspinal neoplasm; intradural, intramedullary, thoracic</td><td>No change</td></tr><tr><td>LAM</td><td>63287</td><td>Laminectomy for biopsy/excision of intraspinal neoplasm; intradural, intramedullary, thoracolumbar</td><td>No change</td></tr><tr><td>LAM</td><td>63290</td><td>Laminectomy for biopsy/excision of intraspinal neoplasm; combined extradural-intradural lesion, any level</td><td>No change</td></tr><tr><td>LAM</td><td>63709</td><td>Repair of dural/cerebrospinal fluid leak or pseudomeningocele, with laminectomy</td><td>No change</td></tr><tr><td>LAM</td><td>63740</td><td>Creation of shunt, lumbar, subarachnoid-peritoneal, -pleural, or other; including laminectomy</td><td>No change</td></tr><tr><td>LAM</td><td>0202T</td><td>Posterior vertebral joint(s) arthroplasty (eg, facet joint[s] replacement), including facetectomy, laminectomy, foraminotomy, and vertebral column fixation, injection of bone cement, when performed, including fluoroscopy, single level, lumbar spine</td><td>No Change</td></tr><tr><td>LAM</td><td>0219T</td><td>Placement of a posterior intrafacet implant(s), unilateral or bilateral, including imaging and placement of bone graft(s) or synthetic device(s), single level; cervical</td><td>No Change</td></tr><tr><td>LAM</td><td>0220T</td><td>Placement of a posterior intrafacet implant(s), unilateral or bilateral, including imaging and placement of bone graft(s) or synthetic device(s), single level; thoracic</td><td>No Change</td></tr><tr><td>LAM</td><td>0221T</td><td>Placement of a posterior intrafacet implant(s), unilateral or bilateral, including imaging and placement of bone graft(s) or synthetic device(s), single level; lumbar</td><td>No Change</td></tr><tr><td>LTP</td><td>47135</td><td>Liver allotransplantation; orthotopic, partial or whole, from cadaver or living donor, any age </td><td>No Change</td></tr><tr><td>NECK</td><td>31300</td><td>Laryngotomy (thyrotomy, laryngofissure); with removal of tumor or laryngocele, cordectomy </td><td>No Change</td></tr><tr><td>NECK</td><td>31360</td><td>Laryngectomy; total, without radical neck dissection  </td><td>No Change</td></tr><tr><td>NECK</td><td>31365</td><td>Laryngectomy; total, with radical neck dissection  </td><td>No Change</td></tr><tr><td>NECK</td><td>31367</td><td>Laryngectomy; subtotal supraglottic, without radical neck dissection  </td><td>No Change</td></tr><tr><td>NECK</td><td>31368</td><td>Laryngectomy; subtotal supraglottic, with radical neck dissection  </td><td>No Change</td></tr><tr><td>NECK</td><td>31370</td><td>Partial laryngectomy (hemilaryngectomy); horizontal  </td><td>No Change</td></tr><tr><td>NECK</td><td>31375</td><td>Partial laryngectomy (hemilaryngectomy); laterovertical</td><td>No Change</td></tr><tr><td>NECK</td><td>31380</td><td>Partial laryngectomy (hemilaryngectomy); anterovertical  </td><td>No Change</td></tr><tr><td>NECK</td><td>31382</td><td>Partial laryngectomy (hemilaryngectomy); antero-latero-vertical  </td><td>No Change</td></tr><tr><td>NECK</td><td>31390</td><td>Pharyngolaryngectomy, with radical neck dissection; without reconstruction  </td><td>No Change</td></tr><tr><td>NECK</td><td>31395</td><td>Pharyngolaryngectomy, with radical neck dissection; with reconstruction  </td><td>No Change</td></tr><tr><td>NECK</td><td>31400</td><td>Arytenoidectomy or arytenoidopexy, external approach  </td><td>No Change</td></tr><tr><td>NECK</td><td>31420</td><td>Epiglottidectomy </td><td>No Change</td></tr><tr><td>NECK</td><td>31551</td><td>Laryngoplasty; for laryngeal stenosis, with graft, without indwelling stent placement, younger than 12 years of age</td><td>No Change</td></tr><tr><td>NECK</td><td>31552</td><td>Laryngoplasty; for laryngeal stenosis, with graft, without indwelling stent placement, age 12 years or older </td><td>No Change</td></tr><tr><td>NECK</td><td>31553</td><td>Laryngoplasty; for laryngeal stenosis, with graft, with indwelling stent placement, younger than 12 years of age </td><td>No Change</td></tr><tr><td>NECK</td><td>31554</td><td>Laryngoplasty; for laryngeal stenosis, with graft, with indwelling stent placement, age 12 years or older</td><td>No Change</td></tr><tr><td>NECK</td><td>31560</td><td>Laryngoscopy, direct, operative, with arytenoidectomy;  </td><td>No Change</td></tr><tr><td>NECK</td><td>31561</td><td>Laryngoscopy, direct, operative, with arytenoidectomy; with operating microscope or telescope </td><td>No Change</td></tr><tr><td>NECK</td><td>31580</td><td>Laryngoplasty; for laryngeal web, with indwelling keel or stent insertion</td><td>No Change</td></tr><tr><td>NECK</td><td>31584</td><td>Laryngoplasty; with open reduction and fixation of (eg, plating) fracture, includes tracheostomy, if performed</td><td>No Change</td></tr><tr><td>NECK</td><td>31587</td><td>Laryngoplasty, cricoid split, without graft placement</td><td>No Change</td></tr><tr><td>NECK</td><td>31590</td><td>Laryngeal reinnervation by neuromuscular pedicle</td><td>No Change</td></tr><tr><td>NECK</td><td>31591</td><td>Laryngoplasty, medialization, unilateral </td><td>No Change</td></tr><tr><td>NECK</td><td>31592</td><td>Cricotracheal resection</td><td>No Change</td></tr><tr><td>NECK</td><td>31599</td><td>Unlisted procedure, larynx  </td><td>No Change</td></tr><tr><td>NECK</td><td>38308</td><td>Lymphangiotomy or other operations on lymphatic channels  </td><td>No Change</td></tr><tr><td>NECK</td><td>38542</td><td>Dissection, deep jugular node(s)  </td><td>No Change</td></tr><tr><td>NECK</td><td>38720</td><td>Cervical lymphadenectomy (complete)  </td><td>No Change</td></tr><tr><td>NECK</td><td>38724</td><td>Cervical lymphadenectomy (modified radical neck dissection)  </td><td>No Change</td></tr><tr><td>NECK</td><td>41135</td><td>Glossectomy; partial, with unilateral radical neck dissection  </td><td>No Change</td></tr><tr><td>NECK</td><td>41140</td><td>Glossectomy; complete or total, with or without tracheostomy, without radical neck dissection  </td><td>No Change</td></tr><tr><td>NECK</td><td>41145</td><td>Glossectomy; complete or total, with or without tracheostomy, with unilateral radical neck dissection  </td><td>No Change</td></tr><tr><td>NECK</td><td>41155</td><td>Glossectomy; composite procedure with resection floor of mouth, mandibular resection, and radical neck dissection (Commando type) </td><td>No Change</td></tr><tr><td>NECK</td><td>42420</td><td>Excision of parotid tumor or parotid gland; total, with dissection and preservation of facial nerve  </td><td>No Change</td></tr><tr><td>NECK</td><td>42425</td><td>Excision of parotid tumor or parotid gland; total, en bloc removal with sacrifice of facial nerve  </td><td>No Change</td></tr><tr><td>NECK</td><td>42426</td><td>Excision of parotid tumor or parotid gland; total, with unilateral radical neck dissection  </td><td>No Change</td></tr><tr><td>NECK</td><td>60280</td><td>Excision of thyroglossal duct cyst or sinus</td><td>No Change</td></tr><tr><td>NECK</td><td>60281</td><td>Excision of thyroglossal duct cyst or sinus; recurrent</td><td>No Change</td></tr><tr><td>NECK</td><td>69150</td><td>Radical excision external auditory canal lesion; without neck dissection  </td><td>No Change</td></tr><tr><td>NECK</td><td>69155</td><td>Radical excision external auditory canal lesion; with neck dissection  </td><td>No Change</td></tr><tr><td>NECK</td><td>60000</td><td>Incision and drainage of thyroglossal duct cyst, infected</td><td>Moved from THYR</td></tr><tr><td>NEPH</td><td>50010</td><td>Renal exploration, not necessitating other specific procedures  </td><td>No Change</td></tr><tr><td>NEPH</td><td>50020</td><td>Drainage of perirenal or renal abscess, open  </td><td>No Change</td></tr><tr><td>NEPH</td><td>50040</td><td>Nephrostomy, nephrotomy with drainage  </td><td>No Change</td></tr><tr><td>NEPH</td><td>50045</td><td>Nephrotomy, with exploration  </td><td>No Change</td></tr><tr><td>NEPH</td><td>50060</td><td>Nephrolithotomy; removal of calculus  </td><td>No Change</td></tr><tr><td>NEPH</td><td>50065</td><td>Nephrolithotomy; secondary surgical operation for calculus  </td><td>No Change</td></tr><tr><td>NEPH</td><td>50070</td><td>Nephrolithotomy; complicated by congenital kidney abnormality  </td><td>No Change</td></tr><tr><td>NEPH</td><td>50075</td><td>Nephrolithotomy; removal of large staghorn calculus filling renal pelvis and calyces (including anatrophic pyelolithotomy)  </td><td>No Change</td></tr><tr><td>NEPH</td><td>50120</td><td>Pyelotomy; with exploration  </td><td>No Change</td></tr><tr><td>NEPH</td><td>50125</td><td>Pyelotomy; with drainage, pyelostomy  </td><td>No Change</td></tr><tr><td>NEPH</td><td>50130</td><td>Pyelotomy; with removal of calculus (pyelolithotomy, pelviolithotomy, including coagulum pyelolithotomy)  </td><td>No Change</td></tr><tr><td>NEPH</td><td>50135</td><td>Pyelotomy; complicated (e.g., secondary operation, congenital kidney abnormality)  </td><td>No Change</td></tr><tr><td>NEPH</td><td>50205</td><td>Renal biopsy; by surgical exposure of kidney </td><td>No Change</td></tr><tr><td>NEPH</td><td>50220</td><td>Nephrectomy, including partial ureterectomy, any open approach including rib resection;  </td><td>No Change</td></tr><tr><td>NEPH</td><td>50225</td><td>Nephrectomy, including partial ureterectomy, any open approach including rib resection; complicated because of previous surgery on same kidney  </td><td>No Change</td></tr><tr><td>NEPH</td><td>50230</td><td>Nephrectomy, including partial ureterectomy, any open approach including rib resection; radical, with regional lymphadenectomy and/or vena caval thrombectomy  </td><td>No Change</td></tr><tr><td>NEPH</td><td>50234</td><td>Nephrectomy with total ureterectomy and bladder cuff; through same incision  </td><td>No Change</td></tr><tr><td>NEPH</td><td>50236</td><td>Nephrectomy with total ureterectomy and bladder cuff; through separate incision  </td><td>No Change</td></tr><tr><td>NEPH</td><td>50240</td><td>Nephrectomy, partial  </td><td>No Change</td></tr><tr><td>NEPH</td><td>50250</td><td>Ablation, open, 1 or more renal mass lesion(s), cryosurgical, including intraoperative ultrasound guidance and monitoring, if performed </td><td>No Change</td></tr><tr><td>NEPH</td><td>50280</td><td>Excision or unroofing of cyst(s) of kidney </td><td>No Change</td></tr><tr><td>NEPH</td><td>50290</td><td>Excision of perinephric cyst  </td><td>No Change</td></tr><tr><td>NEPH</td><td>50320</td><td>Donor nephrectomy (including cold preservation); open, from living donor  </td><td>No Change</td></tr><tr><td>NEPH</td><td>50400</td><td>Pyeloplasty (Foley Y-pyeloplasty), plastic operation on renal pelvis, with or without plastic operation on ureter, nephropexy, nephrostomy, pyelostomy, or ureteral splinting; simple </td><td>No Change</td></tr><tr><td>NEPH</td><td>50405</td><td>Pyeloplasty (Foley Y-pyeloplasty), plastic operation on renal pelvis, with or without plastic operation on ureter, nephropexy, nephrostomy, pyelostomy, or ureteral splinting; complicated (congenital kidney abnormality, secondary pyeloplasty, solitary kidney, calycoplasty) </td><td>No Change</td></tr><tr><td>NEPH</td><td>50541</td><td>Laparoscopy, surgical; ablation of renal cysts </td><td>No Change</td></tr><tr><td>NEPH</td><td>50542</td><td>Laparoscopy, surgical; ablation of renal mass lesion(s), including intraoperative ultrasound guidance and monitoring, when performed </td><td>No Change</td></tr><tr><td>NEPH</td><td>50543</td><td>Laparoscopy, surgical; partial nephrectomy  </td><td>No Change</td></tr><tr><td>NEPH</td><td>50545</td><td>Laparoscopy, surgical; radical nephrectomy (includes removal of Gerota's fascia and surrounding fatty tissue, removal of regional lymph nodes, and adrenalectomy)  </td><td>No Change</td></tr><tr><td>NEPH</td><td>50546</td><td>Laparoscopy, surgical; nephrectomy, including partial ureterectomy  </td><td>No Change</td></tr><tr><td>NEPH</td><td>50547</td><td>Laparoscopy, surgical; donor nephrectomy (including cold preservation), from living donor  </td><td>No Change</td></tr><tr><td>NEPH</td><td>50548</td><td>Laparoscopy, surgical; nephrectomy with total ureterectomy  </td><td>No Change</td></tr><tr><td>NEPH</td><td>50549</td><td>Unlisted laparoscopic nephrectomy</td><td>No Change</td></tr><tr><td>OVRY</td><td>58660</td><td>Laparoscopy, surgical; with lysis of adhesions (salpingolysis, ovariolysis) (separate procedure) </td><td>No Change</td></tr><tr><td>OVRY</td><td>58661</td><td>Laparoscopy, surgical; with removal of adnexal structures (partial or total oophorectomy and/or salpingectomy)  </td><td>No Change</td></tr><tr><td>OVRY</td><td>58662</td><td>Laparoscopy, surgical; with fulguration or excision of lesions of the ovary, pelvic viscera, or peritoneal surface by any method </td><td>No Change</td></tr><tr><td>OVRY</td><td>58679</td><td>Unlisted laparoscopy procedure, oviduct, ovary  </td><td>No Change</td></tr><tr><td>OVRY</td><td>58720</td><td>Salpingo-oophorectomy, complete or partial, unilateral or bilateral (separate procedure)  </td><td>No Change</td></tr><tr><td>OVRY</td><td>58740</td><td>Lysis of adhesions (salpingolysis, ovariolysis) </td><td>No Change</td></tr><tr><td>OVRY</td><td>58800</td><td>Drainage of ovarian cyst(s), unilateral or bilateral (separate procedure); vaginal approach  </td><td>No Change</td></tr><tr><td>OVRY</td><td>58805</td><td>Drainage of ovarian cyst(s), unilateral or bilateral (separate procedure); abdominal approach  </td><td>No Change</td></tr><tr><td>OVRY</td><td>58820</td><td>Drainage of ovarian abscess; vaginal approach, open  </td><td>No Change</td></tr><tr><td>OVRY</td><td>58822</td><td>Drainage of ovarian abscess; abdominal approach  </td><td>No Change</td></tr><tr><td>OVRY</td><td>58825</td><td>Transposition, ovary(s)  </td><td>No Change</td></tr><tr><td>OVRY</td><td>58900</td><td>Biopsy of ovary, unilateral or bilateral (separate procedure)  </td><td>No Change</td></tr><tr><td>OVRY</td><td>58920</td><td>Wedge resection or bisection of ovary, unilateral or bilateral  </td><td>No Change</td></tr><tr><td>OVRY</td><td>58925</td><td>Ovarian cystectomy, unilateral or bilateral  </td><td>No Change</td></tr><tr><td>OVRY</td><td>58940</td><td>Oophorectomy, partial or total, unilateral or bilateral;</td><td>No Change</td></tr><tr><td>OVRY</td><td>58943</td><td>Oophorectomy, partial or total, unilateral or bilateral; for ovarian, tubal or primary peritoneal malignancy, with para-aortic and pelvic lymph node biopsies, peritoneal washings, peritoneal biopsies, diaphragmatic assessments, with or without salpingectomy(s), with or without omentectomy  </td><td>No Change</td></tr><tr><td>OVRY</td><td>58950</td><td>Resection (initial) of ovarian, tubal or primary peritoneal malignancy with bilateral salpingo-oophorectomy and omentectomy;  </td><td>No Change</td></tr><tr><td>OVRY</td><td>58952</td><td>Resection (initial) of ovarian, tubal or primary peritoneal malignancy with bilateral salpingo-oophorectomy and omentectomy; with radical dissection for debulking (i.e., radical excision or destruction, intra-abdominal or retroperitoneal tumors)  </td><td>No Change</td></tr><tr><td>OVRY</td><td>58970</td><td>Follicle puncture for oocyte retrieval, any method  </td><td>No Change</td></tr><tr><td>PACE</td><td>33202</td><td>Insertion of epicardial electrode(s); open incision (e.g., thoracotomy, median sternotomy, subxiphoid approach)</td><td>No Change</td></tr><tr><td>PACE</td><td>33203</td><td>Insertion of epicardial electrode(s); endoscopic approach (e.g., thoracoscopy, pericardioscopy)</td><td>No Change</td></tr><tr><td>PACE</td><td>33206</td><td>Insertion of new or replacement of permanent pacemaker with transvenous electrode(s); atrial </td><td>No Change</td></tr><tr><td>PACE</td><td>33207</td><td>Insertion of new or replacement of permanent pacemaker with transvenous electrode(s); ventricular </td><td>No Change</td></tr><tr><td>PACE</td><td>33208</td><td>Insertion of new or replacement of permanent pacemaker with transvenous electrode(s); atrial and ventricular </td><td>No Change</td></tr><tr><td>PACE</td><td>33212</td><td>Insertion of pacemaker pulse generator only; with existing single lead </td><td>No Change</td></tr><tr><td>PACE</td><td>33213</td><td>Insertion of pacemaker pulse generator only; with existing dual leads </td><td>No Change</td></tr><tr><td>PACE</td><td>33214</td><td>Upgrade of implanted pacemaker system, conversion of single chamber system to dual chamber system (includes removal of previously placed pulse generator, testing of existing lead, insertion of new lead, insertion of new pulse generator) </td><td>No Change</td></tr><tr><td>PACE</td><td>33215</td><td>Repositioning of previously implanted transvenous pacemaker or implantable defibrillator (right atrial or right ventricular) electrode</td><td>No Change</td></tr><tr><td>PACE</td><td>33216</td><td>Insertion of a single transvenous electrode, permanent pacemaker or implantable defibrillator </td><td>No Change</td></tr><tr><td>PACE</td><td>33217</td><td>Insertion of 2 transvenous electrodes, permanent pacemaker or implantable defibrillator </td><td>No Change</td></tr><tr><td>PACE</td><td>33218</td><td>Repair of single transvenous electrode, permanent pacemaker or implantable defibrillator </td><td>No Change</td></tr><tr><td>PACE</td><td>33220</td><td>Repair of 2 transvenous electrodes for permanent pacemaker or implantable defibrillator </td><td>No Change</td></tr><tr><td>PACE</td><td>33221</td><td>Insertion of pacemaker pulse generator only; with existing multiple leads </td><td>No Change</td></tr><tr><td>PACE</td><td>33222</td><td>Relocation of skin pocket for pacemaker </td><td>No Change</td></tr><tr><td>PACE</td><td>33223</td><td>Relocation of skin pocket for implantable defibrillator </td><td>No Change</td></tr><tr><td>PACE</td><td>33224</td><td>Insertion of pacing electrode, cardiac venous system, for left ventricular pacing, with attachment to previously placed pacemaker or implantable defibrillator pulse generator (including revision of pocket, removal, insertion, and/or replacement of existing generator)</td><td>No Change</td></tr><tr><td>PACE</td><td>33225</td><td>Insertion of pacing electrode, cardiac venous system, for left ventricular pacing, at time of insertion of implantable defibrillator or pacemaker pulse generator (e.g., for upgrade to dual chamber system) (List separately in No changeition to code for primary procedure)</td><td>No Change</td></tr><tr><td>PACE</td><td>33226</td><td>Repositioning of previously implanted cardiac venous system (left ventricular) electrode (including removal, insertion and/or replacement of existing generator)</td><td>No Change</td></tr><tr><td>PACE</td><td>33227</td><td>Removal of permanent pacemaker pulse generator with replacement of pacemaker pulse generator; single lead system </td><td>No Change</td></tr><tr><td>PACE</td><td>33228</td><td>Removal of permanent pacemaker pulse generator with replacement of pacemaker pulse generator; dual lead system </td><td>No Change</td></tr><tr><td>PACE</td><td>33229</td><td>Removal of permanent pacemaker pulse generator with replacement of pacemaker pulse generator; multiple lead system </td><td>No Change</td></tr><tr><td>PACE</td><td>33230</td><td>Insertion of implantable defibrillator pulse generator only; with existing dual leads </td><td>No Change</td></tr><tr><td>PACE</td><td>33231</td><td>Insertion of implantable defibrillator pulse generator only; with existing multiple leads </td><td>No Change</td></tr><tr><td>PACE</td><td>33233</td><td>Removal of permanent pacemaker pulse generator only </td><td>No Change</td></tr><tr><td>PACE</td><td>33234</td><td>Removal of transvenous pacemaker electrode(s); single lead system, atrial or ventricular </td><td>No Change</td></tr><tr><td>PACE</td><td>33235</td><td>Removal of transvenous pacemaker electrode(s); dual lead system </td><td>No Change</td></tr><tr><td>PACE</td><td>33236</td><td>Removal of permanent epicardial pacemaker and electrodes by thoracotomy; single lead system, atrial or ventricular</td><td>No Change</td></tr><tr><td>PACE</td><td>33237</td><td>Removal of permanent epicardial pacemaker and electrodes by thoracotomy; dual lead system</td><td>No Change</td></tr><tr><td>PACE</td><td>33238</td><td>Removal of permanent transvenous electrode(s) by thoracotomy</td><td>No Change</td></tr><tr><td>PACE</td><td>33240</td><td>Insertion of implantable defibrillator pulse generator only; with existing single lead </td><td>No Change</td></tr><tr><td>PACE</td><td>33241</td><td>Removal of implantable defibrillator pulse generator only </td><td>No Change</td></tr><tr><td>PACE</td><td>33243</td><td>Removal of single or dual chamber implantable defibrillator electrode(s); by thoracotomy</td><td>No Change</td></tr><tr><td>PACE</td><td>33244</td><td>Removal of implantable defibrillator pulse generator with replacement of implantable defibrillator pulse generator; by transvenous extraction </td><td>No Change</td></tr><tr><td>PACE</td><td>33249</td><td>Insertion or replacement of permanent implantable defibrillator system, with transvenous lead(s), single or dual chamber </td><td>No Change</td></tr><tr><td>PACE</td><td>33262</td><td>Removal of implantable defibrillator pulse generator with replacement of implantable defibrillator pulse generator; single lead system </td><td>No Change</td></tr><tr><td>PACE</td><td>33263</td><td>Removal of implantable defibrillator pulse generator with replacement of implantable defibrillator pulse generator; dual lead system </td><td>No Change</td></tr><tr><td>PACE</td><td>33264</td><td>Removal of implantable defibrillator pulse generator with replacement of implantable defibrillator pulse generator; multiple lead system </td><td>No Change</td></tr><tr><td>PACE</td><td>33270</td><td>Insertion or replacement of permanent subcutaneous implantable defibrillator system, with subcutaneous electrode, including defibrillation threshold evaluation, induction of arrhythmia, evaluation of sensing for arrhythmia termination, and programming or reprogramming of sensing or therapeutic parameters, when performed</td><td>No Change</td></tr><tr><td>PACE</td><td>33271</td><td>Insertion of subcutaneous implantable defibrillator electrode</td><td>No Change</td></tr><tr><td>PACE</td><td>33272</td><td>Removal of subcutaneous implantable defibrillator electrode</td><td>No Change</td></tr><tr><td>PACE</td><td>33273</td><td>Repositioning of previously implanted subcutaneous implantable defibrillator electrode</td><td>No Change</td></tr><tr><td>PACE</td><td>0571T</td><td>Insertion or replacement of implantable cardioverter-defibrillation system with substernal electrode(s), including all imaging guidance and electrophysiological evaluation (includes defibrillation threshold evaluation, induction of arrhythmia, evaluation of sensing for arrhythmia termination, and programming or reprogramming of sensing or therapeutic parameters), when performed</td><td>No change</td></tr><tr><td>PACE</td><td>0572T</td><td>Insertion of substernal implantable defibrillation electrode </td><td>No change</td></tr><tr><td>PACE</td><td>0573T</td><td>Removal of substernal implantable defibrillation electrode</td><td>No change</td></tr><tr><td>PACE</td><td>0574T</td><td>Repositioning of previously implanted substernal implantable defibrillator-pacing electrode</td><td>No change</td></tr><tr><td>PRST</td><td>55705</td><td>Biopsy, prostate; incisional, any approach</td><td>No Change</td></tr><tr><td>PRST</td><td>55810</td><td>Prostatectomy, perineal radical</td><td>No Change</td></tr><tr><td>PRST</td><td>55812</td><td>Prostatectomy, perineal radical; with lymph node biopsy(s) (limited pelvic lymphadenectomy)</td><td>No Change</td></tr><tr><td>PRST</td><td>55815</td><td>Prostatectomy, perineal radical; with bilateral pelvic lymphadenectomy, including external iliac, hypogastric and obturator nodes</td><td>No Change</td></tr><tr><td>PRST</td><td>55821</td><td>Prostatectomy (including control of postoperative bleeding, vasectomy, meatotomy, urethral calibration and/or dilation, and internal urethrotomy); suprapubic, subtotal, 1 or 2 stages</td><td>No Change</td></tr><tr><td>PRST</td><td>55831</td><td>Prostatectomy (including control of postoperative bleeding, vasectomy, meatotomy, urethral calibration and/or dilation, and internal urethrotomy); retropubic, subtotal</td><td>No Change</td></tr><tr><td>PRST</td><td>55840</td><td>Prostatectomy, retropubic radical, with or without nerve sparing;</td><td>No Change</td></tr><tr><td>PRST</td><td>55842</td><td>Prostatectomy, retropubic radical, with or without nerve sparing; with lymph node biopsy(s) (limited pelvic lymphadenectomy)</td><td>No Change</td></tr><tr><td>PRST</td><td>55845</td><td>Prostatectomy, retropubic radical, with or without nerve sparing; with bilateral pelvic lymphadenectomy, including external iliac, hypogastric, and obturator nodes</td><td>No Change</td></tr><tr><td>PRST</td><td>55866</td><td>Laparoscopy, surgical prostatectomy, retropubic radical, including nerve sparing, includes robotic assistance, when performed</td><td>No Change</td></tr><tr><td>PRST</td><td>55867</td><td>Laparoscopy, surgical prostatectomy, simple subtotal (including control of postoperative bleeding, vasectomy, meatotomy, urethral calibration and/or dilation, and internal urethrotomy), includes robotic assistance, when performed</td><td>Added</td></tr><tr><td>PVBY</td><td>33889</td><td>Open subclavian to carotid artery transposition performed in conjunction with endovascular repair of descending thoracic aorta, by neck incision, unilateral</td><td>No Change</td></tr><tr><td>PVBY</td><td>35501</td><td>Bypass graft, with vein; common carotid-ipsilateral internal carotid</td><td>No Change</td></tr><tr><td>PVBY</td><td>35506</td><td>Bypass graft, with vein; carotid-subclavian or subcalvian-carotid</td><td>No Change</td></tr><tr><td>PVBY</td><td>35508</td><td>Bypass graft, with vein; carotid-vertebral</td><td>No Change</td></tr><tr><td>PVBY</td><td>35509</td><td>Bypass graft, with vein; carotid-contralateral carotid</td><td>No Change</td></tr><tr><td>PVBY</td><td>35510</td><td>Bypass graft, with vein; carotid-brachial</td><td>No Change</td></tr><tr><td>PVBY</td><td>35511</td><td>Bypass graft, with vein; subclavian-subclavian</td><td>No Change</td></tr><tr><td>PVBY</td><td>35512</td><td>Bypass graft subclavian-brachial</td><td>No Change</td></tr><tr><td>PVBY</td><td>35515</td><td>Bypass graft subclavian-vertebral</td><td>No Change</td></tr><tr><td>PVBY</td><td>35516</td><td>Bypass graft, with vein; subclavian-axillary</td><td>No Change</td></tr><tr><td>PVBY</td><td>35518</td><td>Bypass graft, with vein; axillary-axillary</td><td>No Change</td></tr><tr><td>PVBY</td><td>35521</td><td>Bypass graft, with vein; axillary-femoral</td><td>No Change</td></tr><tr><td>PVBY</td><td>35522</td><td>Bypass graft, with vein; axillary-brachial</td><td>No Change</td></tr><tr><td>PVBY</td><td>35523</td><td>Bypass graft, with vein; brachial-ulnar or -radial</td><td>No Change</td></tr><tr><td>PVBY</td><td>35525</td><td>Bypass graft, with vein; brachial-brachial</td><td>No Change</td></tr><tr><td>PVBY</td><td>35533</td><td>Bypass graft, with vein; axillary-femoral-femoral</td><td>No Change</td></tr><tr><td>PVBY</td><td>35556</td><td>Bypass graft, with vein; femoral-popliteal</td><td>No Change</td></tr><tr><td>PVBY</td><td>35558</td><td>Bypass graft, with vein; femoral-femoral</td><td>No Change</td></tr><tr><td>PVBY</td><td>35566</td><td>Bypass graft, with vein; femoral-anterior tibial, posterior tibial, peroneal artery or other distal vessels</td><td>No Change</td></tr><tr><td>PVBY</td><td>35570</td><td>Bypass graft, with vein; tibial-tibial, peroneal-tibial, or tibial/peroneal trunk-tibial</td><td>No Change</td></tr><tr><td>PVBY</td><td>35571</td><td>Bypass graft, with vein; popliteal-tibial, -peroneal artery or other distal vessels</td><td>No Change</td></tr><tr><td>PVBY</td><td>35583</td><td>In-situ vein bypass; femoral-popliteal</td><td>No Change</td></tr><tr><td>PVBY</td><td>35585</td><td>In-situ vein bypass; femoral-anterior tibial, posterior tibial, or peroneal artery</td><td>No Change</td></tr><tr><td>PVBY</td><td>35587</td><td>In-situ vein bypass; popliteal-tibial, peroneal</td><td>No Change</td></tr><tr><td>PVBY</td><td>35616</td><td>Bypass graft, with other than vein; subclavian-axillary</td><td>No Change</td></tr><tr><td>PVBY</td><td>35621</td><td>Bypass graft, with other than vein; axillary-femoral</td><td>No Change</td></tr><tr><td>PVBY</td><td>35623</td><td>Bypass graft, with other than vein; axillary-popliteal or -tibial</td><td>No Change</td></tr><tr><td>PVBY</td><td>35650</td><td>Bypass graft, with other than vein; axillary-axillary</td><td>No Change</td></tr><tr><td>PVBY</td><td>35654</td><td>Bypass graft, with other than vein; axillary-femoral-femoral</td><td>No Change</td></tr><tr><td>PVBY</td><td>35656</td><td>Bypass graft, with other than vein; femoral-popliteal</td><td>No Change</td></tr><tr><td>PVBY</td><td>35661</td><td>Bypass graft, with other than vein; femoral-femoral</td><td>No Change</td></tr><tr><td>PVBY</td><td>35666</td><td>Bypass graft, with other than vein; femoral-anterior tibial, posterior tibial, or peroneal artery</td><td>No Change</td></tr><tr><td>PVBY</td><td>35671</td><td>Bypass graft, with other than vein; popliteal-tibial or -peroneal artery</td><td>No Change</td></tr><tr><td>PVBY</td><td>35686</td><td>Creation of distal arteriovenous fistula during lower extremity bypass surgery (non-hemodialysis) </td><td>No Change</td></tr><tr><td>REC</td><td>45110</td><td>Proctectomy; complete, combined abdominoperineal, with colostomy</td><td>No Change</td></tr><tr><td>REC</td><td>45111</td><td>Proctectomy; partial resection of rectum, transabdominal approach</td><td>No Change</td></tr><tr><td>REC</td><td>45112</td><td>Proctectomy, combined abdominoperineal, pull-through procedure (eg, colo-anal anastomosis)</td><td>No Change</td></tr><tr><td>REC</td><td>45113</td><td>Proctectomy, partial, with rectal mucosectomy, ileoanal anastomosis, creation of ileal reservoir (S or J), with or without loop ileostomy</td><td>No Change</td></tr><tr><td>REC</td><td>45114</td><td>Proctectomy, partial, with anastomosis; abdominal and transsacral approach</td><td>No Change</td></tr><tr><td>REC</td><td>45116</td><td>Proctectomy, partial, with anastomosis; transsacral approach only (Kraske type)</td><td>No Change</td></tr><tr><td>REC</td><td>45119</td><td>Proctectomy, combined abdominoperineal pull-through procedure (eg, colo-anal anastomosis), with creation of colonic reservoir (eg, J-pouch), with diverting enterostomy when performed</td><td>No Change</td></tr><tr><td>REC</td><td>45120</td><td>Proctectomy, complete (for congenital megacolon), abdominal and perineal approach; with pull-through procedure and anastomosis (eg, Swenson, Duhamel, or Soave type operation)</td><td>No Change</td></tr><tr><td>REC</td><td>45121</td><td>Proctectomy, complete (for congenital megacolon), abdominal and perineal approach; with subtotal or total colectomy, with multiple biopsies</td><td>No Change</td></tr><tr><td>REC</td><td>45126</td><td>Pelvic exenteration for colorectal malignancy, with proctectomy (with or without colostomy), with removal of bladder and ureteral transplantations, and/or hysterectomy, or cervicectomy, with or without removal of tube(s), with or without removal of ovary(s), or any combination thereof</td><td>No Change</td></tr><tr><td>REC</td><td>45395</td><td>Laparoscopy, surgical; proctectomy, complete, combined abdominoperineal, with colostomy</td><td>No Change</td></tr><tr><td>REC</td><td>45397</td><td>Laparoscopy, surgical; proctectomy, combined abdominoperineal pull-through procedure (eg, colo-anal anastomosis), with creation of colonic reservoir (eg, J-pouch), with diverting enterostomy, when performed</td><td>No Change</td></tr><tr><td>REC</td><td>45540</td><td>Proctopexy (eg, for prolapse); abdominal approach (open)</td><td>Added</td></tr><tr><td>REC</td><td>45541</td><td>Proctopexy (eg, for prolapse); perineal approach (open)</td><td>Added</td></tr><tr><td>REC</td><td>45550</td><td>Proctopexy (eg, for prolapse); with sigmoid resection, abdominal approach (open)</td><td>Added</td></tr><tr><td>REC</td><td>45562</td><td>Exploration, repair, and presacral drainage for rectal injury</td><td>No Change</td></tr><tr><td>REC</td><td>45563</td><td>Exploration, repair, and presacral drainage for rectal injury; with colostomy</td><td>No Change</td></tr><tr><td>REC</td><td>57307</td><td>Closure of rectovaginal fistula; abdominal approach, with concomitant colostomy</td><td>No Change</td></tr><tr><td>SB</td><td>43846</td><td>Gastric restrictive procedure, with gastric bypass for morbid obesity; with short limb (150 cm or less) Roux-en-Y gastroenterostomy</td><td>Moved from GAST</td></tr><tr><td>SB</td><td>43496</td><td>Free jejunum transfer with microvascular anastomosis</td><td>No Change</td></tr><tr><td>SB</td><td>44010</td><td>Duodenotomy, for exploration, biopsy(s), or foreign body removal</td><td>No Change</td></tr><tr><td>SB</td><td>44020</td><td>Enterotomy, small intestine, other than duodenum; for exploration, biopsy(s), or foreign body removal</td><td>No Change</td></tr><tr><td>SB</td><td>44021</td><td>Enterotomy, small intestine, other than duodenum; for decompression (eg, Baker tube)</td><td>No Change</td></tr><tr><td>SB</td><td>44120</td><td>Enterectomy, resection of small intestine; single resection and anastomosis</td><td>No Change</td></tr><tr><td>SB</td><td>44125</td><td>Enterectomy, resection of small intestine; with enterostomy</td><td>No Change</td></tr><tr><td>SB</td><td>44126</td><td>Enterectomy, resection of small intestine for congenital atresia, single resection and anastomosis of proximal segment of intestine; without tapering</td><td>No Change</td></tr><tr><td>SB</td><td>44127</td><td>Enterectomy, resection of small intestine for congenital atresia, single resection and anastomosis of proximal segment of intestine; with tapering</td><td>No Change</td></tr><tr><td>SB</td><td>44130</td><td>Enteroenterostomy, anastomosis of intestine, with or without cutaneous enterostomy (separate procedure)</td><td>No Change</td></tr><tr><td>SB</td><td>44186</td><td>Laparoscopy, surgical; jejunostomy (eg, for decompression or feeding)</td><td>No Change</td></tr><tr><td>SB</td><td>44187</td><td>Laparoscopy, surgical; ileostomy or jejunostomy, non-tube</td><td>No Change</td></tr><tr><td>SB</td><td>44202</td><td>Laparoscopy, surgical; enterectomy, resection of small intestine, single resection and anastomosis</td><td>No Change</td></tr><tr><td>SB</td><td>44300</td><td>Placement, enterostomy or cecostomy, tube open (eg, for feeding or decompression) (separate procedure)</td><td>No Change</td></tr><tr><td>SB</td><td>44310</td><td>Ileostomy or jejunostomy, non-tube</td><td>No Change</td></tr><tr><td>SB</td><td>44312</td><td>Revision of ileostomy; simple (release of superficial scar) (separate procedure)</td><td>No Change</td></tr><tr><td>SB</td><td>44314</td><td>Revision of ileostomy; complicated (reconstruction in-depth) (separate procedure)</td><td>No Change</td></tr><tr><td>SB</td><td>44316</td><td>Continent ileostomy (Kock procedure) (separate procedure)</td><td>No Change</td></tr><tr><td>SB</td><td>44602</td><td>Suture of small intestine (enterorrhaphy) for perforated ulcer, diverticulum, wound, injury or rupture; single perforation</td><td>No Change</td></tr><tr><td>SB</td><td>44603</td><td>Suture of small intestine (enterorrhaphy) for perforated ulcer, diverticulum, wound, injury or rupture; multiple perforations</td><td>No Change</td></tr><tr><td>SB</td><td>44615</td><td>Intestinal stricturoplasty (enterotomy and enterorrhaphy) with or without dilation, for intestinal obstruction</td><td>No Change</td></tr><tr><td>SB</td><td>44640</td><td>Closure of intestinal cutaneous fistula</td><td>No Change</td></tr><tr><td>SB</td><td>44650</td><td>Closure of enteroenteric or enterocolic fistula</td><td>No Change</td></tr><tr><td>SB</td><td>44800</td><td>Excision of Meckel's diverticulum (diverticulectomy) or omphalomesenteric duct</td><td>No Change</td></tr><tr><td>SB</td><td>45136</td><td>Excision of ileoanal reservoir with ileostomy</td><td>No Change</td></tr><tr><td>SPLE</td><td>38100</td><td>Splenectomy; total (separate procedure)</td><td>No Change</td></tr><tr><td>SPLE</td><td>38101</td><td>Splenectomy; partial (separate procedure)</td><td>No Change</td></tr><tr><td>SPLE</td><td>38102</td><td>Splenectomy; total, en bloc for extensive disease, in conjunction with other procedure (List in No changeition to code for primary procedure)</td><td>No Change</td></tr><tr><td>SPLE</td><td>38115</td><td>Repair of ruptured spleen (splenorrhaphy) with or without partial splenectomy</td><td>No Change</td></tr><tr><td>SPLE</td><td>38120</td><td>Laparoscopy, surgical, splenectomy</td><td>No Change</td></tr><tr><td>THOR</td><td>20101</td><td>Exploration of penetrating wound (separate procedure); chest</td><td>No Change</td></tr><tr><td>THOR</td><td>21603</td><td>Excision of chest wall tumor involving rib(s), with plastic reconstruction; with mediastinal lymphadenectomy</td><td>No change</td></tr><tr><td>THOR</td><td>31770</td><td>Bronchoplasty; graft repair</td><td>No Change</td></tr><tr><td>THOR</td><td>31775</td><td>Bronchoplasty; excision stenosis and anastomosis</td><td>No Change</td></tr><tr><td>THOR</td><td>32096</td><td>Thoracotomy, with diagnostic biopsy(ies) of lung infiltrate(s) (eg, wedge, incisional), unilateral</td><td>No Change</td></tr><tr><td>THOR</td><td>32097</td><td>Thoracotomy, with diagnostic biopsy(ies) of lung nodule(s) or mass(es) (eg, wedge, incisional), unilateral</td><td>No Change</td></tr><tr><td>THOR</td><td>32100</td><td>Thoracotomy; with exploration</td><td>No Change</td></tr><tr><td>THOR</td><td>32110</td><td>Thoracotomy; with control of traumatic hemorrhage and/or repair of lung tear</td><td>No Change</td></tr><tr><td>THOR</td><td>32120</td><td>Thoracotomy; for postoperative complications</td><td>No Change</td></tr><tr><td>THOR</td><td>32124</td><td>Thoracotomy; with open intrapleural pneumonolysis</td><td>No Change</td></tr><tr><td>THOR</td><td>32140</td><td>Thoracotomy; with cyst(s) removal, includes pleural procedure when performed</td><td>No Change</td></tr><tr><td>THOR</td><td>32141</td><td>Thoracotomy; with resection-plication of bullae, includes any pleural procedure when performed</td><td>No Change</td></tr><tr><td>THOR</td><td>32151</td><td>Thoracotomy; with removal of intrapulmonary foreign body</td><td>No Change</td></tr><tr><td>THOR</td><td>32200</td><td>Pneumonostomy, with open drainage of abscess or cyst</td><td>No Change</td></tr><tr><td>THOR</td><td>32215</td><td>Pleural scarification for repeat pneumothorax</td><td>No Change</td></tr><tr><td>THOR</td><td>32220</td><td>Decortication, pulmonary (separate procedure); total</td><td>No Change</td></tr><tr><td>THOR</td><td>32225</td><td>Decortication, pulmonary (separate procedure); partial</td><td>No Change</td></tr><tr><td>THOR</td><td>32310</td><td>Pleurectomy, parietal (separate procedure)</td><td>No Change</td></tr><tr><td>THOR</td><td>32320</td><td>Decortication and parietal pleurectomy</td><td>No Change</td></tr><tr><td>THOR</td><td>32440</td><td>Removal of lung, pneumonectomy;</td><td>No Change</td></tr><tr><td>THOR</td><td>32442</td><td>Removal of lung, pneumonectomy; with resection of segment of trachea followed by broncho-tracheal anastomosis (sleeve pneumonectomy)</td><td>No Change</td></tr><tr><td>THOR</td><td>32445</td><td>Removal of lung, pneumonectomy; extrapleural</td><td>No Change</td></tr><tr><td>THOR</td><td>32480</td><td>Removal of lung, other than pneumonectomy; single lobe (lobectomy)</td><td>No Change</td></tr><tr><td>THOR</td><td>32482</td><td>Removal of lung, other than pneumonectomy; 2 lobes (bilobectomy)</td><td>No Change</td></tr><tr><td>THOR</td><td>32484</td><td>Removal of lung, other than pneumonectomy; single segment (segmentectomy)</td><td>No Change</td></tr><tr><td>THOR</td><td>32486</td><td>Removal of lung, other than pneumonectomy; with circumferential resection of segment of bronchus followed by broncho-bronchial anastomosis (sleeve lobectomy)</td><td>No Change</td></tr><tr><td>THOR</td><td>32488</td><td>Removal of lung, other than pneumonectomy; with all remaining lung following previous removal of a portion of lung (completion pneumonectomy)</td><td>No Change</td></tr><tr><td>THOR</td><td>32491</td><td>Removal of lung, other than pneumonectomy; with resection-plication of emphysematous lung(s) (bullous or non-bullous) for lung volume reduction, sternal split or transthoracic approach, includes any pleural procedure, when performed</td><td>No Change</td></tr><tr><td>THOR</td><td>32501</td><td>Resection and repair of portion of bronchus (bronchoplasty) when performed at time of lobectomy or segmentectomy (List separately in No changeition to code for primary procedure)</td><td>No Change</td></tr><tr><td>THOR</td><td>32503</td><td>Resection of apical lung tumor (eg, Pancoast tumor), including chest wall resection, rib(s) resection(s), neurovascular dissection, when performed; without chest wall reconstruction(s)</td><td>No Change</td></tr><tr><td>THOR</td><td>32504</td><td>Resection of apical lung tumor (eg, Pancoast tumor), including chest wall resection, rib(s) resection(s), neurovascular dissection, when performed; with chest wall reconstruction</td><td>No Change</td></tr><tr><td>THOR</td><td>32505</td><td>Thoracotomy; with therapeutic wedge resection (eg, mass, nodule), initial</td><td>No Change</td></tr><tr><td>THOR</td><td>32506</td><td>Thoracotomy; with therapeutic wedge resection (eg, mass or nodule), each No changeitional resection, ipsilateral (List separately in No changeition to code for primary procedure)</td><td>No Change</td></tr><tr><td>THOR</td><td>32507</td><td>Thoracotomy; with diagnostic wedge resection followed by anatomic lung resection (List separately in No changeition to code for primary procedure)</td><td>No Change</td></tr><tr><td>THOR</td><td>32540</td><td>Extrapleural enucleation of empyema (empyemectomy)</td><td>No Change</td></tr><tr><td>THOR</td><td>32553</td><td>Placement of interstitial device(s) for radiation therapy guidance (eg, fiducial markers, dosimeter), percutaneous, intrathoracic, single or multiple</td><td>No Change</td></tr><tr><td>THOR</td><td>32607</td><td>Thoracoscopy; with diagnostic biopsy(ies) of lung infiltrate(s) (eg, wedge, incisional), unilateral</td><td>No Change</td></tr><tr><td>THOR</td><td>32608</td><td>Thoracoscopy; with diagnostic biopsy(ies) of lung nodule(s) or mass(es) (eg, wedge, incisional), unilateral</td><td>No Change</td></tr><tr><td>THOR</td><td>32609</td><td>Thoracoscopy; with biopsy(ies) of pleura</td><td>No Change</td></tr><tr><td>THOR</td><td>32651</td><td>Thoracoscopy, surgical; with partial pulmonary decortication</td><td>No Change</td></tr><tr><td>THOR</td><td>32652</td><td>Thoracoscopy, surgical; with total pulmonary decortication, including intrapleural pneumonolysis</td><td>No Change</td></tr><tr><td>THOR</td><td>32655</td><td>Thoracoscopy, surgical; with resection-plication of bullae, includes any pleural procedure when performed</td><td>No Change</td></tr><tr><td>THOR</td><td>32662</td><td>Thoracoscopy, surgical; with excision of mediastinal cyst, tumor, or mass</td><td>No Change</td></tr><tr><td>THOR</td><td>32663</td><td>Thoracoscopy, surgical; with lobectomy (single lobe)</td><td>No Change</td></tr><tr><td>THOR</td><td>32666</td><td>Thoracoscopy, surgical; with therapeutic wedge resection (eg, mass, nodule), initial unilateral</td><td>No Change</td></tr><tr><td>THOR</td><td>32667</td><td>Thoracoscopy, surgical; with therapeutic wedge resection (eg, mass or nodule), each No changeitional resection, ipsilateral (List separately in No changeition to code for primary procedure)</td><td>No Change</td></tr><tr><td>THOR</td><td>32668</td><td>Thoracoscopy, surgical; with diagnostic wedge resection followed by anatomic lung resection (List separately in No changeition to code for primary procedure)</td><td>No Change</td></tr><tr><td>THOR</td><td>32669</td><td>Thoracoscopy, surgical; with removal of a single lung segment (segmentectomy)</td><td>No Change</td></tr><tr><td>THOR</td><td>32670</td><td>Thoracoscopy, surgical; with removal of two lobes (bilobectomy)</td><td>No Change</td></tr><tr><td>THOR</td><td>32671</td><td>Thoracoscopy, surgical; with removal of lung (pneumonectomy)</td><td>No Change</td></tr><tr><td>THOR</td><td>32672</td><td>Thoracoscopy, surgical; with resection-plication for emphysematous lung (bullous or non-bullous) for lung volume reduction (LVRS), unilateral includes any pleural procedure, when performed</td><td>No Change</td></tr><tr><td>THOR</td><td>32800</td><td>Repair lung hernia through chest wall</td><td>No Change</td></tr><tr><td>THOR</td><td>32815</td><td>Open closure of major bronchial fistula</td><td>No Change</td></tr><tr><td>THOR</td><td>32905</td><td>Thoracoplasty, Schede type or extrapleural (all stages);</td><td>No Change</td></tr><tr><td>THOR</td><td>32906</td><td>Thoracoplasty, Schede type or extrapleural (all stages); with closure of bronchopleural fistula</td><td>No Change</td></tr><tr><td>THOR</td><td>32940</td><td>Pneumonolysis, extraperiosteal, including filling or packing procedures</td><td>No Change</td></tr><tr><td>THOR</td><td>32960</td><td>Pneumothorax, therapeutic, intrapleural injection of air</td><td>No Change</td></tr><tr><td>THOR</td><td>39000</td><td>Mediastinotomy with exploration, drainage, removal of foreign body, or biopsy; cervical approach</td><td>No Change</td></tr><tr><td>THOR</td><td>39010</td><td>Mediastinotomy with exploration, drainage, removal of foreign body, or biopsy; transthoracic approach, including either transthoracic or median sternotomy</td><td>No Change</td></tr><tr><td>THOR</td><td>39200</td><td>Resection of mediastinal cyst</td><td>No Change</td></tr><tr><td>THOR</td><td>39220</td><td>Resection of mediastinal tumor</td><td>No Change</td></tr><tr><td>THOR</td><td>39501</td><td>Repair, laceration of diaphragm, any approach</td><td>No Change</td></tr><tr><td>THOR</td><td>39545</td><td>Imbrication of diaphragm for eventration, transthoracic or transabdominal, paralytic or nonparalytic</td><td>No Change</td></tr><tr><td>THOR</td><td>39560</td><td>Resection, diaphragm; with simple repair (eg, primary suture)</td><td>No Change</td></tr><tr><td>THOR</td><td>39561</td><td>Resection, diaphragm; with complex repair (eg, prosthetic material, local muscle flap)</td><td>No Change</td></tr><tr><td>THOR</td><td>64746</td><td>Transection or avulsion of; phrenic nerve</td><td>No Change</td></tr><tr><td>THYR</td><td>60200</td><td>Excision of cyst or adenoma of thyroid, or transection of isthmus</td><td>No Change</td></tr><tr><td>THYR</td><td>60210</td><td>Partial thyroid lobectomy, unilateral; with or without isthmusectomy</td><td>No Change</td></tr><tr><td>THYR</td><td>60212</td><td>Partial thyroid lobectomy, unilateral; with contralateral subtotal lobectomy, including isthmusectomy</td><td>No Change</td></tr><tr><td>THYR</td><td>60220</td><td>Total thyroid lobectomy, unilateral; with or without isthmusectomy</td><td>No Change</td></tr><tr><td>THYR</td><td>60225</td><td>Total thyroid lobectomy, unilateral; with contralateral subtotal lobectomy, including isthmusectomy</td><td>No Change</td></tr><tr><td>THYR</td><td>60240</td><td>Thyroidectomy, total or complete</td><td>No Change</td></tr><tr><td>THYR</td><td>60252</td><td>Thyroidectomy, total or subtotal for malignancy; with limited neck dissection</td><td>No Change</td></tr><tr><td>THYR</td><td>60254</td><td>Thyroidectomy, total or subtotal for malignancy; with radical neck dissection</td><td>No Change</td></tr><tr><td>THYR</td><td>60260</td><td>Thyroidectomy, removal of all remaining thyroid tissue following previous removal of a portion of thyroid</td><td>No Change</td></tr><tr><td>THYR</td><td>60270</td><td>Thyroidectomy, including substernal thyroid; sternal split or transthoracic approach</td><td>No Change</td></tr><tr><td>THYR</td><td>60271</td><td>Thyroidectomy, including substernal thyroid; cervical approach</td><td>No Change</td></tr><tr><td>THYR</td><td>60500</td><td>Parathyroidectomy or exploration of parathyroid(s)</td><td>No Change</td></tr><tr><td>THYR</td><td>60502</td><td>Parathyroidectomy or exploration of parathyroid(s); re-exploration</td><td>No Change</td></tr><tr><td>THYR</td><td>60505</td><td>Parathyroidectomy or exploration of parathyroid(s); with mediastinal exploration, sternal split or transthoracic approach</td><td>No Change</td></tr><tr><td>THYR</td><td>60512</td><td>Parathyroid autotransplantation (List separately in No changeition to code for primary procedure)</td><td>No Change</td></tr><tr><td>VHYS</td><td>51925</td><td>Closure of vesicouterine fistula; with hysterectomy</td><td>No Change</td></tr><tr><td>VHYS</td><td>58260</td><td>Vaginal hysterectomy, for uterus 250 g or less</td><td>No Change</td></tr><tr><td>VHYS</td><td>58262</td><td>Vaginal hysterectomy, for uterus 250 g or less; with removal of tube(s), and/or ovary(s)</td><td>No Change</td></tr><tr><td>VHYS</td><td>58263</td><td>Vaginal hysterectomy, for uterus 250 g or less; with removal of tube(s), and/or ovary(s), with repair of enterocele</td><td>No Change</td></tr><tr><td>VHYS</td><td>58267</td><td>Vaginal hysterectomy, for uterus 250 g or less; with colpo-urethrocystopexy (Marshall-Marchetti-Krantz type, Pereyra type) with or without endoscopic control</td><td>No Change</td></tr><tr><td>VHYS</td><td>58270</td><td>Vaginal hysterectomy, for uterus 250 g or less; with repair of enterocele</td><td>No Change</td></tr><tr><td>VHYS</td><td>58275</td><td>Vaginal hysterectomy, for uterus 250 g or less;</td><td>No Change</td></tr><tr><td>VHYS</td><td>58280</td><td>Vaginal hysterectomy, with total or partial vaginectomy; with repair of enterocele</td><td>No Change</td></tr><tr><td>VHYS</td><td>58285</td><td>Vaginal hysterectomy, radical (Schauta type operation)</td><td>No Change</td></tr><tr><td>VHYS</td><td>58290</td><td>Vaginal hysterectomy, for uterus greater than 250 g</td><td>No Change</td></tr><tr><td>VHYS</td><td>58291</td><td>Vaginal hysterectomy, for uterus greater than 250 g; with removal of tube(s) and/or ovary(s)</td><td>No Change</td></tr><tr><td>VHYS</td><td>58292</td><td>Vaginal hysterectomy, for uterus greater than 250 g; with removal of tube(s) and/or ovary(s), with repair of enterocele</td><td>No Change</td></tr><tr><td>VHYS</td><td>58293</td><td>Vaginal hysterectomy, for uterus greater than 250 g; with colpo-urethrocystopexy (Marshall-Marchetti-Krantz type, Pereyra type) with or without endoscopic control</td><td>No Change</td></tr><tr><td>VHYS</td><td>58294</td><td>Vaginal hysterectomy, for uterus greater than 250 g; with repair of enterocele</td><td>No Change</td></tr><tr><td>VSHN</td><td>62160</td><td>Neuroendoscopy, intracranial, for placement or replacement of ventricular catheter and attachment to shunt system or external drainage (List separately in No changeition to code for primary procedure)</td><td>No Change</td></tr><tr><td>VSHN</td><td>62180</td><td>Ventriculocisternostomy (Torkildsen type operation)</td><td>No Change</td></tr><tr><td>VSHN</td><td>62190</td><td>Creation of shunt; subarachnoid/subdural-atrial, -jugular, -auricular</td><td>No Change</td></tr><tr><td>VSHN</td><td>62192</td><td>Creation of shunt; subarachnoid/subdural-peritoneal, -pleural, other terminus</td><td>No Change</td></tr><tr><td>VSHN</td><td>62194</td><td>Replacement or irrigation, subarachnoid/subdural catheter</td><td>No Change</td></tr><tr><td>VSHN</td><td>62220</td><td>Creation of shunt; ventriculo-atrial, -jugular, -auricular</td><td>No Change</td></tr><tr><td>VSHN</td><td>62223</td><td>Creation of shunt; ventriculo-peritoneal, -pleural, other terminus</td><td>No Change</td></tr><tr><td>VSHN</td><td>62225</td><td>Replacement or irrigation, ventricular catheter</td><td>No Change</td></tr><tr><td>VSHN</td><td>62230</td><td>Replacement or revision of cerebrospinal fluid shunt, obstructed valve, or distal catheter in shunt system</td><td>No Change</td></tr><tr><td>VSHN</td><td>62256</td><td>Removal of complete cerebrospinal fluid shunt system; without replacement</td><td>No Change</td></tr><tr><td>VSHN</td><td>62258</td><td>Removal of complete cerebrospinal fluid shunt system; with replacement by similar or other shunt at same operation</td><td>No Change</td></tr><tr><td>XLAP</td><td>20102</td><td>Exploration of penetrating wound (separate procedure); abdomen/flank/back</td><td>No Change</td></tr><tr><td>XLAP</td><td>35840</td><td>Exploration for postoperative hemorrhage, thrombosis or infection; abdomen</td><td>No Change</td></tr><tr><td>XLAP</td><td>39503</td><td>Repair, neonatal diaphragmatic hernia, with or without chest tube insertion and with or without creation of ventral hernia</td><td>No Change</td></tr><tr><td>XLAP</td><td>39540</td><td>Repair, diaphragmatic hernia (other than neonatal), traumatic; acute</td><td>No Change</td></tr><tr><td>XLAP</td><td>39541</td><td>Repair, diaphragmatic hernia (other than neonatal), traumatic; chronic</td><td>No Change</td></tr><tr><td>XLAP</td><td>43332</td><td>Repair, paraesophageal hiatal hernia (including fundoplication), via laparotomy, except neonatal; without implantation of mesh or other prosthesis</td><td>No Change</td></tr><tr><td>XLAP</td><td>43333</td><td>Repair, paraesophageal hiatal hernia (including fundoplication), via laparotomy, except neonatal; with implantation of mesh or other prosthesis</td><td>No Change</td></tr><tr><td>XLAP</td><td>44005</td><td>Enterolysis (freeing of intestinal adhesions) (separate procedure)</td><td>No Change</td></tr><tr><td>XLAP</td><td>44180</td><td>Laparoscopy, surgical, enterolysis (freeing of intestinal adhesion) (separate procedure)</td><td>No Change</td></tr><tr><td>XLAP</td><td>44700</td><td>Exclusion of small intestine from pelvis by mesh or other prosthesis, or native tissue (eg, bladder or omentum)</td><td>No Change</td></tr><tr><td>XLAP</td><td>44820</td><td>Excision of lesion of mesentery (separate procedure)</td><td>No Change</td></tr><tr><td>XLAP</td><td>44850</td><td>Suture of mesentery (separate procedure)</td><td>No Change</td></tr><tr><td>XLAP</td><td>49000</td><td>Exploratory laparotomy, exploratory celiotomy with or without biopsy(s) (separate procedure)</td><td>No Change</td></tr><tr><td>XLAP</td><td>49002</td><td>Reopening of recent laparotomy</td><td>No Change</td></tr><tr><td>XLAP</td><td>49010</td><td>Exploration, retroperitoneal area with or without biopsy(s) (separate procedure)</td><td>No Change</td></tr><tr><td>XLAP</td><td>49013</td><td>Preperitoneal pelvic packing for hemorrhage associated with pelvic trauma, including local exploration</td><td>No change</td></tr><tr><td>XLAP</td><td>49014</td><td>Re-exploration of pelvic wound with removal of preperitoneal pelvic packing, including repacking, when performed</td><td>No change</td></tr><tr><td>XLAP</td><td>49020</td><td>Drainage of peritoneal abscess or localized peritonitis, exclusive of appendiceal abscess, open</td><td>No Change</td></tr><tr><td>XLAP</td><td>49040</td><td>Drainage of subdiaphragmatic or subphrenic abscess, open</td><td>No Change</td></tr><tr><td>XLAP</td><td>49060</td><td>Drainage of retroperitoneal abscess, open</td><td>No Change</td></tr><tr><td>XLAP</td><td>49203</td><td>Excision or destruction, open, intra-abdominal tumors, cysts or endometriomas, 1 or more peritoneal, mesenteric, or retroperitoneal primary or secondary tumors; largest tumor 5 cm diameter or less</td><td>No Change</td></tr><tr><td>XLAP</td><td>49204</td><td>Excision or destruction, open, intra-abdominal tumors, cysts or endometriomas, 1 or more peritoneal, mesenteric, or retroperitoneal primary or secondary tumors; largest tumor 5.1-10.0 cm diameter</td><td>No Change</td></tr><tr><td>XLAP</td><td>49205</td><td>Excision or destruction, open, intra-abdominal tumors, cysts or endometriomas, 1 or more peritoneal, mesenteric, or retroperitoneal primary or secondary tumors; largest tumor greater than 10.0 cm diameter</td><td>No Change</td></tr><tr><td>XLAP</td><td>49215</td><td>Excision of presacral or sacrococcygeal tumor</td><td>No Change</td></tr><tr><td>XLAP</td><td>49220</td><td>Staging laparotomy for Hodgkin's disease or lymphoma (includes splenectomy, needle or open biopsies of both liver lobes, possibly also removal of abdominal nodes, abdominal node and/or bone marrow biopsies, ovarian repositioning)</td><td>No Change</td></tr><tr><td>XLAP</td><td>49250</td><td>Umbilectomy, omphalectomy, excision of umbilicus (separate procedure)</td><td>No Change</td></tr><tr><td>XLAP</td><td>49255</td><td>Omentectomy, epiploectomy, resection of omentum (separate procedure)</td><td>No Change</td></tr><tr><td>XLAP</td><td>49320</td><td>Laparoscopy, abdomen, peritoneum, and omentum, diagnostic, with or without collection of specimen(s) by brushing or washing (separate procedure)</td><td>No Change</td></tr><tr><td>XLAP</td><td>49321</td><td>Laparoscopy, surgical; with biopsy (single or multiple) </td><td>No Change</td></tr><tr><td>XLAP</td><td>49324</td><td>Laparoscopy, surgical; with insertion of tunneled intraperitoneal catheter</td><td>No Change</td></tr><tr><td>XLAP</td><td>49325</td><td>Laparoscopy, surgical; with revision of previously placed intraperitoneal cannula or catheter, with removal of intraluminal obstructive material if performed</td><td>No Change</td></tr><tr><td>XLAP</td><td>49326</td><td>Laparoscopy, surgical; with omentopexy (omental tacking procedure) (List separately in No changeition to code for primary procedure)</td><td>No Change</td></tr><tr><td>XLAP</td><td>49402</td><td>Removal of peritoneal foreign body from peritoneal cavity</td><td>No Change</td></tr><tr><td>XLAP</td><td>49412</td><td>Placement of interstitial device(s) for radiation therapy guidance (eg, fiducial markers, dosimeter), open, intra-abdominal, intrapelvic, and/or retroperitoneum, including image guidance, if performed, single or multiple (List separately in No changeition to code for primary procedure)</td><td>No Change</td></tr><tr><td>XLAP</td><td>49419</td><td>Insertion of tunneled intraperitoneal catheter, with subcutaneous port (ie, totally implantable)</td><td>No Change</td></tr><tr><td>XLAP</td><td>49421</td><td>Insertion of tunneled intraperitoneal catheter for dialysis, open</td><td>No Change</td></tr><tr><td>XLAP</td><td>49425</td><td>Insertion of peritoneal-venous shunt</td><td>No Change</td></tr><tr><td>XLAP</td><td>49426</td><td>Revision of peritoneal-venous shunt</td><td>No Change</td></tr><tr><td>XLAP</td><td>49900</td><td>Suture, secondary, of abdominal wall for evisceration or dehiscence</td><td>No Change</td></tr><tr><td>XLAP</td><td>49905</td><td>Omental flap, intra-abdominal (List separately in No changeition to code for primary procedure)</td><td>No Change</td></tr><tr><td>XLAP</td><td>49906</td><td>Free omental flap with microvascular anastomosis</td><td>No Change</td></tr><tr><td>XLAP</td><td>58960</td><td>Laparotomy, for staging or restaging of ovarian, tubal, or primary peritoneal malignancy (second look), with or without omentectomy, peritoneal washing, biopsy of abdominal and pelvic peritoneum, diaphragmatic assessment with pelvic and limited para-aortic lymphadenectomy</td><td>No Change</td></tr></tbody></table></div>"
      ]
     },
     "metadata": {
      "application/vnd.databricks.v1+output": {
       "addedWidgets": {},
       "aggData": [],
       "aggError": "",
       "aggOverflow": false,
       "aggSchema": [],
       "aggSeriesLimitReached": false,
       "aggType": "",
       "arguments": {},
       "columnCustomDisplayInfos": {},
       "data": [
        [
         "AAA",
         "34830",
         "Open repair of infrarenal aortic aneurysm or dissection, plus repair of associated arterial trauma, following unsuccessful endovascular repair; tube prosthesis  ",
         "No Change"
        ],
        [
         "AAA",
         "34831",
         "Open repair of infrarenal aortic aneurysm or dissection, plus repair of associated arterial trauma, following unsuccessful endovascular repair; aorto-bi-iliac prosthesis ",
         "No Change"
        ],
        [
         "AAA",
         "34832",
         "Open repair of infrarenal aortic aneurysm or dissection, plus repair of associated arterial trauma, following unsuccessful endovascular repair; aorto-bifemoral prosthesis  ",
         "No Change"
        ],
        [
         "AAA",
         "35081",
         "Direct repair of aneurysm, pseudoaneurysm, or excision (partial or total) and graft insertion, with or without patch graft; for aneurysm, pseudoaneurysm, and associated occlusive disease, abdominal aorta",
         "No Change"
        ],
        [
         "AAA",
         "35082",
         "Direct repair of aneurysm, pseudoaneurysm, or excision (partial or total) and graft insertion, with or without patch graft; for ruptured aneurysm, abdominal aorta  ",
         "No Change"
        ],
        [
         "AAA",
         "35091",
         "Direct repair of aneurysm, pseudoaneurysm, or excision (partial or total) and graft insertion, with or without patch graft; for aneurysm, pseudoaneurysm, and associated occlusive disease, abdominal aorta involving visceral vessels (mesenteric, celiac, renal) ",
         "No Change"
        ],
        [
         "AAA",
         "35092",
         "Direct repair of aneurysm, pseudoaneurysm, or excision (partial or total) and graft insertion, with or without patch graft; for ruptured aneurysm, abdominal aorta involving visceral vessels (mesenteric, celiac, renal)  ",
         "No Change"
        ],
        [
         "AAA",
         "35102",
         "Direct repair of aneurysm, pseudoaneurysm, or excision (partial or total) and graft insertion, with or without patch graft; for aneurysm, pseudoaneurysm, and associated occlusive disease, abdominal aorta involving iliac vessels (common, hypogastric, external)  ",
         "No Change"
        ],
        [
         "AAA",
         "35103",
         "Direct repair of aneurysm, pseudoaneurysm, or excision (partial or total) and graft insertion, with or without patch graft; for ruptured aneurysm, abdominal aorta involving iliac vessels (common, hypogastric, external)  ",
         "No Change"
        ],
        [
         "AMP",
         "23900",
         "Interthoracoscapular amputation (forequarter)",
         "No Change"
        ],
        [
         "AMP",
         "23920",
         "Disarticulation of shoulder",
         "No Change"
        ],
        [
         "AMP",
         "24900",
         "Amputation, arm through humerus; with primary closure ",
         "No Change"
        ],
        [
         "AMP",
         "24920",
         "Amputation, arm through humerus; open, circular (guillotine) ",
         "No Change"
        ],
        [
         "AMP",
         "24930",
         "Amputation, arm through humerus; re-amputation ",
         "No Change"
        ],
        [
         "AMP",
         "24931",
         "Amputation, arm through humerus; with implant ",
         "No Change"
        ],
        [
         "AMP",
         "25900",
         "Amputation, forearm, through radius and ulna",
         "No Change"
        ],
        [
         "AMP",
         "25905",
         "Amputation, forearm, through radius and ulna; open, circular (guillotine) ",
         "No Change"
        ],
        [
         "AMP",
         "25909",
         "Amputation, forearm, through radius and ulna; re-amputation",
         "No Change"
        ],
        [
         "AMP",
         "25920",
         "Disarticulation through wrist",
         "No Change"
        ],
        [
         "AMP",
         "25922",
         "Disarticulation through wrist; secondary closure or scar revision ",
         "No Change"
        ],
        [
         "AMP",
         "25924",
         "Disarticulation through wrist; re-amputation ",
         "No Change"
        ],
        [
         "AMP",
         "25927",
         "Transmetacarpal amputation;  ",
         "No Change"
        ],
        [
         "AMP",
         "25929",
         "Transmetacarpal amputation; secondary closure or scar revision ",
         "No Change"
        ],
        [
         "AMP",
         "25931",
         "Transmetacarpal amputation; re-amputation ",
         "No Change"
        ],
        [
         "AMP",
         "26235",
         "Partial excision (craterization, saucerization, or diaphysectomy) bone (eg, osteomyelitis); proximal or middle phalanx of finger",
         "No Change"
        ],
        [
         "AMP",
         "26236",
         "Partial excision (craterization, saucerization, or diaphysectomy) bone (eg, osteomyelitis); distal phalanx of finger",
         "No Change"
        ],
        [
         "AMP",
         "26910",
         "Amputation, metacarpal, with finger or thumb (ray amputation), single, with or without interosseous transfer ",
         "No Change"
        ],
        [
         "AMP",
         "26951",
         "Amputation, finger or thumb, primary or secondary, any joint or phalanx, single, including neurectomies; with direct closure ",
         "No Change"
        ],
        [
         "AMP",
         "26952",
         "Amputation, finger or thumb, primary or secondary, any joint or phalanx, single, including neurectomies; with local advancement flaps (V-Y, hood) ",
         "No Change"
        ],
        [
         "AMP",
         "27290",
         "Interpelviabdominal amputation (hindquarter amputation) ",
         "No Change"
        ],
        [
         "AMP",
         "27295",
         "Disarticulation of hip ",
         "No Change"
        ],
        [
         "AMP",
         "27590",
         "Amputation, thigh, through femur, any level; ",
         "No Change"
        ],
        [
         "AMP",
         "27591",
         "Amputation, thigh, through femur, any level; immediate fitting technique including first cast ",
         "No Change"
        ],
        [
         "AMP",
         "27592",
         "Amputation, thigh, through femur, any level; open, circular (guillotine) ",
         "No Change"
        ],
        [
         "AMP",
         "27598",
         "Disarticulation at knee",
         "No Change"
        ],
        [
         "AMP",
         "27880",
         "Amputation, leg, through tibia and fibula; ",
         "No Change"
        ],
        [
         "AMP",
         "27881",
         "Amputation, leg, through tibia and fibula; with immediate fitting technique including application of first cast",
         "No change"
        ],
        [
         "AMP",
         "27882",
         "Amputation, leg, through tibia and fibula; open, circular (guillotine) ",
         "No Change"
        ],
        [
         "AMP",
         "27884",
         "Amputation, leg, through tibia and fibula; secondary closure or scar revision ",
         "No Change"
        ],
        [
         "AMP",
         "27886",
         "Amputation, leg, through tibia and fibula; re-amputation ",
         "No Change"
        ],
        [
         "AMP",
         "27888",
         "Amputation, ankle, through malleoli of tibia and fibula (e.g., Syme, Pirogoff type procedures), with plastic closure and resection of nerves ",
         "No Change"
        ],
        [
         "AMP",
         "27889",
         "Ankle disarticulation ",
         "No Change"
        ],
        [
         "AMP",
         "28124",
         "Partial excision (craterization, saucerization, sequestrectomy, or diaphysectomy) bone (eg, osteomyelitis or bossing); phalanx of toe",
         "No Change"
        ],
        [
         "AMP",
         "28126",
         "Resection, partial or complete, phalangeal base, each toe",
         "No Change"
        ],
        [
         "AMP",
         "28160",
         "Hemiphalangectomy or interphalangeal joint excision, toe, proximal end of phalanx, each",
         "No Change"
        ],
        [
         "AMP",
         "28800",
         "Amputation, foot; midtarsal (e.g., Chopart type procedure) ",
         "No Change"
        ],
        [
         "AMP",
         "28805",
         "Amputation, foot; transmetatarsal ",
         "No Change"
        ],
        [
         "AMP",
         "28810",
         "Amputation, metatarsal, with toe, single ",
         "No Change"
        ],
        [
         "AMP",
         "28820",
         "Amputation, toe; metatarsophalangeal joint ",
         "No Change"
        ],
        [
         "AMP",
         "28825",
         "Amputation, toe; interphalangeal joint ",
         "No Change"
        ],
        [
         "APPY",
         "44900",
         "Incision and drainage of appendiceal abscess, open",
         "No Change"
        ],
        [
         "APPY",
         "44950",
         "Appendectomy",
         "No Change"
        ],
        [
         "APPY",
         "44955",
         "Appendectomy; when done for indicated purpose at time of other major procedure (not as separate procedure) (List separately in No changeition to code for primary procedure) ",
         "No Change"
        ],
        [
         "APPY",
         "44960",
         "Appendectomy; for ruptured appendix with abscess or generalized peritonitis ",
         "No Change"
        ],
        [
         "APPY",
         "44970",
         "Laparoscopy, surgical, appendectomy ",
         "No Change"
        ],
        [
         "APPY",
         "44979",
         "Unlisted laparoscopy procedure, appendix ",
         "No Change"
        ],
        [
         "AVSD",
         "36800",
         "Insertion of cannula for hemodialysis, other purpose (separate procedure); vein to vein ",
         "No Change"
        ],
        [
         "AVSD",
         "36810",
         "Insertion of cannula for hemodialysis, other purpose (separate procedure); arteriovenous, external (Scribner type) ",
         "No Change"
        ],
        [
         "AVSD",
         "36815",
         "Insertion of cannula for hemodialysis, other purpose (separate procedure); arteriovenous, external revision, or closure ",
         "No Change"
        ],
        [
         "AVSD",
         "36818",
         "Arteriovenous anastomosis, open; by upper arm cephalic vein transposition ",
         "No Change"
        ],
        [
         "AVSD",
         "36819",
         "Arteriovenous anastomosis, open; by upper arm basilic vein transposition ",
         "No Change"
        ],
        [
         "AVSD",
         "36820",
         "Arteriovenous anastomosis, open; by forearm vein transposition ",
         "No Change"
        ],
        [
         "AVSD",
         "36821",
         "Arteriovenous anastomosis, open; direct, any site (e.g., Cimino type) (separate procedure) ",
         "No Change"
        ],
        [
         "AVSD",
         "36825",
         "Creation of arteriovenous fistula by other than direct arteriovenous anastomosis (separate procedure); autogenous graft ",
         "No Change"
        ],
        [
         "AVSD",
         "36830",
         "Creation of arteriovenous fistula by other than direct arteriovenous anastomosis (separate procedure); non autogenous graft ",
         "No Change"
        ],
        [
         "AVSD",
         "36832",
         "Revision, open, arteriovenous fistula; without thrombectomy, autogenous or nonautogenous dialysis graft (separate procedure)",
         "No Change"
        ],
        [
         "AVSD",
         "36833",
         "Revision, open, arteriovenous fistula; with thrombectomy, autogenous or nonautogenous dialysis graft (separate procedure)",
         "No Change"
        ],
        [
         "AVSD",
         "36838",
         "Distal revascularization and interval ligation (DRIL), upper extremity hemodialysis access (steal syndrome) ",
         "No Change"
        ],
        [
         "BILI",
         "47010",
         "Hepatotomy; for open drainage of abscess or cyst, 1 or 2 stages ",
         "No Change"
        ],
        [
         "BILI",
         "47015",
         "Laparotomy, with aspiration and/or injection of hepatic parasitic (eg, amoebic or echinococcal) cyst(s) or abscess(es ",
         "No Change"
        ],
        [
         "BILI",
         "47100",
         "Biopsy of liver, wedge ",
         "No Change"
        ],
        [
         "BILI",
         "47120",
         "Hepatectomy, resection of liver; partial lobectomy ",
         "No Change"
        ],
        [
         "BILI",
         "47122",
         "Hepatectomy, resection of liver; trisegmentectomy ",
         "No Change"
        ],
        [
         "BILI",
         "47125",
         "Hepatectomy, resection of liver; total left lobectomy ",
         "No Change"
        ],
        [
         "BILI",
         "47130",
         "Hepatectomy, resection of liver; total right lobectomy ",
         "No Change"
        ],
        [
         "BILI",
         "47140",
         "Donor hepatectomy (including cold preservation), from living donor; left lateral segment only (segments II and III) ",
         "No Change"
        ],
        [
         "BILI",
         "47141",
         "Donor hepatectomy (including cold preservation), from living donor; total left lobectomy (segments II, III and IV) ",
         "No Change"
        ],
        [
         "BILI",
         "47142",
         "Donor hepatectomy (including cold preservation), from living donor; total right lobectomy (segments V, VI, VII and VIII) ",
         "No Change"
        ],
        [
         "BILI",
         "47300",
         "Marsupialization of cyst or abscess of liver ",
         "No Change"
        ],
        [
         "BILI",
         "47350",
         "Management of liver hemorrhage; simple suture of liver wound or injury ",
         "No Change"
        ],
        [
         "BILI",
         "47360",
         "Management of liver hemorrhage; complex suture of liver wound or injury, with or without hepatic artery ligatio",
         "No Change"
        ],
        [
         "BILI",
         "47361",
         "Management of liver hemorrhage; exploration of hepatic wound, extensive debridement, coagulation and/or suture, with or without packing of liver ",
         "No Change"
        ],
        [
         "BILI",
         "47362",
         "Management of liver hemorrhage; re-exploration of hepatic wound for removal of packing ",
         "No Change"
        ],
        [
         "BILI",
         "47370",
         "Laparoscopy, surgical, ablation of 1 or more liver tumor(s); radiofrequency ",
         "No Change"
        ],
        [
         "BILI",
         "47371",
         "Laparoscopy, surgical, ablation of 1 or more liver tumor(s); cryosurgical ",
         "No Change"
        ],
        [
         "BILI",
         "47379",
         "Unlisted laparoscopic procedure, liver ",
         "No Change"
        ],
        [
         "BILI",
         "47380",
         "Ablation, open, of 1 or more liver tumor(s); radiofrequency ",
         "No Change"
        ],
        [
         "BILI",
         "47381",
         "Ablation, open, of 1 or more liver tumor(s); cryosurgical ",
         "No Change"
        ],
        [
         "BILI",
         "47400",
         "Hepaticotomy or hepaticostomy with exploration, drainage, or removal of calculus ",
         "No Change"
        ],
        [
         "BILI",
         "47420",
         "Choledochotomy or choledochostomy with exploration, drainage, or removal of calculus, with or without cholecystotomy; without transduodenal sphincterotomy or sphincteroplasty ",
         "No Change"
        ],
        [
         "BILI",
         "47425",
         "Choledochotomy or choledochostomy with exploration, drainage, or removal of calculus, with or without cholecystotomy; with transduodenal sphincterotomy or sphincteroplasty ",
         "No Change"
        ],
        [
         "BILI",
         "47460",
         "Transduodenal sphincterotomy or sphincteroplasty, with or without transduodenal extraction of calculus (separate procedure) ",
         "No Change"
        ],
        [
         "BILI",
         "47700",
         "Exploration for congenital atresia of bile ducts, without repair, with or without liver biopsy, with or without cholangiography ",
         "No Change"
        ],
        [
         "BILI",
         "47701",
         "Portoenterostomy (eg, Kasai procedure) ",
         "No Change"
        ],
        [
         "BILI",
         "47711",
         "Excision of bile duct tumor, with or without primary repair of bile duct; extrahepatic ",
         "No Change"
        ],
        [
         "BILI",
         "47712",
         "Excision of bile duct tumor, with or without primary repair of bile duct; intrahepatic ",
         "No Change"
        ],
        [
         "BILI",
         "47715",
         "Excision of choledochal cyst ",
         "No Change"
        ],
        [
         "BILI",
         "47760",
         "Anastomosis, of extrahepatic biliary ducts and gastrointestinal tract ",
         "No Change"
        ],
        [
         "BILI",
         "47765",
         "Anastomosis, of intrahepatic ducts and gastrointestinal tract ",
         "No Change"
        ],
        [
         "BILI",
         "47780",
         "Anastomosis, Roux-en-Y, of extrahepatic biliary ducts and gastrointestinal tract ",
         "No Change"
        ],
        [
         "BILI",
         "47785",
         "Anastomosis, Roux-en-Y, of intrahepatic biliary ducts and gastrointestinal tract ",
         "No Change"
        ],
        [
         "BILI",
         "47800",
         "Reconstruction, plastic, of extrahepatic biliary ducts with end-to-end anastomosis ",
         "No Change"
        ],
        [
         "BILI",
         "47802",
         "U-tube hepaticoenterostomy ",
         "No Change"
        ],
        [
         "BILI",
         "47900",
         "Suture of extrahepatic biliary duct for pre-existing injury (separate procedure) ",
         "No Change"
        ],
        [
         "BILI",
         "48000",
         "Placement of drains, peripancreatic, for acute pancreatitis; ",
         "No Change"
        ],
        [
         "BILI",
         "48001",
         "Placement of drains, peripancreatic, for acute pancreatitis; with cholecystostomy, gastrostomy, and jejunostomy ",
         "No Change"
        ],
        [
         "BILI",
         "48020",
         "Removal of pancreatic calculus ",
         "No Change"
        ],
        [
         "BILI",
         "48100",
         "Biopsy of pancreas, open (eg, fine needle aspiration, needle core biopsy, wedge biopsy) ",
         "No Change"
        ],
        [
         "BILI",
         "48105",
         "Resection or debridement of pancreas and peripancreatic tissue for acute necrotizing pancreatitis ",
         "No Change"
        ],
        [
         "BILI",
         "48120",
         "Excision of lesion of pancreas (eg, cyst, adenoma) ",
         "No Change"
        ],
        [
         "BILI",
         "48140",
         "Pancreatectomy, distal subtotal, with or without splenectomy; without pancreaticojejunostomy ",
         "No Change"
        ],
        [
         "BILI",
         "48145",
         "Pancreatectomy, distal subtotal, with or without splenectomy; with pancreaticojejunostomy ",
         "No Change"
        ],
        [
         "BILI",
         "48146",
         "Pancreatectomy, distal, near-total with preservation of duodenum (Child-type procedure) ",
         "No Change"
        ],
        [
         "BILI",
         "48148",
         "Excision of ampulla of Vater ",
         "No Change"
        ],
        [
         "BILI",
         "48150",
         "Pancreatectomy, proximal subtotal with total duodenectomy, partial gastrectomy, choledochoenterostomy and gastrojejunostomy (Whipple-type procedure); with pancreatojejunostomy ",
         "No Change"
        ],
        [
         "BILI",
         "48152",
         "Pancreatectomy, proximal subtotal with total duodenectomy, partial gastrectomy, choledochoenterostomy and gastrojejunostomy (Whipple-type procedure); without pancreatojejunostomy ",
         "No Change"
        ],
        [
         "BILI",
         "48153",
         "Pancreatectomy, proximal subtotal with near-total duodenectomy, choledochoenterostomy and duodenojejunostomy (pylorus-sparing, Whipple-type procedure); with pancreatojejunostomy ",
         "No Change"
        ],
        [
         "BILI",
         "48154",
         "Pancreatectomy, proximal subtotal with near-total duodenectomy, choledochoenterostomy and duodenojejunostomy (pylorus-sparing, Whipple-type procedure); without pancreatojejunostomy ",
         "No Change"
        ],
        [
         "BILI",
         "48155",
         "Pancreatectomy, total ",
         "No Change"
        ],
        [
         "BILI",
         "48160",
         "Pancreatectomy, total or subtotal, with autologous transplantation of pancreas or pancreatic islet cells ",
         "No Change"
        ],
        [
         "BILI",
         "48500",
         "Marsupialization of pancreatic cyst ",
         "No Change"
        ],
        [
         "BILI",
         "48510",
         "External drainage, pseudocyst of pancreas; open ",
         "No Change"
        ],
        [
         "BILI",
         "48520",
         "Internal anastomosis of pancreatic cyst to gastrointestinal tract; direct ",
         "No Change"
        ],
        [
         "BILI",
         "48540",
         "Internal anastomosis of pancreatic cyst to gastrointestinal tract; Roux-en-Y ",
         "No Change"
        ],
        [
         "BILI",
         "48545",
         "Pancreatorrhaphy for injury ",
         "No Change"
        ],
        [
         "BILI",
         "48548",
         "Pancreaticojejunostomy, side-to-side anastomosis (Puestow-type operation) ",
         "No Change"
        ],
        [
         "BILI",
         "0585T",
         "Islet cell transplant, includes portal vein catheterization and infusion, including all imaging, including all guidance, and radiological supervision and interpretation, when performed; laparoscopic",
         "No change"
        ],
        [
         "BILI",
         "0586T",
         "Islet cell transplant, includes portal vein catheterization and infusion, including all imaging, including all guidance, and radiological supervision and interpretation, when performed; open",
         "No change"
        ],
        [
         "BRST",
         "11970",
         "Replacement of tissue expander(s) with permanent implant",
         "No Change"
        ],
        [
         "BRST",
         "19101",
         "Biopsy of breast; open, incisional",
         "No Change"
        ],
        [
         "BRST",
         "19105",
         "Ablation, cryosurgical, of fibroadenoma, including ultrasound guidance, each fibroadenoma",
         "No Change"
        ],
        [
         "BRST",
         "19110",
         "Nipple exploration, with or without excision of a solitary lactiferous duct or a papilloma lactiferous duct",
         "No Change"
        ],
        [
         "BRST",
         "19112",
         "Excision of lactiferous duct fistula",
         "No Change"
        ],
        [
         "BRST",
         "19120",
         "Excision of cyst, fibroadenoma, or other benign or malignant tumor, aberrant breast tissue, duct lesion, nipple or areolar lesion (except 19300), open, male or female, 1 or more lesions",
         "No Change"
        ],
        [
         "BRST",
         "19125",
         "Excision of breast lesion identified by pre-operative placement of radiological marker, open, single lesion ",
         "No Change"
        ],
        [
         "BRST",
         "19126",
         "Excision of breast lesion identified by pre-operative placement of radiological marker, open, single lesion; each No changeitional lesion separately identified by a preoperative radiological marker (list separately in No changeition to code for primary procedures) excision of breast lesion identified by pre-operative placement of radiological marker, open, single lesion",
         "No Change"
        ],
        [
         "BRST",
         "19300",
         "Mastectomy for gynecomastia",
         "No Change"
        ],
        [
         "BRST",
         "19301",
         "Mastectomy, partial (eg, lumpectomy, tylectomy, quadrantectomy, segmentectomy);",
         "No Change"
        ],
        [
         "BRST",
         "19302",
         "Mastectomy, partial (eg, lumpectomy, tylectomy, quadrantectomy, segmentectomy); with axillary lymphadenectomy",
         "No Change"
        ],
        [
         "BRST",
         "19303",
         "Mastectomy, simple, complete",
         "No Change"
        ],
        [
         "BRST",
         "19305",
         "Mastectomy, radical, including pectoral muscles, axillary lymph nodes",
         "No Change"
        ],
        [
         "BRST",
         "19306",
         "Mastectomy, radical, including pectoral muscles, axillary and internal mammary lymph nodes (Urban type operation)",
         "No Change"
        ],
        [
         "BRST",
         "19307",
         "Mastectomy, modified radical, including axillary lymph nodes, with or without pectoralis minor muscle, but excluding pectoralis major muscle",
         "No Change"
        ],
        [
         "BRST",
         "19316",
         "Mastopexy",
         "No Change"
        ],
        [
         "BRST",
         "19318",
         "Reduction mammaplasty",
         "No Change"
        ],
        [
         "BRST",
         "19324",
         "Mammaplasty, augmentation; without prosthetic implant",
         "No Change"
        ],
        [
         "BRST",
         "19325",
         "Mammaplasty, augmentation; with prosthetic implant",
         "No Change"
        ],
        [
         "BRST",
         "19328",
         "Removal of intact mammary implant",
         "No Change"
        ],
        [
         "BRST",
         "19330",
         "Removal of mammary implant material",
         "No Change"
        ],
        [
         "BRST",
         "19340",
         "Immediate insertion of breast prosthesis following mastopexy, mastectomy or in reconstruction",
         "No Change"
        ],
        [
         "BRST",
         "19342",
         "Delayed insertion of breast prosthesis following mastopexy, mastectomy or in reconstruction",
         "No Change"
        ],
        [
         "BRST",
         "19350",
         "Nipple/areola reconstruction",
         "No Change"
        ],
        [
         "BRST",
         "19355",
         "Correction of inverted nipples",
         "No Change"
        ],
        [
         "BRST",
         "19357",
         "Breast reconstruction, immediate or delayed, with tissue expander, including subsequent expansion",
         "No Change"
        ],
        [
         "BRST",
         "19361",
         "Breast reconstruction with latissimus dorsi flap, without prosthetic implant",
         "No Change"
        ],
        [
         "BRST",
         "19364",
         "Breast reconstruction with free flap",
         "No Change"
        ],
        [
         "BRST",
         "19366",
         "Breast reconstruction with other technique",
         "No Change"
        ],
        [
         "BRST",
         "19367",
         "Breast reconstruction with transverse rectus abdominis myocutaneous flap (TRAM), single pedicle, including closure of donor site;",
         "No Change"
        ],
        [
         "BRST",
         "19368",
         "Breast reconstruction with transverse rectus abdominis myocutaneous flap (TRAM), single pedicle, including closure of donor site; with microvascular anastomosis (supercharging)",
         "No Change"
        ],
        [
         "BRST",
         "19369",
         "Breast reconstruction with transverse rectus abdominis myocutaneous flap (TRAM), double pedicle, including closure of donor site",
         "No Change"
        ],
        [
         "BRST",
         "19370",
         "Open periprosthetic capsulotomy, breast",
         "No Change"
        ],
        [
         "BRST",
         "19371",
         "Periprosthetic capsulectomy, breast",
         "No Change"
        ],
        [
         "BRST",
         "19380",
         "Revision of reconstructed breast",
         "No Change"
        ],
        [
         "CARD",
         "32658",
         "Thoracoscopy, surgical; with removal of clot or foreign body from pericardial sac",
         "No Change"
        ],
        [
         "CARD",
         "32659",
         "Thoracoscopy, surgical; with creation of pericardial window or partial resection of pericardial sac for drainage",
         "No Change"
        ],
        [
         "CARD",
         "32661",
         "Thoracoscopy, surgical; with excision of pericardial cyst, tumor, or mass",
         "No Change"
        ],
        [
         "CARD",
         "33020",
         "Pericardiotomy for removal of clot or foreign body (primary procedure)",
         "No Change"
        ],
        [
         "CARD",
         "33025",
         "Creation of pericardial window or partial resection for drainage",
         "No Change"
        ],
        [
         "CARD",
         "33030",
         "Pericardiectomy, subtotal or complete; without cardiopulmonary bypass",
         "No Change"
        ],
        [
         "CARD",
         "33031",
         "Pericardiectomy, subtotal or complete; with cardiopulmonary bypass",
         "No Change"
        ],
        [
         "CARD",
         "33050",
         "Resection of pericardial cyst or tumor",
         "No Change"
        ],
        [
         "CARD",
         "33120",
         "Excision of intracardiac tumor, resection with cardiopulmonary bypass",
         "No Change"
        ],
        [
         "CARD",
         "33130",
         "Resection of external cardiac tumor",
         "No Change"
        ],
        [
         "CARD",
         "33250",
         "Operative ablation of supraventricular arrhythmogenic focus or pathway (eg, Wolff-Parkinson-White, atrioventricular node re-entry), tract(s) and/or focus (foci); without cardiopulmonary bypass",
         "No Change"
        ],
        [
         "CARD",
         "33251",
         "Operative ablation of supraventricular arrhythmogenic focus or pathway (eg, Wolff-Parkinson-White, atrioventricular node re-entry), tract(s) and/or focus (foci); with cardiopulmonary bypass",
         "No Change"
        ],
        [
         "CARD",
         "33254",
         "Operative tissue ablation and reconstruction of atria, limited (eg, modified maze procedure)",
         "No Change"
        ],
        [
         "CARD",
         "33255",
         "Operative tissue ablation and reconstruction of atria, extensive (eg, maze procedure); without cardiopulmonary bypass",
         "No Change"
        ],
        [
         "CARD",
         "33256",
         "Operative tissue ablation and reconstruction of atria, extensive (eg, maze procedure); with cardiopulmonary bypass",
         "No Change"
        ],
        [
         "CARD",
         "33257",
         "Operative tissue ablation and reconstruction of atria, performed at the time of other cardiac procedure(s), limited (eg, modified maze procedure) (List separately in No changeition to code for primary procedure)",
         "No Change"
        ],
        [
         "CARD",
         "33258",
         "Operative tissue ablation and reconstruction of atria, performed at the time of other cardiac procedure(s), extensive (eg, maze procedure), without cardiopulmonary bypass (List separately in No changeition to code for primary procedure)",
         "No Change"
        ],
        [
         "CARD",
         "33259",
         "Operative tissue ablation and reconstruction of atria, performed at the time of other cardiac procedure(s), extensive (eg, maze procedure), with cardiopulmonary bypass (List separately in No changeition to code for primary procedure)",
         "No Change"
        ],
        [
         "CARD",
         "33261",
         "Operative ablation of ventricular arrhythmogenic focus with cardiopulmonary bypass",
         "No Change"
        ],
        [
         "CARD",
         "33265",
         "Endoscopy, surgical; operative tissue ablation and reconstruction of atria, limited (eg, modified maze procedure), without cardiopulmonary bypass",
         "No Change"
        ],
        [
         "CARD",
         "33266",
         "Endoscopy, surgical; operative tissue ablation and reconstruction of atria, extensive (eg, maze procedure), without cardiopulmonary bypass ",
         "No Change"
        ],
        [
         "CARD",
         "33267",
         "Exclusion of left atrial appendage, open, any method (eg, excision, isolation via stapling, oversewing, ligation, plication, clip)",
         "No change"
        ],
        [
         "CARD",
         "33268",
         "Exclusion of left atrial appendage, open, performed at the time of other sternotomy or thoracotomy procedure(s), any method (eg, excision, isolation via stapling, oversewing, ligation, plication, clip) (List separately in addition to primary procedure)",
         "No change"
        ],
        [
         "CARD",
         "33269",
         "Exclusion of left atrial appendage, thoracoscopic, any method (eg, excision, isolation via stapling, oversewing, ligation, plication, clip)",
         "No change"
        ],
        [
         "CARD",
         "33300",
         "Repair of cardiac wound; without bypass ",
         "No Change"
        ],
        [
         "CARD",
         "33305",
         "Repair of cardiac wound; with cardiopulmonary bypass ",
         "No Change"
        ],
        [
         "CARD",
         "33310",
         "Cardiotomy, exploratory (includes removal of foreign body, atrial or ventricular thrombus); without bypass  ",
         "No Change"
        ],
        [
         "CARD",
         "33315",
         "Cardiotomy, exploratory (includes removal of foreign body, atrial or ventricular thrombus); with cardiopulmonary bypass ",
         "No Change"
        ],
        [
         "CARD",
         "33365",
         "Transcatheter aortic valve replacement (TAVR/TAVI) with prosthetic valve; transaortic approach (eg, median sternotomy, mediastinotomy)",
         "No Change"
        ],
        [
         "CARD",
         "33366",
         "Transcatheter aortic valve replacement (TAVR/TAVI) with prosthetic valve; transapical exposure (eg, left thoracotomy) ",
         "No Change"
        ],
        [
         "CARD",
         "33390",
         "Valvuloplasty, aortic valve, open, with cardiopulmonary bypass; simple (ie, valvotomy, debridement, debulking, and/or simple commissural resuspension)",
         "No Change"
        ],
        [
         "CARD",
         "33391",
         "Valvuloplasty, aortic valve, open, with cardiopulmonary bypass; complex (eg, leaflet extension, leaflet resection, leaflet reconstruction, or annuloplasty)",
         "No Change"
        ],
        [
         "CARD",
         "33404",
         "Construction of apical-aortic conduit",
         "No Change"
        ],
        [
         "CARD",
         "33405",
         "Replacement, aortic valve, open, with cardiopulmonary bypass; with prosthetic valve other than homograft or stentless valve ",
         "No Change"
        ],
        [
         "CARD",
         "33406",
         "Replacement, aortic valve, with cardiopulmonary bypass; with allograft valve (freehand)",
         "No Change"
        ],
        [
         "CARD",
         "33410",
         "Replacement, aortic valve, open, with cardiopulmonary bypass; with stentless tissue valve ",
         "No Change"
        ],
        [
         "CARD",
         "33411",
         "Replacement, aortic valve; with aortic annulus enlargement, noncoronary sinus ",
         "No Change"
        ],
        [
         "CARD",
         "33412",
         "Replacement, aortic valve; with transventricular aortic annulus enlargement (Konno procedure)",
         "No Change"
        ],
        [
         "CARD",
         "33413",
         "Replacement, aortic valve; by translocation of autologous pulmonary valve with allograft replacement of pulmonary valve (Ross procedure) ",
         "No Change"
        ],
        [
         "CARD",
         "33414",
         "Repair of left ventricular outflow tract obstruction by patch enlargement of the outflow tract ",
         "No Change"
        ],
        [
         "CARD",
         "33415",
         "Resection or incision of subvalvular tissue for discrete subvalvular aortic stenosis ",
         "No Change"
        ],
        [
         "CARD",
         "33416",
         "Ventriculomyotomy (-myectomy) for idiopathic hypertrophic subaortic stenosis (eg, asymmetric septal hypertrophy)",
         "No Change"
        ],
        [
         "CARD",
         "33417",
         "Aortoplasty (gusset) for supravalvular stenosis",
         "No Change"
        ],
        [
         "CARD",
         "33420",
         "Valvotomy, mitral valve; closed heart",
         "No Change"
        ],
        [
         "CARD",
         "33422",
         "Valvotomy, mitral valve; open heart, with cardiopulmonary bypass",
         "No Change"
        ],
        [
         "CARD",
         "33425",
         "Valvuloplasty, mitral valve, with cardiopulmonary bypass;",
         "No Change"
        ],
        [
         "CARD",
         "33426",
         "Valvuloplasty, mitral valve, with cardiopulmonary bypass; with prosthetic ring",
         "No Change"
        ],
        [
         "CARD",
         "33427",
         "Valvuloplasty, mitral valve, with cardiopulmonary bypass; radical reconstruction, with or without ring",
         "No Change"
        ],
        [
         "CARD",
         "33430",
         "Replacement, mitral valve, with cardiopulmonary bypass",
         "No Change"
        ],
        [
         "CARD",
         "33440",
         "Replacement of aortic valve by translocation of autologous pulmonary valve and transventricular aortic annulus enlargement of left ventricular outflow tract with valved conduit replacement of pulmonary valve",
         "No Change"
        ],
        [
         "CARD",
         "33460",
         "Valvectomy, tricuspid valve, with cardiopulmonary bypass",
         "No Change"
        ],
        [
         "CARD",
         "33463",
         "Valvuloplasty, tricuspid valve; without ring insertion ",
         "No Change"
        ],
        [
         "CARD",
         "33464",
         "Valvuloplasty, tricuspid valve; with ring insertion",
         "No Change"
        ],
        [
         "CARD",
         "33465",
         "Replacement, tricuspid valve, with cardiopulmonary bypass ",
         "No Change"
        ],
        [
         "CARD",
         "33468",
         "Tricuspid valve repositioning and plication for Ebstein anomaly",
         "No Change"
        ],
        [
         "CARD",
         "33471",
         "Valvotomy, pulmonary valve, closed heart; via pulmonary artery",
         "No Change"
        ],
        [
         "CARD",
         "33474",
         "Valvotomy, pulmonary valve, open heart, with cardiopulmonary bypass",
         "No Change"
        ],
        [
         "CARD",
         "33475",
         "Replacement, pulmonary valve ",
         "No Change"
        ],
        [
         "CARD",
         "33476",
         "Right ventricular resection for infundibular stenosis, with or without commissurotomy",
         "No Change"
        ],
        [
         "CARD",
         "33478",
         "Outflow tract augmentation (gusset), with or without commissurotomy or infundibular resection",
         "No Change"
        ],
        [
         "CARD",
         "33496",
         "Repair of non-structural prosthetic valve dysfunction with cardiopulmonary bypass (separate procedure)",
         "No Change"
        ],
        [
         "CARD",
         "33542",
         "Myocardial resection (eg, ventricular aneurysmectomy)",
         "No Change"
        ],
        [
         "CARD",
         "33545",
         "Repair of postinfarction ventricular septal defect, with or without myocardial resection ",
         "No Change"
        ],
        [
         "CARD",
         "33548",
         "Surgical ventricular restoration procedure, includes prosthetic patch, when performed (eg, ventricular remodeling, SVR, SAVER, Dor procedures)",
         "No Change"
        ],
        [
         "CARD",
         "33600",
         "Closure of atrioventricular valve (mitral or tricuspid) by suture or patch",
         "No Change"
        ],
        [
         "CARD",
         "33602",
         "Closure of semilunar valve (aortic or pulmonary) by suture or patch",
         "No Change"
        ],
        [
         "CARD",
         "33608",
         "Repair of complex cardiac anomaly other than pulmonary atresia with ventricular septal defect by construction or replacement of conduit from right or left ventricle to pulmonary artery ",
         "No Change"
        ],
        [
         "CARD",
         "33610",
         "Repair of complex cardiac anomalies (eg, single ventricle with subaortic obstruction) by surgical enlargement of ventricular septal defect",
         "No Change"
        ],
        [
         "CARD",
         "33611",
         "Repair of double outlet right ventricle with intraventricular tunnel repair; ",
         "No Change"
        ],
        [
         "CARD",
         "33612",
         "Repair of double outlet right ventricle with intraventricular tunnel repair; with repair of right ventricular outflow tract obstruction ",
         "No Change"
        ],
        [
         "CARD",
         "33615",
         "Repair of complex cardiac anomalies (eg, tricuspid atresia) by closure of atrial septal defect and anastomosis of atria or vena cava to pulmonary artery (simple Fontan procedure)",
         "No Change"
        ],
        [
         "CARD",
         "33617",
         "Repair of complex cardiac anomalies (e.g., single ventricle by modified Fontan)",
         "No Change"
        ],
        [
         "CARD",
         "33619",
         "Repair of single ventricle with aortic outflow obstruction and aortic arch hypoplasia (hypoplastic left heart syndrome) (eg, Norwood procedure)",
         "No Change"
        ],
        [
         "CARD",
         "33641",
         "Repair atrial septal defect, secundum, with cardiopulmonary bypass, with or without patch ",
         "No Change"
        ],
        [
         "CARD",
         "33645",
         "Direct or patch closure, sinus venosus, with or without anomalous pulmonary venous drainage ",
         "No Change"
        ],
        [
         "CARD",
         "33647",
         "Repair of atrial septal defect and ventricular septal defect, with direct or patch closure ",
         "No Change"
        ],
        [
         "CARD",
         "33660",
         "Repair of incomplete or partial atrioventricular canal (ostium primum atrial septal defect), with or without atrioventricular valve repair ",
         "No Change"
        ],
        [
         "CARD",
         "33665",
         "Repair of intermediate or transitional atrioventricular canal, with or without atrioventricular valve repair ",
         "No Change"
        ],
        [
         "CARD",
         "33670",
         "Repair of complete atrioventricular canal, with or without prosthetic valve ",
         "No Change"
        ],
        [
         "CARD",
         "33675",
         "Closure of multiple ventricular septal defects; ",
         "No Change"
        ],
        [
         "CARD",
         "33676",
         "Closure of multiple ventricular septal defects; with pulmonary valvotomy or infundibular resection (acyanotic) ",
         "No Change"
        ],
        [
         "CARD",
         "33677",
         "Closure of multiple ventricular septal defects; with removal of pulmonary artery band, with or without gusset ",
         "No Change"
        ],
        [
         "CARD",
         "33681",
         "Closure of single ventricular septal defect, with or without patch; ",
         "No Change"
        ],
        [
         "CARD",
         "33684",
         "Closure of single ventricular septal defect, with or without patch; with pulmonary valvotomy or infundibular resection (acyanotic) ",
         "No Change"
        ],
        [
         "CARD",
         "33688",
         "Closure of single ventricular septal defect, with or without patch; with removal of pulmonary artery band, with or without gusset ",
         "No Change"
        ],
        [
         "CARD",
         "33692",
         "Complete repair tetralogy of Fallot without pulmonary atresia;",
         "No Change"
        ],
        [
         "CARD",
         "33694",
         "Complete repair tetralogy of Fallot without pulmonary atresia; with transannular patch",
         "No Change"
        ],
        [
         "CARD",
         "33697",
         "Complete repair tetralogy of Fallot with pulmonary atresia including construction of conduit from right ventricle to pulmonary artery and closure of ventricular septal defect",
         "No Change"
        ],
        [
         "CARD",
         "33702",
         "Repair sinus of Valsalva fistula, with cardiopulmonary bypass; ",
         "No Change"
        ],
        [
         "CARD",
         "33710",
         "Repair sinus of Valsalva fistula, with cardiopulmonary bypass; with repair of ventricular septal defect ",
         "No Change"
        ],
        [
         "CARD",
         "33720",
         "Repair sinus of Valsalva aneurysm, with cardiopulmonary bypass ",
         "No Change"
        ],
        [
         "CARD",
         "33732",
         "Repair of cor triatriatum or supravalvular mitral ring by resection of left atrial membrane",
         "No Change"
        ],
        [
         "CARD",
         "33735",
         "Atrial septectomy or septostomy; closed heart (Blalock-Hanlon type operation) ",
         "No Change"
        ],
        [
         "CARD",
         "33736",
         "Atrial septectomy or septostomy; open heart with cardiopulmonary bypass ",
         "No Change"
        ],
        [
         "CARD",
         "33737",
         "Atrial septectomy or septostomy; open heart, with inflow occlusion ",
         "No Change"
        ],
        [
         "CARD",
         "33770",
         "Repair of transposition of the great arteries with ventricular septal defect and subpulmonary stenosis; without surgical enlargement of ventricular septal defect",
         "No Change"
        ],
        [
         "CARD",
         "33774",
         "Repair of transposition of the great arteries, atrial baffle procedure (eg, Mustard or Senning type) with cardiopulmonary bypass;",
         "No Change"
        ],
        [
         "CARD",
         "33776",
         "Repair of transposition of the great arteries, atrial baffle procedure (eg, Mustard or Senning type) with cardiopulmonary bypass; with closure of ventricular septal defect ",
         "No Change"
        ],
        [
         "CARD",
         "33780",
         "Repair of transposition of the great arteries, aortic pulmonary artery reconstruction (eg, Jatene type); with closure of ventricular septal defect ",
         "No Change"
        ],
        [
         "CARD",
         "33782",
         "Aortic root translocation with ventricular septal defect and pulmonary stenosis repair (ie, Nikaidoh procedure); without coronary ostium reimplantation ",
         "No Change"
        ],
        [
         "CARD",
         "33783",
         "Aortic root translocation with ventricular septal defect and pulmonary stenosis repair (ie, Nikaidoh procedure); with reimplantation of 1 or both coronary ostia ",
         "No Change"
        ],
        [
         "CARD",
         "33786",
         "Total repair, truncus arteriosus (Rastelli type operation)",
         "No Change"
        ],
        [
         "CARD",
         "33813",
         "Obliteration of aortopulmonary septal defect; without cardiopulmonary bypass ",
         "No Change"
        ],
        [
         "CARD",
         "33814",
         "Obliteration of aortopulmonary septal defect; with cardiopulmonary bypass ",
         "No Change"
        ],
        [
         "CARD",
         "33920",
         "Repair of pulmonary atresia with ventricular septal defect, by construction or replacement of conduit from right or left ventricle to pulmonary artery",
         "No Change"
        ],
        [
         "CARD",
         "33975",
         "Insertion of ventricular assist device; extracorporeal, single ventricle",
         "No change"
        ],
        [
         "CARD",
         "33976",
         "Insertion of ventricular assist device; extracorporeal, biventricle",
         "No change"
        ],
        [
         "CARD",
         "33977",
         "Removal of ventricular assist device; extracorporeal, single ventricle",
         "No change"
        ],
        [
         "CARD",
         "33978",
         "Removal of ventricular assist device; extracorporeal, biventricle",
         "No change"
        ],
        [
         "CARD",
         "33979",
         "Insertion of ventricular assist device; implantable intracorporeal, single ventricle",
         "No change"
        ],
        [
         "CARD",
         "33980",
         "Removal of ventricular assist device; implantable intracorporeal, single ventricle",
         "No change"
        ],
        [
         "CARD",
         "0051T",
         "Implantation of a total replacement heart system (artificial heart) with recipient cardiectomy ",
         "No change"
        ],
        [
         "CARD",
         "0052T",
         "Replacement or repair of implantable component or components of total replacement heart system (artificial heart), thoracic unit ",
         "No change"
        ],
        [
         "CARD",
         "0053T",
         "Replacement or repair of implantable component or components of total replacement heart system (artificial heart), excluding thoracic unit ",
         "No change"
        ],
        [
         "CBGB",
         "33509",
         "Endoscopic harvest of single upper extremity artery segment for coronary artery bypass procedure",
         "No change"
        ],
        [
         "CBGB",
         "33510",
         "Coronary artery bypass, vein only; single coronary venous graft",
         "No Change"
        ],
        [
         "CBGB",
         "33511",
         "Coronary artery bypass, vein only; 2 coronary venous grafts",
         "No Change"
        ],
        [
         "CBGB",
         "33512",
         "Coronary artery bypass, vein only; 3 coronary venous grafts",
         "No Change"
        ],
        [
         "CBGB",
         "33513",
         "Coronary artery bypass, vein only; 4 coronary venous grafts",
         "No Change"
        ],
        [
         "CBGB",
         "33514",
         "Coronary artery bypass, vein only; 5 coronary venous grafts",
         "No Change"
        ],
        [
         "CBGB",
         "33516",
         "Coronary artery bypass, vein only; 6 or more coronary venous grafts",
         "No Change"
        ],
        [
         "CBGB",
         "35600",
         "Harvest of upper extremity artery, 1 segment, for coronary artery bypass procedure, open",
         "No change"
        ],
        [
         "CBGC",
         "33533",
         "Coronary artery bypass, using arterial graft(s); single arterial graft",
         "No Change"
        ],
        [
         "CBGC",
         "33534",
         "Coronary artery bypass, using arterial graft(s); 2 coronary arterial grafts",
         "No Change"
        ],
        [
         "CBGC",
         "33535",
         "Coronary artery bypass, using arterial graft(s); 3 coronary arterial grafts",
         "No Change"
        ],
        [
         "CBGC",
         "33536",
         "Coronary artery bypass, using arterial graft(s);  4 or more coronary arterial grafts",
         "No Change"
        ],
        [
         "CEA",
         "35301",
         "Thromboendarterectomy, including patch graft, if performed; carotid, vertebral, subclavian, by neck incision",
         "No Change"
        ],
        [
         "CEA",
         "35390",
         "Reoperation, carotid, thromboendarterectomy, more than 1 month after original operation (List separately in No changeition to code for primary procedure)",
         "No Change"
        ],
        [
         "CHOL",
         "47480",
         "Cholecystotomy or cholecystostomy, open, with exploration, drainage, or removal of calculus (separate procedure)",
         "No Change"
        ],
        [
         "CHOL",
         "47562",
         "Laparoscopy, surgical; cholecystectomy",
         "No Change"
        ],
        [
         "CHOL",
         "47563",
         "Laparoscopy, surgical; cholecystectomy with cholangiography",
         "No Change"
        ],
        [
         "CHOL",
         "47564",
         "Laparoscopy, surgical; cholecystectomy with exploration of common duct ",
         "No Change"
        ],
        [
         "CHOL",
         "47570",
         "Laparoscopy, surgical; cholecystoenterostomy ",
         "No Change"
        ],
        [
         "CHOL",
         "47600",
         "Cholecystectomy;",
         "No Change"
        ],
        [
         "CHOL",
         "47605",
         "Cholecystectomy; with cholangiography",
         "No Change"
        ],
        [
         "CHOL",
         "47610",
         "Cholecystectomy with exploration of common duct; ",
         "No Change"
        ],
        [
         "CHOL",
         "47612",
         "Cholecystectomy with exploration of common duct; with choledochoenterostomy ",
         "No Change"
        ],
        [
         "CHOL",
         "47620",
         "Cholecystectomy with exploration of common duct; with transduodenal sphincterotomy or sphincteroplasty, with or without cholangiography ",
         "No Change"
        ],
        [
         "CHOL",
         "47720",
         "Cholecystoenterostomy; direct ",
         "No Change"
        ],
        [
         "CHOL",
         "47721",
         "Cholecystoenterostomy; with gastroenterostomy ",
         "No Change"
        ],
        [
         "CHOL",
         "47740",
         "Cholecystoenterostomy; Roux-en-Y ",
         "No Change"
        ],
        [
         "CHOL",
         "47741",
         "Cholecystoenterostomy; Roux-en-Y with gastroenterostomy ",
         "No Change"
        ],
        [
         "COLO",
         "44025",
         "Colotomy, for exploration, biopsy(s), or foreign body removal",
         "No Change"
        ],
        [
         "COLO",
         "44110",
         "Excision of 1 or more lesions of small or large intestine not requiring anastomosis, exteriorization, or fistulization; single enterotomy",
         "No Change"
        ],
        [
         "COLO",
         "44111",
         "Excision of 1 or more lesions of small or large intestine not requiring anastomosis, exteriorization, or fistulization; multiple enterotomies",
         "No Change"
        ],
        [
         "COLO",
         "44137",
         "Removal of transplanted intestinal allograft, complete",
         "No Change"
        ],
        [
         "COLO",
         "44140",
         "Colectomy, partial; with anastomosis",
         "No Change"
        ],
        [
         "COLO",
         "44141",
         "Colectomy, partial; with skin level cecostomy or colostomy",
         "No Change"
        ],
        [
         "COLO",
         "44143",
         "Colectomy, partial; with end colostomy and closure of distal segment (Hartmann type procedure)",
         "No Change"
        ],
        [
         "COLO",
         "44144",
         "Colectomy, partial; with resection, with colostomy or ileostomy and creation of mucofistula",
         "No Change"
        ],
        [
         "COLO",
         "44145",
         "Colectomy, partial; with coloproctostomy (low pelvic anastomosis)",
         "No Change"
        ],
        [
         "COLO",
         "44146",
         "Colectomy, partial; with coloproctostomy (low pelvic anastomosis), with colostomy",
         "No Change"
        ],
        [
         "COLO",
         "44147",
         "Colectomy, partial; abdominal and transanal approach",
         "No Change"
        ],
        [
         "COLO",
         "44150",
         "Colectomy, total, abdominal, without proctectomy; with ileostomy or ileoproctostomy",
         "No Change"
        ],
        [
         "COLO",
         "44151",
         "Colectomy, total, abdominal, without proctectomy; with continent ileostomy",
         "No Change"
        ],
        [
         "COLO",
         "44155",
         "Colectomy, total, abdominal, with proctectomy; with ileostomy",
         "No Change"
        ],
        [
         "COLO",
         "44156",
         "Colectomy, total, abdominal, with proctectomy; with continent ileostomy",
         "No Change"
        ],
        [
         "COLO",
         "44157",
         "Colectomy, total, abdominal, with proctectomy; with ileoanal anastomosis, includes loop ileostomy, and rectal mucosectomy, when performed",
         "No Change"
        ],
        [
         "COLO",
         "44158",
         "Colectomy, total, abdominal, with proctectomy; with ileoanal anastomosis, creation of ileal reservoir (S or J), includes loop ileostomy, and rectal mucosectomy, when performed",
         "No Change"
        ],
        [
         "COLO",
         "44160",
         "Colectomy, partial, with removal of terminal ileum with ileocolostomy",
         "No Change"
        ],
        [
         "COLO",
         "44188",
         "Laparoscopy, surgical, colostomy or skin level cecostomy",
         "No Change"
        ],
        [
         "COLO",
         "44204",
         "Laparoscopy, surgical; colectomy, partial, with anastomosis",
         "No Change"
        ],
        [
         "COLO",
         "44205",
         "Laparoscopy, surgical; colectomy, partial, with removal of terminal ileum with ileocolostomy",
         "No Change"
        ],
        [
         "COLO",
         "44206",
         "Laparoscopy, surgical; colectomy, partial, with end colostomy and closure of distal segment (Hartmann type procedure)",
         "No Change"
        ],
        [
         "COLO",
         "44207",
         "Laparoscopy, surgical; colectomy, partial, with anastomosis, with coloproctostomy (low pelvic anastomosis)",
         "No Change"
        ],
        [
         "COLO",
         "44208",
         "Laparoscopy, surgical; colectomy, partial, with anastomosis, with coloproctostomy (low pelvic anastomosis) with colostomy",
         "No Change"
        ],
        [
         "COLO",
         "44210",
         "Laparoscopy, surgical; colectomy, total, abdominal, without proctectomy, with ileostomy or ileoproctostomy",
         "No Change"
        ],
        [
         "COLO",
         "44211",
         "Laparoscopy, surgical; colectomy, total, abdominal, with proctectomy, with ileoanal anastomosis, creation of ileal reservoir (S or J), with loop ileostomy, includes rectal mucosectomy, when performed",
         "No Change"
        ],
        [
         "COLO",
         "44212",
         "Laparoscopy, surgical; colectomy, total, abdominal, with proctectomy, with ileostomy",
         "No Change"
        ],
        [
         "COLO",
         "44213",
         "Laparoscopy, surgical, mobilization (take-down) of splenic flexure performed in conjunction with partial colectomy (List separately in No changeition to primary procedure)",
         "No Change"
        ],
        [
         "COLO",
         "44227",
         "Laparoscopy, surgical, closure of enterostomy, large or small intestine, with resection and anastomosis",
         "No Change"
        ],
        [
         "COLO",
         "44320",
         "Colostomy or skin level cecostomy;",
         "No Change"
        ],
        [
         "COLO",
         "44322",
         "Colostomy or skin level cecostomy; with multiple biopsies (eg, for congenital megacolon) (separate procedure)",
         "No Change"
        ],
        [
         "COLO",
         "44340",
         "Revision of colostomy; simple (release of superficial scar) (separate procedure)",
         "No Change"
        ],
        [
         "COLO",
         "44345",
         "Revision of colostomy; complicated (reconstruction in-depth) (separate procedure)",
         "No Change"
        ],
        [
         "COLO",
         "44346",
         "Revision of colostomy; with repair of paracolostomy hernia (separate procedure)",
         "No Change"
        ],
        [
         "COLO",
         "44604",
         "Suture of large intestine (colorrhaphy) for perforated ulcer, diverticulum, wound, injury or rupture (single or multiple perforations); without colostomy",
         "No Change"
        ],
        [
         "COLO",
         "44605",
         "Suture of large intestine (colorrhaphy) for perforated ulcer, diverticulum, wound, injury or rupture (single or multiple perforations); with colostomy",
         "No Change"
        ],
        [
         "COLO",
         "44620",
         "Closure of enterostomy, large or small intestine",
         "No Change"
        ],
        [
         "COLO",
         "44625",
         "Closure of enterostomy, large or small intestine; with resection and anastomosis other than colorectal",
         "No Change"
        ],
        [
         "COLO",
         "44626",
         "Closure of enterostomy, large or small intestine; with resection and colorectal anastomosis (eg, closure of Hartmann type procedure)",
         "No Change"
        ],
        [
         "CRAN",
         "61105",
         "Twist drill hole for subdural or ventricular puncture",
         "No Change"
        ],
        [
         "CRAN",
         "61107",
         "Twist drill hole(s) for subdural, intracerebral, or ventricular puncture; for implanting ventricular catheter, pressure recording device, or other intracerebral monitoring device",
         "No Change"
        ],
        [
         "CRAN",
         "61108",
         "Twist drill hole(s) for subdural, intracerebral, or ventricular puncture; for evacuation and/or drainage of subdural hematoma",
         "No Change"
        ],
        [
         "CRAN",
         "61120",
         "Burr hole(s) for ventricular puncture (including injection of gas, contrast media, dye, or radioactive material)",
         "No Change"
        ],
        [
         "CRAN",
         "61140",
         "Burr hole(s) or trephine; with biopsy of brain or intracranial lesion",
         "No Change"
        ],
        [
         "CRAN",
         "61150",
         "Burr hole(s) or trephine; with drainage of brain abscess or cyst",
         "No Change"
        ],
        [
         "CRAN",
         "61151",
         "Burr hole(s) or trephine; with subsequent tapping (aspiration) of intracranial abscess or cyst",
         "No Change"
        ],
        [
         "CRAN",
         "61154",
         "Burr hole(s) with evacuation and/or drainage of hematoma, extradural or subdural",
         "No Change"
        ],
        [
         "CRAN",
         "61156",
         "Burr hole(s); with aspiration of hematoma or cyst, intracerebral",
         "No Change"
        ],
        [
         "CRAN",
         "61210",
         "Burr hole(s); for implanting ventricular catheter, reservoir, EEG electrode(s), pressure recording device, or other cerebral monitoring device (separate procedure)",
         "No Change"
        ],
        [
         "CRAN",
         "61250",
         "Burr hole(s) or trephine, supratentorial, exploratory, not followed by other surgery",
         "No Change"
        ],
        [
         "CRAN",
         "61253",
         "Burr hole(s) or trephine, infratentorial, unilateral or bilateral",
         "No Change"
        ],
        [
         "CRAN",
         "61304",
         "Craniectomy or craniotomy, exploratory; supratentorial",
         "No Change"
        ],
        [
         "CRAN",
         "61305",
         "Craniectomy or craniotomy, exploratory; infratentorial (posterior fossa)",
         "No Change"
        ],
        [
         "CRAN",
         "61312",
         "Craniectomy or craniotomy for evacuation of hematoma, supratentorial; extradural or subdural",
         "No Change"
        ],
        [
         "CRAN",
         "61313",
         "Craniectomy or craniotomy for evacuation of hematoma, supratentorial; intracerebral",
         "No Change"
        ],
        [
         "CRAN",
         "61314",
         "Craniectomy or craniotomy for evacuation of hematoma, infratentorial; extradural or subdural",
         "No Change"
        ],
        [
         "CRAN",
         "61315",
         "Craniectomy or craniotomy for evacuation of hematoma, infratentorial; intracerebellar",
         "No Change"
        ],
        [
         "CRAN",
         "61320",
         "Craniectomy or craniotomy, drainage of intracranial abscess; supratentorial",
         "No Change"
        ],
        [
         "CRAN",
         "61321",
         "Craniectomy or craniotomy, drainage of intracranial abscess; infratentorial",
         "No Change"
        ],
        [
         "CRAN",
         "61322",
         "Craniectomy or craniotomy, decompressive, with or without duraplasty, for treatment of intracranial hypertension, without evacuation of associated intraparenchymal hematoma; without lobectomy",
         "No Change"
        ],
        [
         "CRAN",
         "61323",
         "Craniectomy or craniotomy, decompressive, with or without duraplasty, for treatment of intracranial hypertension, without evacuation of associated intraparenchymal hematoma; with lobectomy",
         "No Change"
        ],
        [
         "CRAN",
         "61330",
         "Decompression of orbit only, transcranial approach",
         "No Change"
        ],
        [
         "CRAN",
         "61333",
         "Exploration of orbit (transcranial approach); with removal of lesion",
         "No Change"
        ],
        [
         "CRAN",
         "61340",
         "Subtemporal cranial decompression (pseudotumor cerebri, slit ventricle syndrome)",
         "No Change"
        ],
        [
         "CRAN",
         "61343",
         "Craniectomy, suboccipital with cervical laminectomy for decompression of medulla and spinal cord, with or without dural graft (eg, Arnold-Chiari malformation)",
         "No Change"
        ],
        [
         "CRAN",
         "61345",
         "Other cranial decompression, posterior fossa",
         "No Change"
        ],
        [
         "CRAN",
         "61458",
         "Craniectomy, suboccipital; for exploration or decompression of cranial nerves",
         "No Change"
        ],
        [
         "CRAN",
         "61460",
         "for section of 1 or more cranial nerves",
         "No Change"
        ],
        [
         "CRAN",
         "61510",
         "Craniectomy, trephination, bone flap craniotomy; for excision of brain tumor, supratentorial, except meningioma",
         "No Change"
        ],
        [
         "CRAN",
         "61512",
         "Craniectomy, trephination, bone flap craniotomy; for excision of meningioma, supratentorial",
         "No Change"
        ],
        [
         "CRAN",
         "61514",
         "Craniectomy, trephination, bone flap craniotomy; for excision of brain abscess, supratentorial",
         "No Change"
        ],
        [
         "CRAN",
         "61516",
         "Craniectomy, trephination, bone flap craniotomy; for excision or fenestration of cyst, supratentorial",
         "No Change"
        ],
        [
         "CRAN",
         "61518",
         "Craniectomy for excision of brain tumor, infratentorial or posterior fossa; except meningioma, cerebellopontine angle tumor, or midline tumor at base of skull",
         "No Change"
        ],
        [
         "CRAN",
         "61519",
         "Craniectomy for excision of brain tumor, infratentorial or posterior fossa; meningioma",
         "No Change"
        ],
        [
         "CRAN",
         "61520",
         "Craniectomy for excision of brain tumor, infratentorial or posterior fossa; cerebellopontine angle tumor",
         "No Change"
        ],
        [
         "CRAN",
         "61521",
         "Craniectomy for excision of brain tumor, infratentorial or posterior fossa; midline tumor at base of skull",
         "No Change"
        ],
        [
         "CRAN",
         "61522",
         "Craniectomy, infratentorial or posterior fossa; for excision of brain abscess",
         "No Change"
        ],
        [
         "CRAN",
         "61524",
         "Craniectomy, infratentorial or posterior fossa; for excision or fenestration of cyst",
         "No Change"
        ],
        [
         "CRAN",
         "61526",
         "Craniectomy, bone flap craniotomy, transtemporal (mastoid) for excision of cerebellopontine angle tumor;",
         "No Change"
        ],
        [
         "CRAN",
         "61530",
         "Craniectomy, bone flap craniotomy, transtemporal (mastoid) for excision of cerebellopontine angle tumor; combined with middle/posterior fossa craniotomy/craniectomy",
         "No Change"
        ],
        [
         "CRAN",
         "61531",
         "Subdural implantation of strip electrodes through 1 or more burr or trephine hole(s) for long-term seizure monitoring",
         "No Change"
        ],
        [
         "CRAN",
         "61533",
         "Craniotomy with elevation of bone flap; for subdural implantation of an electrode array, for long-term seizure monitoring",
         "No Change"
        ],
        [
         "CRAN",
         "61534",
         "Craniotomy with elevation of bone flap; for excision of epileptogenic focus without electrocorticography during surgery",
         "No Change"
        ],
        [
         "CRAN",
         "61535",
         "Craniotomy with elevation of bone flap; for removal of epidural or subdural electrode array, without excision of cerebral tissue (separate procedure)",
         "No Change"
        ],
        [
         "CRAN",
         "61536",
         "Craniotomy with elevation of bone flap; for excision of cerebral epileptogenic focus, with electrocorticography during surgery (includes removal of electrode array)",
         "No Change"
        ],
        [
         "CRAN",
         "61537",
         "Craniotomy with elevation of bone flap; for lobectomy, temporal lobe, without electrocorticography during surgery",
         "No Change"
        ],
        [
         "CRAN",
         "61538",
         "Craniotomy with elevation of bone flap; for lobectomy, temporal lobe, with electrocorticography during surgery",
         "No Change"
        ],
        [
         "CRAN",
         "61539",
         "Craniotomy with elevation of bone flap; for lobectomy, other than temporal lobe, partial or total, with electrocorticography during surgery",
         "No Change"
        ],
        [
         "CRAN",
         "61540",
         "Craniotomy with elevation of bone flap; for lobectomy, other than temporal lobe, partial or total, without electrocorticography during surgery",
         "No Change"
        ],
        [
         "CRAN",
         "61541",
         "Craniotomy with elevation of bone flap; for transection of corpus callosum",
         "No Change"
        ],
        [
         "CRAN",
         "61543",
         "Craniotomy with elevation of bone flap; for partial or subtotal (functional) hemispherectomy",
         "No Change"
        ],
        [
         "CRAN",
         "61544",
         "Craniotomy with elevation of bone flap; for excision or coagulation of choroid plexus",
         "No Change"
        ],
        [
         "CRAN",
         "61545",
         "Craniotomy with elevation of bone flap; for excision of craniopharyngioma",
         "No Change"
        ],
        [
         "CRAN",
         "61546",
         "Craniotomy for hypophysectomy or excision of pituitary tumor, intracranial approach",
         "No Change"
        ],
        [
         "CRAN",
         "61548",
         "Hypophysectomy or excision of pituitary tumor, transnasal or transseptal approach, nonstereotactic",
         "No Change"
        ],
        [
         "CRAN",
         "61566",
         "Craniotomy with elevation of bone flap; for selective amygdalohippocampectomy",
         "No Change"
        ],
        [
         "CRAN",
         "61567",
         "Craniotomy with elevation of bone flap; for multiple subpial transections, with electrocorticography during surgery",
         "No Change"
        ],
        [
         "CRAN",
         "61570",
         "Craniectomy or craniotomy; with excision of foreign body from brain",
         "No Change"
        ],
        [
         "CRAN",
         "61571",
         "Craniectomy or craniotomy; with treatment of penetrating wound of brain",
         "No Change"
        ],
        [
         "CRAN",
         "61575",
         "Transoral approach to skull base, brain stem or upper spinal cord for biopsy, decompression or excision of lesion;",
         "No Change"
        ],
        [
         "CRAN",
         "61576",
         "Transoral approach to skull base, brain stem or upper spinal cord for biopsy, decompression or excision of lesion; requiring splitting of tongue and/or mandible (including tracheostomy)",
         "No Change"
        ],
        [
         "CRAN",
         "61580",
         "Craniofacial approach to anterior cranial fossa; extradural, including lateral rhinotomy, ethmoidectomy, sphenoidectomy, without maxillectomy or orbital exenteration",
         "No Change"
        ],
        [
         "CRAN",
         "61581",
         "Craniofacial approach to anterior cranial fossa; extradural, including lateral rhinotomy, orbital exenteration, ethmoidectomy, sphenoidectomy and/or maxillectomy",
         "No Change"
        ],
        [
         "CRAN",
         "61582",
         "Craniofacial approach to anterior cranial fossa; extradural, including unilateral or bifrontal craniotomy, elevation of frontal lobe(s), osteotomy of base of anterior cranial fossa",
         "No Change"
        ],
        [
         "CRAN",
         "61583",
         "Craniofacial approach to anterior cranial fossa; intradural, including unilateral or bifrontal craniotomy, elevation or resection of frontal lobe, osteotomy of base of anterior cranial fossa",
         "No Change"
        ],
        [
         "CRAN",
         "61584",
         "Orbitocranial approach to anterior cranial fossa, extradural, including supraorbital ridge osteotomy and elevation of frontal and/or temporal lobe(s); without orbital exenteration",
         "No Change"
        ],
        [
         "CRAN",
         "61585",
         "Orbitocranial approach to anterior cranial fossa, extradural, including supraorbital ridge osteotomy and elevation of frontal and/or temporal lobe(s); with orbital exenteration",
         "No Change"
        ],
        [
         "CRAN",
         "61586",
         "Bicoronal, transzygomatic and/or LeFort I osteotomy approach to anterior cranial fossa with or without internal fixation, without bone graft",
         "No Change"
        ],
        [
         "CRAN",
         "61590",
         "Infratemporal pre-auricular approach to middle cranial fossa (parapharyngeal space, infratemporal and midline skull base, nasopharynx), with or without disarticulation of the mandible, including parotidectomy, craniotomy, decompression and/or mobilization",
         "No Change"
        ],
        [
         "CRAN",
         "61591",
         "Infratemporal post-auricular approach to middle cranial fossa (internal auditory meatus, petrous apex, tentorium, cavernous sinus, parasellar area, infratemporal fossa) including mastoidectomy, resection of sigmoid sinus, with or without decompression and",
         "No Change"
        ],
        [
         "CRAN",
         "61592",
         "Orbitocranial zygomatic approach to middle cranial fossa (cavernous sinus and carotid artery, clivus, basilar artery or petrous apex) including osteotomy of zygoma, craniotomy, extra- or intradural elevation of temporal lobe",
         "No Change"
        ],
        [
         "CRAN",
         "61595",
         "Transtemporal approach to posterior cranial fossa, jugular foramen or midline skull base, including mastoidectomy, decompression of sigmoid sinus and/or facial nerve, with or without mobilization",
         "No Change"
        ],
        [
         "CRAN",
         "61598",
         "Transpetrosal approach to posterior cranial fossa, clivus or foramen magnum, including ligation of superior petrosal sinus and/or sigmoid sinus",
         "No Change"
        ],
        [
         "CRAN",
         "61600",
         "Resection or excision of neoplastic, vascular or infectious lesion of base of anterior cranial fossa; extradural",
         "No Change"
        ],
        [
         "CRAN",
         "61601",
         "Resection or excision of neoplastic, vascular or infectious lesion of base of anterior cranial fossa; intradural, including dural repair, with or without graft",
         "No Change"
        ],
        [
         "CRAN",
         "61605",
         "Resection or excision of neoplastic, vascular or infectious lesion of infratemporal fossa, parapharyngeal space, petrous apex; extradural",
         "No Change"
        ],
        [
         "CRAN",
         "61606",
         "Resection or excision of neoplastic, vascular or infectious lesion of infratemporal fossa, parapharyngeal space, petrous apex; intradural, including dural repair, with or without graft",
         "No Change"
        ],
        [
         "CRAN",
         "61607",
         "Resection or excision of neoplastic, vascular or infectious lesion of parasellar area, cavernous sinus, clivus or midline skull base; extradural",
         "No Change"
        ],
        [
         "CRAN",
         "61608",
         "Resection or excision of neoplastic, vascular or infectious lesion of parasellar area, cavernous sinus, clivus or midline skull base; intradural, including dural repair, with or without graft",
         "No Change"
        ],
        [
         "CRAN",
         "61615",
         "Resection or excision of neoplastic, vascular or infectious lesion of base of posterior cranial fossa, jugular foramen, foramen magnum, or C1-C3 vertebral bodies; extradural",
         "No Change"
        ],
        [
         "CRAN",
         "61616",
         "Resection or excision of neoplastic, vascular or infectious lesion of base of posterior cranial fossa, jugular foramen, foramen magnum, or C1-C3 vertebral bodies; intradural, including dural repair, with or without graft",
         "No Change"
        ],
        [
         "CRAN",
         "61618",
         "Secondary repair of dura for cerebrospinal fluid leak, anterior, middle or posterior cranial fossa following surgery of the skull base; by free tissue graft (eg, pericranium, fascia, tensor fascia lata, adipose tissue, homologous or synthetic grafts)",
         "No Change"
        ],
        [
         "CRAN",
         "61619",
         "Secondary repair of dura for cerebrospinal fluid leak, anterior, middle or posterior cranial fossa following surgery of the skull base; by local or regionalized vascularized pedicle flap or myocutaneous flap (including galea, temporalis, frontalis or occi",
         "No Change"
        ],
        [
         "CRAN",
         "61680",
         "Surgery of intracranial arteriovenous malformation; supratentorial, simple",
         "No Change"
        ],
        [
         "CRAN",
         "61682",
         "Surgery of intracranial arteriovenous malformation; supratentorial, complex",
         "No Change"
        ],
        [
         "CRAN",
         "61684",
         "Surgery of intracranial arteriovenous malformation; infratentorial, simple",
         "No Change"
        ],
        [
         "CRAN",
         "61686",
         "Surgery of intracranial arteriovenous malformation; infratentorial, complex",
         "No Change"
        ],
        [
         "CRAN",
         "61690",
         "Surgery of intracranial arteriovenous malformation; dural, simple",
         "No Change"
        ],
        [
         "CRAN",
         "61692",
         "Surgery of intracranial arteriovenous malformation; dural, complex",
         "No Change"
        ],
        [
         "CRAN",
         "61697",
         "Surgery of complex intracranial aneurysm, intracranial approach; carotid circulation",
         "No Change"
        ],
        [
         "CRAN",
         "61698",
         "Surgery of complex intracranial aneurysm, intracranial approach; vertebrobasilar circulation",
         "No Change"
        ],
        [
         "CRAN",
         "61700",
         "Surgery of simple intracranial aneurysm, intracranial approach; carotid circulation",
         "No Change"
        ],
        [
         "CRAN",
         "61702",
         "Surgery of simple intracranial aneurysm, intracranial approach; vertebrobasilar circulation",
         "No Change"
        ],
        [
         "CRAN",
         "61703",
         "Surgery of intracranial aneurysm, cervical approach by application of occluding clamp to cervical carotid artery (Selverstone-Crutchfield type)",
         "No Change"
        ],
        [
         "CRAN",
         "61705",
         "Surgery of aneurysm, vascular malformation or carotid-cavernous fistula; by intracranial and cervical occlusion of carotid artery",
         "No Change"
        ],
        [
         "CRAN",
         "61708",
         "Surgery of aneurysm, vascular malformation or carotid-cavernous fistula; by intracranial electrothrombosis",
         "No Change"
        ],
        [
         "CRAN",
         "61710",
         "Surgery of aneurysm, vascular malformation or carotid-cavernous fistula; by intra-arterial embolization, injection procedure, or balloon catheter",
         "No Change"
        ],
        [
         "CRAN",
         "61711",
         "Anastomosis, arterial, extracranial-intracranial (eg, middle cerebral/cortical) arteries",
         "No Change"
        ],
        [
         "CRAN",
         "61720",
         "Creation of lesion by stereotactic method, including burr hole(s) and localizing and recording techniques, single or multiple stages; globus pallidus or thalamus",
         "No Change"
        ],
        [
         "CRAN",
         "61735",
         "Creation of lesion by stereotactic method, including burr hole(s) and localizing and recording techniques, single or multiple stages; subcortical structure(s) other than globus pallidus or thalamus",
         "No Change"
        ],
        [
         "CRAN",
         "61736",
         "Single-trajectory laser interstitial thermal therapy (LITT) of 1 simple intracranial lesion, including burr hole, with magnetic resonance imaging guidance",
         "No change"
        ],
        [
         "CRAN",
         "61737",
         "Multiple-trajectory laser interstitial thermal therapy (LITT) of complex intracranial lesion, including burr hole",
         "No change"
        ],
        [
         "CRAN",
         "61750",
         "Stereotactic biopsy, aspiration, or excision, including burr hole(s), for intracranial lesion",
         "No Change"
        ],
        [
         "CRAN",
         "61751",
         "Stereotactic biopsy, aspiration, or excision, including burr hole(s), for intracranial lesion; with computed tomography and/or magnetic resonance guidance",
         "No Change"
        ],
        [
         "CRAN",
         "61760",
         "Stereotactic implantation of depth electrodes into the cerebrum for long-term seizure monitoring",
         "No Change"
        ],
        [
         "CRAN",
         "61770",
         "Stereotactic localization, including burr hole(s), with insertion of catheter(s) or probe(s) for placement of radiation source",
         "No Change"
        ],
        [
         "CRAN",
         "61850",
         "Twist drill or burr hole(s) for implantation of neurostimulator electrodes, cortical",
         "No Change"
        ],
        [
         "CRAN",
         "61860",
         "Craniectomy or craniotomy for implantation of neurostimulator electrodes, cerebral, cortical",
         "No Change"
        ],
        [
         "CRAN",
         "61863",
         "Twist drill, burr hole, craniotomy, or craniectomy with stereotactic implantation of neurostimulator electrode array in subcortical site (eg, thalamus, globus pallidus, subthalamic nucleus, periventricular, periaqueductal gray), without use of intraoperative microelectrode recording; first array",
         "No Change"
        ],
        [
         "CRAN",
         "61867",
         "Twist drill, burr hole, craniotomy, or craniectomy with stereotactic implantation of neurostimulator electrode array in subcortical site (eg, thalamus, globus pallidus, subthalamic nucleus, periventricular, periaqueductal gray), with use of intraoperative microelectrode recording; first array",
         "No Change"
        ],
        [
         "CRAN",
         "61870",
         "Craniectomy for implantation of neurostimulator electrodes, cerebellar; cortical",
         "No Change"
        ],
        [
         "CRAN",
         "61880",
         "Revision or removal of intracranial neurostimulator electrodes",
         "No Change"
        ],
        [
         "CRAN",
         "62000",
         "Elevation of depressed skull fracture; simple, extradural",
         "No Change"
        ],
        [
         "CRAN",
         "62005",
         "Elevation of depressed skull fracture; compound or comminuted, extradural",
         "No Change"
        ],
        [
         "CRAN",
         "62010",
         "Elevation of depressed skull fracture; with repair of dura and/or debridement of brain",
         "No Change"
        ],
        [
         "CRAN",
         "62100",
         "Craniotomy for repair of dural/cerebrospinal fluid leak, including surgery for rhinorrhea/otorrhea",
         "No Change"
        ],
        [
         "CRAN",
         "62120",
         "Repair of encephalocele, skull vault, including cranioplasty",
         "No Change"
        ],
        [
         "CRAN",
         "62121",
         "Craniotomy for repair of encephalocele, skull base",
         "No Change"
        ],
        [
         "CRAN",
         "62161",
         "Neuroendoscopy, intracranial; with dissection of adhesions, fenestration of septum pellucidum or intraventricular cysts (including placement, replacement, or removal of ventricular catheter)",
         "No Change"
        ],
        [
         "CRAN",
         "62163",
         "Neuroendoscopy, intracranial; with retrieval of foreign body",
         "No Change"
        ],
        [
         "CRAN",
         "62164",
         "Neuroendoscopy, intracranial; with excision of brain tumor, including placement of external ventricular catheter for drainage",
         "No Change"
        ],
        [
         "CRAN",
         "62165",
         "Neuroendoscopy, intracranial; with excision of pituitary tumor, transnasal or trans-sphenoidal approach",
         "No Change"
        ],
        [
         "CRAN",
         "62200",
         "Ventriculocisternostomy, third ventricle;",
         "No Change"
        ],
        [
         "CRAN",
         "62201",
         "Ventriculocisternostomy, third ventricle; stereotactic, neuroendoscopic method",
         "No Change"
        ],
        [
         "CSEC",
         "59100",
         "Hysterotomy, abdominal (e.g., for hydatidiform mole, abortion)",
         "No Change"
        ],
        [
         "CSEC",
         "59510",
         "Routine obstetric care including antepartum care, cesarean delivery, and postpartum care",
         "No Change"
        ],
        [
         "CSEC",
         "59514",
         "Cesarean delivery only;",
         "No Change"
        ],
        [
         "CSEC",
         "59515",
         "Cesarean delivery only; including postpartum care",
         "No Change"
        ],
        [
         "CSEC",
         "59618",
         "Routine obstetric care including antepartum care, cesarean delivery, and postpartum care, following attempted vaginal delivery after previous cesarean delivery",
         "No Change"
        ],
        [
         "CSEC",
         "59620",
         "Cesarean delivery only, following attempted vaginal delivery after previous cesarean delivery;",
         "No Change"
        ],
        [
         "CSEC",
         "59622",
         "Cesarean delivery only, following attempted vaginal delivery after previous cesarean delivery; including postpartum care",
         "No Change"
        ],
        [
         "CSEC",
         "59857",
         "Induced abortion, by 1 or more vaginal suppositories (e.g., prostaglandin) with or without cervical dilation (e.g., laminaria), including hospital admission and visits, delivery of fetus and secundines; with hysterotomy (failed medical evacuation)",
         "No Change"
        ],
        [
         "FUSN",
         "22532",
         "Arthrodesis, lateral extracavitary technique, including minimal discectomy to prepare interspace (other than for decompression); thoracic",
         "No Change"
        ],
        [
         "FUSN",
         "22533",
         "Arthrodesis, lateral extracavitary technique, including minimal discectomy to prepare interspace (other than for decompression); lumbar",
         "No Change"
        ],
        [
         "FUSN",
         "22548",
         "Arthrodesis, anterior transoral or extraoral technique, clivus-C1-C2 (atlas-axis), with or without excision of odontoid process",
         "No Change"
        ],
        [
         "FUSN",
         "22551",
         "Arthrodesis, anterior interbody, including disc space preparation, discectomy, osteophytectomy and decompression of spinal cord and/or nerve roots; cervical below C2",
         "No Change"
        ],
        [
         "FUSN",
         "22554",
         "Arthrodesis, anterior interbody technique, including minimal discectomy to prepare interspace (other than for decompression); cervical below C2",
         "No Change"
        ],
        [
         "FUSN",
         "22556",
         "Arthrodesis, anterior interbody technique, including minimal discectomy to prepare interspace (other than for decompression); thoracic",
         "No Change"
        ],
        [
         "FUSN",
         "22558",
         "Arthrodesis, anterior interbody technique, including minimal discectomy to prepare interspace (other than for decompression); lumbar",
         "No Change"
        ],
        [
         "FUSN",
         "22586",
         "Arthrodesis, pre-sacral interbody technique, including disc space preparation, discectomy, with posterior instrumentation, with image guidance, includes bone graft when performed, L5-S1 interspace",
         "No Change"
        ],
        [
         "FUSN",
         "22590",
         "Arthrodesis, posterior technique, craniocervical (occiput-C2)",
         "No Change"
        ],
        [
         "FUSN",
         "22595",
         "Arthrodesis, posterior technique, atlas-axis (C1-C2)",
         "No Change"
        ],
        [
         "FUSN",
         "22600",
         "Arthrodesis, posterior or posterolateral technique, single level; cervical below C2 segment",
         "No Change"
        ],
        [
         "FUSN",
         "22610",
         "Arthrodesis, posterior or posterolateral technique, single level; thoracic (with lateral transverse technique, when performed)",
         "No Change"
        ],
        [
         "FUSN",
         "22612",
         "Arthrodesis, posterior or posterolateral technique, single level; lumbar (with lateral transverse technique, when performed)",
         "No Change"
        ],
        [
         "FUSN",
         "22630",
         "Arthrodesis, posterior interbody technique, including laminectomy and/or discectomy to prepare interspace (other than for decompression), single interspace; lumbar",
         "No Change"
        ],
        [
         "FUSN",
         "22633",
         "Arthrodesis, combined posterior or posterolateral technique with posterior interbody technique including laminectomy and/or discectomy sufficient to prepare interspace (other than for decompression), single interspace and segment; lumbar",
         "No Change"
        ],
        [
         "FUSN",
         "22800",
         "Arthrodesis, posterior, for spinal deformity, with or without cast; up to 6 vertebral segments",
         "No Change"
        ],
        [
         "FUSN",
         "22802",
         "Arthrodesis, posterior, for spinal deformity, with or without cast; 7 to 12 vertebral segments",
         "No Change"
        ],
        [
         "FUSN",
         "22804",
         "Arthrodesis, posterior, for spinal deformity, with or without cast; 13 or more vertebral segments",
         "No Change"
        ],
        [
         "FUSN",
         "22808",
         "Arthrodesis, anterior, for spinal deformity, with or without cast; 2 to 3 vertebral segments",
         "No Change"
        ],
        [
         "FUSN",
         "22810",
         "Arthrodesis, anterior, for spinal deformity, with or without cast; 4 to 7 vertebral segments",
         "No Change"
        ],
        [
         "FUSN",
         "22812",
         "Arthrodesis, anterior, for spinal deformity, with or without cast; 8 or more vertebral segments",
         "No Change"
        ],
        [
         "FUSN",
         "27280",
         "Arthrodesis, open, sacroiliac joint, including obtaining bone graft, including instrumentation, when performed",
         "No Change"
        ],
        [
         "FX",
         "23615",
         "Open treatment of proximal humeral (surgical or anatomical neck) fracture, includes internal fixation, when performed, includes repair of tuberosity(s), when performed;",
         "No Change"
        ],
        [
         "FX",
         "23616",
         "Open treatment of proximal humeral (surgical or anatomical neck) fracture, includes internal fixation, when performed, includes repair of tuberosity(s), when performed; with proximal humeral prosthetic replacement",
         "No Change"
        ],
        [
         "FX",
         "23630",
         "Open treatment of greater humeral tuberosity fracture, includes internal fixation, when performed",
         "No Change"
        ],
        [
         "FX",
         "23670",
         "Open treatment of shoulder dislocation, with fracture of greater humeral tuberosity, includes internal fixation, when performed",
         "No Change"
        ],
        [
         "FX",
         "23680",
         "Open treatment of shoulder dislocation, with surgical or anatomical neck fracture, includes internal fixation, when performed",
         "No Change"
        ],
        [
         "FX",
         "24515",
         "Open treatment of humeral shaft fracture with plate/screws, with or without cerclage",
         "No Change"
        ],
        [
         "FX",
         "24516",
         "Treatment of humeral shaft fracture, with insertion of intramedullary implant, with or without cerclage and/or locking screws",
         "No Change"
        ],
        [
         "FX",
         "24545",
         "Open treatment of humeral supracondylar or transcondylar fracture, includes internal fixation, when performed; without intercondylar extension",
         "No Change"
        ],
        [
         "FX",
         "24546",
         "Open treatment of humeral supracondylar or transcondylar fracture, includes internal fixation, when performed; with intercondylar extension",
         "No Change"
        ],
        [
         "FX",
         "24575",
         "Open treatment of humeral epicondylar fracture, medial or lateral, includes internal fixation, when performed",
         "No Change"
        ],
        [
         "FX",
         "24579",
         "Open treatment of humeral condylar fracture, medial or lateral, includes internal fixation, when performed",
         "No Change"
        ],
        [
         "FX",
         "24586",
         "Open treatment of periarticular fracture and/or dislocation of the elbow (fracture distal humerus and proximal ulna and/or proximal radius);",
         "No Change"
        ],
        [
         "FX",
         "24587",
         "Open treatment of periarticular fracture and/or dislocation of the elbow (fracture distal humerus and proximal ulna and/or proximal radius); with implant arthroplasty",
         "No Change"
        ],
        [
         "FX",
         "24635",
         "Open treatment of Monteggia type of fracture dislocation at elbow (fracture proximal end of ulna with dislocation of radial head), includes internal fixation, when performed",
         "No Change"
        ],
        [
         "FX",
         "24665",
         "Open treatment of radial head or neck fracture, includes internal fixation or radial head excision, when performed;",
         "No Change"
        ],
        [
         "FX",
         "24666",
         "Open treatment of radial head or neck fracture, includes internal fixation or radial head excision, when performed; with radial head prosthetic replacement",
         "No Change"
        ],
        [
         "FX",
         "24685",
         "Open treatment of ulnar fracture, proximal end (eg, olecranon or coronoid process[es]), includes internal fixation, when performed",
         "No Change"
        ],
        [
         "FX",
         "25337",
         "Reconstruction for stabilization of unstable distal ulna or distal radioulnar joint, secondary by soft tissue stabilization (eg, tendon transfer, tendon graft or weave, or tenodesis) with or without open reduction of distal radioulnar joint",
         "No Change"
        ],
        [
         "FX",
         "25515",
         "Open treatment of radial shaft fracture, includes internal fixation, when performed",
         "No Change"
        ],
        [
         "FX",
         "25525",
         "Open treatment of radial shaft fracture, includes internal fixation, when performed, and open treatment of distal radioulnar joint dislocation (Galeazzi fracture/ dislocation), includes percutaneous skeletal fixation when performed",
         "No Change"
        ],
        [
         "FX",
         "25526",
         "Open treatment of radial shaft fracture, includes internal fixation, when performed, and open treatment of distal radioulnar joint dislocation (Galeazzi fracture/ dislocation), includes internal fixation, when performed, includes repair of triangular fibrocartilage complex",
         "No Change"
        ],
        [
         "FX",
         "25545",
         "Open treatment of ulnar shaft fracture, includes internal fixation, when performed",
         "No Change"
        ],
        [
         "FX",
         "25574",
         "Open treatment of radial AND ulnar shaft fractures, with internal fixation, when performed; of radius OR ulna",
         "No Change"
        ],
        [
         "FX",
         "25575",
         "Open treatment of radial AND ulnar shaft fractures, with internal fixation, when performed; of radius AND ulna",
         "No Change"
        ],
        [
         "FX",
         "25607",
         "Open treatment of distal radial extra-articular fracture or epiphyseal separation, with internal fixation",
         "No Change"
        ],
        [
         "FX",
         "25608",
         "Open treatment of distal radial intra-articular fracture or epiphyseal separation; with internal fixation of 2 fragments",
         "No Change"
        ],
        [
         "FX",
         "25609",
         "Open treatment of distal radial intra-articular fracture or epiphyseal separation; with internal fixation of 3 or more fragments",
         "No Change"
        ],
        [
         "FX",
         "25652",
         "Open treatment of ulnar styloid fracture",
         "No Change"
        ],
        [
         "FX",
         "27177",
         "Open treatment of slipped femoral epiphysis; single or multiple pinning or bone graft (includes obtaining graft)",
         "No Change"
        ],
        [
         "FX",
         "27178",
         "Open treatment of slipped femoral epiphysis; closed manipulation with single or multiple pinning",
         "No Change"
        ],
        [
         "FX",
         "27179",
         "Open treatment of slipped femoral epiphysis; osteoplasty of femoral neck (Heyman type procedure)",
         "No Change"
        ],
        [
         "FX",
         "27181",
         "Open treatment of slipped femoral epiphysis; osteotomy and internal fixation",
         "No Change"
        ],
        [
         "FX",
         "27244",
         "Treatment of intertrochanteric, peritrochanteric, or subtrochanteric femoral fracture; with plate/screw type implant, with or without cerclage",
         "No Change"
        ],
        [
         "FX",
         "27245",
         "Treatment of intertrochanteric, peritrochanteric, or subtrochanteric femoral fracture; with intramedullary implant, with or without interlocking screws and/or cerclage",
         "No Change"
        ],
        [
         "FX",
         "27248",
         "Open treatment of greater trochanteric fracture, includes internal fixation, when performed",
         "No Change"
        ],
        [
         "FX",
         "27254",
         "Open treatment of hip dislocation, traumatic, with acetabular wall and femoral head fracture, with or without internal or external fixation",
         "No Change"
        ],
        [
         "FX",
         "27269",
         "Open treatment of femoral fracture, proximal end, head, includes internal fixation, when performed",
         "No Change"
        ],
        [
         "FX",
         "27506",
         "Open treatment of femoral shaft fracture, with or without external fixation, with insertion of intramedullary implant, with or without cerclage and/or locking screws",
         "No Change"
        ],
        [
         "FX",
         "27507",
         "Open treatment of femoral shaft fracture with plate/screws, with or without cerclage",
         "No Change"
        ],
        [
         "FX",
         "27511",
         "Open treatment of femoral supracondylar or transcondylar fracture without intercondylar extension, includes internal fixation, when performed",
         "No Change"
        ],
        [
         "FX",
         "27513",
         "Open treatment of femoral supracondylar or transcondylar fracture with intercondylar extension, includes internal fixation, when performed",
         "No Change"
        ],
        [
         "FX",
         "27514",
         "Open treatment of femoral fracture, distal end, medial or lateral condyle, includes internal fixation, when performed",
         "No Change"
        ],
        [
         "FX",
         "27519",
         "Open treatment of distal femoral epiphyseal separation, includes internal fixation, when performed",
         "No Change"
        ],
        [
         "FX",
         "27535",
         "Open treatment of tibial fracture, proximal (plateau); unicondylar, includes internal fixation, when performed",
         "No Change"
        ],
        [
         "FX",
         "27536",
         "Open treatment of tibial fracture, proximal (plateau); bicondylar, with or without internal fixation",
         "No Change"
        ],
        [
         "FX",
         "27540",
         "Open treatment of intercondylar spine(s) and/or tuberosity fracture(s) of the knee, includes internal fixation, when performed",
         "No Change"
        ],
        [
         "FX",
         "27758",
         "Open treatment of tibial shaft fracture (with or without fibular fracture), with plate/screws, with or without cerclage",
         "No Change"
        ],
        [
         "FX",
         "27759",
         "Treatment of tibial shaft fracture (with or without fibular fracture) by intramedullary implant, with or without interlocking screws and/or cerclage",
         "No Change"
        ],
        [
         "FX",
         "27766",
         "Open treatment of medial malleolus fracture, includes internal fixation, when performed",
         "No Change"
        ],
        [
         "FX",
         "27769",
         "Open treatment of posterior malleolus fracture, includes internal fixation, when performed",
         "No Change"
        ],
        [
         "FX",
         "27784",
         "Open treatment of proximal fibula or shaft fracture, includes internal fixation, when performed",
         "No Change"
        ],
        [
         "FX",
         "27792",
         "Open treatment of distal fibular fracture (lateral malleolus), includes internal fixation, when performed",
         "No Change"
        ],
        [
         "FX",
         "27814",
         "Open treatment of bimalleolar ankle fracture (eg, lateral and medial malleoli, or lateral and posterior malleoli, or medial and posterior malleoli), includes internal fixation, when performed",
         "No Change"
        ],
        [
         "FX",
         "27822",
         "Open treatment of trimalleolar ankle fracture, includes internal fixation, when performed, medial and/or lateral malleolus; without fixation of posterior lip",
         "No Change"
        ],
        [
         "FX",
         "27823",
         "Open treatment of trimalleolar ankle fracture, includes internal fixation, when performed, medial and/or lateral malleolus; with fixation of posterior lip",
         "No Change"
        ],
        [
         "FX",
         "27826",
         "Open treatment of fracture of weight bearing articular surface/portion of distal tibia (eg, pilon or tibial plafond), with internal fixation, when performed; of fibula only",
         "No Change"
        ],
        [
         "FX",
         "27827",
         "Open treatment of fracture of weight bearing articular surface/portion of distal tibia (eg, pilon or tibial plafond), with internal fixation, when performed; of tibia only",
         "No Change"
        ],
        [
         "FX",
         "27828",
         "Open treatment of fracture of weight bearing articular surface/portion of distal tibia (eg, pilon or tibial plafond), with internal fixation, when performed; of both tibia and fibula",
         "No Change"
        ],
        [
         "FX",
         "27829",
         "Open treatment of distal tibiofibular joint (syndesmosis) disruption, includes internal fixation, when performed",
         "No Change"
        ],
        [
         "GAST",
         "43117",
         "Partial esophagectomy, distal two-thirds, with thoracotomy and separate abdominal incision, with or without proximal gastrectomy; with thoracic esophagogastrostomy, with or without pyloroplasty (Ivor Lewis)",
         "No Change"
        ],
        [
         "GAST",
         "43118",
         "Partial esophagectomy, distal two-thirds, with thoracotomy and separate abdominal incision, with or without proximal gastrectomy; with colon interposition or small intestine reconstruction, including intestine mobilization, preparation, and anastomosis(es)",
         "No Change"
        ],
        [
         "GAST",
         "43121",
         "Partial esophagectomy, distal two-thirds, with thoracotomy only, with or without proximal gastrectomy, with thoracic esophagogastrostomy, with or without pyloroplasty",
         "No Change"
        ],
        [
         "GAST",
         "43122",
         "Partial esophagectomy, thoracoabdominal or abdominal approach, with or without proximal gastrectomy; with esophagogastrostomy, with or without pyloroplasty",
         "No Change"
        ],
        [
         "GAST",
         "43286",
         "Esophagectomy, total or near total, with laparoscopic mobilization of the abdominal and mediastinal esophagus and proximal gastrectomy, with laparoscopic pyloric drainage procedure if performed, with open cervical pharyngogastrostomy or esophagogastrostomy (ie, laparoscopic transhiatal esophagectomy)",
         "No Change"
        ],
        [
         "GAST",
         "43287",
         "Esophagectomy, distal two-thirds, with laparoscopic mobilization of the abdominal and lower mediastinal esophagus and proximal gastrectomy, with laparoscopic pyloric drainage procedure if performed, with separate thoracoscopic mobilization of the middle and upper mediastinal esophagus and thoracic esophagogastrostomy (ie, laparoscopic thoracoscopic esophagectomy, Ivor Lewis esophagectomy)",
         "No Change"
        ],
        [
         "GAST",
         "43288",
         "Esophagectomy, total or near total, with thoracoscopic mobilization of the upper, middle, and lower mediastinal esophagus, with separate laparoscopic proximal gastrectomy, with laparoscopic pyloric drainage procedure if performed, with open cervical pharyngogastrostomy or esophagogastrostomy (ie, thoracoscopic, laparoscopic and cervical incision esophagectomy, McKeown esophagectomy, tri-incisional esophagectomy)",
         "No Change"
        ],
        [
         "GAST",
         "43320",
         "Esophagogastrostomy (cardioplasty), with or without vagotomy and pyloroplasty, transabdominal or transthoracic approach",
         "No Change"
        ],
        [
         "GAST",
         "43360",
         "Gastrointestinal reconstruction for previous esophagectomy, for obstructing esophageal lesion or fistula, or for previous esophageal exclusion; with stomach, with or without pyloroplasty",
         "No Change"
        ],
        [
         "GAST",
         "43500",
         "Gastrotomy; with exploration or foreign body removal",
         "No Change"
        ],
        [
         "GAST",
         "43501",
         "Gastrotomy; with suture repair of bleeding ulcer",
         "No Change"
        ],
        [
         "GAST",
         "43502",
         "Gastrotomy; with suture repair of pre-existing esophagogastric laceration (eg, Mallory-Weiss)",
         "No Change"
        ],
        [
         "GAST",
         "43520",
         "Pyloromyotomy, cutting of pyloric muscle (Fredet-Ramstedt type operation)",
         "No Change"
        ],
        [
         "GAST",
         "43605",
         "Biopsy of stomach, by laparotomy",
         "No Change"
        ],
        [
         "GAST",
         "43610",
         "Excision, local; ulcer or benign tumor of stomach",
         "No Change"
        ],
        [
         "GAST",
         "43611",
         "Excision, local; malignant tumor of stomach",
         "No Change"
        ],
        [
         "GAST",
         "43620",
         "Gastrectomy, total; with esophagoenterostomy",
         "No Change"
        ],
        [
         "GAST",
         "43621",
         "Gastrectomy, total; with Roux-en-Y reconstruction",
         "No Change"
        ],
        [
         "GAST",
         "43622",
         "Gastrectomy, total; with formation of intestinal pouch, any type",
         "No Change"
        ],
        [
         "GAST",
         "43631",
         "Gastrectomy, partial, distal; with gastroduodenostomy",
         "No Change"
        ],
        [
         "GAST",
         "43632",
         "Gastrectomy, partial, distal; with gastrojejunostomy",
         "No Change"
        ],
        [
         "GAST",
         "43633",
         "Gastrectomy, partial, distal; with Roux-en-Y reconstruction",
         "No Change"
        ],
        [
         "GAST",
         "43634",
         "Gastrectomy, partial, distal; with formation of intestinal pouch",
         "No Change"
        ],
        [
         "GAST",
         "43640",
         "Vagotomy including pyloroplasty, with or without gastrostomy; truncal or selective",
         "No Change"
        ],
        [
         "GAST",
         "43641",
         "Vagotomy including pyloroplasty, with or without gastrostomy; parietal cell (highly selective)",
         "No Change"
        ],
        [
         "GAST",
         "43644",
         "Laparoscopy, surgical, gastric restrictive procedure; with gastric bypass and Roux-en-Y gastroenterostomy (roux limb 150 cm or less)",
         "No Change"
        ],
        [
         "GAST",
         "43645",
         "Laparoscopy, surgical, gastric restrictive procedure; with gastric bypass and small intestine reconstruction to limit absorption",
         "No Change"
        ],
        [
         "GAST",
         "43770",
         "Laparoscopy, surgical, gastric restrictive procedure; placement of adjustable gastric restrictive device (eg, gastric band and subcutaneous port components)",
         "No Change"
        ],
        [
         "GAST",
         "43771",
         "Laparoscopy, surgical, gastric restrictive procedure; revision of adjustable gastric restrictive device component only",
         "No Change"
        ],
        [
         "GAST",
         "43772",
         "Laparoscopy, surgical, gastric restrictive procedure; removal of adjustable gastric restrictive device component only",
         "No Change"
        ],
        [
         "GAST",
         "43773",
         "Laparoscopy, surgical, gastric restrictive procedure; removal and replacement of adjustable gastric restrictive device component only",
         "No Change"
        ],
        [
         "GAST",
         "43774",
         "Laparoscopy, surgical, gastric restrictive procedure; removal of adjustable gastric restrictive device and subcutaneous port components",
         "No Change"
        ],
        [
         "GAST",
         "43775",
         "Laparoscopy, surgical, gastric restrictive procedure; longitudinal gastrectomy (ie, sleeve gastrectomy)",
         "No Change"
        ],
        [
         "GAST",
         "43800",
         "Pyloroplasty",
         "No Change"
        ],
        [
         "GAST",
         "43810",
         "Gastroduodenostomy",
         "No Change"
        ],
        [
         "GAST",
         "43820",
         "Gastrojejunostomy; without vagotomy",
         "No Change"
        ],
        [
         "GAST",
         "43825",
         "Gastrojejunostomy; with vagotomy, any type",
         "No Change"
        ],
        [
         "GAST",
         "43840",
         "Gastrorrhaphy, suture of perforated duodenal or gastric ulcer, wound, or injury",
         "No Change"
        ],
        [
         "GAST",
         "43842",
         "Gastric restrictive procedure, without gastric bypass, for morbid obesity; vertical-banded gastroplasty",
         "No Change"
        ],
        [
         "GAST",
         "43843",
         "Gastric restrictive procedure, without gastric bypass, for morbid obesity; other than vertical-banded gastroplasty",
         "No Change"
        ],
        [
         "GAST",
         "43845",
         "Gastric restrictive procedure with partial gastrectomy, pylorus-preserving duodenoileostomy and ileoileostomy (50 to 100 cm common channel) to limit absorption (biliopancreatic diversion with duodenal switch)",
         "No Change"
        ],
        [
         "GAST",
         "43847",
         "Gastric restrictive procedure, with gastric bypass for morbid obesity; with small intestine reconstruction to limit absorption",
         "No Change"
        ],
        [
         "GAST",
         "43848",
         "Revision, open, of gastric restrictive procedure for morbid obesity, other than adjustable gastric restrictive device (separate procedure)",
         "No Change"
        ],
        [
         "GAST",
         "43860",
         "Revision of gastrojejunal anastomosis (gastrojejunostomy) with reconstruction, with or without partial gastrectomy or intestine resection; without vagotomy",
         "No Change"
        ],
        [
         "GAST",
         "43865",
         "Revision of gastrojejunal anastomosis (gastrojejunostomy) with reconstruction, with or without partial gastrectomy or intestine resection; with vagotomy",
         "No Change"
        ],
        [
         "GAST",
         "43870",
         "Closure of gastrostomy, surgical",
         "No Change"
        ],
        [
         "GAST",
         "43880",
         "Closure of gastrocolic fistula",
         "No Change"
        ],
        [
         "GAST",
         "43886",
         "Gastric restrictive procedure, open; revision of subcutaneous port component only",
         "No Change"
        ],
        [
         "GAST",
         "43887",
         "Gastric restrictive procedure, open; removal of subcutaneous port component only",
         "No Change"
        ],
        [
         "GAST",
         "43888",
         "Gastric restrictive procedure, open; removal and replacement of subcutaneous port component only",
         "No Change"
        ],
        [
         "HER",
         "11008",
         "Removal of prosthetic material or mesh, abdominal wall for infection (eg, for chronic or recurrent mesh infection or necrotizing soft tissue infection) (List separately in No changeition to code for primary procedure)",
         "No Change"
        ],
        [
         "HER",
         "49491",
         "Repair, initial inguinal hernia, preterm infant (younger than 37 weeks gestation at birth), performed from birth up to 50 weeks postconception age, with or without hydrocelectomy; reducible",
         "No Change"
        ],
        [
         "HER",
         "49492",
         "Repair, initial inguinal hernia, preterm infant (younger than 37 weeks gestation at birth), performed from birth up to 50 weeks postconception age, with or without hydrocelectomy; incarcerated or strangulated",
         "No Change"
        ],
        [
         "HER",
         "49495",
         "Repair, initial inguinal hernia, full term infant younger than age 6 months, or preterm infant older than 50 weeks postconception age and younger than age 6 months at the time of surgery, with or without hydrocelectomy; reducible",
         "No Change"
        ],
        [
         "HER",
         "49496",
         "Repair, initial inguinal hernia, full term infant younger than age 6 months, or preterm infant older than 50 weeks postconception age and younger than age 6 months at the time of surgery, with or without hydrocelectomy; incarcerated or strangulated",
         "No Change"
        ],
        [
         "HER",
         "49500",
         "Repair initial inguinal hernia, age 6 months to younger than 5 years, with or without hydrocelectomy; reducible",
         "No Change"
        ],
        [
         "HER",
         "49501",
         "Repair initial inguinal hernia, age 6 months to younger than 5 years, with or without hydrocelectomy; incarcerated or strangulated",
         "No Change"
        ],
        [
         "HER",
         "49505",
         "Repair initial inguinal hernia, age 5 years or older; reducible",
         "No Change"
        ],
        [
         "HER",
         "49507",
         "Repair initial inguinal hernia, age 5 years or older; incarcerated or strangulated",
         "No Change"
        ],
        [
         "HER",
         "49520",
         "Repair recurrent inguinal hernia, any age; reducible",
         "No Change"
        ],
        [
         "HER",
         "49521",
         "Repair recurrent inguinal hernia, any age; incarcerated or strangulated",
         "No Change"
        ],
        [
         "HER",
         "49525",
         "Repair inguinal hernia, sliding, any age",
         "No Change"
        ],
        [
         "HER",
         "49550",
         "Repair initial femoral hernia, any age; reducible",
         "No Change"
        ],
        [
         "HER",
         "49553",
         "Repair initial femoral hernia, any age; incarcerated or strangulated",
         "No Change"
        ],
        [
         "HER",
         "49555",
         "Repair recurrent femoral hernia; reducible",
         "No Change"
        ],
        [
         "HER",
         "49557",
         "Repair recurrent femoral hernia; incarcerated or strangulated",
         "No Change"
        ],
        [
         "HER",
         "49591",
         "Repair of anterior abdominal hernia(s) (ie, epigastric, incisional, ventral, umbilical, spigelian), any approach (ie, open, laparoscopic, robotic), initial, including mesh or other prosthesis when performed, total length of defect(s); less than 3 cm, reducible",
         "No Change"
        ],
        [
         "HER",
         "49592",
         "Repair of anterior abdominal hernia(s) (ie, epigastric, incisional, ventral, umbilical, spigelian), any approach (ie, open, laparoscopic, robotic), initial, including mesh or other prosthesis when performed, total length of defect(s); less than 3 cm, incarcerated",
         "No Change"
        ],
        [
         "HER",
         "49593",
         "Repair of anterior abdominal hernia(s) (ie, epigastric, incisional, ventral, umbilical, spigelian), any approach (ie, open, laparoscopic, robotic), initial, including mesh or other prosthesis when performed, total length of defect(s); 3 cm to 10 cm, reducible",
         "No Change"
        ],
        [
         "HER",
         "49594",
         "Repair of anterior abdominal hernia(s) (ie, epigastric, incisional, ventral, umbilical, spigelian), any approach (ie, open, laparoscopic, robotic), initial, including mesh or other prosthesis when performed, total length of defect(s); 3 cm to 10 cm, incarcerated",
         "No Change"
        ],
        [
         "HER",
         "49595",
         "Repair of anterior abdominal hernia(s) (ie, epigastric, incisional, ventral, umbilical, spigelian), any approach (ie, open, laparoscopic, robotic), initial, including mesh or other prosthesis when performed, total length of defect(s); greater than 10 cm, reducible",
         "No Change"
        ],
        [
         "HER",
         "49596",
         "Repair of anterior abdominal hernia(s) (ie, epigastric, incisional, ventral, umbilical, spigelian), any approach (ie, open, laparoscopic, robotic), initial, including mesh or other prosthesis when performed, total length of defect(s); greater than 10 cm, incarcerated",
         "No Change"
        ],
        [
         "HER",
         "49600",
         "Repair of small omphalocele, with primary closure",
         "No Change"
        ],
        [
         "HER",
         "49605",
         "Repair of large omphalocele or gastroschisis; with or without prosthesis",
         "No Change"
        ],
        [
         "HER",
         "49606",
         "Repair of large omphalocele or gastroschisis; with removal of prosthesis, final reduction and closure, in operating room",
         "No Change"
        ],
        [
         "HER",
         "49610",
         "Repair of omphalocele (Gross type operation); first stage",
         "No Change"
        ],
        [
         "HER",
         "49611",
         "Repair of omphalocele (Gross type operation); second stage",
         "No Change"
        ],
        [
         "HER",
         "49613",
         "Repair of anterior abdominal hernia(s) (ie, epigastric, incisional, ventral, umbilical, spigelian), any approach (ie, open, laparoscopic, robotic), recurrent, including mesh or other prosthesis when performed, total length of defect(s); less than 3 cm, reducible",
         "No Change"
        ],
        [
         "HER",
         "49614",
         "Repair of anterior abdominal hernia(s) (ie, epigastric, incisional, ventral, umbilical, spigelian), any approach (ie, open, laparoscopic, robotic), recurrent, including mesh or other prosthesis when performed, total length of defect(s); less than 3 cm, incarcerated",
         "No Change"
        ],
        [
         "HER",
         "49615",
         "Repair of anterior abdominal hernia(s) (ie, epigastric, incisional, ventral, umbilical, spigelian), any approach (ie, open, laparoscopic, robotic), recurrent, including mesh or other prosthesis when performed, total length of defect(s); 3 cm to 10 cm, reducible",
         "No Change"
        ],
        [
         "HER",
         "49616",
         "Repair of anterior abdominal hernia(s) (ie, epigastric, incisional, ventral, umbilical, spigelian), any approach (ie, open, laparoscopic, robotic), recurrent, including mesh or other prosthesis when performed, total length of defect(s); 3 cm to 10 cm, incarcerated",
         "No Change"
        ],
        [
         "HER",
         "49617",
         "Repair of anterior abdominal hernia(s) (ie, epigastric, incisional, ventral, umbilical, spigelian), any approach (ie, open, laparoscopic, robotic), recurrent, including mesh or other prosthesis when performed, total length of defect(s); greater than 10 cm, reducible",
         "No Change"
        ],
        [
         "HER",
         "49618",
         "Repair of anterior abdominal hernia(s) (ie, epigastric, incisional, ventral, umbilical, spigelian), any approach (ie, open, laparoscopic, robotic), recurrent, including mesh or other prosthesis when performed, total length of defect(s); greater than 10 cm, incarcerated",
         "No Change"
        ],
        [
         "HER",
         "49621",
         "Repair of parastomal hernia, any approach (ie, open, laparoscopic, robotic), initial or recurrent, including implantation of mesh or other prosthesis, when performed; reducible",
         "No Change"
        ],
        [
         "HER",
         "49622",
         "Repair of parastomal hernia, any approach (ie, open, laparoscopic, robotic), initial or recurrent, including implantation of mesh or other prosthesis, when performed; incarcerated or strangulated",
         "No Change"
        ],
        [
         "HER",
         "49650",
         "Laparoscopy, surgical; repair initial inguinal hernia",
         "No Change"
        ],
        [
         "HER",
         "49651",
         "Laparoscopy, surgical; repair recurrent inguinal hernia",
         "No Change"
        ],
        [
         "HER",
         "49659",
         "Unlisted laparoscopy procedure, hernioplasty, herniorrhaphy, herniotomy",
         "No Change"
        ],
        [
         "HPRO",
         "27125",
         "Hemiarthroplasty, hip, partial (eg, femoral stem prosthesis, bipolar arthroplasty)",
         "No Change"
        ],
        [
         "HPRO",
         "27130",
         "Arthroplasty, acetabular and proximal femoral prosthetic replacement (total hip arthroplasty), with or without autograft or allograft",
         "No Change"
        ],
        [
         "HPRO",
         "27132",
         "Conversion of previous hip surgery to total hip arthroplasty, with or without autograft or allograft",
         "No Change"
        ],
        [
         "HPRO",
         "27134",
         "Revision of total hip arthroplasty; both components, with or without autograft or allograft ",
         "No Change"
        ],
        [
         "HPRO",
         "27137",
         "Revision of total hip arthroplasty; acetabular component only, with or without autograft or allograft ",
         "No Change"
        ],
        [
         "HPRO",
         "27138",
         "Revision of total hip arthroplasty; femoral component only, with or without allograft",
         "No Change"
        ],
        [
         "HPRO",
         "27236",
         "Open treatment of femoral fracture, proximal end, neck, internal fixation or prosthetic replacement",
         "No Change"
        ],
        [
         "HTP",
         "33935",
         "Heart-lung transplant with recipient cardiectomy-pneumonectomy",
         "No Change"
        ],
        [
         "HTP",
         "33945",
         "Heart transplant, with or without recipient cardiectomy  ",
         "No Change"
        ],
        [
         "HYST",
         "58150",
         "Total abdominal hysterectomy (corpus and cervix), with or without removal of tube(s), with or without removal of ovary(s)",
         "No Change"
        ],
        [
         "HYST",
         "58152",
         "Total abdominal hysterectomy (corpus and cervix), with or without removal of tube(s), with or without removal of ovary(s); with colpo-urethrocystopexy (eg, Marshall-Marchetti-Krantz, Burch)",
         "No Change"
        ],
        [
         "HYST",
         "58180",
         "Supracervical abdominal hysterectomy (subtotal hysterectomy), with or without removal of tube(s), with or without removal of ovary(s)",
         "No Change"
        ],
        [
         "HYST",
         "58200",
         "Total abdominal hysterectomy, including partial vaginectomy, with para-aortic and pelvic lymph node sampling, with or without removal of tube(s), with or without removal of ovary(s)",
         "No Change"
        ],
        [
         "HYST",
         "58210",
         "Radical abdominal hysterectomy, with bilateral total pelvic lymphadenectomy and para-aortic lymph node sampling (biopsy), with or without removal of tube(s), with or without removal of ovary(s)",
         "No Change"
        ],
        [
         "HYST",
         "58240",
         "Pelvic exenteration for gynecologic malignancy, with total abdominal hysterectomy or cervicectomy, with or without removal of tube(s), with or without removal of ovary(s), with removal of bladder and ureteral transplantations, and/or abdominoperineal resection of rectum and colon and colostomy, or any combination thereof",
         "No Change"
        ],
        [
         "HYST",
         "58541",
         "Laparoscopy, surgical, supracervical hysterectomy, for uterus 250 g or less;",
         "No Change"
        ],
        [
         "HYST",
         "58542",
         "Laparoscopy, surgical, supracervical hysterectomy, for uterus 250 g or less; with removal of tube(s) and/or ovary(s)",
         "No Change"
        ],
        [
         "HYST",
         "58543",
         "Laparoscopy, surgical, supracervical hysterectomy, for uterus greater than 250 g;",
         "No Change"
        ],
        [
         "HYST",
         "58544",
         "Laparoscopy, surgical, supracervical hysterectomy, for uterus greater than 250 g; with removal of tube(s) and/or ovary(s)",
         "No Change"
        ],
        [
         "HYST",
         "58548",
         "Laparoscopy, surgical, with radical hysterectomy, with bilateral total pelvic lymphadenectomy and para-aortic lymph node sampling (biopsy), with removal of tube(s) and ovary(s), if performed",
         "No Change"
        ],
        [
         "HYST",
         "58550",
         "Laparoscopy, surgical, with vaginal hysterectomy, for uterus 250 g or less",
         "No Change"
        ],
        [
         "HYST",
         "58552",
         "Laparoscopy, surgical, with vaginal hysterectomy, for uterus 250 g or less; with removal of tubes(s) and /or ovary(s)",
         "No Change"
        ],
        [
         "HYST",
         "58553",
         "Laparoscopy, surgical, with vaginal hysterectomy, for uterus greater than 250 g",
         "No Change"
        ],
        [
         "HYST",
         "58554",
         "Laparoscopy, surgical, with vaginal hysterectomy, for uterus greater than 250 g; with removal of tube(s) and/or ovary(s)",
         "No Change"
        ],
        [
         "HYST",
         "58570",
         "Laparoscopy, surgical, with total hysterectomy, for uterus 250 g or less;",
         "No Change"
        ],
        [
         "HYST",
         "58571",
         "Laparoscopy, surgical, with total hysterectomy, for uterus 250 g or less; with removal of tube(s) and/or ovary(s)",
         "No Change"
        ],
        [
         "HYST",
         "58572",
         "Laparoscopy, surgical, with total hysterectomy, for uterus greater than 250 g;",
         "No Change"
        ],
        [
         "HYST",
         "58573",
         "Laparoscopy, surgical, with total hysterectomy, for uterus greater than 250 g; with removal of tube(s) and/or ovary(s)",
         "No Change"
        ],
        [
         "HYST",
         "58575",
         "Laparaoscopy, surgical, total hysterectomy for resection of malignancy (tumor debulking), with omentectomy including salpingo-oopherectomy, unilateral or bilateral, when performed",
         "No Change"
        ],
        [
         "HYST",
         "58951",
         "Resection (initial) of ovarian, tubal or primary peritoneal malignancy with bilateral salpingo-oophorectomy and omentectomy; with total abdominal hysterectomy, pelvic and limited para-aortic lymphadenectomy",
         "No Change"
        ],
        [
         "HYST",
         "58953",
         "Bilateral salpingo-oophorectomy with omentectomy, total abdominal hysterectomy and radical dissection for debulking",
         "No Change"
        ],
        [
         "HYST",
         "58954",
         "Bilateral salpingo-oophorectomy with omentectomy, total abdominal hysterectomy and radical dissection for debulking; with pelvic lymphadenectomy and limited para-aortic lymphadenectomy",
         "No Change"
        ],
        [
         "HYST",
         "58956",
         "Bilateral salpingo-oophorectomy with total omentectomy, total abdominal hysterectomy for malignancy",
         "No Change"
        ],
        [
         "HYST",
         "59525",
         "Subtotal or total hysterectomy after cesarean delivery",
         "No Change"
        ],
        [
         "KPRO",
         "27438",
         "Arthroplasty, patella; with prosthesis",
         "No Change"
        ],
        [
         "KPRO",
         "27440",
         "Arthroplasty, knee, tibial plateau",
         "No Change"
        ],
        [
         "KPRO",
         "27441",
         "Arthroplasty, knee, tibial plateau; with debridement and partial synovectomy",
         "No Change"
        ],
        [
         "KPRO",
         "27442",
         "Arthroplasty, femoral condyles or tibial plateau(s), knee",
         "No Change"
        ],
        [
         "KPRO",
         "27443",
         "Arthroplasty, femoral condyles or tibial plateau(s), knee; with debridement and partial synovectomy",
         "No Change"
        ],
        [
         "KPRO",
         "27445",
         "Arthroplasty, knee, hinge prosthesis (eg, Walldius type)",
         "No Change"
        ],
        [
         "KPRO",
         "27446",
         "Arthroplasty, knee, condyle and plateau; medial OR lateral compartment",
         "No Change"
        ],
        [
         "KPRO",
         "27447",
         "Arthroplasty, knee, condyle and plateau; medial AND lateral compartments with or without patella resurfacing (total knee arthroplasty)",
         "No Change"
        ],
        [
         "KPRO",
         "27486",
         "Revision of total knee athroplasty, with or without allograft, one component",
         "No Change"
        ],
        [
         "KPRO",
         "27487",
         "Revision of total knee arthroplasty, with or without allograft; femoral and entire tibial component",
         "No Change"
        ],
        [
         "KTP",
         "50340",
         "Recipient nephrectomy (separate procedure)  ",
         "No Change"
        ],
        [
         "KTP",
         "50360",
         "Renal allotransplantation, implantation of graft; without recipient nephrectomy ",
         "No Change"
        ],
        [
         "KTP",
         "50365",
         "Renal allotransplantation, implantation of graft; with recipient nephrectomy ",
         "No Change"
        ],
        [
         "KTP",
         "50380",
         "Renal autotransplantation, reimplantation of kidney ",
         "No Change"
        ],
        [
         "LAM",
         "22220",
         "Osteotomy of spine, including discectomy, anterior approach, single vertebral segment; cervical",
         "No Change"
        ],
        [
         "LAM",
         "22222",
         "Osteotomy of spine, including discectomy, anterior approach, single vertebral segment; thoracic",
         "No Change"
        ],
        [
         "LAM",
         "22224",
         "Osteotomy of spine, including discectomy, anterior approach, single vertebral segment; lumbar",
         "No Change"
        ],
        [
         "LAM",
         "22856",
         "Total disc arthroplasty (artificial disc), anterior approach, including discectomy with end plate preparation (includes osteophytectomy for nerve root or spinal cord decompression and microdissection); single interspace, cervical",
         "No Change"
        ],
        [
         "LAM",
         "22857",
         "Total disc arthroplasty (artificial disc), anterior approach, including discectomy to prepare interspace (other than for decompression), single interspace, lumbar",
         "No Change"
        ],
        [
         "LAM",
         "22861",
         "Revision including replacement of total disc arthroplasty (artificial disc), anterior approach, single interspace; cervical",
         "No Change"
        ],
        [
         "LAM",
         "22862",
         "Revision including replacement of total disc arthroplasty (artificial disc), anterior approach, single interspace; lumbar",
         "No Change"
        ],
        [
         "LAM",
         "22867",
         "Insertion of interlaminar/interspinous process stabilization/distraction device, without fusion, including image guidance when performed, with open decompression, lumbar; single level ",
         "No Change"
        ],
        [
         "LAM",
         "62287",
         "Decompression procedure, percutaneous, of nucleus pulposus of intervertebral disc, any method utilizing needle based technique to remove disc material under fluoroscopic imaging or other form of indirect visualization, with the use of an endoscope, with discography and/or epidural injection(s) at the treated level(s), when performed, single or multiple levels, lumbar",
         "No Change"
        ],
        [
         "LAM",
         "62351",
         "Implantation, revision or repositioning of tunneled intrathecal or epidural catheter, for long-term medication administration via an external pump or implantable reservoir/infusion pump; with laminectomy",
         "No Change"
        ],
        [
         "LAM",
         "62380",
         "Endoscopic decompression of spinal cord, nerve root(s), including laminectomy, partial facetectomy, foraminotomy, discectomy and/or excision of herniated intervertebral disc, 1 interpace, lumbar",
         "No Change"
        ],
        [
         "LAM",
         "63001",
         "Laminectomy with exploration and/or decompression of spinal cord and/or cauda equina, without facetectomy, foraminotomy or discectomy (eg, spinal stenosis), 1 or 2 vertebral segments; cervical",
         "No Change"
        ],
        [
         "LAM",
         "63003",
         "Laminectomy with exploration and/or decompression of spinal cord and/or cauda equina, without facetectomy, foraminotomy or discectomy (eg, spinal stenosis), 1 or 2 vertebral segments; thoracic",
         "No Change"
        ],
        [
         "LAM",
         "63005",
         "Laminectomy with exploration and/or decompression of spinal cord and/or cauda equina, without facetectomy, foraminotomy or discectomy (eg, spinal stenosis), 1 or 2 vertebral segments; lumbar, except for spondylolisthesis",
         "No Change"
        ],
        [
         "LAM",
         "63011",
         "Laminectomy with exploration and/or decompression of spinal cord and/or cauda equina, without facetectomy, foraminotomy or discectomy (eg, spinal stenosis), 1 or 2 vertebral segments; sacral",
         "No Change"
        ],
        [
         "LAM",
         "63012",
         "Laminectomy with removal of abnormal facets and/or pars inter-articularis with decompression of cauda equina and nerve roots for spondylolisthesis, lumbar (Gill type procedure)",
         "No Change"
        ],
        [
         "LAM",
         "63015",
         "Laminectomy with exploration and/or decompression of spinal cord and/or cauda equina, without facetectomy, foraminotomy or discectomy (eg, spinal stenosis), more than 2 vertebral segments; cervical",
         "No Change"
        ],
        [
         "LAM",
         "63016",
         "Laminectomy with exploration and/or decompression of spinal cord and/or cauda equina, without facetectomy, foraminotomy or discectomy (eg, spinal stenosis), more than 2 vertebral segments; thoracic",
         "No Change"
        ],
        [
         "LAM",
         "63017",
         "Laminectomy with exploration and/or decompression of spinal cord and/or cauda equina, without facetectomy, foraminotomy or discectomy (eg, spinal stenosis), more than 2 vertebral segments; lumbar",
         "No Change"
        ],
        [
         "LAM",
         "63020",
         "Laminotomy (hemilaminectomy), with decompression of nerve root(s), including partial facetectomy, foraminotomy and/or excision of herniated intervertebral disc; 1 interspace, cervical",
         "No Change"
        ],
        [
         "LAM",
         "63030",
         "Laminotomy (hemilaminectomy), with decompression of nerve root(s), including partial facetectomy, foraminotomy and/or excision of herniated intervertebral disc; 1 interspace, lumbar",
         "No Change"
        ],
        [
         "LAM",
         "63035",
         "Laminotomy (hemilaminectomy), with decompression of nerve root(s), including partial facetectomy, foraminotomy and/or excision of herniated intervertebral disc; each No changeitional interspace, cervical or lumbar (List separately in No changeition to code for primary procedure)",
         "No Change"
        ],
        [
         "LAM",
         "63040",
         "Laminotomy (hemilaminectomy), with decompression of nerve root(s), including partial facetectomy, foraminotomy and/or excision of herniated intervertebral disc, reexploration, single interspace; cervical",
         "No Change"
        ],
        [
         "LAM",
         "63042",
         "Laminotomy (hemilaminectomy), with decompression of nerve root(s), including partial facetectomy, foraminotomy and/or excision of herniated intervertebral disc, reexploration, single interspace; lumbar",
         "No Change"
        ],
        [
         "LAM",
         "63045",
         "Laminectomy, facetectomy and foraminotomy (unilateral or bilateral with decompression of spinal cord, cauda equina and/or nerve root[s], [eg, spinal or lateral recess stenosis]), single vertebral segment; cervical",
         "No Change"
        ],
        [
         "LAM",
         "63046",
         "Laminectomy, facetectomy and foraminotomy (unilateral or bilateral with decompression of spinal cord, cauda equina and/or nerve root[s], [eg, spinal or lateral recess stenosis]), single vertebral segment; thoracic",
         "No Change"
        ],
        [
         "LAM",
         "63047",
         "Laminectomy, facetectomy and foraminotomy (unilateral or bilateral with decompression of spinal cord, cauda equina and/or nerve root[s], [eg, spinal or lateral recess stenosis]), single vertebral segment; lumbar",
         "No Change"
        ],
        [
         "LAM",
         "63048",
         "Laminectomy, facetectomy and foraminotomy (unilateral or bilateral with decompression of spinal cord, cauda equina and/or nerve root[s], [eg, spinal or lateral recess stenosis]), single vertebral segment; each No changeitional segment, cervical, thoracic, or lumbar (List separately in No changeition to code for primary procedure)",
         "No Change"
        ],
        [
         "LAM",
         "63050",
         "Laminoplasty, cervical, with decompression of the spinal cord, 2 or more vertebral segments;",
         "No Change"
        ],
        [
         "LAM",
         "63051",
         "Laminoplasty, cervical, with decompression of the spinal cord, 2 or more vertebral segments; with reconstruction of the posterior bony elements (including the application of bridging bone graft and non-segmental fixation devices [eg, wire, suture, mini-plates], when performed)",
         "No Change"
        ],
        [
         "LAM",
         "63055",
         "Transpedicular approach with decompression of spinal cord, equina and/or nerve root(s) (eg, herniated intervertebral disc), single segment; thoracic",
         "No Change"
        ],
        [
         "LAM",
         "63056",
         "lumbar (including transfacet, or lateral extraforaminal approach) (eg, far lateral herniated intervertebral disc",
         "No Change"
        ],
        [
         "LAM",
         "63064",
         "Costovertebral approach with decompression of spinal cord or nerve root(s), (eg, herniated intervertebral disc), thoracic; single segment",
         "No Change"
        ],
        [
         "LAM",
         "63075",
         "Discectomy, anterior, with decompression of spinal cord and/or nerve root(s), including osteophytectomy; cervical, single interspace",
         "No Change"
        ],
        [
         "LAM",
         "63077",
         "Discectomy, anterior, with decompression of spinal cord and/or nerve root(s), including osteophytectomy; thoracic, single interspace",
         "No Change"
        ],
        [
         "LAM",
         "63081",
         "Vertebral corpectomy (vertebral body resection), partial or complete, anterior approach with decompression of spinal cord and/or nerve root(s); cervical, single segment",
         "No Change"
        ],
        [
         "LAM",
         "63082",
         "Vertebral corpectomy (vertebral body resection), partial or complete, anterior approach with decompression of spinal cord and/or nerve root(s); cervical, each No changeitional segment (List separately in No changeition to code for primary procedure)",
         "No Change"
        ],
        [
         "LAM",
         "63085",
         "Vertebral corpectomy (vertebral body resection), partial or complete, transthoracic approach with decompression of spinal cord and/or nerve root(s); thoracic, single segment",
         "No Change"
        ],
        [
         "LAM",
         "63086",
         "Vertebral corpectomy (vertebral body resection), partial or complete, transthoracic approach with decompression of spinal cord and/or nerve root(s); thoracic, each No changeitional segment (List separately in No changeition to code for primary procedure)",
         "No Change"
        ],
        [
         "LAM",
         "63087",
         "Vertebral corpectomy (vertebral body resection), partial or complete, combined thoracolumbar approach with decompression of spinal cord, cauda equina or nerve root(s), lower thoracic or lumbar; single segment",
         "No Change"
        ],
        [
         "LAM",
         "63088",
         "Vertebral corpectomy (vertebral body resection), partial or complete, combined thoracolumbar approach with decompression of spinal cord, cauda equina or nerve root(s), lower thoracic or lumbar; each No changeitional segment (List separately in No changeition to code for primary procedure)",
         "No Change"
        ],
        [
         "LAM",
         "63090",
         "Vertebral corpectomy (vertebral body resection), partial or complete, transperitoneal or retroperitoneal approach with decompression of spinal cord, cauda equina or nerve root(s), lower thoracic, lumbar, or sacral; single segment",
         "No Change"
        ],
        [
         "LAM",
         "63091",
         "Vertebral corpectomy (vertebral body resection), partial or complete, transperitoneal or retroperitoneal approach with decompression of spinal cord, cauda equina or nerve root(s), lower thoracic, lumbar, or sacral; each No changeitional segment (List separately in No changeition to code for primary procedure)",
         "No Change"
        ],
        [
         "LAM",
         "63101",
         "Vertebral corpectomy (vertebral body resection), partial or complete, lateral extracavitary approach with decompression of spinal cord and/or nerve root(s) (eg, for tumor or retropulsed bone fragments); thoracic, single segment",
         "No Change"
        ],
        [
         "LAM",
         "63102",
         "Vertebral corpectomy (vertebral body resection), partial or complete, lateral extracavitary approach with decompression of spinal cord and/or nerve root(s) (eg, for tumor or retropulsed bone fragments); lumbar, single segment",
         "No Change"
        ],
        [
         "LAM",
         "63103",
         "Vertebral corpectomy (vertebral body resection), partial or complete, lateral extracavitary approach with decompression of spinal cord and/or nerve root(s) (eg, for tumor or retropulsed bone fragments); thoracic or lumbar, each No changeitional segment (List separately in No changeition to code for primary procedure)",
         "No Change"
        ],
        [
         "LAM",
         "63170",
         "Laminectomy with myelotomy (eg, Bischof or DREZ type), cervical, thoracic, or thoracolumbar",
         "No Change"
        ],
        [
         "LAM",
         "63172",
         "Laminectomy with drainage of intramedullary cyst/syrinx; to subarachnoid space",
         "No Change"
        ],
        [
         "LAM",
         "63173",
         "Laminectomy with drainage of intramedullary cyst/syrinx; to peritoneal or pleural space",
         "No Change"
        ],
        [
         "LAM",
         "63180",
         "Laminectomy and section of dentate ligaments, with or without dural graft, cervical; 1 or 2 segments",
         "No Change"
        ],
        [
         "LAM",
         "63182",
         "Laminectomy and section of dentate ligaments, with or without dural graft, cervical; more than 2 segments",
         "No Change"
        ],
        [
         "LAM",
         "63185",
         "Laminectomy with rhizotomy; 1 or 2 segments",
         "No Change"
        ],
        [
         "LAM",
         "63190",
         "Laminectomy with rhizotomy; more than 2 segments",
         "No Change"
        ],
        [
         "LAM",
         "63191",
         "Laminectomy with section of spinal accessory nerve",
         "No Change"
        ],
        [
         "LAM",
         "63197",
         "Laminectomy with cordotomy, with section of both spinothalamic tracts, 1 stage; thoracic",
         "No Change"
        ],
        [
         "LAM",
         "63200",
         "Laminectomy, with release of tethered spinal cord, lumbar",
         "No Change"
        ],
        [
         "LAM",
         "63250",
         "Laminectomy for excision or occlusion of arteriovenous malformation of spinal cord; cervical",
         "No change"
        ],
        [
         "LAM",
         "63251",
         "Laminectomy for excision or occlusion of arteriovenous malformation of spinal cord; thoracic",
         "No change"
        ],
        [
         "LAM",
         "63252",
         "Laminectomy for excision or occlusion of arteriovenous malformation of spinal cord; thoracolumbar",
         "No change"
        ],
        [
         "LAM",
         "63265",
         "Laminectomy for excision or evacuation of intraspinal lesion other than neoplasm, extradural; cervical",
         "No change"
        ],
        [
         "LAM",
         "63266",
         "Laminectomy for excision or evacuation of intraspinal lesion other than neoplasm, extradural; thoracic",
         "No change"
        ],
        [
         "LAM",
         "63267",
         "Laminectomy for excision or evacuation of intraspinal lesion other than neoplasm, extradural; lumbar",
         "No change"
        ],
        [
         "LAM",
         "63268",
         "Laminectomy for excision or evacuation of intraspinal lesion other than neoplasm, extradural; sacral",
         "No change"
        ],
        [
         "LAM",
         "63270",
         "Laminectomy for excision of intraspinal lesion other than neoplasm, intradural; cervical",
         "No change"
        ],
        [
         "LAM",
         "63271",
         "Laminectomy for excision of intraspinal lesion other than neoplasm, intradural; thoracic",
         "No change"
        ],
        [
         "LAM",
         "63272",
         "Laminectomy for excision of intraspinal lesion other than neoplasm, intradural; lumbar",
         "No change"
        ],
        [
         "LAM",
         "63273",
         "Laminectomy for excision of intraspinal lesion other than neoplasm, intradural; sacral",
         "No change"
        ],
        [
         "LAM",
         "63275",
         "Laminectomy for biopsy/excision of intraspinal neoplasm; extradural, cervical",
         "No change"
        ],
        [
         "LAM",
         "63276",
         "Laminectomy for biopsy/excision of intraspinal neoplasm; extradural, thoracic",
         "No change"
        ],
        [
         "LAM",
         "63277",
         "Laminectomy for biopsy/excision of intraspinal neoplasm; extradural, lumbar",
         "No change"
        ],
        [
         "LAM",
         "63278",
         "Laminectomy for biopsy/excision of intraspinal neoplasm; extradural, sacral",
         "No change"
        ],
        [
         "LAM",
         "63280",
         "Laminectomy for biopsy/excision of intraspinal neoplasm; intradural, extramedullary, cervical",
         "No change"
        ],
        [
         "LAM",
         "63281",
         "Laminectomy for biopsy/excision of intraspinal neoplasm; intradural, extramedullary, thoracic",
         "No change"
        ],
        [
         "LAM",
         "63282",
         "Laminectomy for biopsy/excision of intraspinal neoplasm; intradural, extramedullary, lumbar",
         "No change"
        ],
        [
         "LAM",
         "63283",
         "Laminectomy for biopsy/excision of intraspinal neoplasm; intradural, sacral",
         "No change"
        ],
        [
         "LAM",
         "63285",
         "Laminectomy for biopsy/excision of intraspinal neoplasm; intradural, intramedullary, cervical",
         "No change"
        ],
        [
         "LAM",
         "63286",
         "Laminectomy for biopsy/excision of intraspinal neoplasm; intradural, intramedullary, thoracic",
         "No change"
        ],
        [
         "LAM",
         "63287",
         "Laminectomy for biopsy/excision of intraspinal neoplasm; intradural, intramedullary, thoracolumbar",
         "No change"
        ],
        [
         "LAM",
         "63290",
         "Laminectomy for biopsy/excision of intraspinal neoplasm; combined extradural-intradural lesion, any level",
         "No change"
        ],
        [
         "LAM",
         "63709",
         "Repair of dural/cerebrospinal fluid leak or pseudomeningocele, with laminectomy",
         "No change"
        ],
        [
         "LAM",
         "63740",
         "Creation of shunt, lumbar, subarachnoid-peritoneal, -pleural, or other; including laminectomy",
         "No change"
        ],
        [
         "LAM",
         "0202T",
         "Posterior vertebral joint(s) arthroplasty (eg, facet joint[s] replacement), including facetectomy, laminectomy, foraminotomy, and vertebral column fixation, injection of bone cement, when performed, including fluoroscopy, single level, lumbar spine",
         "No Change"
        ],
        [
         "LAM",
         "0219T",
         "Placement of a posterior intrafacet implant(s), unilateral or bilateral, including imaging and placement of bone graft(s) or synthetic device(s), single level; cervical",
         "No Change"
        ],
        [
         "LAM",
         "0220T",
         "Placement of a posterior intrafacet implant(s), unilateral or bilateral, including imaging and placement of bone graft(s) or synthetic device(s), single level; thoracic",
         "No Change"
        ],
        [
         "LAM",
         "0221T",
         "Placement of a posterior intrafacet implant(s), unilateral or bilateral, including imaging and placement of bone graft(s) or synthetic device(s), single level; lumbar",
         "No Change"
        ],
        [
         "LTP",
         "47135",
         "Liver allotransplantation; orthotopic, partial or whole, from cadaver or living donor, any age ",
         "No Change"
        ],
        [
         "NECK",
         "31300",
         "Laryngotomy (thyrotomy, laryngofissure); with removal of tumor or laryngocele, cordectomy ",
         "No Change"
        ],
        [
         "NECK",
         "31360",
         "Laryngectomy; total, without radical neck dissection  ",
         "No Change"
        ],
        [
         "NECK",
         "31365",
         "Laryngectomy; total, with radical neck dissection  ",
         "No Change"
        ],
        [
         "NECK",
         "31367",
         "Laryngectomy; subtotal supraglottic, without radical neck dissection  ",
         "No Change"
        ],
        [
         "NECK",
         "31368",
         "Laryngectomy; subtotal supraglottic, with radical neck dissection  ",
         "No Change"
        ],
        [
         "NECK",
         "31370",
         "Partial laryngectomy (hemilaryngectomy); horizontal  ",
         "No Change"
        ],
        [
         "NECK",
         "31375",
         "Partial laryngectomy (hemilaryngectomy); laterovertical",
         "No Change"
        ],
        [
         "NECK",
         "31380",
         "Partial laryngectomy (hemilaryngectomy); anterovertical  ",
         "No Change"
        ],
        [
         "NECK",
         "31382",
         "Partial laryngectomy (hemilaryngectomy); antero-latero-vertical  ",
         "No Change"
        ],
        [
         "NECK",
         "31390",
         "Pharyngolaryngectomy, with radical neck dissection; without reconstruction  ",
         "No Change"
        ],
        [
         "NECK",
         "31395",
         "Pharyngolaryngectomy, with radical neck dissection; with reconstruction  ",
         "No Change"
        ],
        [
         "NECK",
         "31400",
         "Arytenoidectomy or arytenoidopexy, external approach  ",
         "No Change"
        ],
        [
         "NECK",
         "31420",
         "Epiglottidectomy ",
         "No Change"
        ],
        [
         "NECK",
         "31551",
         "Laryngoplasty; for laryngeal stenosis, with graft, without indwelling stent placement, younger than 12 years of age",
         "No Change"
        ],
        [
         "NECK",
         "31552",
         "Laryngoplasty; for laryngeal stenosis, with graft, without indwelling stent placement, age 12 years or older ",
         "No Change"
        ],
        [
         "NECK",
         "31553",
         "Laryngoplasty; for laryngeal stenosis, with graft, with indwelling stent placement, younger than 12 years of age ",
         "No Change"
        ],
        [
         "NECK",
         "31554",
         "Laryngoplasty; for laryngeal stenosis, with graft, with indwelling stent placement, age 12 years or older",
         "No Change"
        ],
        [
         "NECK",
         "31560",
         "Laryngoscopy, direct, operative, with arytenoidectomy;  ",
         "No Change"
        ],
        [
         "NECK",
         "31561",
         "Laryngoscopy, direct, operative, with arytenoidectomy; with operating microscope or telescope ",
         "No Change"
        ],
        [
         "NECK",
         "31580",
         "Laryngoplasty; for laryngeal web, with indwelling keel or stent insertion",
         "No Change"
        ],
        [
         "NECK",
         "31584",
         "Laryngoplasty; with open reduction and fixation of (eg, plating) fracture, includes tracheostomy, if performed",
         "No Change"
        ],
        [
         "NECK",
         "31587",
         "Laryngoplasty, cricoid split, without graft placement",
         "No Change"
        ],
        [
         "NECK",
         "31590",
         "Laryngeal reinnervation by neuromuscular pedicle",
         "No Change"
        ],
        [
         "NECK",
         "31591",
         "Laryngoplasty, medialization, unilateral ",
         "No Change"
        ],
        [
         "NECK",
         "31592",
         "Cricotracheal resection",
         "No Change"
        ],
        [
         "NECK",
         "31599",
         "Unlisted procedure, larynx  ",
         "No Change"
        ],
        [
         "NECK",
         "38308",
         "Lymphangiotomy or other operations on lymphatic channels  ",
         "No Change"
        ],
        [
         "NECK",
         "38542",
         "Dissection, deep jugular node(s)  ",
         "No Change"
        ],
        [
         "NECK",
         "38720",
         "Cervical lymphadenectomy (complete)  ",
         "No Change"
        ],
        [
         "NECK",
         "38724",
         "Cervical lymphadenectomy (modified radical neck dissection)  ",
         "No Change"
        ],
        [
         "NECK",
         "41135",
         "Glossectomy; partial, with unilateral radical neck dissection  ",
         "No Change"
        ],
        [
         "NECK",
         "41140",
         "Glossectomy; complete or total, with or without tracheostomy, without radical neck dissection  ",
         "No Change"
        ],
        [
         "NECK",
         "41145",
         "Glossectomy; complete or total, with or without tracheostomy, with unilateral radical neck dissection  ",
         "No Change"
        ],
        [
         "NECK",
         "41155",
         "Glossectomy; composite procedure with resection floor of mouth, mandibular resection, and radical neck dissection (Commando type) ",
         "No Change"
        ],
        [
         "NECK",
         "42420",
         "Excision of parotid tumor or parotid gland; total, with dissection and preservation of facial nerve  ",
         "No Change"
        ],
        [
         "NECK",
         "42425",
         "Excision of parotid tumor or parotid gland; total, en bloc removal with sacrifice of facial nerve  ",
         "No Change"
        ],
        [
         "NECK",
         "42426",
         "Excision of parotid tumor or parotid gland; total, with unilateral radical neck dissection  ",
         "No Change"
        ],
        [
         "NECK",
         "60280",
         "Excision of thyroglossal duct cyst or sinus",
         "No Change"
        ],
        [
         "NECK",
         "60281",
         "Excision of thyroglossal duct cyst or sinus; recurrent",
         "No Change"
        ],
        [
         "NECK",
         "69150",
         "Radical excision external auditory canal lesion; without neck dissection  ",
         "No Change"
        ],
        [
         "NECK",
         "69155",
         "Radical excision external auditory canal lesion; with neck dissection  ",
         "No Change"
        ],
        [
         "NECK",
         "60000",
         "Incision and drainage of thyroglossal duct cyst, infected",
         "Moved from THYR"
        ],
        [
         "NEPH",
         "50010",
         "Renal exploration, not necessitating other specific procedures  ",
         "No Change"
        ],
        [
         "NEPH",
         "50020",
         "Drainage of perirenal or renal abscess, open  ",
         "No Change"
        ],
        [
         "NEPH",
         "50040",
         "Nephrostomy, nephrotomy with drainage  ",
         "No Change"
        ],
        [
         "NEPH",
         "50045",
         "Nephrotomy, with exploration  ",
         "No Change"
        ],
        [
         "NEPH",
         "50060",
         "Nephrolithotomy; removal of calculus  ",
         "No Change"
        ],
        [
         "NEPH",
         "50065",
         "Nephrolithotomy; secondary surgical operation for calculus  ",
         "No Change"
        ],
        [
         "NEPH",
         "50070",
         "Nephrolithotomy; complicated by congenital kidney abnormality  ",
         "No Change"
        ],
        [
         "NEPH",
         "50075",
         "Nephrolithotomy; removal of large staghorn calculus filling renal pelvis and calyces (including anatrophic pyelolithotomy)  ",
         "No Change"
        ],
        [
         "NEPH",
         "50120",
         "Pyelotomy; with exploration  ",
         "No Change"
        ],
        [
         "NEPH",
         "50125",
         "Pyelotomy; with drainage, pyelostomy  ",
         "No Change"
        ],
        [
         "NEPH",
         "50130",
         "Pyelotomy; with removal of calculus (pyelolithotomy, pelviolithotomy, including coagulum pyelolithotomy)  ",
         "No Change"
        ],
        [
         "NEPH",
         "50135",
         "Pyelotomy; complicated (e.g., secondary operation, congenital kidney abnormality)  ",
         "No Change"
        ],
        [
         "NEPH",
         "50205",
         "Renal biopsy; by surgical exposure of kidney ",
         "No Change"
        ],
        [
         "NEPH",
         "50220",
         "Nephrectomy, including partial ureterectomy, any open approach including rib resection;  ",
         "No Change"
        ],
        [
         "NEPH",
         "50225",
         "Nephrectomy, including partial ureterectomy, any open approach including rib resection; complicated because of previous surgery on same kidney  ",
         "No Change"
        ],
        [
         "NEPH",
         "50230",
         "Nephrectomy, including partial ureterectomy, any open approach including rib resection; radical, with regional lymphadenectomy and/or vena caval thrombectomy  ",
         "No Change"
        ],
        [
         "NEPH",
         "50234",
         "Nephrectomy with total ureterectomy and bladder cuff; through same incision  ",
         "No Change"
        ],
        [
         "NEPH",
         "50236",
         "Nephrectomy with total ureterectomy and bladder cuff; through separate incision  ",
         "No Change"
        ],
        [
         "NEPH",
         "50240",
         "Nephrectomy, partial  ",
         "No Change"
        ],
        [
         "NEPH",
         "50250",
         "Ablation, open, 1 or more renal mass lesion(s), cryosurgical, including intraoperative ultrasound guidance and monitoring, if performed ",
         "No Change"
        ],
        [
         "NEPH",
         "50280",
         "Excision or unroofing of cyst(s) of kidney ",
         "No Change"
        ],
        [
         "NEPH",
         "50290",
         "Excision of perinephric cyst  ",
         "No Change"
        ],
        [
         "NEPH",
         "50320",
         "Donor nephrectomy (including cold preservation); open, from living donor  ",
         "No Change"
        ],
        [
         "NEPH",
         "50400",
         "Pyeloplasty (Foley Y-pyeloplasty), plastic operation on renal pelvis, with or without plastic operation on ureter, nephropexy, nephrostomy, pyelostomy, or ureteral splinting; simple ",
         "No Change"
        ],
        [
         "NEPH",
         "50405",
         "Pyeloplasty (Foley Y-pyeloplasty), plastic operation on renal pelvis, with or without plastic operation on ureter, nephropexy, nephrostomy, pyelostomy, or ureteral splinting; complicated (congenital kidney abnormality, secondary pyeloplasty, solitary kidney, calycoplasty) ",
         "No Change"
        ],
        [
         "NEPH",
         "50541",
         "Laparoscopy, surgical; ablation of renal cysts ",
         "No Change"
        ],
        [
         "NEPH",
         "50542",
         "Laparoscopy, surgical; ablation of renal mass lesion(s), including intraoperative ultrasound guidance and monitoring, when performed ",
         "No Change"
        ],
        [
         "NEPH",
         "50543",
         "Laparoscopy, surgical; partial nephrectomy  ",
         "No Change"
        ],
        [
         "NEPH",
         "50545",
         "Laparoscopy, surgical; radical nephrectomy (includes removal of Gerota's fascia and surrounding fatty tissue, removal of regional lymph nodes, and adrenalectomy)  ",
         "No Change"
        ],
        [
         "NEPH",
         "50546",
         "Laparoscopy, surgical; nephrectomy, including partial ureterectomy  ",
         "No Change"
        ],
        [
         "NEPH",
         "50547",
         "Laparoscopy, surgical; donor nephrectomy (including cold preservation), from living donor  ",
         "No Change"
        ],
        [
         "NEPH",
         "50548",
         "Laparoscopy, surgical; nephrectomy with total ureterectomy  ",
         "No Change"
        ],
        [
         "NEPH",
         "50549",
         "Unlisted laparoscopic nephrectomy",
         "No Change"
        ],
        [
         "OVRY",
         "58660",
         "Laparoscopy, surgical; with lysis of adhesions (salpingolysis, ovariolysis) (separate procedure) ",
         "No Change"
        ],
        [
         "OVRY",
         "58661",
         "Laparoscopy, surgical; with removal of adnexal structures (partial or total oophorectomy and/or salpingectomy)  ",
         "No Change"
        ],
        [
         "OVRY",
         "58662",
         "Laparoscopy, surgical; with fulguration or excision of lesions of the ovary, pelvic viscera, or peritoneal surface by any method ",
         "No Change"
        ],
        [
         "OVRY",
         "58679",
         "Unlisted laparoscopy procedure, oviduct, ovary  ",
         "No Change"
        ],
        [
         "OVRY",
         "58720",
         "Salpingo-oophorectomy, complete or partial, unilateral or bilateral (separate procedure)  ",
         "No Change"
        ],
        [
         "OVRY",
         "58740",
         "Lysis of adhesions (salpingolysis, ovariolysis) ",
         "No Change"
        ],
        [
         "OVRY",
         "58800",
         "Drainage of ovarian cyst(s), unilateral or bilateral (separate procedure); vaginal approach  ",
         "No Change"
        ],
        [
         "OVRY",
         "58805",
         "Drainage of ovarian cyst(s), unilateral or bilateral (separate procedure); abdominal approach  ",
         "No Change"
        ],
        [
         "OVRY",
         "58820",
         "Drainage of ovarian abscess; vaginal approach, open  ",
         "No Change"
        ],
        [
         "OVRY",
         "58822",
         "Drainage of ovarian abscess; abdominal approach  ",
         "No Change"
        ],
        [
         "OVRY",
         "58825",
         "Transposition, ovary(s)  ",
         "No Change"
        ],
        [
         "OVRY",
         "58900",
         "Biopsy of ovary, unilateral or bilateral (separate procedure)  ",
         "No Change"
        ],
        [
         "OVRY",
         "58920",
         "Wedge resection or bisection of ovary, unilateral or bilateral  ",
         "No Change"
        ],
        [
         "OVRY",
         "58925",
         "Ovarian cystectomy, unilateral or bilateral  ",
         "No Change"
        ],
        [
         "OVRY",
         "58940",
         "Oophorectomy, partial or total, unilateral or bilateral;",
         "No Change"
        ],
        [
         "OVRY",
         "58943",
         "Oophorectomy, partial or total, unilateral or bilateral; for ovarian, tubal or primary peritoneal malignancy, with para-aortic and pelvic lymph node biopsies, peritoneal washings, peritoneal biopsies, diaphragmatic assessments, with or without salpingectomy(s), with or without omentectomy  ",
         "No Change"
        ],
        [
         "OVRY",
         "58950",
         "Resection (initial) of ovarian, tubal or primary peritoneal malignancy with bilateral salpingo-oophorectomy and omentectomy;  ",
         "No Change"
        ],
        [
         "OVRY",
         "58952",
         "Resection (initial) of ovarian, tubal or primary peritoneal malignancy with bilateral salpingo-oophorectomy and omentectomy; with radical dissection for debulking (i.e., radical excision or destruction, intra-abdominal or retroperitoneal tumors)  ",
         "No Change"
        ],
        [
         "OVRY",
         "58970",
         "Follicle puncture for oocyte retrieval, any method  ",
         "No Change"
        ],
        [
         "PACE",
         "33202",
         "Insertion of epicardial electrode(s); open incision (e.g., thoracotomy, median sternotomy, subxiphoid approach)",
         "No Change"
        ],
        [
         "PACE",
         "33203",
         "Insertion of epicardial electrode(s); endoscopic approach (e.g., thoracoscopy, pericardioscopy)",
         "No Change"
        ],
        [
         "PACE",
         "33206",
         "Insertion of new or replacement of permanent pacemaker with transvenous electrode(s); atrial ",
         "No Change"
        ],
        [
         "PACE",
         "33207",
         "Insertion of new or replacement of permanent pacemaker with transvenous electrode(s); ventricular ",
         "No Change"
        ],
        [
         "PACE",
         "33208",
         "Insertion of new or replacement of permanent pacemaker with transvenous electrode(s); atrial and ventricular ",
         "No Change"
        ],
        [
         "PACE",
         "33212",
         "Insertion of pacemaker pulse generator only; with existing single lead ",
         "No Change"
        ],
        [
         "PACE",
         "33213",
         "Insertion of pacemaker pulse generator only; with existing dual leads ",
         "No Change"
        ],
        [
         "PACE",
         "33214",
         "Upgrade of implanted pacemaker system, conversion of single chamber system to dual chamber system (includes removal of previously placed pulse generator, testing of existing lead, insertion of new lead, insertion of new pulse generator) ",
         "No Change"
        ],
        [
         "PACE",
         "33215",
         "Repositioning of previously implanted transvenous pacemaker or implantable defibrillator (right atrial or right ventricular) electrode",
         "No Change"
        ],
        [
         "PACE",
         "33216",
         "Insertion of a single transvenous electrode, permanent pacemaker or implantable defibrillator ",
         "No Change"
        ],
        [
         "PACE",
         "33217",
         "Insertion of 2 transvenous electrodes, permanent pacemaker or implantable defibrillator ",
         "No Change"
        ],
        [
         "PACE",
         "33218",
         "Repair of single transvenous electrode, permanent pacemaker or implantable defibrillator ",
         "No Change"
        ],
        [
         "PACE",
         "33220",
         "Repair of 2 transvenous electrodes for permanent pacemaker or implantable defibrillator ",
         "No Change"
        ],
        [
         "PACE",
         "33221",
         "Insertion of pacemaker pulse generator only; with existing multiple leads ",
         "No Change"
        ],
        [
         "PACE",
         "33222",
         "Relocation of skin pocket for pacemaker ",
         "No Change"
        ],
        [
         "PACE",
         "33223",
         "Relocation of skin pocket for implantable defibrillator ",
         "No Change"
        ],
        [
         "PACE",
         "33224",
         "Insertion of pacing electrode, cardiac venous system, for left ventricular pacing, with attachment to previously placed pacemaker or implantable defibrillator pulse generator (including revision of pocket, removal, insertion, and/or replacement of existing generator)",
         "No Change"
        ],
        [
         "PACE",
         "33225",
         "Insertion of pacing electrode, cardiac venous system, for left ventricular pacing, at time of insertion of implantable defibrillator or pacemaker pulse generator (e.g., for upgrade to dual chamber system) (List separately in No changeition to code for primary procedure)",
         "No Change"
        ],
        [
         "PACE",
         "33226",
         "Repositioning of previously implanted cardiac venous system (left ventricular) electrode (including removal, insertion and/or replacement of existing generator)",
         "No Change"
        ],
        [
         "PACE",
         "33227",
         "Removal of permanent pacemaker pulse generator with replacement of pacemaker pulse generator; single lead system ",
         "No Change"
        ],
        [
         "PACE",
         "33228",
         "Removal of permanent pacemaker pulse generator with replacement of pacemaker pulse generator; dual lead system ",
         "No Change"
        ],
        [
         "PACE",
         "33229",
         "Removal of permanent pacemaker pulse generator with replacement of pacemaker pulse generator; multiple lead system ",
         "No Change"
        ],
        [
         "PACE",
         "33230",
         "Insertion of implantable defibrillator pulse generator only; with existing dual leads ",
         "No Change"
        ],
        [
         "PACE",
         "33231",
         "Insertion of implantable defibrillator pulse generator only; with existing multiple leads ",
         "No Change"
        ],
        [
         "PACE",
         "33233",
         "Removal of permanent pacemaker pulse generator only ",
         "No Change"
        ],
        [
         "PACE",
         "33234",
         "Removal of transvenous pacemaker electrode(s); single lead system, atrial or ventricular ",
         "No Change"
        ],
        [
         "PACE",
         "33235",
         "Removal of transvenous pacemaker electrode(s); dual lead system ",
         "No Change"
        ],
        [
         "PACE",
         "33236",
         "Removal of permanent epicardial pacemaker and electrodes by thoracotomy; single lead system, atrial or ventricular",
         "No Change"
        ],
        [
         "PACE",
         "33237",
         "Removal of permanent epicardial pacemaker and electrodes by thoracotomy; dual lead system",
         "No Change"
        ],
        [
         "PACE",
         "33238",
         "Removal of permanent transvenous electrode(s) by thoracotomy",
         "No Change"
        ],
        [
         "PACE",
         "33240",
         "Insertion of implantable defibrillator pulse generator only; with existing single lead ",
         "No Change"
        ],
        [
         "PACE",
         "33241",
         "Removal of implantable defibrillator pulse generator only ",
         "No Change"
        ],
        [
         "PACE",
         "33243",
         "Removal of single or dual chamber implantable defibrillator electrode(s); by thoracotomy",
         "No Change"
        ],
        [
         "PACE",
         "33244",
         "Removal of implantable defibrillator pulse generator with replacement of implantable defibrillator pulse generator; by transvenous extraction ",
         "No Change"
        ],
        [
         "PACE",
         "33249",
         "Insertion or replacement of permanent implantable defibrillator system, with transvenous lead(s), single or dual chamber ",
         "No Change"
        ],
        [
         "PACE",
         "33262",
         "Removal of implantable defibrillator pulse generator with replacement of implantable defibrillator pulse generator; single lead system ",
         "No Change"
        ],
        [
         "PACE",
         "33263",
         "Removal of implantable defibrillator pulse generator with replacement of implantable defibrillator pulse generator; dual lead system ",
         "No Change"
        ],
        [
         "PACE",
         "33264",
         "Removal of implantable defibrillator pulse generator with replacement of implantable defibrillator pulse generator; multiple lead system ",
         "No Change"
        ],
        [
         "PACE",
         "33270",
         "Insertion or replacement of permanent subcutaneous implantable defibrillator system, with subcutaneous electrode, including defibrillation threshold evaluation, induction of arrhythmia, evaluation of sensing for arrhythmia termination, and programming or reprogramming of sensing or therapeutic parameters, when performed",
         "No Change"
        ],
        [
         "PACE",
         "33271",
         "Insertion of subcutaneous implantable defibrillator electrode",
         "No Change"
        ],
        [
         "PACE",
         "33272",
         "Removal of subcutaneous implantable defibrillator electrode",
         "No Change"
        ],
        [
         "PACE",
         "33273",
         "Repositioning of previously implanted subcutaneous implantable defibrillator electrode",
         "No Change"
        ],
        [
         "PACE",
         "0571T",
         "Insertion or replacement of implantable cardioverter-defibrillation system with substernal electrode(s), including all imaging guidance and electrophysiological evaluation (includes defibrillation threshold evaluation, induction of arrhythmia, evaluation of sensing for arrhythmia termination, and programming or reprogramming of sensing or therapeutic parameters), when performed",
         "No change"
        ],
        [
         "PACE",
         "0572T",
         "Insertion of substernal implantable defibrillation electrode ",
         "No change"
        ],
        [
         "PACE",
         "0573T",
         "Removal of substernal implantable defibrillation electrode",
         "No change"
        ],
        [
         "PACE",
         "0574T",
         "Repositioning of previously implanted substernal implantable defibrillator-pacing electrode",
         "No change"
        ],
        [
         "PRST",
         "55705",
         "Biopsy, prostate; incisional, any approach",
         "No Change"
        ],
        [
         "PRST",
         "55810",
         "Prostatectomy, perineal radical",
         "No Change"
        ],
        [
         "PRST",
         "55812",
         "Prostatectomy, perineal radical; with lymph node biopsy(s) (limited pelvic lymphadenectomy)",
         "No Change"
        ],
        [
         "PRST",
         "55815",
         "Prostatectomy, perineal radical; with bilateral pelvic lymphadenectomy, including external iliac, hypogastric and obturator nodes",
         "No Change"
        ],
        [
         "PRST",
         "55821",
         "Prostatectomy (including control of postoperative bleeding, vasectomy, meatotomy, urethral calibration and/or dilation, and internal urethrotomy); suprapubic, subtotal, 1 or 2 stages",
         "No Change"
        ],
        [
         "PRST",
         "55831",
         "Prostatectomy (including control of postoperative bleeding, vasectomy, meatotomy, urethral calibration and/or dilation, and internal urethrotomy); retropubic, subtotal",
         "No Change"
        ],
        [
         "PRST",
         "55840",
         "Prostatectomy, retropubic radical, with or without nerve sparing;",
         "No Change"
        ],
        [
         "PRST",
         "55842",
         "Prostatectomy, retropubic radical, with or without nerve sparing; with lymph node biopsy(s) (limited pelvic lymphadenectomy)",
         "No Change"
        ],
        [
         "PRST",
         "55845",
         "Prostatectomy, retropubic radical, with or without nerve sparing; with bilateral pelvic lymphadenectomy, including external iliac, hypogastric, and obturator nodes",
         "No Change"
        ],
        [
         "PRST",
         "55866",
         "Laparoscopy, surgical prostatectomy, retropubic radical, including nerve sparing, includes robotic assistance, when performed",
         "No Change"
        ],
        [
         "PRST",
         "55867",
         "Laparoscopy, surgical prostatectomy, simple subtotal (including control of postoperative bleeding, vasectomy, meatotomy, urethral calibration and/or dilation, and internal urethrotomy), includes robotic assistance, when performed",
         "Added"
        ],
        [
         "PVBY",
         "33889",
         "Open subclavian to carotid artery transposition performed in conjunction with endovascular repair of descending thoracic aorta, by neck incision, unilateral",
         "No Change"
        ],
        [
         "PVBY",
         "35501",
         "Bypass graft, with vein; common carotid-ipsilateral internal carotid",
         "No Change"
        ],
        [
         "PVBY",
         "35506",
         "Bypass graft, with vein; carotid-subclavian or subcalvian-carotid",
         "No Change"
        ],
        [
         "PVBY",
         "35508",
         "Bypass graft, with vein; carotid-vertebral",
         "No Change"
        ],
        [
         "PVBY",
         "35509",
         "Bypass graft, with vein; carotid-contralateral carotid",
         "No Change"
        ],
        [
         "PVBY",
         "35510",
         "Bypass graft, with vein; carotid-brachial",
         "No Change"
        ],
        [
         "PVBY",
         "35511",
         "Bypass graft, with vein; subclavian-subclavian",
         "No Change"
        ],
        [
         "PVBY",
         "35512",
         "Bypass graft subclavian-brachial",
         "No Change"
        ],
        [
         "PVBY",
         "35515",
         "Bypass graft subclavian-vertebral",
         "No Change"
        ],
        [
         "PVBY",
         "35516",
         "Bypass graft, with vein; subclavian-axillary",
         "No Change"
        ],
        [
         "PVBY",
         "35518",
         "Bypass graft, with vein; axillary-axillary",
         "No Change"
        ],
        [
         "PVBY",
         "35521",
         "Bypass graft, with vein; axillary-femoral",
         "No Change"
        ],
        [
         "PVBY",
         "35522",
         "Bypass graft, with vein; axillary-brachial",
         "No Change"
        ],
        [
         "PVBY",
         "35523",
         "Bypass graft, with vein; brachial-ulnar or -radial",
         "No Change"
        ],
        [
         "PVBY",
         "35525",
         "Bypass graft, with vein; brachial-brachial",
         "No Change"
        ],
        [
         "PVBY",
         "35533",
         "Bypass graft, with vein; axillary-femoral-femoral",
         "No Change"
        ],
        [
         "PVBY",
         "35556",
         "Bypass graft, with vein; femoral-popliteal",
         "No Change"
        ],
        [
         "PVBY",
         "35558",
         "Bypass graft, with vein; femoral-femoral",
         "No Change"
        ],
        [
         "PVBY",
         "35566",
         "Bypass graft, with vein; femoral-anterior tibial, posterior tibial, peroneal artery or other distal vessels",
         "No Change"
        ],
        [
         "PVBY",
         "35570",
         "Bypass graft, with vein; tibial-tibial, peroneal-tibial, or tibial/peroneal trunk-tibial",
         "No Change"
        ],
        [
         "PVBY",
         "35571",
         "Bypass graft, with vein; popliteal-tibial, -peroneal artery or other distal vessels",
         "No Change"
        ],
        [
         "PVBY",
         "35583",
         "In-situ vein bypass; femoral-popliteal",
         "No Change"
        ],
        [
         "PVBY",
         "35585",
         "In-situ vein bypass; femoral-anterior tibial, posterior tibial, or peroneal artery",
         "No Change"
        ],
        [
         "PVBY",
         "35587",
         "In-situ vein bypass; popliteal-tibial, peroneal",
         "No Change"
        ],
        [
         "PVBY",
         "35616",
         "Bypass graft, with other than vein; subclavian-axillary",
         "No Change"
        ],
        [
         "PVBY",
         "35621",
         "Bypass graft, with other than vein; axillary-femoral",
         "No Change"
        ],
        [
         "PVBY",
         "35623",
         "Bypass graft, with other than vein; axillary-popliteal or -tibial",
         "No Change"
        ],
        [
         "PVBY",
         "35650",
         "Bypass graft, with other than vein; axillary-axillary",
         "No Change"
        ],
        [
         "PVBY",
         "35654",
         "Bypass graft, with other than vein; axillary-femoral-femoral",
         "No Change"
        ],
        [
         "PVBY",
         "35656",
         "Bypass graft, with other than vein; femoral-popliteal",
         "No Change"
        ],
        [
         "PVBY",
         "35661",
         "Bypass graft, with other than vein; femoral-femoral",
         "No Change"
        ],
        [
         "PVBY",
         "35666",
         "Bypass graft, with other than vein; femoral-anterior tibial, posterior tibial, or peroneal artery",
         "No Change"
        ],
        [
         "PVBY",
         "35671",
         "Bypass graft, with other than vein; popliteal-tibial or -peroneal artery",
         "No Change"
        ],
        [
         "PVBY",
         "35686",
         "Creation of distal arteriovenous fistula during lower extremity bypass surgery (non-hemodialysis) ",
         "No Change"
        ],
        [
         "REC",
         "45110",
         "Proctectomy; complete, combined abdominoperineal, with colostomy",
         "No Change"
        ],
        [
         "REC",
         "45111",
         "Proctectomy; partial resection of rectum, transabdominal approach",
         "No Change"
        ],
        [
         "REC",
         "45112",
         "Proctectomy, combined abdominoperineal, pull-through procedure (eg, colo-anal anastomosis)",
         "No Change"
        ],
        [
         "REC",
         "45113",
         "Proctectomy, partial, with rectal mucosectomy, ileoanal anastomosis, creation of ileal reservoir (S or J), with or without loop ileostomy",
         "No Change"
        ],
        [
         "REC",
         "45114",
         "Proctectomy, partial, with anastomosis; abdominal and transsacral approach",
         "No Change"
        ],
        [
         "REC",
         "45116",
         "Proctectomy, partial, with anastomosis; transsacral approach only (Kraske type)",
         "No Change"
        ],
        [
         "REC",
         "45119",
         "Proctectomy, combined abdominoperineal pull-through procedure (eg, colo-anal anastomosis), with creation of colonic reservoir (eg, J-pouch), with diverting enterostomy when performed",
         "No Change"
        ],
        [
         "REC",
         "45120",
         "Proctectomy, complete (for congenital megacolon), abdominal and perineal approach; with pull-through procedure and anastomosis (eg, Swenson, Duhamel, or Soave type operation)",
         "No Change"
        ],
        [
         "REC",
         "45121",
         "Proctectomy, complete (for congenital megacolon), abdominal and perineal approach; with subtotal or total colectomy, with multiple biopsies",
         "No Change"
        ],
        [
         "REC",
         "45126",
         "Pelvic exenteration for colorectal malignancy, with proctectomy (with or without colostomy), with removal of bladder and ureteral transplantations, and/or hysterectomy, or cervicectomy, with or without removal of tube(s), with or without removal of ovary(s), or any combination thereof",
         "No Change"
        ],
        [
         "REC",
         "45395",
         "Laparoscopy, surgical; proctectomy, complete, combined abdominoperineal, with colostomy",
         "No Change"
        ],
        [
         "REC",
         "45397",
         "Laparoscopy, surgical; proctectomy, combined abdominoperineal pull-through procedure (eg, colo-anal anastomosis), with creation of colonic reservoir (eg, J-pouch), with diverting enterostomy, when performed",
         "No Change"
        ],
        [
         "REC",
         "45540",
         "Proctopexy (eg, for prolapse); abdominal approach (open)",
         "Added"
        ],
        [
         "REC",
         "45541",
         "Proctopexy (eg, for prolapse); perineal approach (open)",
         "Added"
        ],
        [
         "REC",
         "45550",
         "Proctopexy (eg, for prolapse); with sigmoid resection, abdominal approach (open)",
         "Added"
        ],
        [
         "REC",
         "45562",
         "Exploration, repair, and presacral drainage for rectal injury",
         "No Change"
        ],
        [
         "REC",
         "45563",
         "Exploration, repair, and presacral drainage for rectal injury; with colostomy",
         "No Change"
        ],
        [
         "REC",
         "57307",
         "Closure of rectovaginal fistula; abdominal approach, with concomitant colostomy",
         "No Change"
        ],
        [
         "SB",
         "43846",
         "Gastric restrictive procedure, with gastric bypass for morbid obesity; with short limb (150 cm or less) Roux-en-Y gastroenterostomy",
         "Moved from GAST"
        ],
        [
         "SB",
         "43496",
         "Free jejunum transfer with microvascular anastomosis",
         "No Change"
        ],
        [
         "SB",
         "44010",
         "Duodenotomy, for exploration, biopsy(s), or foreign body removal",
         "No Change"
        ],
        [
         "SB",
         "44020",
         "Enterotomy, small intestine, other than duodenum; for exploration, biopsy(s), or foreign body removal",
         "No Change"
        ],
        [
         "SB",
         "44021",
         "Enterotomy, small intestine, other than duodenum; for decompression (eg, Baker tube)",
         "No Change"
        ],
        [
         "SB",
         "44120",
         "Enterectomy, resection of small intestine; single resection and anastomosis",
         "No Change"
        ],
        [
         "SB",
         "44125",
         "Enterectomy, resection of small intestine; with enterostomy",
         "No Change"
        ],
        [
         "SB",
         "44126",
         "Enterectomy, resection of small intestine for congenital atresia, single resection and anastomosis of proximal segment of intestine; without tapering",
         "No Change"
        ],
        [
         "SB",
         "44127",
         "Enterectomy, resection of small intestine for congenital atresia, single resection and anastomosis of proximal segment of intestine; with tapering",
         "No Change"
        ],
        [
         "SB",
         "44130",
         "Enteroenterostomy, anastomosis of intestine, with or without cutaneous enterostomy (separate procedure)",
         "No Change"
        ],
        [
         "SB",
         "44186",
         "Laparoscopy, surgical; jejunostomy (eg, for decompression or feeding)",
         "No Change"
        ],
        [
         "SB",
         "44187",
         "Laparoscopy, surgical; ileostomy or jejunostomy, non-tube",
         "No Change"
        ],
        [
         "SB",
         "44202",
         "Laparoscopy, surgical; enterectomy, resection of small intestine, single resection and anastomosis",
         "No Change"
        ],
        [
         "SB",
         "44300",
         "Placement, enterostomy or cecostomy, tube open (eg, for feeding or decompression) (separate procedure)",
         "No Change"
        ],
        [
         "SB",
         "44310",
         "Ileostomy or jejunostomy, non-tube",
         "No Change"
        ],
        [
         "SB",
         "44312",
         "Revision of ileostomy; simple (release of superficial scar) (separate procedure)",
         "No Change"
        ],
        [
         "SB",
         "44314",
         "Revision of ileostomy; complicated (reconstruction in-depth) (separate procedure)",
         "No Change"
        ],
        [
         "SB",
         "44316",
         "Continent ileostomy (Kock procedure) (separate procedure)",
         "No Change"
        ],
        [
         "SB",
         "44602",
         "Suture of small intestine (enterorrhaphy) for perforated ulcer, diverticulum, wound, injury or rupture; single perforation",
         "No Change"
        ],
        [
         "SB",
         "44603",
         "Suture of small intestine (enterorrhaphy) for perforated ulcer, diverticulum, wound, injury or rupture; multiple perforations",
         "No Change"
        ],
        [
         "SB",
         "44615",
         "Intestinal stricturoplasty (enterotomy and enterorrhaphy) with or without dilation, for intestinal obstruction",
         "No Change"
        ],
        [
         "SB",
         "44640",
         "Closure of intestinal cutaneous fistula",
         "No Change"
        ],
        [
         "SB",
         "44650",
         "Closure of enteroenteric or enterocolic fistula",
         "No Change"
        ],
        [
         "SB",
         "44800",
         "Excision of Meckel's diverticulum (diverticulectomy) or omphalomesenteric duct",
         "No Change"
        ],
        [
         "SB",
         "45136",
         "Excision of ileoanal reservoir with ileostomy",
         "No Change"
        ],
        [
         "SPLE",
         "38100",
         "Splenectomy; total (separate procedure)",
         "No Change"
        ],
        [
         "SPLE",
         "38101",
         "Splenectomy; partial (separate procedure)",
         "No Change"
        ],
        [
         "SPLE",
         "38102",
         "Splenectomy; total, en bloc for extensive disease, in conjunction with other procedure (List in No changeition to code for primary procedure)",
         "No Change"
        ],
        [
         "SPLE",
         "38115",
         "Repair of ruptured spleen (splenorrhaphy) with or without partial splenectomy",
         "No Change"
        ],
        [
         "SPLE",
         "38120",
         "Laparoscopy, surgical, splenectomy",
         "No Change"
        ],
        [
         "THOR",
         "20101",
         "Exploration of penetrating wound (separate procedure); chest",
         "No Change"
        ],
        [
         "THOR",
         "21603",
         "Excision of chest wall tumor involving rib(s), with plastic reconstruction; with mediastinal lymphadenectomy",
         "No change"
        ],
        [
         "THOR",
         "31770",
         "Bronchoplasty; graft repair",
         "No Change"
        ],
        [
         "THOR",
         "31775",
         "Bronchoplasty; excision stenosis and anastomosis",
         "No Change"
        ],
        [
         "THOR",
         "32096",
         "Thoracotomy, with diagnostic biopsy(ies) of lung infiltrate(s) (eg, wedge, incisional), unilateral",
         "No Change"
        ],
        [
         "THOR",
         "32097",
         "Thoracotomy, with diagnostic biopsy(ies) of lung nodule(s) or mass(es) (eg, wedge, incisional), unilateral",
         "No Change"
        ],
        [
         "THOR",
         "32100",
         "Thoracotomy; with exploration",
         "No Change"
        ],
        [
         "THOR",
         "32110",
         "Thoracotomy; with control of traumatic hemorrhage and/or repair of lung tear",
         "No Change"
        ],
        [
         "THOR",
         "32120",
         "Thoracotomy; for postoperative complications",
         "No Change"
        ],
        [
         "THOR",
         "32124",
         "Thoracotomy; with open intrapleural pneumonolysis",
         "No Change"
        ],
        [
         "THOR",
         "32140",
         "Thoracotomy; with cyst(s) removal, includes pleural procedure when performed",
         "No Change"
        ],
        [
         "THOR",
         "32141",
         "Thoracotomy; with resection-plication of bullae, includes any pleural procedure when performed",
         "No Change"
        ],
        [
         "THOR",
         "32151",
         "Thoracotomy; with removal of intrapulmonary foreign body",
         "No Change"
        ],
        [
         "THOR",
         "32200",
         "Pneumonostomy, with open drainage of abscess or cyst",
         "No Change"
        ],
        [
         "THOR",
         "32215",
         "Pleural scarification for repeat pneumothorax",
         "No Change"
        ],
        [
         "THOR",
         "32220",
         "Decortication, pulmonary (separate procedure); total",
         "No Change"
        ],
        [
         "THOR",
         "32225",
         "Decortication, pulmonary (separate procedure); partial",
         "No Change"
        ],
        [
         "THOR",
         "32310",
         "Pleurectomy, parietal (separate procedure)",
         "No Change"
        ],
        [
         "THOR",
         "32320",
         "Decortication and parietal pleurectomy",
         "No Change"
        ],
        [
         "THOR",
         "32440",
         "Removal of lung, pneumonectomy;",
         "No Change"
        ],
        [
         "THOR",
         "32442",
         "Removal of lung, pneumonectomy; with resection of segment of trachea followed by broncho-tracheal anastomosis (sleeve pneumonectomy)",
         "No Change"
        ],
        [
         "THOR",
         "32445",
         "Removal of lung, pneumonectomy; extrapleural",
         "No Change"
        ],
        [
         "THOR",
         "32480",
         "Removal of lung, other than pneumonectomy; single lobe (lobectomy)",
         "No Change"
        ],
        [
         "THOR",
         "32482",
         "Removal of lung, other than pneumonectomy; 2 lobes (bilobectomy)",
         "No Change"
        ],
        [
         "THOR",
         "32484",
         "Removal of lung, other than pneumonectomy; single segment (segmentectomy)",
         "No Change"
        ],
        [
         "THOR",
         "32486",
         "Removal of lung, other than pneumonectomy; with circumferential resection of segment of bronchus followed by broncho-bronchial anastomosis (sleeve lobectomy)",
         "No Change"
        ],
        [
         "THOR",
         "32488",
         "Removal of lung, other than pneumonectomy; with all remaining lung following previous removal of a portion of lung (completion pneumonectomy)",
         "No Change"
        ],
        [
         "THOR",
         "32491",
         "Removal of lung, other than pneumonectomy; with resection-plication of emphysematous lung(s) (bullous or non-bullous) for lung volume reduction, sternal split or transthoracic approach, includes any pleural procedure, when performed",
         "No Change"
        ],
        [
         "THOR",
         "32501",
         "Resection and repair of portion of bronchus (bronchoplasty) when performed at time of lobectomy or segmentectomy (List separately in No changeition to code for primary procedure)",
         "No Change"
        ],
        [
         "THOR",
         "32503",
         "Resection of apical lung tumor (eg, Pancoast tumor), including chest wall resection, rib(s) resection(s), neurovascular dissection, when performed; without chest wall reconstruction(s)",
         "No Change"
        ],
        [
         "THOR",
         "32504",
         "Resection of apical lung tumor (eg, Pancoast tumor), including chest wall resection, rib(s) resection(s), neurovascular dissection, when performed; with chest wall reconstruction",
         "No Change"
        ],
        [
         "THOR",
         "32505",
         "Thoracotomy; with therapeutic wedge resection (eg, mass, nodule), initial",
         "No Change"
        ],
        [
         "THOR",
         "32506",
         "Thoracotomy; with therapeutic wedge resection (eg, mass or nodule), each No changeitional resection, ipsilateral (List separately in No changeition to code for primary procedure)",
         "No Change"
        ],
        [
         "THOR",
         "32507",
         "Thoracotomy; with diagnostic wedge resection followed by anatomic lung resection (List separately in No changeition to code for primary procedure)",
         "No Change"
        ],
        [
         "THOR",
         "32540",
         "Extrapleural enucleation of empyema (empyemectomy)",
         "No Change"
        ],
        [
         "THOR",
         "32553",
         "Placement of interstitial device(s) for radiation therapy guidance (eg, fiducial markers, dosimeter), percutaneous, intrathoracic, single or multiple",
         "No Change"
        ],
        [
         "THOR",
         "32607",
         "Thoracoscopy; with diagnostic biopsy(ies) of lung infiltrate(s) (eg, wedge, incisional), unilateral",
         "No Change"
        ],
        [
         "THOR",
         "32608",
         "Thoracoscopy; with diagnostic biopsy(ies) of lung nodule(s) or mass(es) (eg, wedge, incisional), unilateral",
         "No Change"
        ],
        [
         "THOR",
         "32609",
         "Thoracoscopy; with biopsy(ies) of pleura",
         "No Change"
        ],
        [
         "THOR",
         "32651",
         "Thoracoscopy, surgical; with partial pulmonary decortication",
         "No Change"
        ],
        [
         "THOR",
         "32652",
         "Thoracoscopy, surgical; with total pulmonary decortication, including intrapleural pneumonolysis",
         "No Change"
        ],
        [
         "THOR",
         "32655",
         "Thoracoscopy, surgical; with resection-plication of bullae, includes any pleural procedure when performed",
         "No Change"
        ],
        [
         "THOR",
         "32662",
         "Thoracoscopy, surgical; with excision of mediastinal cyst, tumor, or mass",
         "No Change"
        ],
        [
         "THOR",
         "32663",
         "Thoracoscopy, surgical; with lobectomy (single lobe)",
         "No Change"
        ],
        [
         "THOR",
         "32666",
         "Thoracoscopy, surgical; with therapeutic wedge resection (eg, mass, nodule), initial unilateral",
         "No Change"
        ],
        [
         "THOR",
         "32667",
         "Thoracoscopy, surgical; with therapeutic wedge resection (eg, mass or nodule), each No changeitional resection, ipsilateral (List separately in No changeition to code for primary procedure)",
         "No Change"
        ],
        [
         "THOR",
         "32668",
         "Thoracoscopy, surgical; with diagnostic wedge resection followed by anatomic lung resection (List separately in No changeition to code for primary procedure)",
         "No Change"
        ],
        [
         "THOR",
         "32669",
         "Thoracoscopy, surgical; with removal of a single lung segment (segmentectomy)",
         "No Change"
        ],
        [
         "THOR",
         "32670",
         "Thoracoscopy, surgical; with removal of two lobes (bilobectomy)",
         "No Change"
        ],
        [
         "THOR",
         "32671",
         "Thoracoscopy, surgical; with removal of lung (pneumonectomy)",
         "No Change"
        ],
        [
         "THOR",
         "32672",
         "Thoracoscopy, surgical; with resection-plication for emphysematous lung (bullous or non-bullous) for lung volume reduction (LVRS), unilateral includes any pleural procedure, when performed",
         "No Change"
        ],
        [
         "THOR",
         "32800",
         "Repair lung hernia through chest wall",
         "No Change"
        ],
        [
         "THOR",
         "32815",
         "Open closure of major bronchial fistula",
         "No Change"
        ],
        [
         "THOR",
         "32905",
         "Thoracoplasty, Schede type or extrapleural (all stages);",
         "No Change"
        ],
        [
         "THOR",
         "32906",
         "Thoracoplasty, Schede type or extrapleural (all stages); with closure of bronchopleural fistula",
         "No Change"
        ],
        [
         "THOR",
         "32940",
         "Pneumonolysis, extraperiosteal, including filling or packing procedures",
         "No Change"
        ],
        [
         "THOR",
         "32960",
         "Pneumothorax, therapeutic, intrapleural injection of air",
         "No Change"
        ],
        [
         "THOR",
         "39000",
         "Mediastinotomy with exploration, drainage, removal of foreign body, or biopsy; cervical approach",
         "No Change"
        ],
        [
         "THOR",
         "39010",
         "Mediastinotomy with exploration, drainage, removal of foreign body, or biopsy; transthoracic approach, including either transthoracic or median sternotomy",
         "No Change"
        ],
        [
         "THOR",
         "39200",
         "Resection of mediastinal cyst",
         "No Change"
        ],
        [
         "THOR",
         "39220",
         "Resection of mediastinal tumor",
         "No Change"
        ],
        [
         "THOR",
         "39501",
         "Repair, laceration of diaphragm, any approach",
         "No Change"
        ],
        [
         "THOR",
         "39545",
         "Imbrication of diaphragm for eventration, transthoracic or transabdominal, paralytic or nonparalytic",
         "No Change"
        ],
        [
         "THOR",
         "39560",
         "Resection, diaphragm; with simple repair (eg, primary suture)",
         "No Change"
        ],
        [
         "THOR",
         "39561",
         "Resection, diaphragm; with complex repair (eg, prosthetic material, local muscle flap)",
         "No Change"
        ],
        [
         "THOR",
         "64746",
         "Transection or avulsion of; phrenic nerve",
         "No Change"
        ],
        [
         "THYR",
         "60200",
         "Excision of cyst or adenoma of thyroid, or transection of isthmus",
         "No Change"
        ],
        [
         "THYR",
         "60210",
         "Partial thyroid lobectomy, unilateral; with or without isthmusectomy",
         "No Change"
        ],
        [
         "THYR",
         "60212",
         "Partial thyroid lobectomy, unilateral; with contralateral subtotal lobectomy, including isthmusectomy",
         "No Change"
        ],
        [
         "THYR",
         "60220",
         "Total thyroid lobectomy, unilateral; with or without isthmusectomy",
         "No Change"
        ],
        [
         "THYR",
         "60225",
         "Total thyroid lobectomy, unilateral; with contralateral subtotal lobectomy, including isthmusectomy",
         "No Change"
        ],
        [
         "THYR",
         "60240",
         "Thyroidectomy, total or complete",
         "No Change"
        ],
        [
         "THYR",
         "60252",
         "Thyroidectomy, total or subtotal for malignancy; with limited neck dissection",
         "No Change"
        ],
        [
         "THYR",
         "60254",
         "Thyroidectomy, total or subtotal for malignancy; with radical neck dissection",
         "No Change"
        ],
        [
         "THYR",
         "60260",
         "Thyroidectomy, removal of all remaining thyroid tissue following previous removal of a portion of thyroid",
         "No Change"
        ],
        [
         "THYR",
         "60270",
         "Thyroidectomy, including substernal thyroid; sternal split or transthoracic approach",
         "No Change"
        ],
        [
         "THYR",
         "60271",
         "Thyroidectomy, including substernal thyroid; cervical approach",
         "No Change"
        ],
        [
         "THYR",
         "60500",
         "Parathyroidectomy or exploration of parathyroid(s)",
         "No Change"
        ],
        [
         "THYR",
         "60502",
         "Parathyroidectomy or exploration of parathyroid(s); re-exploration",
         "No Change"
        ],
        [
         "THYR",
         "60505",
         "Parathyroidectomy or exploration of parathyroid(s); with mediastinal exploration, sternal split or transthoracic approach",
         "No Change"
        ],
        [
         "THYR",
         "60512",
         "Parathyroid autotransplantation (List separately in No changeition to code for primary procedure)",
         "No Change"
        ],
        [
         "VHYS",
         "51925",
         "Closure of vesicouterine fistula; with hysterectomy",
         "No Change"
        ],
        [
         "VHYS",
         "58260",
         "Vaginal hysterectomy, for uterus 250 g or less",
         "No Change"
        ],
        [
         "VHYS",
         "58262",
         "Vaginal hysterectomy, for uterus 250 g or less; with removal of tube(s), and/or ovary(s)",
         "No Change"
        ],
        [
         "VHYS",
         "58263",
         "Vaginal hysterectomy, for uterus 250 g or less; with removal of tube(s), and/or ovary(s), with repair of enterocele",
         "No Change"
        ],
        [
         "VHYS",
         "58267",
         "Vaginal hysterectomy, for uterus 250 g or less; with colpo-urethrocystopexy (Marshall-Marchetti-Krantz type, Pereyra type) with or without endoscopic control",
         "No Change"
        ],
        [
         "VHYS",
         "58270",
         "Vaginal hysterectomy, for uterus 250 g or less; with repair of enterocele",
         "No Change"
        ],
        [
         "VHYS",
         "58275",
         "Vaginal hysterectomy, for uterus 250 g or less;",
         "No Change"
        ],
        [
         "VHYS",
         "58280",
         "Vaginal hysterectomy, with total or partial vaginectomy; with repair of enterocele",
         "No Change"
        ],
        [
         "VHYS",
         "58285",
         "Vaginal hysterectomy, radical (Schauta type operation)",
         "No Change"
        ],
        [
         "VHYS",
         "58290",
         "Vaginal hysterectomy, for uterus greater than 250 g",
         "No Change"
        ],
        [
         "VHYS",
         "58291",
         "Vaginal hysterectomy, for uterus greater than 250 g; with removal of tube(s) and/or ovary(s)",
         "No Change"
        ],
        [
         "VHYS",
         "58292",
         "Vaginal hysterectomy, for uterus greater than 250 g; with removal of tube(s) and/or ovary(s), with repair of enterocele",
         "No Change"
        ],
        [
         "VHYS",
         "58293",
         "Vaginal hysterectomy, for uterus greater than 250 g; with colpo-urethrocystopexy (Marshall-Marchetti-Krantz type, Pereyra type) with or without endoscopic control",
         "No Change"
        ],
        [
         "VHYS",
         "58294",
         "Vaginal hysterectomy, for uterus greater than 250 g; with repair of enterocele",
         "No Change"
        ],
        [
         "VSHN",
         "62160",
         "Neuroendoscopy, intracranial, for placement or replacement of ventricular catheter and attachment to shunt system or external drainage (List separately in No changeition to code for primary procedure)",
         "No Change"
        ],
        [
         "VSHN",
         "62180",
         "Ventriculocisternostomy (Torkildsen type operation)",
         "No Change"
        ],
        [
         "VSHN",
         "62190",
         "Creation of shunt; subarachnoid/subdural-atrial, -jugular, -auricular",
         "No Change"
        ],
        [
         "VSHN",
         "62192",
         "Creation of shunt; subarachnoid/subdural-peritoneal, -pleural, other terminus",
         "No Change"
        ],
        [
         "VSHN",
         "62194",
         "Replacement or irrigation, subarachnoid/subdural catheter",
         "No Change"
        ],
        [
         "VSHN",
         "62220",
         "Creation of shunt; ventriculo-atrial, -jugular, -auricular",
         "No Change"
        ],
        [
         "VSHN",
         "62223",
         "Creation of shunt; ventriculo-peritoneal, -pleural, other terminus",
         "No Change"
        ],
        [
         "VSHN",
         "62225",
         "Replacement or irrigation, ventricular catheter",
         "No Change"
        ],
        [
         "VSHN",
         "62230",
         "Replacement or revision of cerebrospinal fluid shunt, obstructed valve, or distal catheter in shunt system",
         "No Change"
        ],
        [
         "VSHN",
         "62256",
         "Removal of complete cerebrospinal fluid shunt system; without replacement",
         "No Change"
        ],
        [
         "VSHN",
         "62258",
         "Removal of complete cerebrospinal fluid shunt system; with replacement by similar or other shunt at same operation",
         "No Change"
        ],
        [
         "XLAP",
         "20102",
         "Exploration of penetrating wound (separate procedure); abdomen/flank/back",
         "No Change"
        ],
        [
         "XLAP",
         "35840",
         "Exploration for postoperative hemorrhage, thrombosis or infection; abdomen",
         "No Change"
        ],
        [
         "XLAP",
         "39503",
         "Repair, neonatal diaphragmatic hernia, with or without chest tube insertion and with or without creation of ventral hernia",
         "No Change"
        ],
        [
         "XLAP",
         "39540",
         "Repair, diaphragmatic hernia (other than neonatal), traumatic; acute",
         "No Change"
        ],
        [
         "XLAP",
         "39541",
         "Repair, diaphragmatic hernia (other than neonatal), traumatic; chronic",
         "No Change"
        ],
        [
         "XLAP",
         "43332",
         "Repair, paraesophageal hiatal hernia (including fundoplication), via laparotomy, except neonatal; without implantation of mesh or other prosthesis",
         "No Change"
        ],
        [
         "XLAP",
         "43333",
         "Repair, paraesophageal hiatal hernia (including fundoplication), via laparotomy, except neonatal; with implantation of mesh or other prosthesis",
         "No Change"
        ],
        [
         "XLAP",
         "44005",
         "Enterolysis (freeing of intestinal adhesions) (separate procedure)",
         "No Change"
        ],
        [
         "XLAP",
         "44180",
         "Laparoscopy, surgical, enterolysis (freeing of intestinal adhesion) (separate procedure)",
         "No Change"
        ],
        [
         "XLAP",
         "44700",
         "Exclusion of small intestine from pelvis by mesh or other prosthesis, or native tissue (eg, bladder or omentum)",
         "No Change"
        ],
        [
         "XLAP",
         "44820",
         "Excision of lesion of mesentery (separate procedure)",
         "No Change"
        ],
        [
         "XLAP",
         "44850",
         "Suture of mesentery (separate procedure)",
         "No Change"
        ],
        [
         "XLAP",
         "49000",
         "Exploratory laparotomy, exploratory celiotomy with or without biopsy(s) (separate procedure)",
         "No Change"
        ],
        [
         "XLAP",
         "49002",
         "Reopening of recent laparotomy",
         "No Change"
        ],
        [
         "XLAP",
         "49010",
         "Exploration, retroperitoneal area with or without biopsy(s) (separate procedure)",
         "No Change"
        ],
        [
         "XLAP",
         "49013",
         "Preperitoneal pelvic packing for hemorrhage associated with pelvic trauma, including local exploration",
         "No change"
        ],
        [
         "XLAP",
         "49014",
         "Re-exploration of pelvic wound with removal of preperitoneal pelvic packing, including repacking, when performed",
         "No change"
        ],
        [
         "XLAP",
         "49020",
         "Drainage of peritoneal abscess or localized peritonitis, exclusive of appendiceal abscess, open",
         "No Change"
        ],
        [
         "XLAP",
         "49040",
         "Drainage of subdiaphragmatic or subphrenic abscess, open",
         "No Change"
        ],
        [
         "XLAP",
         "49060",
         "Drainage of retroperitoneal abscess, open",
         "No Change"
        ],
        [
         "XLAP",
         "49203",
         "Excision or destruction, open, intra-abdominal tumors, cysts or endometriomas, 1 or more peritoneal, mesenteric, or retroperitoneal primary or secondary tumors; largest tumor 5 cm diameter or less",
         "No Change"
        ],
        [
         "XLAP",
         "49204",
         "Excision or destruction, open, intra-abdominal tumors, cysts or endometriomas, 1 or more peritoneal, mesenteric, or retroperitoneal primary or secondary tumors; largest tumor 5.1-10.0 cm diameter",
         "No Change"
        ],
        [
         "XLAP",
         "49205",
         "Excision or destruction, open, intra-abdominal tumors, cysts or endometriomas, 1 or more peritoneal, mesenteric, or retroperitoneal primary or secondary tumors; largest tumor greater than 10.0 cm diameter",
         "No Change"
        ],
        [
         "XLAP",
         "49215",
         "Excision of presacral or sacrococcygeal tumor",
         "No Change"
        ],
        [
         "XLAP",
         "49220",
         "Staging laparotomy for Hodgkin's disease or lymphoma (includes splenectomy, needle or open biopsies of both liver lobes, possibly also removal of abdominal nodes, abdominal node and/or bone marrow biopsies, ovarian repositioning)",
         "No Change"
        ],
        [
         "XLAP",
         "49250",
         "Umbilectomy, omphalectomy, excision of umbilicus (separate procedure)",
         "No Change"
        ],
        [
         "XLAP",
         "49255",
         "Omentectomy, epiploectomy, resection of omentum (separate procedure)",
         "No Change"
        ],
        [
         "XLAP",
         "49320",
         "Laparoscopy, abdomen, peritoneum, and omentum, diagnostic, with or without collection of specimen(s) by brushing or washing (separate procedure)",
         "No Change"
        ],
        [
         "XLAP",
         "49321",
         "Laparoscopy, surgical; with biopsy (single or multiple) ",
         "No Change"
        ],
        [
         "XLAP",
         "49324",
         "Laparoscopy, surgical; with insertion of tunneled intraperitoneal catheter",
         "No Change"
        ],
        [
         "XLAP",
         "49325",
         "Laparoscopy, surgical; with revision of previously placed intraperitoneal cannula or catheter, with removal of intraluminal obstructive material if performed",
         "No Change"
        ],
        [
         "XLAP",
         "49326",
         "Laparoscopy, surgical; with omentopexy (omental tacking procedure) (List separately in No changeition to code for primary procedure)",
         "No Change"
        ],
        [
         "XLAP",
         "49402",
         "Removal of peritoneal foreign body from peritoneal cavity",
         "No Change"
        ],
        [
         "XLAP",
         "49412",
         "Placement of interstitial device(s) for radiation therapy guidance (eg, fiducial markers, dosimeter), open, intra-abdominal, intrapelvic, and/or retroperitoneum, including image guidance, if performed, single or multiple (List separately in No changeition to code for primary procedure)",
         "No Change"
        ],
        [
         "XLAP",
         "49419",
         "Insertion of tunneled intraperitoneal catheter, with subcutaneous port (ie, totally implantable)",
         "No Change"
        ],
        [
         "XLAP",
         "49421",
         "Insertion of tunneled intraperitoneal catheter for dialysis, open",
         "No Change"
        ],
        [
         "XLAP",
         "49425",
         "Insertion of peritoneal-venous shunt",
         "No Change"
        ],
        [
         "XLAP",
         "49426",
         "Revision of peritoneal-venous shunt",
         "No Change"
        ],
        [
         "XLAP",
         "49900",
         "Suture, secondary, of abdominal wall for evisceration or dehiscence",
         "No Change"
        ],
        [
         "XLAP",
         "49905",
         "Omental flap, intra-abdominal (List separately in No changeition to code for primary procedure)",
         "No Change"
        ],
        [
         "XLAP",
         "49906",
         "Free omental flap with microvascular anastomosis",
         "No Change"
        ],
        [
         "XLAP",
         "58960",
         "Laparotomy, for staging or restaging of ovarian, tubal, or primary peritoneal malignancy (second look), with or without omentectomy, peritoneal washing, biopsy of abdominal and pelvic peritoneum, diaphragmatic assessment with pelvic and limited para-aortic lymphadenectomy",
         "No Change"
        ]
       ],
       "datasetInfos": [],
       "dbfsResultPath": null,
       "isJsonSchema": true,
       "metadata": {},
       "overflow": false,
       "plotOptions": {
        "customPlotOptions": {},
        "displayType": "table",
        "pivotAggregation": null,
        "pivotColumns": null,
        "xColumns": null,
        "yColumns": null
       },
       "removedWidgets": [],
       "schema": [
        {
         "metadata": "{}",
         "name": "procedure_code_category",
         "type": "\"string\""
        },
        {
         "metadata": "{}",
         "name": "cpt_codes",
         "type": "\"string\""
        },
        {
         "metadata": "{}",
         "name": "procedure_code_descriptions",
         "type": "\"string\""
        },
        {
         "metadata": "{}",
         "name": "code_status",
         "type": "\"string\""
        }
       ],
       "type": "table"
      }
     },
     "output_type": "display_data"
    }
   ],
   "source": [
    "from pyspark.sql import SparkSession, functions as f\n",
    "\n",
    "# Read the CSV file\n",
    "cptcodes_df = spark.read.csv(\"/mnt/landing/cptdata/*.csv\", header=True)\n",
    "\n",
    "# Replace whitespaces in column names with underscores and convert to lowercase\n",
    "for col in cptcodes_df.columns:\n",
    "    new_col = col.replace(\" \", \"_\").lower()\n",
    "    cptcodes_df = cptcodes_df.withColumnRenamed(col, new_col)\n",
    "cptcodes_df.createOrReplaceTempView(\"cptcodes\")\n",
    "display(cptcodes_df)"
   ]
  },
  {
   "cell_type": "code",
   "execution_count": 0,
   "metadata": {
    "application/vnd.databricks.v1+cell": {
     "cellMetadata": {
      "byteLimit": 2048000,
      "rowLimit": 10000
     },
     "inputWidgets": {},
     "nuid": "4e853aaf-96e4-40ee-a944-541fb8ae78ef",
     "showTitle": false,
     "tableResultSettingsMap": {},
     "title": ""
    }
   },
   "outputs": [],
   "source": [
    "#writing cpt codes to bronze layer\n",
    "cptcodes_df.write.format(\"parquet\").mode(\"overwrite\").save(\"/mnt/bronze/cpt_codes\")"
   ]
  },
  {
   "cell_type": "code",
   "execution_count": 0,
   "metadata": {
    "application/vnd.databricks.v1+cell": {
     "cellMetadata": {
      "byteLimit": 2048000,
      "implicitDf": true,
      "rowLimit": 10000
     },
     "inputWidgets": {},
     "nuid": "1ad65f2c-0b4a-4e6d-a8b2-e4fc230ff04c",
     "showTitle": false,
     "tableResultSettingsMap": {},
     "title": ""
    }
   },
   "outputs": [
    {
     "output_type": "display_data",
     "data": {
      "text/html": [
       "<style scoped>\n",
       "  .table-result-container {\n",
       "    max-height: 300px;\n",
       "    overflow: auto;\n",
       "  }\n",
       "  table, th, td {\n",
       "    border: 1px solid black;\n",
       "    border-collapse: collapse;\n",
       "  }\n",
       "  th, td {\n",
       "    padding: 5px;\n",
       "  }\n",
       "  th {\n",
       "    text-align: left;\n",
       "  }\n",
       "</style><div class='table-result-container'><table class='table-result'><thead style='background-color: white'><tr></tr></thead><tbody></tbody></table></div>"
      ]
     },
     "metadata": {
      "application/vnd.databricks.v1+output": {
       "addedWidgets": {},
       "aggData": [],
       "aggError": "",
       "aggOverflow": false,
       "aggSchema": [],
       "aggSeriesLimitReached": false,
       "aggType": "",
       "arguments": {},
       "columnCustomDisplayInfos": {},
       "data": [],
       "datasetInfos": [],
       "dbfsResultPath": null,
       "isJsonSchema": true,
       "metadata": {
        "dataframeName": null
       },
       "overflow": false,
       "plotOptions": {
        "customPlotOptions": {},
        "displayType": "table",
        "pivotAggregation": null,
        "pivotColumns": null,
        "xColumns": null,
        "yColumns": null
       },
       "removedWidgets": [],
       "schema": [],
       "type": "table"
      }
     },
     "output_type": "display_data"
    }
   ],
   "source": [
    "%sql\n",
    "CREATE TABLE IF NOT EXISTS cpt_codes USING PARQUET LOCATION '/mnt/bronze/cpt_codes'\n"
   ]
  },
  {
   "cell_type": "code",
   "execution_count": 0,
   "metadata": {
    "application/vnd.databricks.v1+cell": {
     "cellMetadata": {
      "byteLimit": 2048000,
      "implicitDf": true,
      "rowLimit": 10000
     },
     "inputWidgets": {},
     "nuid": "c57974bc-f748-4d5d-9c5a-83af630ce38e",
     "showTitle": false,
     "tableResultSettingsMap": {},
     "title": ""
    }
   },
   "outputs": [
    {
     "output_type": "display_data",
     "data": {
      "text/html": [
       "<style scoped>\n",
       "  .table-result-container {\n",
       "    max-height: 300px;\n",
       "    overflow: auto;\n",
       "  }\n",
       "  table, th, td {\n",
       "    border: 1px solid black;\n",
       "    border-collapse: collapse;\n",
       "  }\n",
       "  th, td {\n",
       "    padding: 5px;\n",
       "  }\n",
       "  th {\n",
       "    text-align: left;\n",
       "  }\n",
       "</style><div class='table-result-container'><table class='table-result'><thead style='background-color: white'><tr><th>procedure_code_category</th><th>cpt_codes</th><th>procedure_code_descriptions</th><th>code_status</th></tr></thead><tbody><tr><td>AAA</td><td>34830</td><td>Open repair of infrarenal aortic aneurysm or dissection, plus repair of associated arterial trauma, following unsuccessful endovascular repair; tube prosthesis  </td><td>No Change</td></tr><tr><td>AAA</td><td>34831</td><td>Open repair of infrarenal aortic aneurysm or dissection, plus repair of associated arterial trauma, following unsuccessful endovascular repair; aorto-bi-iliac prosthesis </td><td>No Change</td></tr><tr><td>AAA</td><td>34832</td><td>Open repair of infrarenal aortic aneurysm or dissection, plus repair of associated arterial trauma, following unsuccessful endovascular repair; aorto-bifemoral prosthesis  </td><td>No Change</td></tr><tr><td>AAA</td><td>35081</td><td>Direct repair of aneurysm, pseudoaneurysm, or excision (partial or total) and graft insertion, with or without patch graft; for aneurysm, pseudoaneurysm, and associated occlusive disease, abdominal aorta</td><td>No Change</td></tr><tr><td>AAA</td><td>35082</td><td>Direct repair of aneurysm, pseudoaneurysm, or excision (partial or total) and graft insertion, with or without patch graft; for ruptured aneurysm, abdominal aorta  </td><td>No Change</td></tr><tr><td>AAA</td><td>35091</td><td>Direct repair of aneurysm, pseudoaneurysm, or excision (partial or total) and graft insertion, with or without patch graft; for aneurysm, pseudoaneurysm, and associated occlusive disease, abdominal aorta involving visceral vessels (mesenteric, celiac, renal) </td><td>No Change</td></tr><tr><td>AAA</td><td>35092</td><td>Direct repair of aneurysm, pseudoaneurysm, or excision (partial or total) and graft insertion, with or without patch graft; for ruptured aneurysm, abdominal aorta involving visceral vessels (mesenteric, celiac, renal)  </td><td>No Change</td></tr><tr><td>AAA</td><td>35102</td><td>Direct repair of aneurysm, pseudoaneurysm, or excision (partial or total) and graft insertion, with or without patch graft; for aneurysm, pseudoaneurysm, and associated occlusive disease, abdominal aorta involving iliac vessels (common, hypogastric, external)  </td><td>No Change</td></tr><tr><td>AAA</td><td>35103</td><td>Direct repair of aneurysm, pseudoaneurysm, or excision (partial or total) and graft insertion, with or without patch graft; for ruptured aneurysm, abdominal aorta involving iliac vessels (common, hypogastric, external)  </td><td>No Change</td></tr><tr><td>AMP</td><td>23900</td><td>Interthoracoscapular amputation (forequarter)</td><td>No Change</td></tr></tbody></table></div>"
      ]
     },
     "metadata": {
      "application/vnd.databricks.v1+output": {
       "addedWidgets": {},
       "aggData": [],
       "aggError": "",
       "aggOverflow": false,
       "aggSchema": [],
       "aggSeriesLimitReached": false,
       "aggType": "",
       "arguments": {},
       "columnCustomDisplayInfos": {},
       "data": [
        [
         "AAA",
         "34830",
         "Open repair of infrarenal aortic aneurysm or dissection, plus repair of associated arterial trauma, following unsuccessful endovascular repair; tube prosthesis  ",
         "No Change"
        ],
        [
         "AAA",
         "34831",
         "Open repair of infrarenal aortic aneurysm or dissection, plus repair of associated arterial trauma, following unsuccessful endovascular repair; aorto-bi-iliac prosthesis ",
         "No Change"
        ],
        [
         "AAA",
         "34832",
         "Open repair of infrarenal aortic aneurysm or dissection, plus repair of associated arterial trauma, following unsuccessful endovascular repair; aorto-bifemoral prosthesis  ",
         "No Change"
        ],
        [
         "AAA",
         "35081",
         "Direct repair of aneurysm, pseudoaneurysm, or excision (partial or total) and graft insertion, with or without patch graft; for aneurysm, pseudoaneurysm, and associated occlusive disease, abdominal aorta",
         "No Change"
        ],
        [
         "AAA",
         "35082",
         "Direct repair of aneurysm, pseudoaneurysm, or excision (partial or total) and graft insertion, with or without patch graft; for ruptured aneurysm, abdominal aorta  ",
         "No Change"
        ],
        [
         "AAA",
         "35091",
         "Direct repair of aneurysm, pseudoaneurysm, or excision (partial or total) and graft insertion, with or without patch graft; for aneurysm, pseudoaneurysm, and associated occlusive disease, abdominal aorta involving visceral vessels (mesenteric, celiac, renal) ",
         "No Change"
        ],
        [
         "AAA",
         "35092",
         "Direct repair of aneurysm, pseudoaneurysm, or excision (partial or total) and graft insertion, with or without patch graft; for ruptured aneurysm, abdominal aorta involving visceral vessels (mesenteric, celiac, renal)  ",
         "No Change"
        ],
        [
         "AAA",
         "35102",
         "Direct repair of aneurysm, pseudoaneurysm, or excision (partial or total) and graft insertion, with or without patch graft; for aneurysm, pseudoaneurysm, and associated occlusive disease, abdominal aorta involving iliac vessels (common, hypogastric, external)  ",
         "No Change"
        ],
        [
         "AAA",
         "35103",
         "Direct repair of aneurysm, pseudoaneurysm, or excision (partial or total) and graft insertion, with or without patch graft; for ruptured aneurysm, abdominal aorta involving iliac vessels (common, hypogastric, external)  ",
         "No Change"
        ],
        [
         "AMP",
         "23900",
         "Interthoracoscapular amputation (forequarter)",
         "No Change"
        ]
       ],
       "datasetInfos": [],
       "dbfsResultPath": null,
       "isJsonSchema": true,
       "metadata": {
        "createTempViewForImplicitDf": true,
        "dataframeName": "_sqldf",
        "executionCount": 11
       },
       "overflow": false,
       "plotOptions": {
        "customPlotOptions": {},
        "displayType": "table",
        "pivotAggregation": null,
        "pivotColumns": null,
        "xColumns": null,
        "yColumns": null
       },
       "removedWidgets": [],
       "schema": [
        {
         "metadata": "{}",
         "name": "procedure_code_category",
         "type": "\"string\""
        },
        {
         "metadata": "{}",
         "name": "cpt_codes",
         "type": "\"string\""
        },
        {
         "metadata": "{}",
         "name": "procedure_code_descriptions",
         "type": "\"string\""
        },
        {
         "metadata": "{}",
         "name": "code_status",
         "type": "\"string\""
        }
       ],
       "type": "table"
      }
     },
     "output_type": "display_data"
    }
   ],
   "source": [
    "%sql \n",
    "select * from cpt_codes limit 10"
   ]
  },
  {
   "cell_type": "code",
   "execution_count": 0,
   "metadata": {
    "application/vnd.databricks.v1+cell": {
     "cellMetadata": {
      "byteLimit": 2048000,
      "implicitDf": true,
      "rowLimit": 10000
     },
     "inputWidgets": {},
     "nuid": "c66d6645-cebd-41a0-ae81-8711a2509b1c",
     "showTitle": false,
     "tableResultSettingsMap": {},
     "title": ""
    }
   },
   "outputs": [
    {
     "output_type": "display_data",
     "data": {
      "text/html": [
       "<style scoped>\n",
       "  .table-result-container {\n",
       "    max-height: 300px;\n",
       "    overflow: auto;\n",
       "  }\n",
       "  table, th, td {\n",
       "    border: 1px solid black;\n",
       "    border-collapse: collapse;\n",
       "  }\n",
       "  th, td {\n",
       "    padding: 5px;\n",
       "  }\n",
       "  th {\n",
       "    text-align: left;\n",
       "  }\n",
       "</style><div class='table-result-container'><table class='table-result'><thead style='background-color: white'><tr></tr></thead><tbody></tbody></table></div>"
      ]
     },
     "metadata": {
      "application/vnd.databricks.v1+output": {
       "addedWidgets": {},
       "aggData": [],
       "aggError": "",
       "aggOverflow": false,
       "aggSchema": [],
       "aggSeriesLimitReached": false,
       "aggType": "",
       "arguments": {},
       "columnCustomDisplayInfos": {},
       "data": [],
       "datasetInfos": [],
       "dbfsResultPath": null,
       "isJsonSchema": true,
       "metadata": {
        "dataframeName": null
       },
       "overflow": false,
       "plotOptions": {
        "customPlotOptions": {},
        "displayType": "table",
        "pivotAggregation": null,
        "pivotColumns": null,
        "xColumns": null,
        "yColumns": null
       },
       "removedWidgets": [],
       "schema": [],
       "type": "table"
      }
     },
     "output_type": "display_data"
    }
   ],
   "source": [
    "%sql \n",
    "CREATE OR REPLACE TEMP VIEW data_quality_check AS \n",
    "SELECT \n",
    "    cpt_codes,\n",
    "    procedure_code_category,\n",
    "    procedure_code_descriptions,\n",
    "    code_status,\n",
    "    CASE \n",
    "        WHEN cpt_codes IS NULL OR procedure_code_descriptions IS NULL THEN true \n",
    "        ELSE false \n",
    "    END AS is_quarantined\n",
    "FROM cpt_codes\n",
    "\n",
    "\n"
   ]
  },
  {
   "cell_type": "code",
   "execution_count": 0,
   "metadata": {
    "application/vnd.databricks.v1+cell": {
     "cellMetadata": {
      "byteLimit": 2048000,
      "implicitDf": true,
      "rowLimit": 10000
     },
     "inputWidgets": {},
     "nuid": "2b591cd8-5e36-43ca-ace8-a52259d4a65e",
     "showTitle": false,
     "tableResultSettingsMap": {
      "0": {
       "dataGridStateBlob": "{\"version\":1,\"tableState\":{\"columnPinning\":{\"left\":[\"#row_number#\"],\"right\":[]},\"columnSizing\":{},\"columnVisibility\":{}},\"settings\":{\"columns\":{}},\"syncTimestamp\":1753754460821}",
       "filterBlob": null,
       "queryPlanFiltersBlob": null,
       "tableResultIndex": 0
      }
     },
     "title": ""
    }
   },
   "outputs": [
    {
     "output_type": "display_data",
     "data": {
      "text/html": [
       "<style scoped>\n",
       "  .table-result-container {\n",
       "    max-height: 300px;\n",
       "    overflow: auto;\n",
       "  }\n",
       "  table, th, td {\n",
       "    border: 1px solid black;\n",
       "    border-collapse: collapse;\n",
       "  }\n",
       "  th, td {\n",
       "    padding: 5px;\n",
       "  }\n",
       "  th {\n",
       "    text-align: left;\n",
       "  }\n",
       "</style><div class='table-result-container'><table class='table-result'><thead style='background-color: white'><tr><th>cpt_codes</th><th>procedure_code_category</th><th>procedure_code_descriptions</th><th>code_status</th><th>is_quarantined</th></tr></thead><tbody><tr><td>34830</td><td>AAA</td><td>Open repair of infrarenal aortic aneurysm or dissection, plus repair of associated arterial trauma, following unsuccessful endovascular repair; tube prosthesis  </td><td>No Change</td><td>false</td></tr><tr><td>34831</td><td>AAA</td><td>Open repair of infrarenal aortic aneurysm or dissection, plus repair of associated arterial trauma, following unsuccessful endovascular repair; aorto-bi-iliac prosthesis </td><td>No Change</td><td>false</td></tr><tr><td>34832</td><td>AAA</td><td>Open repair of infrarenal aortic aneurysm or dissection, plus repair of associated arterial trauma, following unsuccessful endovascular repair; aorto-bifemoral prosthesis  </td><td>No Change</td><td>false</td></tr><tr><td>35081</td><td>AAA</td><td>Direct repair of aneurysm, pseudoaneurysm, or excision (partial or total) and graft insertion, with or without patch graft; for aneurysm, pseudoaneurysm, and associated occlusive disease, abdominal aorta</td><td>No Change</td><td>false</td></tr><tr><td>35082</td><td>AAA</td><td>Direct repair of aneurysm, pseudoaneurysm, or excision (partial or total) and graft insertion, with or without patch graft; for ruptured aneurysm, abdominal aorta  </td><td>No Change</td><td>false</td></tr><tr><td>35091</td><td>AAA</td><td>Direct repair of aneurysm, pseudoaneurysm, or excision (partial or total) and graft insertion, with or without patch graft; for aneurysm, pseudoaneurysm, and associated occlusive disease, abdominal aorta involving visceral vessels (mesenteric, celiac, renal) </td><td>No Change</td><td>false</td></tr><tr><td>35092</td><td>AAA</td><td>Direct repair of aneurysm, pseudoaneurysm, or excision (partial or total) and graft insertion, with or without patch graft; for ruptured aneurysm, abdominal aorta involving visceral vessels (mesenteric, celiac, renal)  </td><td>No Change</td><td>false</td></tr><tr><td>35102</td><td>AAA</td><td>Direct repair of aneurysm, pseudoaneurysm, or excision (partial or total) and graft insertion, with or without patch graft; for aneurysm, pseudoaneurysm, and associated occlusive disease, abdominal aorta involving iliac vessels (common, hypogastric, external)  </td><td>No Change</td><td>false</td></tr><tr><td>35103</td><td>AAA</td><td>Direct repair of aneurysm, pseudoaneurysm, or excision (partial or total) and graft insertion, with or without patch graft; for ruptured aneurysm, abdominal aorta involving iliac vessels (common, hypogastric, external)  </td><td>No Change</td><td>false</td></tr><tr><td>23900</td><td>AMP</td><td>Interthoracoscapular amputation (forequarter)</td><td>No Change</td><td>false</td></tr></tbody></table></div>"
      ]
     },
     "metadata": {
      "application/vnd.databricks.v1+output": {
       "addedWidgets": {},
       "aggData": [],
       "aggError": "",
       "aggOverflow": false,
       "aggSchema": [],
       "aggSeriesLimitReached": false,
       "aggType": "",
       "arguments": {},
       "columnCustomDisplayInfos": {},
       "data": [
        [
         "34830",
         "AAA",
         "Open repair of infrarenal aortic aneurysm or dissection, plus repair of associated arterial trauma, following unsuccessful endovascular repair; tube prosthesis  ",
         "No Change",
         false
        ],
        [
         "34831",
         "AAA",
         "Open repair of infrarenal aortic aneurysm or dissection, plus repair of associated arterial trauma, following unsuccessful endovascular repair; aorto-bi-iliac prosthesis ",
         "No Change",
         false
        ],
        [
         "34832",
         "AAA",
         "Open repair of infrarenal aortic aneurysm or dissection, plus repair of associated arterial trauma, following unsuccessful endovascular repair; aorto-bifemoral prosthesis  ",
         "No Change",
         false
        ],
        [
         "35081",
         "AAA",
         "Direct repair of aneurysm, pseudoaneurysm, or excision (partial or total) and graft insertion, with or without patch graft; for aneurysm, pseudoaneurysm, and associated occlusive disease, abdominal aorta",
         "No Change",
         false
        ],
        [
         "35082",
         "AAA",
         "Direct repair of aneurysm, pseudoaneurysm, or excision (partial or total) and graft insertion, with or without patch graft; for ruptured aneurysm, abdominal aorta  ",
         "No Change",
         false
        ],
        [
         "35091",
         "AAA",
         "Direct repair of aneurysm, pseudoaneurysm, or excision (partial or total) and graft insertion, with or without patch graft; for aneurysm, pseudoaneurysm, and associated occlusive disease, abdominal aorta involving visceral vessels (mesenteric, celiac, renal) ",
         "No Change",
         false
        ],
        [
         "35092",
         "AAA",
         "Direct repair of aneurysm, pseudoaneurysm, or excision (partial or total) and graft insertion, with or without patch graft; for ruptured aneurysm, abdominal aorta involving visceral vessels (mesenteric, celiac, renal)  ",
         "No Change",
         false
        ],
        [
         "35102",
         "AAA",
         "Direct repair of aneurysm, pseudoaneurysm, or excision (partial or total) and graft insertion, with or without patch graft; for aneurysm, pseudoaneurysm, and associated occlusive disease, abdominal aorta involving iliac vessels (common, hypogastric, external)  ",
         "No Change",
         false
        ],
        [
         "35103",
         "AAA",
         "Direct repair of aneurysm, pseudoaneurysm, or excision (partial or total) and graft insertion, with or without patch graft; for ruptured aneurysm, abdominal aorta involving iliac vessels (common, hypogastric, external)  ",
         "No Change",
         false
        ],
        [
         "23900",
         "AMP",
         "Interthoracoscapular amputation (forequarter)",
         "No Change",
         false
        ]
       ],
       "datasetInfos": [],
       "dbfsResultPath": null,
       "isJsonSchema": true,
       "metadata": {
        "createTempViewForImplicitDf": true,
        "dataframeName": "_sqldf",
        "executionCount": 17
       },
       "overflow": false,
       "plotOptions": {
        "customPlotOptions": {},
        "displayType": "table",
        "pivotAggregation": null,
        "pivotColumns": null,
        "xColumns": null,
        "yColumns": null
       },
       "removedWidgets": [],
       "schema": [
        {
         "metadata": "{}",
         "name": "cpt_codes",
         "type": "\"string\""
        },
        {
         "metadata": "{}",
         "name": "procedure_code_category",
         "type": "\"string\""
        },
        {
         "metadata": "{}",
         "name": "procedure_code_descriptions",
         "type": "\"string\""
        },
        {
         "metadata": "{}",
         "name": "code_status",
         "type": "\"string\""
        },
        {
         "metadata": "{}",
         "name": "is_quarantined",
         "type": "\"boolean\""
        }
       ],
       "type": "table"
      }
     },
     "output_type": "display_data"
    }
   ],
   "source": [
    "%sql \n",
    "select * from data_quality_check limit 10"
   ]
  },
  {
   "cell_type": "code",
   "execution_count": 0,
   "metadata": {
    "application/vnd.databricks.v1+cell": {
     "cellMetadata": {
      "byteLimit": 2048000,
      "implicitDf": true,
      "rowLimit": 10000
     },
     "inputWidgets": {},
     "nuid": "45e79ddc-9d76-4149-8f13-209d3dd1ad9a",
     "showTitle": false,
     "tableResultSettingsMap": {},
     "title": ""
    }
   },
   "outputs": [
    {
     "output_type": "display_data",
     "data": {
      "text/html": [
       "<style scoped>\n",
       "  .table-result-container {\n",
       "    max-height: 300px;\n",
       "    overflow: auto;\n",
       "  }\n",
       "  table, th, td {\n",
       "    border: 1px solid black;\n",
       "    border-collapse: collapse;\n",
       "  }\n",
       "  th, td {\n",
       "    padding: 5px;\n",
       "  }\n",
       "  th {\n",
       "    text-align: left;\n",
       "  }\n",
       "</style><div class='table-result-container'><table class='table-result'><thead style='background-color: white'><tr></tr></thead><tbody></tbody></table></div>"
      ]
     },
     "metadata": {
      "application/vnd.databricks.v1+output": {
       "addedWidgets": {},
       "aggData": [],
       "aggError": "",
       "aggOverflow": false,
       "aggSchema": [],
       "aggSeriesLimitReached": false,
       "aggType": "",
       "arguments": {},
       "columnCustomDisplayInfos": {},
       "data": [],
       "datasetInfos": [],
       "dbfsResultPath": null,
       "isJsonSchema": true,
       "metadata": {
        "dataframeName": null
       },
       "overflow": false,
       "plotOptions": {
        "customPlotOptions": {},
        "displayType": "table",
        "pivotAggregation": null,
        "pivotColumns": null,
        "xColumns": null,
        "yColumns": null
       },
       "removedWidgets": [],
       "schema": [],
       "type": "table"
      }
     },
     "output_type": "display_data"
    }
   ],
   "source": [
    "%sql \n",
    "CREATE SCHEMA IF NOT EXISTS silver;\n",
    "CREATE TABLE IF NOT EXISTS silver.cptcodes (\n",
    "  cpt_codes STRING,\n",
    "  procedure_code_category STRING,\n",
    "  procedure_code_descriptions STRING,\n",
    "  code_status STRING,\n",
    "  is_quarantined BOOLEAN,\n",
    "  audit_insertdate TIMESTAMP,\n",
    "  audit_modifieddate TIMESTAMP,\n",
    "  is_current BOOLEAN\n",
    ")\n",
    "USING DELTA;\n"
   ]
  },
  {
   "cell_type": "markdown",
   "metadata": {
    "application/vnd.databricks.v1+cell": {
     "cellMetadata": {},
     "inputWidgets": {},
     "nuid": "40d07323-34db-4e85-a3ee-48fa1130c9a3",
     "showTitle": false,
     "tableResultSettingsMap": {},
     "title": ""
    }
   },
   "source": [
    "Implementing SCD Type 2 \n"
   ]
  },
  {
   "cell_type": "code",
   "execution_count": 0,
   "metadata": {
    "application/vnd.databricks.v1+cell": {
     "cellMetadata": {
      "byteLimit": 2048000,
      "implicitDf": true,
      "rowLimit": 10000
     },
     "inputWidgets": {},
     "nuid": "6f62484a-a299-4a19-8236-59d92c1d0603",
     "showTitle": false,
     "tableResultSettingsMap": {},
     "title": ""
    }
   },
   "outputs": [
    {
     "output_type": "display_data",
     "data": {
      "text/html": [
       "<style scoped>\n",
       "  .table-result-container {\n",
       "    max-height: 300px;\n",
       "    overflow: auto;\n",
       "  }\n",
       "  table, th, td {\n",
       "    border: 1px solid black;\n",
       "    border-collapse: collapse;\n",
       "  }\n",
       "  th, td {\n",
       "    padding: 5px;\n",
       "  }\n",
       "  th {\n",
       "    text-align: left;\n",
       "  }\n",
       "</style><div class='table-result-container'><table class='table-result'><thead style='background-color: white'><tr><th>num_affected_rows</th><th>num_updated_rows</th><th>num_deleted_rows</th><th>num_inserted_rows</th></tr></thead><tbody><tr><td>1161</td><td>0</td><td>0</td><td>1161</td></tr></tbody></table></div>"
      ]
     },
     "metadata": {
      "application/vnd.databricks.v1+output": {
       "addedWidgets": {},
       "aggData": [],
       "aggError": "",
       "aggOverflow": false,
       "aggSchema": [],
       "aggSeriesLimitReached": false,
       "aggType": "",
       "arguments": {},
       "columnCustomDisplayInfos": {},
       "data": [
        [
         1161,
         0,
         0,
         1161
        ]
       ],
       "datasetInfos": [],
       "dbfsResultPath": null,
       "isJsonSchema": true,
       "metadata": {
        "createTempViewForImplicitDf": true,
        "dataframeName": "_sqldf",
        "executionCount": 18
       },
       "overflow": false,
       "plotOptions": {
        "customPlotOptions": {},
        "displayType": "table",
        "pivotAggregation": null,
        "pivotColumns": null,
        "xColumns": null,
        "yColumns": null
       },
       "removedWidgets": [],
       "schema": [
        {
         "metadata": "{}",
         "name": "num_affected_rows",
         "type": "\"long\""
        },
        {
         "metadata": "{}",
         "name": "num_updated_rows",
         "type": "\"long\""
        },
        {
         "metadata": "{}",
         "name": "num_deleted_rows",
         "type": "\"long\""
        },
        {
         "metadata": "{}",
         "name": "num_inserted_rows",
         "type": "\"long\""
        }
       ],
       "type": "table"
      }
     },
     "output_type": "display_data"
    }
   ],
   "source": [
    "%sql \n",
    "MERGE INTO silver.cptcodes AS target\n",
    "USING data_quality_check AS source\n",
    "ON target.cpt_codes = source.cpt_codes AND target.is_current = true\n",
    "\n",
    "-- Step 1: End-date old version (update)\n",
    "WHEN MATCHED AND (\n",
    "    target.procedure_code_category != source.procedure_code_category OR\n",
    "    target.procedure_code_descriptions != source.procedure_code_descriptions OR\n",
    "    target.code_status != source.code_status OR\n",
    "    target.is_quarantined != source.is_quarantined\n",
    ") THEN\n",
    "  UPDATE SET\n",
    "    target.is_current = false,\n",
    "    target.audit_modifieddate = current_timestamp()\n",
    "\n",
    "-- Step 2: Insert new version (either changed or completely new)\n",
    "WHEN NOT MATCHED BY TARGET THEN\n",
    "  INSERT (\n",
    "    cpt_codes,\n",
    "    procedure_code_category,\n",
    "    procedure_code_descriptions,\n",
    "    code_status,\n",
    "    is_quarantined,\n",
    "    audit_insertdate,\n",
    "    audit_modifieddate,\n",
    "    is_current\n",
    "  )\n",
    "  VALUES (\n",
    "    source.cpt_codes,\n",
    "    source.procedure_code_category,\n",
    "    source.procedure_code_descriptions,\n",
    "    source.code_status,\n",
    "    source.is_quarantined,\n",
    "    current_timestamp(),\n",
    "    current_timestamp(),\n",
    "    true\n",
    "  );\n"
   ]
  }
 ],
 "metadata": {
  "application/vnd.databricks.v1+notebook": {
   "computePreferences": null,
   "dashboards": [],
   "environmentMetadata": {
    "base_environment": "",
    "environment_version": "2"
   },
   "inputWidgetPreferences": null,
   "language": "python",
   "notebookMetadata": {
    "mostRecentlyExecutedCommandWithImplicitDF": {
     "commandId": 8642474128970700,
     "dataframes": [
      "_sqldf"
     ]
    },
    "pythonIndentUnit": 4
   },
   "notebookName": "CPT_Silver",
   "widgets": {}
  },
  "language_info": {
   "name": "python"
  }
 },
 "nbformat": 4,
 "nbformat_minor": 0
}