{
 "cells": [
  {
   "cell_type": "code",
   "execution_count": 0,
   "metadata": {
    "application/vnd.databricks.v1+cell": {
     "cellMetadata": {
      "byteLimit": 2048000,
      "rowLimit": 10000
     },
     "inputWidgets": {},
     "nuid": "722071c5-1084-4581-a447-54be7650a4db",
     "showTitle": false,
     "tableResultSettingsMap": {},
     "title": ""
    }
   },
   "outputs": [
    {
     "output_type": "display_data",
     "data": {
      "text/html": [
       "<style scoped>\n",
       "  .table-result-container {\n",
       "    max-height: 300px;\n",
       "    overflow: auto;\n",
       "  }\n",
       "  table, th, td {\n",
       "    border: 1px solid black;\n",
       "    border-collapse: collapse;\n",
       "  }\n",
       "  th, td {\n",
       "    padding: 5px;\n",
       "  }\n",
       "  th {\n",
       "    text-align: left;\n",
       "  }\n",
       "</style><div class='table-result-container'><table class='table-result'><thead style='background-color: white'><tr><th>ProviderID</th><th>FirstName</th><th>LastName</th><th>Specialization</th><th>DeptID</th><th>NPI</th><th>datasource</th></tr></thead><tbody><tr><td>H1-PROV0001</td><td>Brandon</td><td>Harper</td><td>Oncology</td><td>DEPT018</td><td>3086631719</td><td>hosipitala</td></tr><tr><td>H1-PROV0002</td><td>Luke</td><td>Clark</td><td>Emergency Medicine</td><td>DEPT006</td><td>1265568618</td><td>hosipitala</td></tr><tr><td>H1-PROV0003</td><td>Brandon</td><td>Austin</td><td>Pediatrics</td><td>DEPT014</td><td>3152052791</td><td>hosipitala</td></tr><tr><td>H1-PROV0004</td><td>Anthony</td><td>Jones</td><td>Radiology</td><td>DEPT011</td><td>8195895822</td><td>hosipitala</td></tr><tr><td>H1-PROV0005</td><td>Courtney</td><td>Flores</td><td>Anesthesiology</td><td>DEPT009</td><td>4159583915</td><td>hosipitala</td></tr><tr><td>H1-PROV0006</td><td>Ricky</td><td>Johnson</td><td>Neurology</td><td>DEPT017</td><td>7386802836</td><td>hosipitala</td></tr><tr><td>H1-PROV0007</td><td>John</td><td>Carroll</td><td>Neurology</td><td>DEPT014</td><td>9500252998</td><td>hosipitala</td></tr><tr><td>H1-PROV0008</td><td>William</td><td>Stout</td><td>Emergency Medicine</td><td>DEPT005</td><td>3263108127</td><td>hosipitala</td></tr><tr><td>H1-PROV0009</td><td>Kelly</td><td>Cardenas</td><td>Neurology</td><td>DEPT005</td><td>971099357</td><td>hosipitala</td></tr><tr><td>H1-PROV0010</td><td>Dawn</td><td>Valdez</td><td>Psychiatry</td><td>DEPT008</td><td>8973799839</td><td>hosipitala</td></tr><tr><td>H1-PROV0011</td><td>Jennifer</td><td>Mcdonald</td><td>Emergency Medicine</td><td>DEPT002</td><td>3939322372</td><td>hosipitala</td></tr><tr><td>H1-PROV0012</td><td>Jennifer</td><td>Booth</td><td>Dermatology</td><td>DEPT004</td><td>3794188322</td><td>hosipitala</td></tr><tr><td>H1-PROV0013</td><td>Andrew</td><td>Reed</td><td>Pediatrics</td><td>DEPT006</td><td>5744228048</td><td>hosipitala</td></tr><tr><td>H1-PROV0014</td><td>Anthony</td><td>Edwards</td><td>Orthopedics</td><td>DEPT020</td><td>9041033020</td><td>hosipitala</td></tr><tr><td>H1-PROV0015</td><td>Harold</td><td>Avila</td><td>General Surgery</td><td>DEPT002</td><td>7383729324</td><td>hosipitala</td></tr><tr><td>H1-PROV0016</td><td>Stephanie</td><td>Bridges</td><td>Psychiatry</td><td>DEPT020</td><td>7216378001</td><td>hosipitala</td></tr><tr><td>H1-PROV0017</td><td>Frank</td><td>Jordan</td><td>Neurology</td><td>DEPT005</td><td>6851568158</td><td>hosipitala</td></tr><tr><td>H1-PROV0018</td><td>Adrian</td><td>Butler</td><td>Emergency Medicine</td><td>DEPT010</td><td>5971052640</td><td>hosipitala</td></tr><tr><td>H1-PROV0019</td><td>Adrian</td><td>Bates</td><td>Emergency Medicine</td><td>DEPT010</td><td>4170579628</td><td>hosipitala</td></tr><tr><td>H1-PROV0020</td><td>Steven</td><td>Norris</td><td>Psychiatry</td><td>DEPT007</td><td>7463053156</td><td>hosipitala</td></tr><tr><td>H1-PROV0021</td><td>Elizabeth</td><td>Palmer</td><td>Pediatrics</td><td>DEPT016</td><td>4117507956</td><td>hosipitala</td></tr><tr><td>H1-PROV0022</td><td>Danielle</td><td>Morris</td><td>Oncology</td><td>DEPT014</td><td>8416170674</td><td>hosipitala</td></tr><tr><td>H1-PROV0023</td><td>Amanda</td><td>Johnson</td><td>Neurology</td><td>DEPT018</td><td>852786459</td><td>hosipitala</td></tr><tr><td>H1-PROV0024</td><td>Michael</td><td>Rios</td><td>Dermatology</td><td>DEPT005</td><td>1080067352</td><td>hosipitala</td></tr><tr><td>H1-PROV0025</td><td>Lisa</td><td>Schmitt</td><td>Radiology</td><td>DEPT003</td><td>8707948901</td><td>hosipitala</td></tr><tr><td>H2-PROV0001</td><td>Wanda</td><td>Ramos</td><td>Pediatrics</td><td>DEPT003</td><td>9903342850</td><td>hosipitalb</td></tr><tr><td>H2-PROV0002</td><td>Steven</td><td>Roach</td><td>Radiology</td><td>DEPT010</td><td>3653586329</td><td>hosipitalb</td></tr><tr><td>H2-PROV0003</td><td>Amber</td><td>Martin</td><td>Emergency Medicine</td><td>DEPT002</td><td>6917277775</td><td>hosipitalb</td></tr><tr><td>H2-PROV0004</td><td>Ryan</td><td>Thompson</td><td>Oncology</td><td>DEPT007</td><td>5911746015</td><td>hosipitalb</td></tr><tr><td>H2-PROV0005</td><td>Michael</td><td>Gould</td><td>Neurology</td><td>DEPT018</td><td>5155973871</td><td>hosipitalb</td></tr><tr><td>H2-PROV0006</td><td>Austin</td><td>Fisher</td><td>Radiology</td><td>DEPT020</td><td>6938681303</td><td>hosipitalb</td></tr><tr><td>H2-PROV0007</td><td>Jack</td><td>Orozco</td><td>Cardiology</td><td>DEPT002</td><td>5919610313</td><td>hosipitalb</td></tr><tr><td>H2-PROV0008</td><td>Ryan</td><td>Nielsen</td><td>Radiology</td><td>DEPT006</td><td>779165968</td><td>hosipitalb</td></tr><tr><td>H2-PROV0009</td><td>Becky</td><td>Scott</td><td>Emergency Medicine</td><td>DEPT001</td><td>4880463675</td><td>hosipitalb</td></tr><tr><td>H2-PROV0010</td><td>Francisco</td><td>Taylor</td><td>Anesthesiology</td><td>DEPT017</td><td>9778155154</td><td>hosipitalb</td></tr><tr><td>H2-PROV0011</td><td>Isaac</td><td>Johnson</td><td>Anesthesiology</td><td>DEPT010</td><td>1865482724</td><td>hosipitalb</td></tr><tr><td>H2-PROV0012</td><td>Tara</td><td>Lopez</td><td>Anesthesiology</td><td>DEPT010</td><td>7337412625</td><td>hosipitalb</td></tr><tr><td>H2-PROV0013</td><td>Mikayla</td><td>Murphy</td><td>Pediatrics</td><td>DEPT011</td><td>2071097461</td><td>hosipitalb</td></tr><tr><td>H2-PROV0014</td><td>Mark</td><td>Sanchez</td><td>General Surgery</td><td>DEPT016</td><td>332121350</td><td>hosipitalb</td></tr><tr><td>H2-PROV0015</td><td>Jacob</td><td>Davis</td><td>Neurology</td><td>DEPT009</td><td>635687890</td><td>hosipitalb</td></tr><tr><td>H2-PROV0016</td><td>Sara</td><td>Hutchinson</td><td>Emergency Medicine</td><td>DEPT014</td><td>2873366247</td><td>hosipitalb</td></tr><tr><td>H2-PROV0017</td><td>Jason</td><td>Novak</td><td>Dermatology</td><td>DEPT002</td><td>7333373057</td><td>hosipitalb</td></tr><tr><td>H2-PROV0018</td><td>Heather</td><td>Beasley</td><td>Anesthesiology</td><td>DEPT008</td><td>5355900325</td><td>hosipitalb</td></tr><tr><td>H2-PROV0019</td><td>Wendy</td><td>Fisher</td><td>Anesthesiology</td><td>DEPT004</td><td>89308414</td><td>hosipitalb</td></tr><tr><td>H2-PROV0020</td><td>Veronica</td><td>Myers</td><td>Pediatrics</td><td>DEPT005</td><td>8319154772</td><td>hosipitalb</td></tr><tr><td>H2-PROV0021</td><td>Janet</td><td>Moody</td><td>Psychiatry</td><td>DEPT003</td><td>5424799523</td><td>hosipitalb</td></tr><tr><td>H2-PROV0022</td><td>Jeffrey</td><td>Cummings</td><td>Dermatology</td><td>DEPT003</td><td>5004296124</td><td>hosipitalb</td></tr><tr><td>H2-PROV0023</td><td>Angel</td><td>Stewart</td><td>Psychiatry</td><td>DEPT013</td><td>6068089514</td><td>hosipitalb</td></tr><tr><td>H2-PROV0024</td><td>Jorge</td><td>Richmond</td><td>General Surgery</td><td>DEPT013</td><td>1928310163</td><td>hosipitalb</td></tr><tr><td>H2-PROV0025</td><td>Joseph</td><td>Wilson</td><td>Dermatology</td><td>DEPT006</td><td>278988197</td><td>hosipitalb</td></tr><tr><td>H2-PROV0026</td><td>Patricia</td><td>Allen</td><td>Dermatology</td><td>DEPT020</td><td>894720951</td><td>hosipitalb</td></tr><tr><td>H2-PROV0027</td><td>Casey</td><td>Hughes</td><td>Orthopedics</td><td>DEPT012</td><td>5340793904</td><td>hosipitalb</td></tr><tr><td>H2-PROV0028</td><td>Samantha</td><td>Hale</td><td>Pediatrics</td><td>DEPT005</td><td>2444270642</td><td>hosipitalb</td></tr><tr><td>H2-PROV0029</td><td>Michael</td><td>Morales</td><td>Radiology</td><td>DEPT017</td><td>9476115529</td><td>hosipitalb</td></tr><tr><td>H2-PROV0030</td><td>Matthew</td><td>Paul</td><td>Oncology</td><td>DEPT020</td><td>8300274432</td><td>hosipitalb</td></tr></tbody></table></div>"
      ]
     },
     "metadata": {
      "application/vnd.databricks.v1+output": {
       "addedWidgets": {},
       "aggData": [],
       "aggError": "",
       "aggOverflow": false,
       "aggSchema": [],
       "aggSeriesLimitReached": false,
       "aggType": "",
       "arguments": {},
       "columnCustomDisplayInfos": {},
       "data": [
        [
         "H1-PROV0001",
         "Brandon",
         "Harper",
         "Oncology",
         "DEPT018",
         3086631719,
         "hosipitala"
        ],
        [
         "H1-PROV0002",
         "Luke",
         "Clark",
         "Emergency Medicine",
         "DEPT006",
         1265568618,
         "hosipitala"
        ],
        [
         "H1-PROV0003",
         "Brandon",
         "Austin",
         "Pediatrics",
         "DEPT014",
         3152052791,
         "hosipitala"
        ],
        [
         "H1-PROV0004",
         "Anthony",
         "Jones",
         "Radiology",
         "DEPT011",
         8195895822,
         "hosipitala"
        ],
        [
         "H1-PROV0005",
         "Courtney",
         "Flores",
         "Anesthesiology",
         "DEPT009",
         4159583915,
         "hosipitala"
        ],
        [
         "H1-PROV0006",
         "Ricky",
         "Johnson",
         "Neurology",
         "DEPT017",
         7386802836,
         "hosipitala"
        ],
        [
         "H1-PROV0007",
         "John",
         "Carroll",
         "Neurology",
         "DEPT014",
         9500252998,
         "hosipitala"
        ],
        [
         "H1-PROV0008",
         "William",
         "Stout",
         "Emergency Medicine",
         "DEPT005",
         3263108127,
         "hosipitala"
        ],
        [
         "H1-PROV0009",
         "Kelly",
         "Cardenas",
         "Neurology",
         "DEPT005",
         971099357,
         "hosipitala"
        ],
        [
         "H1-PROV0010",
         "Dawn",
         "Valdez",
         "Psychiatry",
         "DEPT008",
         8973799839,
         "hosipitala"
        ],
        [
         "H1-PROV0011",
         "Jennifer",
         "Mcdonald",
         "Emergency Medicine",
         "DEPT002",
         3939322372,
         "hosipitala"
        ],
        [
         "H1-PROV0012",
         "Jennifer",
         "Booth",
         "Dermatology",
         "DEPT004",
         3794188322,
         "hosipitala"
        ],
        [
         "H1-PROV0013",
         "Andrew",
         "Reed",
         "Pediatrics",
         "DEPT006",
         5744228048,
         "hosipitala"
        ],
        [
         "H1-PROV0014",
         "Anthony",
         "Edwards",
         "Orthopedics",
         "DEPT020",
         9041033020,
         "hosipitala"
        ],
        [
         "H1-PROV0015",
         "Harold",
         "Avila",
         "General Surgery",
         "DEPT002",
         7383729324,
         "hosipitala"
        ],
        [
         "H1-PROV0016",
         "Stephanie",
         "Bridges",
         "Psychiatry",
         "DEPT020",
         7216378001,
         "hosipitala"
        ],
        [
         "H1-PROV0017",
         "Frank",
         "Jordan",
         "Neurology",
         "DEPT005",
         6851568158,
         "hosipitala"
        ],
        [
         "H1-PROV0018",
         "Adrian",
         "Butler",
         "Emergency Medicine",
         "DEPT010",
         5971052640,
         "hosipitala"
        ],
        [
         "H1-PROV0019",
         "Adrian",
         "Bates",
         "Emergency Medicine",
         "DEPT010",
         4170579628,
         "hosipitala"
        ],
        [
         "H1-PROV0020",
         "Steven",
         "Norris",
         "Psychiatry",
         "DEPT007",
         7463053156,
         "hosipitala"
        ],
        [
         "H1-PROV0021",
         "Elizabeth",
         "Palmer",
         "Pediatrics",
         "DEPT016",
         4117507956,
         "hosipitala"
        ],
        [
         "H1-PROV0022",
         "Danielle",
         "Morris",
         "Oncology",
         "DEPT014",
         8416170674,
         "hosipitala"
        ],
        [
         "H1-PROV0023",
         "Amanda",
         "Johnson",
         "Neurology",
         "DEPT018",
         852786459,
         "hosipitala"
        ],
        [
         "H1-PROV0024",
         "Michael",
         "Rios",
         "Dermatology",
         "DEPT005",
         1080067352,
         "hosipitala"
        ],
        [
         "H1-PROV0025",
         "Lisa",
         "Schmitt",
         "Radiology",
         "DEPT003",
         8707948901,
         "hosipitala"
        ],
        [
         "H2-PROV0001",
         "Wanda",
         "Ramos",
         "Pediatrics",
         "DEPT003",
         9903342850,
         "hosipitalb"
        ],
        [
         "H2-PROV0002",
         "Steven",
         "Roach",
         "Radiology",
         "DEPT010",
         3653586329,
         "hosipitalb"
        ],
        [
         "H2-PROV0003",
         "Amber",
         "Martin",
         "Emergency Medicine",
         "DEPT002",
         6917277775,
         "hosipitalb"
        ],
        [
         "H2-PROV0004",
         "Ryan",
         "Thompson",
         "Oncology",
         "DEPT007",
         5911746015,
         "hosipitalb"
        ],
        [
         "H2-PROV0005",
         "Michael",
         "Gould",
         "Neurology",
         "DEPT018",
         5155973871,
         "hosipitalb"
        ],
        [
         "H2-PROV0006",
         "Austin",
         "Fisher",
         "Radiology",
         "DEPT020",
         6938681303,
         "hosipitalb"
        ],
        [
         "H2-PROV0007",
         "Jack",
         "Orozco",
         "Cardiology",
         "DEPT002",
         5919610313,
         "hosipitalb"
        ],
        [
         "H2-PROV0008",
         "Ryan",
         "Nielsen",
         "Radiology",
         "DEPT006",
         779165968,
         "hosipitalb"
        ],
        [
         "H2-PROV0009",
         "Becky",
         "Scott",
         "Emergency Medicine",
         "DEPT001",
         4880463675,
         "hosipitalb"
        ],
        [
         "H2-PROV0010",
         "Francisco",
         "Taylor",
         "Anesthesiology",
         "DEPT017",
         9778155154,
         "hosipitalb"
        ],
        [
         "H2-PROV0011",
         "Isaac",
         "Johnson",
         "Anesthesiology",
         "DEPT010",
         1865482724,
         "hosipitalb"
        ],
        [
         "H2-PROV0012",
         "Tara",
         "Lopez",
         "Anesthesiology",
         "DEPT010",
         7337412625,
         "hosipitalb"
        ],
        [
         "H2-PROV0013",
         "Mikayla",
         "Murphy",
         "Pediatrics",
         "DEPT011",
         2071097461,
         "hosipitalb"
        ],
        [
         "H2-PROV0014",
         "Mark",
         "Sanchez",
         "General Surgery",
         "DEPT016",
         332121350,
         "hosipitalb"
        ],
        [
         "H2-PROV0015",
         "Jacob",
         "Davis",
         "Neurology",
         "DEPT009",
         635687890,
         "hosipitalb"
        ],
        [
         "H2-PROV0016",
         "Sara",
         "Hutchinson",
         "Emergency Medicine",
         "DEPT014",
         2873366247,
         "hosipitalb"
        ],
        [
         "H2-PROV0017",
         "Jason",
         "Novak",
         "Dermatology",
         "DEPT002",
         7333373057,
         "hosipitalb"
        ],
        [
         "H2-PROV0018",
         "Heather",
         "Beasley",
         "Anesthesiology",
         "DEPT008",
         5355900325,
         "hosipitalb"
        ],
        [
         "H2-PROV0019",
         "Wendy",
         "Fisher",
         "Anesthesiology",
         "DEPT004",
         89308414,
         "hosipitalb"
        ],
        [
         "H2-PROV0020",
         "Veronica",
         "Myers",
         "Pediatrics",
         "DEPT005",
         8319154772,
         "hosipitalb"
        ],
        [
         "H2-PROV0021",
         "Janet",
         "Moody",
         "Psychiatry",
         "DEPT003",
         5424799523,
         "hosipitalb"
        ],
        [
         "H2-PROV0022",
         "Jeffrey",
         "Cummings",
         "Dermatology",
         "DEPT003",
         5004296124,
         "hosipitalb"
        ],
        [
         "H2-PROV0023",
         "Angel",
         "Stewart",
         "Psychiatry",
         "DEPT013",
         6068089514,
         "hosipitalb"
        ],
        [
         "H2-PROV0024",
         "Jorge",
         "Richmond",
         "General Surgery",
         "DEPT013",
         1928310163,
         "hosipitalb"
        ],
        [
         "H2-PROV0025",
         "Joseph",
         "Wilson",
         "Dermatology",
         "DEPT006",
         278988197,
         "hosipitalb"
        ],
        [
         "H2-PROV0026",
         "Patricia",
         "Allen",
         "Dermatology",
         "DEPT020",
         894720951,
         "hosipitalb"
        ],
        [
         "H2-PROV0027",
         "Casey",
         "Hughes",
         "Orthopedics",
         "DEPT012",
         5340793904,
         "hosipitalb"
        ],
        [
         "H2-PROV0028",
         "Samantha",
         "Hale",
         "Pediatrics",
         "DEPT005",
         2444270642,
         "hosipitalb"
        ],
        [
         "H2-PROV0029",
         "Michael",
         "Morales",
         "Radiology",
         "DEPT017",
         9476115529,
         "hosipitalb"
        ],
        [
         "H2-PROV0030",
         "Matthew",
         "Paul",
         "Oncology",
         "DEPT020",
         8300274432,
         "hosipitalb"
        ]
       ],
       "datasetInfos": [],
       "dbfsResultPath": null,
       "isJsonSchema": true,
       "metadata": {},
       "overflow": false,
       "plotOptions": {
        "customPlotOptions": {},
        "displayType": "table",
        "pivotAggregation": null,
        "pivotColumns": null,
        "xColumns": null,
        "yColumns": null
       },
       "removedWidgets": [],
       "schema": [
        {
         "metadata": "{}",
         "name": "ProviderID",
         "type": "\"string\""
        },
        {
         "metadata": "{}",
         "name": "FirstName",
         "type": "\"string\""
        },
        {
         "metadata": "{}",
         "name": "LastName",
         "type": "\"string\""
        },
        {
         "metadata": "{}",
         "name": "Specialization",
         "type": "\"string\""
        },
        {
         "metadata": "{}",
         "name": "DeptID",
         "type": "\"string\""
        },
        {
         "metadata": "{}",
         "name": "NPI",
         "type": "\"long\""
        },
        {
         "metadata": "{}",
         "name": "datasource",
         "type": "\"string\""
        }
       ],
       "type": "table"
      }
     },
     "output_type": "display_data"
    }
   ],
   "source": [
    "# Databricks notebook source\n",
    "from pyspark.sql import SparkSession, functions as f\n",
    "#Reading Hospital A departments data \n",
    "df_hosa=spark.read.parquet(\"/mnt/bronze/hosipitala/providers\")\n",
    "#Reading Hospital B departments data \n",
    "df_hosb=spark.read.parquet(\"/mnt/bronze/hosipitalb/providers\")\n",
    "#union two departments dataframes\n",
    "df_merged = df_hosa.unionByName(df_hosb)\n",
    "display(df_merged)\n",
    "df_merged.createOrReplaceTempView(\"providers\")"
   ]
  },
  {
   "cell_type": "code",
   "execution_count": 0,
   "metadata": {
    "application/vnd.databricks.v1+cell": {
     "cellMetadata": {
      "byteLimit": 2048000,
      "implicitDf": true,
      "rowLimit": 10000
     },
     "inputWidgets": {},
     "nuid": "50f57d37-9790-481e-8faa-f35f7993a297",
     "showTitle": false,
     "tableResultSettingsMap": {},
     "title": ""
    }
   },
   "outputs": [
    {
     "output_type": "display_data",
     "data": {
      "text/html": [
       "<style scoped>\n",
       "  .table-result-container {\n",
       "    max-height: 300px;\n",
       "    overflow: auto;\n",
       "  }\n",
       "  table, th, td {\n",
       "    border: 1px solid black;\n",
       "    border-collapse: collapse;\n",
       "  }\n",
       "  th, td {\n",
       "    padding: 5px;\n",
       "  }\n",
       "  th {\n",
       "    text-align: left;\n",
       "  }\n",
       "</style><div class='table-result-container'><table class='table-result'><thead style='background-color: white'><tr></tr></thead><tbody></tbody></table></div>"
      ]
     },
     "metadata": {
      "application/vnd.databricks.v1+output": {
       "addedWidgets": {},
       "aggData": [],
       "aggError": "",
       "aggOverflow": false,
       "aggSchema": [],
       "aggSeriesLimitReached": false,
       "aggType": "",
       "arguments": {},
       "columnCustomDisplayInfos": {},
       "data": [],
       "datasetInfos": [],
       "dbfsResultPath": null,
       "isJsonSchema": true,
       "metadata": {
        "dataframeName": null
       },
       "overflow": false,
       "plotOptions": {
        "customPlotOptions": {},
        "displayType": "table",
        "pivotAggregation": null,
        "pivotColumns": null,
        "xColumns": null,
        "yColumns": null
       },
       "removedWidgets": [],
       "schema": [],
       "type": "table"
      }
     },
     "output_type": "display_data"
    }
   ],
   "source": [
    "%sql\n",
    "CREATE TABLE IF NOT EXISTS silver.providers (\n",
    "  ProviderID STRING,\n",
    "  FirstName STRING,\n",
    "  LastName STRING,\n",
    "  Specialization STRING,\n",
    "  DeptID STRING,\n",
    "  NPI BIGINT,\n",
    "  datasource STRING,\n",
    "  is_quarantined BOOLEAN\n",
    ")\n",
    "USING DELTA;\n"
   ]
  },
  {
   "cell_type": "code",
   "execution_count": 0,
   "metadata": {
    "application/vnd.databricks.v1+cell": {
     "cellMetadata": {
      "byteLimit": 2048000,
      "implicitDf": true,
      "rowLimit": 10000
     },
     "inputWidgets": {},
     "nuid": "93fdae24-3b16-4734-836a-fc6f1db54cdf",
     "showTitle": false,
     "tableResultSettingsMap": {},
     "title": ""
    }
   },
   "outputs": [
    {
     "output_type": "display_data",
     "data": {
      "text/html": [
       "<style scoped>\n",
       "  .table-result-container {\n",
       "    max-height: 300px;\n",
       "    overflow: auto;\n",
       "  }\n",
       "  table, th, td {\n",
       "    border: 1px solid black;\n",
       "    border-collapse: collapse;\n",
       "  }\n",
       "  th, td {\n",
       "    padding: 5px;\n",
       "  }\n",
       "  th {\n",
       "    text-align: left;\n",
       "  }\n",
       "</style><div class='table-result-container'><table class='table-result'><thead style='background-color: white'><tr><th>num_affected_rows</th><th>num_inserted_rows</th></tr></thead><tbody><tr><td>55</td><td>55</td></tr></tbody></table></div>"
      ]
     },
     "metadata": {
      "application/vnd.databricks.v1+output": {
       "addedWidgets": {},
       "aggData": [],
       "aggError": "",
       "aggOverflow": false,
       "aggSchema": [],
       "aggSeriesLimitReached": false,
       "aggType": "",
       "arguments": {},
       "columnCustomDisplayInfos": {},
       "data": [
        [
         55,
         55
        ]
       ],
       "datasetInfos": [],
       "dbfsResultPath": null,
       "isJsonSchema": true,
       "metadata": {
        "createTempViewForImplicitDf": true,
        "dataframeName": "_sqldf",
        "executionCount": 3
       },
       "overflow": false,
       "plotOptions": {
        "customPlotOptions": {},
        "displayType": "table",
        "pivotAggregation": null,
        "pivotColumns": null,
        "xColumns": null,
        "yColumns": null
       },
       "removedWidgets": [],
       "schema": [
        {
         "metadata": "{}",
         "name": "num_affected_rows",
         "type": "\"long\""
        },
        {
         "metadata": "{}",
         "name": "num_inserted_rows",
         "type": "\"long\""
        }
       ],
       "type": "table"
      }
     },
     "output_type": "display_data"
    }
   ],
   "source": [
    "%sql\n",
    "INSERT INTO silver.providers\n",
    "SELECT DISTINCT\n",
    "  ProviderID,\n",
    "  FirstName,\n",
    "  LastName,\n",
    "  Specialization,\n",
    "  DeptID,\n",
    "  CAST(NPI AS INT) AS NPI,\n",
    "  datasource,\n",
    "  CASE \n",
    "    WHEN ProviderID IS NULL OR DeptID IS NULL THEN TRUE\n",
    "    ELSE FALSE\n",
    "  END AS is_quarantined\n",
    "FROM providers;\n"
   ]
  }
 ],
 "metadata": {
  "application/vnd.databricks.v1+notebook": {
   "computePreferences": null,
   "dashboards": [],
   "environmentMetadata": {
    "base_environment": "",
    "environment_version": "2"
   },
   "inputWidgetPreferences": null,
   "language": "python",
   "notebookMetadata": {
    "mostRecentlyExecutedCommandWithImplicitDF": {
     "commandId": 7327895437504016,
     "dataframes": [
      "_sqldf"
     ]
    },
    "pythonIndentUnit": 4
   },
   "notebookName": "Providers_Silver",
   "widgets": {}
  },
  "language_info": {
   "name": "python"
  }
 },
 "nbformat": 4,
 "nbformat_minor": 0
}