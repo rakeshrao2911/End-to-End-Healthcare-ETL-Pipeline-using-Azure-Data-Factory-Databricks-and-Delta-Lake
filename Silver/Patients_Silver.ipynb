{
 "cells": [
  {
   "cell_type": "code",
   "execution_count": 0,
   "metadata": {
    "application/vnd.databricks.v1+cell": {
     "cellMetadata": {
      "byteLimit": 2048000,
      "rowLimit": 10000
     },
     "inputWidgets": {},
     "nuid": "adf25ad8-cb97-47fe-a882-e48530f98577",
     "showTitle": false,
     "tableResultSettingsMap": {},
     "title": ""
    }
   },
   "outputs": [],
   "source": [
    "# Databricks notebook source\n",
    "#Reading Hospital A patient data \n",
    "df_hosa=spark.read.parquet(\"/mnt/bronze/hosipitala/patients\")\n",
    "df_hosa.createOrReplaceTempView(\"patients_hosa\")\n",
    "\n",
    "#Reading Hospital B patient data \n",
    "df_hosb=spark.read.parquet(\"/mnt/bronze/hosipitalb/patients\")\n",
    "df_hosb.createOrReplaceTempView(\"patients_hosb\")"
   ]
  },
  {
   "cell_type": "code",
   "execution_count": 0,
   "metadata": {
    "application/vnd.databricks.v1+cell": {
     "cellMetadata": {
      "byteLimit": 2048000,
      "implicitDf": true,
      "rowLimit": 10000
     },
     "inputWidgets": {},
     "nuid": "14795c9c-ec36-4ed1-ab04-f02129f1e126",
     "showTitle": false,
     "tableResultSettingsMap": {},
     "title": ""
    }
   },
   "outputs": [
    {
     "output_type": "display_data",
     "data": {
      "text/html": [
       "<style scoped>\n",
       "  .table-result-container {\n",
       "    max-height: 300px;\n",
       "    overflow: auto;\n",
       "  }\n",
       "  table, th, td {\n",
       "    border: 1px solid black;\n",
       "    border-collapse: collapse;\n",
       "  }\n",
       "  th, td {\n",
       "    padding: 5px;\n",
       "  }\n",
       "  th {\n",
       "    text-align: left;\n",
       "  }\n",
       "</style><div class='table-result-container'><table class='table-result'><thead style='background-color: white'><tr></tr></thead><tbody></tbody></table></div>"
      ]
     },
     "metadata": {
      "application/vnd.databricks.v1+output": {
       "addedWidgets": {},
       "aggData": [],
       "aggError": "",
       "aggOverflow": false,
       "aggSchema": [],
       "aggSeriesLimitReached": false,
       "aggType": "",
       "arguments": {},
       "columnCustomDisplayInfos": {},
       "data": [],
       "datasetInfos": [],
       "dbfsResultPath": null,
       "isJsonSchema": true,
       "metadata": {
        "dataframeName": null
       },
       "overflow": false,
       "plotOptions": {
        "customPlotOptions": {},
        "displayType": "table",
        "pivotAggregation": null,
        "pivotColumns": null,
        "xColumns": null,
        "yColumns": null
       },
       "removedWidgets": [],
       "schema": [],
       "type": "table"
      }
     },
     "output_type": "display_data"
    }
   ],
   "source": [
    "%sql\n",
    "CREATE OR REPLACE TEMP VIEW cdm_patients AS\n",
    "SELECT CONCAT(SRC_PatientID, '-', datasource) AS Patient_Key, *\n",
    "FROM (\n",
    "    SELECT \n",
    "        PatientID AS SRC_PatientID,\n",
    "        FirstName,\n",
    "        LastName,\n",
    "        MiddleName,\n",
    "        SSN,\n",
    "        PhoneNumber,\n",
    "        Gender,\n",
    "        DOB,\n",
    "        Address,\n",
    "        ModifiedDate,\n",
    "        datasource\n",
    "    FROM patients_hosa\n",
    "\n",
    "    UNION ALL\n",
    "\n",
    "    SELECT \n",
    "        ID AS SRC_PatientID,\n",
    "        F_Name AS FirstName,\n",
    "        L_Name AS LastName,\n",
    "        M_Name AS MiddleName,\n",
    "        SSN,\n",
    "        PhoneNumber,\n",
    "        Gender,\n",
    "        DOB,\n",
    "        Address,\n",
    "        Updated_Date AS ModifiedDate,\n",
    "        datasource\n",
    "    FROM patients_hosb\n",
    ");\n"
   ]
  },
  {
   "cell_type": "code",
   "execution_count": 0,
   "metadata": {
    "application/vnd.databricks.v1+cell": {
     "cellMetadata": {
      "byteLimit": 2048000,
      "implicitDf": true,
      "rowLimit": 10000
     },
     "inputWidgets": {},
     "nuid": "7b82c087-af13-4032-b3fa-be265e2a8ca5",
     "showTitle": false,
     "tableResultSettingsMap": {},
     "title": ""
    }
   },
   "outputs": [
    {
     "output_type": "display_data",
     "data": {
      "text/html": [
       "<style scoped>\n",
       "  .table-result-container {\n",
       "    max-height: 300px;\n",
       "    overflow: auto;\n",
       "  }\n",
       "  table, th, td {\n",
       "    border: 1px solid black;\n",
       "    border-collapse: collapse;\n",
       "  }\n",
       "  th, td {\n",
       "    padding: 5px;\n",
       "  }\n",
       "  th {\n",
       "    text-align: left;\n",
       "  }\n",
       "</style><div class='table-result-container'><table class='table-result'><thead style='background-color: white'><tr></tr></thead><tbody></tbody></table></div>"
      ]
     },
     "metadata": {
      "application/vnd.databricks.v1+output": {
       "addedWidgets": {},
       "aggData": [],
       "aggError": "",
       "aggOverflow": false,
       "aggSchema": [],
       "aggSeriesLimitReached": false,
       "aggType": "",
       "arguments": {},
       "columnCustomDisplayInfos": {},
       "data": [],
       "datasetInfos": [],
       "dbfsResultPath": null,
       "isJsonSchema": true,
       "metadata": {
        "dataframeName": null
       },
       "overflow": false,
       "plotOptions": {
        "customPlotOptions": {},
        "displayType": "table",
        "pivotAggregation": null,
        "pivotColumns": null,
        "xColumns": null,
        "yColumns": null
       },
       "removedWidgets": [],
       "schema": [],
       "type": "table"
      }
     },
     "output_type": "display_data"
    }
   ],
   "source": [
    "%sql\n",
    "CREATE OR REPLACE TEMP VIEW quality_checks AS\n",
    "SELECT \n",
    "    Patient_Key,\n",
    "    SRC_PatientID,\n",
    "    FirstName,\n",
    "    LastName,\n",
    "    MiddleName,\n",
    "    SSN,\n",
    "    PhoneNumber,\n",
    "    Gender,\n",
    "    DOB,\n",
    "    Address,\n",
    "    ModifiedDate AS SRC_ModifiedDate,\n",
    "    datasource,\n",
    "    CASE \n",
    "        WHEN SRC_PatientID IS NULL OR DOB IS NULL OR FirstName IS NULL OR LOWER(FirstName) = 'null' THEN TRUE\n",
    "        ELSE FALSE\n",
    "    END AS is_quarantined\n",
    "FROM cdm_patients;\n"
   ]
  },
  {
   "cell_type": "code",
   "execution_count": 0,
   "metadata": {
    "application/vnd.databricks.v1+cell": {
     "cellMetadata": {
      "byteLimit": 2048000,
      "implicitDf": true,
      "rowLimit": 10000
     },
     "inputWidgets": {},
     "nuid": "23714396-6dc7-4c1b-bf56-83bae71fdd53",
     "showTitle": false,
     "tableResultSettingsMap": {},
     "title": ""
    }
   },
   "outputs": [
    {
     "output_type": "display_data",
     "data": {
      "text/html": [
       "<style scoped>\n",
       "  .table-result-container {\n",
       "    max-height: 300px;\n",
       "    overflow: auto;\n",
       "  }\n",
       "  table, th, td {\n",
       "    border: 1px solid black;\n",
       "    border-collapse: collapse;\n",
       "  }\n",
       "  th, td {\n",
       "    padding: 5px;\n",
       "  }\n",
       "  th {\n",
       "    text-align: left;\n",
       "  }\n",
       "</style><div class='table-result-container'><table class='table-result'><thead style='background-color: white'><tr></tr></thead><tbody></tbody></table></div>"
      ]
     },
     "metadata": {
      "application/vnd.databricks.v1+output": {
       "addedWidgets": {},
       "aggData": [],
       "aggError": "",
       "aggOverflow": false,
       "aggSchema": [],
       "aggSeriesLimitReached": false,
       "aggType": "",
       "arguments": {},
       "columnCustomDisplayInfos": {},
       "data": [],
       "datasetInfos": [],
       "dbfsResultPath": null,
       "isJsonSchema": true,
       "metadata": {
        "dataframeName": null
       },
       "overflow": false,
       "plotOptions": {
        "customPlotOptions": {},
        "displayType": "table",
        "pivotAggregation": null,
        "pivotColumns": null,
        "xColumns": null,
        "yColumns": null
       },
       "removedWidgets": [],
       "schema": [],
       "type": "table"
      }
     },
     "output_type": "display_data"
    }
   ],
   "source": [
    "%sql \n",
    "CREATE TABLE IF NOT EXISTS silver.patients (\n",
    "    Patient_Key STRING,\n",
    "    SRC_PatientID STRING,\n",
    "    FirstName STRING,\n",
    "    LastName STRING,\n",
    "    MiddleName STRING,\n",
    "    SSN STRING,\n",
    "    PhoneNumber STRING,\n",
    "    Gender STRING,\n",
    "    DOB DATE,\n",
    "    Address STRING,\n",
    "    SRC_ModifiedDate TIMESTAMP,\n",
    "    datasource STRING,\n",
    "    is_quarantined BOOLEAN,\n",
    "    inserted_date TIMESTAMP,\n",
    "    modified_date TIMESTAMP,\n",
    "    is_current BOOLEAN\n",
    ")\n",
    "USING DELTA;\n"
   ]
  },
  {
   "cell_type": "code",
   "execution_count": 0,
   "metadata": {
    "application/vnd.databricks.v1+cell": {
     "cellMetadata": {
      "byteLimit": 2048000,
      "implicitDf": true,
      "rowLimit": 10000
     },
     "inputWidgets": {},
     "nuid": "170973f0-7111-4d94-9b9b-36d13e59c370",
     "showTitle": false,
     "tableResultSettingsMap": {},
     "title": ""
    }
   },
   "outputs": [
    {
     "output_type": "display_data",
     "data": {
      "text/html": [
       "<style scoped>\n",
       "  .table-result-container {\n",
       "    max-height: 300px;\n",
       "    overflow: auto;\n",
       "  }\n",
       "  table, th, td {\n",
       "    border: 1px solid black;\n",
       "    border-collapse: collapse;\n",
       "  }\n",
       "  th, td {\n",
       "    padding: 5px;\n",
       "  }\n",
       "  th {\n",
       "    text-align: left;\n",
       "  }\n",
       "</style><div class='table-result-container'><table class='table-result'><thead style='background-color: white'><tr><th>num_affected_rows</th><th>num_updated_rows</th><th>num_deleted_rows</th><th>num_inserted_rows</th></tr></thead><tbody><tr><td>10000</td><td>0</td><td>0</td><td>10000</td></tr></tbody></table></div>"
      ]
     },
     "metadata": {
      "application/vnd.databricks.v1+output": {
       "addedWidgets": {},
       "aggData": [],
       "aggError": "",
       "aggOverflow": false,
       "aggSchema": [],
       "aggSeriesLimitReached": false,
       "aggType": "",
       "arguments": {},
       "columnCustomDisplayInfos": {},
       "data": [
        [
         10000,
         0,
         0,
         10000
        ]
       ],
       "datasetInfos": [],
       "dbfsResultPath": null,
       "isJsonSchema": true,
       "metadata": {
        "createTempViewForImplicitDf": true,
        "dataframeName": "_sqldf",
        "executionCount": 2
       },
       "overflow": false,
       "plotOptions": {
        "customPlotOptions": {},
        "displayType": "table",
        "pivotAggregation": null,
        "pivotColumns": null,
        "xColumns": null,
        "yColumns": null
       },
       "removedWidgets": [],
       "schema": [
        {
         "metadata": "{}",
         "name": "num_affected_rows",
         "type": "\"long\""
        },
        {
         "metadata": "{}",
         "name": "num_updated_rows",
         "type": "\"long\""
        },
        {
         "metadata": "{}",
         "name": "num_deleted_rows",
         "type": "\"long\""
        },
        {
         "metadata": "{}",
         "name": "num_inserted_rows",
         "type": "\"long\""
        }
       ],
       "type": "table"
      }
     },
     "output_type": "display_data"
    }
   ],
   "source": [
    "%sql\n",
    "-- Step 1: Mark existing records as historical (is_current = false) for patients that will be updated\n",
    "MERGE INTO silver.patients AS target\n",
    "USING quality_checks AS source\n",
    "ON target.Patient_Key = source.Patient_Key\n",
    "AND target.is_current = true \n",
    "WHEN MATCHED\n",
    "AND (\n",
    "    target.SRC_PatientID <> source.SRC_PatientID OR\n",
    "    target.FirstName <> source.FirstName OR\n",
    "    target.LastName <> source.LastName OR\n",
    "    target.MiddleName <> source.MiddleName OR\n",
    "    target.SSN <> source.SSN OR\n",
    "    target.PhoneNumber <> source.PhoneNumber OR\n",
    "    target.Gender <> source.Gender OR\n",
    "    target.DOB <> source.DOB OR\n",
    "    target.Address <> source.Address OR\n",
    "    target.SRC_ModifiedDate <> source.SRC_ModifiedDate OR\n",
    "    target.datasource <> source.datasource OR\n",
    "    target.is_quarantined <> source.is_quarantined\n",
    ")\n",
    "THEN UPDATE SET\n",
    "    target.is_current = false,\n",
    "    target.modified_date = current_timestamp()\n",
    "\n",
    "WHEN NOT MATCHED\n",
    "THEN INSERT (\n",
    "    Patient_Key,\n",
    "    SRC_PatientID,\n",
    "    FirstName,\n",
    "    LastName,\n",
    "    MiddleName,\n",
    "    SSN,\n",
    "    PhoneNumber,\n",
    "    Gender,\n",
    "    DOB,\n",
    "    Address,\n",
    "    SRC_ModifiedDate,\n",
    "    datasource,\n",
    "    is_quarantined,\n",
    "    inserted_date,\n",
    "    modified_date,\n",
    "    is_current\n",
    ")\n",
    "VALUES (\n",
    "    source.Patient_Key,\n",
    "    source.SRC_PatientID,\n",
    "    source.FirstName,\n",
    "    source.LastName,\n",
    "    source.MiddleName,\n",
    "    source.SSN,\n",
    "    source.PhoneNumber,\n",
    "    source.Gender,\n",
    "    source.DOB,\n",
    "    source.Address,\n",
    "    source.SRC_ModifiedDate,\n",
    "    source.datasource,\n",
    "    source.is_quarantined,\n",
    "    current_timestamp(),\n",
    "    current_timestamp(),\n",
    "    true\n",
    ");\n"
   ]
  }
 ],
 "metadata": {
  "application/vnd.databricks.v1+notebook": {
   "computePreferences": null,
   "dashboards": [],
   "environmentMetadata": {
    "base_environment": "",
    "environment_version": "2"
   },
   "inputWidgetPreferences": null,
   "language": "python",
   "notebookMetadata": {
    "mostRecentlyExecutedCommandWithImplicitDF": {
     "commandId": 4854491563689621,
     "dataframes": [
      "_sqldf"
     ]
    },
    "pythonIndentUnit": 4
   },
   "notebookName": "Patients_Silver",
   "widgets": {}
  },
  "language_info": {
   "name": "python"
  }
 },
 "nbformat": 4,
 "nbformat_minor": 0
}