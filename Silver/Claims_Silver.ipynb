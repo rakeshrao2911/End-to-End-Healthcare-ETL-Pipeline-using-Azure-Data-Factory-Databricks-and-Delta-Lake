{
 "cells": [
  {
   "cell_type": "code",
   "execution_count": 0,
   "metadata": {
    "application/vnd.databricks.v1+cell": {
     "cellMetadata": {
      "byteLimit": 2048000,
      "rowLimit": 10000
     },
     "inputWidgets": {},
     "nuid": "1ee767a7-a929-43e7-b1a6-a1f703ee1477",
     "showTitle": false,
     "tableResultSettingsMap": {},
     "title": ""
    }
   },
   "outputs": [],
   "source": [
    "from pyspark.sql import SparkSession, functions as f\n",
    "\n",
    "claims_df=spark.read.csv(\"/mnt/landing/claimsdata/*.csv\",header=True)\n",
    "\n",
    "claims_df = claims_df.withColumn(\n",
    "    \"datasource\",\n",
    "    f.when(f.input_file_name().contains(\"hospital1\"), \"hosa\").when(f.input_file_name().contains(\"hospital2\"), \"hosb\")\n",
    "     .otherwise(None)\n",
    ")"
   ]
  },
  {
   "cell_type": "code",
   "execution_count": 0,
   "metadata": {
    "application/vnd.databricks.v1+cell": {
     "cellMetadata": {
      "byteLimit": 2048000,
      "rowLimit": 10000
     },
     "inputWidgets": {},
     "nuid": "ef5ce12e-819a-4255-8c40-49f9e094236d",
     "showTitle": false,
     "tableResultSettingsMap": {},
     "title": ""
    }
   },
   "outputs": [],
   "source": [
    "#writing claims data into bronze layer \n",
    "claims_df.write.format(\"parquet\").mode(\"overwrite\").save(\"/mnt/bronze/claims/\")"
   ]
  },
  {
   "cell_type": "code",
   "execution_count": 0,
   "metadata": {
    "application/vnd.databricks.v1+cell": {
     "cellMetadata": {
      "byteLimit": 2048000,
      "rowLimit": 10000
     },
     "inputWidgets": {},
     "nuid": "c6892be4-9263-4bbe-9775-14aa285d2c09",
     "showTitle": false,
     "tableResultSettingsMap": {},
     "title": ""
    }
   },
   "outputs": [],
   "source": [
    "claims_df.createOrReplaceTempView(\"claims\")"
   ]
  },
  {
   "cell_type": "code",
   "execution_count": 0,
   "metadata": {
    "application/vnd.databricks.v1+cell": {
     "cellMetadata": {
      "byteLimit": 2048000,
      "implicitDf": true,
      "rowLimit": 10000
     },
     "inputWidgets": {},
     "nuid": "ceb9e080-9581-4e3b-9ddc-2e4a06b04b52",
     "showTitle": false,
     "tableResultSettingsMap": {},
     "title": ""
    }
   },
   "outputs": [
    {
     "output_type": "display_data",
     "data": {
      "text/html": [
       "<style scoped>\n",
       "  .table-result-container {\n",
       "    max-height: 300px;\n",
       "    overflow: auto;\n",
       "  }\n",
       "  table, th, td {\n",
       "    border: 1px solid black;\n",
       "    border-collapse: collapse;\n",
       "  }\n",
       "  th, td {\n",
       "    padding: 5px;\n",
       "  }\n",
       "  th {\n",
       "    text-align: left;\n",
       "  }\n",
       "</style><div class='table-result-container'><table class='table-result'><thead style='background-color: white'><tr></tr></thead><tbody></tbody></table></div>"
      ]
     },
     "metadata": {
      "application/vnd.databricks.v1+output": {
       "addedWidgets": {},
       "aggData": [],
       "aggError": "",
       "aggOverflow": false,
       "aggSchema": [],
       "aggSeriesLimitReached": false,
       "aggType": "",
       "arguments": {},
       "columnCustomDisplayInfos": {},
       "data": [],
       "datasetInfos": [],
       "dbfsResultPath": null,
       "isJsonSchema": true,
       "metadata": {
        "dataframeName": null
       },
       "overflow": false,
       "plotOptions": {
        "customPlotOptions": {},
        "displayType": "table",
        "pivotAggregation": null,
        "pivotColumns": null,
        "xColumns": null,
        "yColumns": null
       },
       "removedWidgets": [],
       "schema": [],
       "type": "table"
      }
     },
     "output_type": "display_data"
    }
   ],
   "source": [
    "%sql\n",
    "CREATE OR REPLACE TEMP VIEW data_quality_check AS\n",
    "SELECT \n",
    "  CONCAT(ClaimID, '-', datasource) AS ClaimID,\n",
    "  ClaimID AS SRC_ClaimID,\n",
    "  TransactionID,\n",
    "  PatientID,\n",
    "  EncounterID,\n",
    "  ProviderID,\n",
    "  DeptID,\n",
    "  CAST(ServiceDate AS DATE) AS ServiceDate,\n",
    "  CAST(ClaimDate AS DATE) AS ClaimDate,\n",
    "  PayorID,\n",
    "  ClaimAmount,\n",
    "  PaidAmount,\n",
    "  ClaimStatus,\n",
    "  PayorType,\n",
    "  Deductible,\n",
    "  Coinsurance,\n",
    "  Copay,\n",
    "  CAST(InsertDate AS DATE) AS SRC_InsertDate,\n",
    "  CAST(ModifiedDate AS DATE) AS SRC_ModifiedDate,\n",
    "  datasource,\n",
    "  CASE \n",
    "    WHEN ClaimID IS NULL OR TransactionID IS NULL OR PatientID IS NULL OR ServiceDate IS NULL THEN TRUE\n",
    "    ELSE FALSE\n",
    "  END AS is_quarantined\n",
    "FROM claims;\n"
   ]
  },
  {
   "cell_type": "code",
   "execution_count": 0,
   "metadata": {
    "application/vnd.databricks.v1+cell": {
     "cellMetadata": {
      "byteLimit": 2048000,
      "implicitDf": true,
      "rowLimit": 10000
     },
     "inputWidgets": {},
     "nuid": "c1455bfc-9c0c-45f2-96a7-50e67b4c99a3",
     "showTitle": false,
     "tableResultSettingsMap": {},
     "title": ""
    }
   },
   "outputs": [
    {
     "output_type": "display_data",
     "data": {
      "text/html": [
       "<style scoped>\n",
       "  .table-result-container {\n",
       "    max-height: 300px;\n",
       "    overflow: auto;\n",
       "  }\n",
       "  table, th, td {\n",
       "    border: 1px solid black;\n",
       "    border-collapse: collapse;\n",
       "  }\n",
       "  th, td {\n",
       "    padding: 5px;\n",
       "  }\n",
       "  th {\n",
       "    text-align: left;\n",
       "  }\n",
       "</style><div class='table-result-container'><table class='table-result'><thead style='background-color: white'><tr><th>ClaimID</th><th>SRC_ClaimID</th><th>TransactionID</th><th>PatientID</th><th>EncounterID</th><th>ProviderID</th><th>DeptID</th><th>ServiceDate</th><th>ClaimDate</th><th>PayorID</th><th>ClaimAmount</th><th>PaidAmount</th><th>ClaimStatus</th><th>PayorType</th><th>Deductible</th><th>Coinsurance</th><th>Copay</th><th>SRC_InsertDate</th><th>SRC_ModifiedDate</th><th>datasource</th><th>is_quarantined</th></tr></thead><tbody><tr><td>CLAIM000001-hosb</td><td>CLAIM000001</td><td>TRANS001819</td><td>HOSP1-001494</td><td>ENC001805</td><td>PROV0242</td><td>DEPT007</td><td>2024-08-26</td><td>2024-10-05</td><td>UnitedHealthcare</td><td>4600.39</td><td>3228.9</td><td>Approved</td><td>Government</td><td>101.31</td><td>99.56</td><td>45.99</td><td>2023-01-13</td><td>2020-01-10</td><td>hosb</td><td>false</td></tr><tr><td>CLAIM000002-hosb</td><td>CLAIM000002</td><td>TRANS003384</td><td>HOSP1-000208</td><td>ENC001914</td><td>PROV0487</td><td>DEPT002</td><td>2024-05-03</td><td>2024-04-23</td><td>Medicare</td><td>4987.94</td><td>3969.49</td><td>Paid</td><td>Private</td><td>125.13</td><td>96.39</td><td>30.87</td><td>2024-10-03</td><td>2023-02-08</td><td>hosb</td><td>false</td></tr><tr><td>CLAIM000003-hosb</td><td>CLAIM000003</td><td>TRANS006265</td><td>HOSP1-004702</td><td>ENC002918</td><td>PROV0302</td><td>DEPT002</td><td>2024-04-04</td><td>2024-08-19</td><td>Medicaid</td><td>421.04</td><td>2023.9</td><td>Denied</td><td>Private</td><td>42.43</td><td>3.14</td><td>37.67</td><td>2024-03-06</td><td>2020-05-25</td><td>hosb</td><td>false</td></tr><tr><td>CLAIM000004-hosb</td><td>CLAIM000004</td><td>TRANS008629</td><td>HOSP1-002778</td><td>ENC000910</td><td>PROV0498</td><td>DEPT015</td><td>2024-04-21</td><td>2024-10-15</td><td>Aetna</td><td>1475.53</td><td>3557.28</td><td>Rejected</td><td>Private</td><td>60.78</td><td>166.32</td><td>42.04</td><td>2020-01-17</td><td>2022-01-16</td><td>hosb</td><td>false</td></tr><tr><td>CLAIM000005-hosb</td><td>CLAIM000005</td><td>TRANS007129</td><td>HOSP1-000436</td><td>ENC008163</td><td>PROV0004</td><td>DEPT012</td><td>2024-03-09</td><td>2024-01-05</td><td>UnitedHealthcare</td><td>2019.09</td><td>1546.3</td><td>Approved</td><td>Self-pay</td><td>195.19</td><td>102.23</td><td>6.64</td><td>2023-02-25</td><td>2022-05-24</td><td>hosb</td><td>false</td></tr><tr><td>CLAIM000006-hosb</td><td>CLAIM000006</td><td>TRANS009296</td><td>HOSP1-001684</td><td>ENC005220</td><td>PROV0045</td><td>DEPT017</td><td>2024-02-28</td><td>2024-01-16</td><td>Aetna</td><td>4019.34</td><td>2527.53</td><td>Rejected</td><td>Private</td><td>130.93</td><td>189.18</td><td>49.97</td><td>2021-08-29</td><td>2020-02-24</td><td>hosb</td><td>false</td></tr><tr><td>CLAIM000007-hosb</td><td>CLAIM000007</td><td>TRANS003160</td><td>HOSP1-000678</td><td>ENC002566</td><td>PROV0476</td><td>DEPT015</td><td>2024-02-11</td><td>2024-02-25</td><td>UnitedHealthcare</td><td>3354.98</td><td>4352.07</td><td>Rejected</td><td>Government</td><td>59.69</td><td>121.43</td><td>17.11</td><td>2020-02-08</td><td>2024-06-23</td><td>hosb</td><td>false</td></tr><tr><td>CLAIM000008-hosb</td><td>CLAIM000008</td><td>TRANS002785</td><td>HOSP1-003734</td><td>ENC007357</td><td>PROV0435</td><td>DEPT019</td><td>2024-06-29</td><td>2024-10-03</td><td>BlueCross</td><td>4922.57</td><td>3273.42</td><td>Rejected</td><td>Government</td><td>396.21</td><td>120.76</td><td>35.28</td><td>2021-04-06</td><td>2020-11-19</td><td>hosb</td><td>false</td></tr><tr><td>CLAIM000009-hosb</td><td>CLAIM000009</td><td>TRANS003904</td><td>HOSP1-002037</td><td>ENC002867</td><td>PROV0210</td><td>DEPT003</td><td>2024-06-11</td><td>2024-09-20</td><td>UnitedHealthcare</td><td>4961.89</td><td>2913.81</td><td>Paid</td><td>Private</td><td>409.01</td><td>59.76</td><td>39.75</td><td>2022-08-27</td><td>2024-10-28</td><td>hosb</td><td>false</td></tr><tr><td>CLAIM000010-hosb</td><td>CLAIM000010</td><td>TRANS009210</td><td>HOSP1-002245</td><td>ENC009378</td><td>PROV0387</td><td>DEPT017</td><td>2024-08-28</td><td>2024-07-19</td><td>UnitedHealthcare</td><td>259.14</td><td>2877.6</td><td>Rejected</td><td>Government</td><td>488.06</td><td>3.43</td><td>45.88</td><td>2020-12-11</td><td>2024-10-03</td><td>hosb</td><td>false</td></tr></tbody></table></div>"
      ]
     },
     "metadata": {
      "application/vnd.databricks.v1+output": {
       "addedWidgets": {},
       "aggData": [],
       "aggError": "",
       "aggOverflow": false,
       "aggSchema": [],
       "aggSeriesLimitReached": false,
       "aggType": "",
       "arguments": {},
       "columnCustomDisplayInfos": {},
       "data": [
        [
         "CLAIM000001-hosb",
         "CLAIM000001",
         "TRANS001819",
         "HOSP1-001494",
         "ENC001805",
         "PROV0242",
         "DEPT007",
         "2024-08-26",
         "2024-10-05",
         "UnitedHealthcare",
         "4600.39",
         "3228.9",
         "Approved",
         "Government",
         "101.31",
         "99.56",
         "45.99",
         "2023-01-13",
         "2020-01-10",
         "hosb",
         false
        ],
        [
         "CLAIM000002-hosb",
         "CLAIM000002",
         "TRANS003384",
         "HOSP1-000208",
         "ENC001914",
         "PROV0487",
         "DEPT002",
         "2024-05-03",
         "2024-04-23",
         "Medicare",
         "4987.94",
         "3969.49",
         "Paid",
         "Private",
         "125.13",
         "96.39",
         "30.87",
         "2024-10-03",
         "2023-02-08",
         "hosb",
         false
        ],
        [
         "CLAIM000003-hosb",
         "CLAIM000003",
         "TRANS006265",
         "HOSP1-004702",
         "ENC002918",
         "PROV0302",
         "DEPT002",
         "2024-04-04",
         "2024-08-19",
         "Medicaid",
         "421.04",
         "2023.9",
         "Denied",
         "Private",
         "42.43",
         "3.14",
         "37.67",
         "2024-03-06",
         "2020-05-25",
         "hosb",
         false
        ],
        [
         "CLAIM000004-hosb",
         "CLAIM000004",
         "TRANS008629",
         "HOSP1-002778",
         "ENC000910",
         "PROV0498",
         "DEPT015",
         "2024-04-21",
         "2024-10-15",
         "Aetna",
         "1475.53",
         "3557.28",
         "Rejected",
         "Private",
         "60.78",
         "166.32",
         "42.04",
         "2020-01-17",
         "2022-01-16",
         "hosb",
         false
        ],
        [
         "CLAIM000005-hosb",
         "CLAIM000005",
         "TRANS007129",
         "HOSP1-000436",
         "ENC008163",
         "PROV0004",
         "DEPT012",
         "2024-03-09",
         "2024-01-05",
         "UnitedHealthcare",
         "2019.09",
         "1546.3",
         "Approved",
         "Self-pay",
         "195.19",
         "102.23",
         "6.64",
         "2023-02-25",
         "2022-05-24",
         "hosb",
         false
        ],
        [
         "CLAIM000006-hosb",
         "CLAIM000006",
         "TRANS009296",
         "HOSP1-001684",
         "ENC005220",
         "PROV0045",
         "DEPT017",
         "2024-02-28",
         "2024-01-16",
         "Aetna",
         "4019.34",
         "2527.53",
         "Rejected",
         "Private",
         "130.93",
         "189.18",
         "49.97",
         "2021-08-29",
         "2020-02-24",
         "hosb",
         false
        ],
        [
         "CLAIM000007-hosb",
         "CLAIM000007",
         "TRANS003160",
         "HOSP1-000678",
         "ENC002566",
         "PROV0476",
         "DEPT015",
         "2024-02-11",
         "2024-02-25",
         "UnitedHealthcare",
         "3354.98",
         "4352.07",
         "Rejected",
         "Government",
         "59.69",
         "121.43",
         "17.11",
         "2020-02-08",
         "2024-06-23",
         "hosb",
         false
        ],
        [
         "CLAIM000008-hosb",
         "CLAIM000008",
         "TRANS002785",
         "HOSP1-003734",
         "ENC007357",
         "PROV0435",
         "DEPT019",
         "2024-06-29",
         "2024-10-03",
         "BlueCross",
         "4922.57",
         "3273.42",
         "Rejected",
         "Government",
         "396.21",
         "120.76",
         "35.28",
         "2021-04-06",
         "2020-11-19",
         "hosb",
         false
        ],
        [
         "CLAIM000009-hosb",
         "CLAIM000009",
         "TRANS003904",
         "HOSP1-002037",
         "ENC002867",
         "PROV0210",
         "DEPT003",
         "2024-06-11",
         "2024-09-20",
         "UnitedHealthcare",
         "4961.89",
         "2913.81",
         "Paid",
         "Private",
         "409.01",
         "59.76",
         "39.75",
         "2022-08-27",
         "2024-10-28",
         "hosb",
         false
        ],
        [
         "CLAIM000010-hosb",
         "CLAIM000010",
         "TRANS009210",
         "HOSP1-002245",
         "ENC009378",
         "PROV0387",
         "DEPT017",
         "2024-08-28",
         "2024-07-19",
         "UnitedHealthcare",
         "259.14",
         "2877.6",
         "Rejected",
         "Government",
         "488.06",
         "3.43",
         "45.88",
         "2020-12-11",
         "2024-10-03",
         "hosb",
         false
        ]
       ],
       "datasetInfos": [],
       "dbfsResultPath": null,
       "isJsonSchema": true,
       "metadata": {
        "createTempViewForImplicitDf": true,
        "dataframeName": "_sqldf",
        "executionCount": 5
       },
       "overflow": false,
       "plotOptions": {
        "customPlotOptions": {},
        "displayType": "table",
        "pivotAggregation": null,
        "pivotColumns": null,
        "xColumns": null,
        "yColumns": null
       },
       "removedWidgets": [],
       "schema": [
        {
         "metadata": "{}",
         "name": "ClaimID",
         "type": "\"string\""
        },
        {
         "metadata": "{}",
         "name": "SRC_ClaimID",
         "type": "\"string\""
        },
        {
         "metadata": "{}",
         "name": "TransactionID",
         "type": "\"string\""
        },
        {
         "metadata": "{}",
         "name": "PatientID",
         "type": "\"string\""
        },
        {
         "metadata": "{}",
         "name": "EncounterID",
         "type": "\"string\""
        },
        {
         "metadata": "{}",
         "name": "ProviderID",
         "type": "\"string\""
        },
        {
         "metadata": "{}",
         "name": "DeptID",
         "type": "\"string\""
        },
        {
         "metadata": "{}",
         "name": "ServiceDate",
         "type": "\"date\""
        },
        {
         "metadata": "{}",
         "name": "ClaimDate",
         "type": "\"date\""
        },
        {
         "metadata": "{}",
         "name": "PayorID",
         "type": "\"string\""
        },
        {
         "metadata": "{}",
         "name": "ClaimAmount",
         "type": "\"string\""
        },
        {
         "metadata": "{}",
         "name": "PaidAmount",
         "type": "\"string\""
        },
        {
         "metadata": "{}",
         "name": "ClaimStatus",
         "type": "\"string\""
        },
        {
         "metadata": "{}",
         "name": "PayorType",
         "type": "\"string\""
        },
        {
         "metadata": "{}",
         "name": "Deductible",
         "type": "\"string\""
        },
        {
         "metadata": "{}",
         "name": "Coinsurance",
         "type": "\"string\""
        },
        {
         "metadata": "{}",
         "name": "Copay",
         "type": "\"string\""
        },
        {
         "metadata": "{}",
         "name": "SRC_InsertDate",
         "type": "\"date\""
        },
        {
         "metadata": "{}",
         "name": "SRC_ModifiedDate",
         "type": "\"date\""
        },
        {
         "metadata": "{}",
         "name": "datasource",
         "type": "\"string\""
        },
        {
         "metadata": "{}",
         "name": "is_quarantined",
         "type": "\"boolean\""
        }
       ],
       "type": "table"
      }
     },
     "output_type": "display_data"
    }
   ],
   "source": [
    "%sql \n",
    "select * from data_quality_check limit 10"
   ]
  },
  {
   "cell_type": "code",
   "execution_count": 0,
   "metadata": {
    "application/vnd.databricks.v1+cell": {
     "cellMetadata": {
      "byteLimit": 2048000,
      "implicitDf": true,
      "rowLimit": 10000
     },
     "inputWidgets": {},
     "nuid": "073eac31-3885-4ce4-8e3b-edfb5f6ce26a",
     "showTitle": false,
     "tableResultSettingsMap": {},
     "title": ""
    }
   },
   "outputs": [
    {
     "output_type": "display_data",
     "data": {
      "text/html": [
       "<style scoped>\n",
       "  .table-result-container {\n",
       "    max-height: 300px;\n",
       "    overflow: auto;\n",
       "  }\n",
       "  table, th, td {\n",
       "    border: 1px solid black;\n",
       "    border-collapse: collapse;\n",
       "  }\n",
       "  th, td {\n",
       "    padding: 5px;\n",
       "  }\n",
       "  th {\n",
       "    text-align: left;\n",
       "  }\n",
       "</style><div class='table-result-container'><table class='table-result'><thead style='background-color: white'><tr></tr></thead><tbody></tbody></table></div>"
      ]
     },
     "metadata": {
      "application/vnd.databricks.v1+output": {
       "addedWidgets": {},
       "aggData": [],
       "aggError": "",
       "aggOverflow": false,
       "aggSchema": [],
       "aggSeriesLimitReached": false,
       "aggType": "",
       "arguments": {},
       "columnCustomDisplayInfos": {},
       "data": [],
       "datasetInfos": [],
       "dbfsResultPath": null,
       "isJsonSchema": true,
       "metadata": {
        "dataframeName": null
       },
       "overflow": false,
       "plotOptions": {
        "customPlotOptions": {},
        "displayType": "table",
        "pivotAggregation": null,
        "pivotColumns": null,
        "xColumns": null,
        "yColumns": null
       },
       "removedWidgets": [],
       "schema": [],
       "type": "table"
      }
     },
     "output_type": "display_data"
    }
   ],
   "source": [
    "%sql\n",
    "CREATE TABLE IF NOT EXISTS silver.claims (\n",
    "  ClaimID STRING,\n",
    "  SRC_ClaimID STRING,\n",
    "  TransactionID STRING,\n",
    "  PatientID STRING,\n",
    "  EncounterID STRING,\n",
    "  ProviderID STRING,\n",
    "  DeptID STRING,\n",
    "  ServiceDate DATE,\n",
    "  ClaimDate DATE,\n",
    "  PayorID STRING,\n",
    "  ClaimAmount STRING,\n",
    "  PaidAmount STRING,\n",
    "  ClaimStatus STRING,\n",
    "  PayorType STRING,\n",
    "  Deductible STRING,\n",
    "  Coinsurance STRING,\n",
    "  Copay STRING,\n",
    "  SRC_InsertDate DATE,\n",
    "  SRC_ModifiedDate DATE,\n",
    "  datasource STRING,\n",
    "  is_quarantined BOOLEAN,\n",
    "  audit_insertdate TIMESTAMP,\n",
    "  audit_modifieddate TIMESTAMP,\n",
    "  is_current BOOLEAN\n",
    ")\n",
    "USING DELTA;\n"
   ]
  },
  {
   "cell_type": "code",
   "execution_count": 0,
   "metadata": {
    "application/vnd.databricks.v1+cell": {
     "cellMetadata": {
      "byteLimit": 2048000,
      "implicitDf": true,
      "rowLimit": 10000
     },
     "inputWidgets": {},
     "nuid": "6ee336d0-938f-4341-897a-4845b9c84521",
     "showTitle": false,
     "tableResultSettingsMap": {},
     "title": ""
    }
   },
   "outputs": [
    {
     "output_type": "display_data",
     "data": {
      "text/html": [
       "<style scoped>\n",
       "  .table-result-container {\n",
       "    max-height: 300px;\n",
       "    overflow: auto;\n",
       "  }\n",
       "  table, th, td {\n",
       "    border: 1px solid black;\n",
       "    border-collapse: collapse;\n",
       "  }\n",
       "  th, td {\n",
       "    padding: 5px;\n",
       "  }\n",
       "  th {\n",
       "    text-align: left;\n",
       "  }\n",
       "</style><div class='table-result-container'><table class='table-result'><thead style='background-color: white'><tr><th>num_affected_rows</th><th>num_updated_rows</th><th>num_deleted_rows</th><th>num_inserted_rows</th></tr></thead><tbody><tr><td>20000</td><td>0</td><td>0</td><td>20000</td></tr></tbody></table></div>"
      ]
     },
     "metadata": {
      "application/vnd.databricks.v1+output": {
       "addedWidgets": {},
       "aggData": [],
       "aggError": "",
       "aggOverflow": false,
       "aggSchema": [],
       "aggSeriesLimitReached": false,
       "aggType": "",
       "arguments": {},
       "columnCustomDisplayInfos": {},
       "data": [
        [
         20000,
         0,
         0,
         20000
        ]
       ],
       "datasetInfos": [],
       "dbfsResultPath": null,
       "isJsonSchema": true,
       "metadata": {
        "createTempViewForImplicitDf": true,
        "dataframeName": "_sqldf",
        "executionCount": 6
       },
       "overflow": false,
       "plotOptions": {
        "customPlotOptions": {},
        "displayType": "table",
        "pivotAggregation": null,
        "pivotColumns": null,
        "xColumns": null,
        "yColumns": null
       },
       "removedWidgets": [],
       "schema": [
        {
         "metadata": "{}",
         "name": "num_affected_rows",
         "type": "\"long\""
        },
        {
         "metadata": "{}",
         "name": "num_updated_rows",
         "type": "\"long\""
        },
        {
         "metadata": "{}",
         "name": "num_deleted_rows",
         "type": "\"long\""
        },
        {
         "metadata": "{}",
         "name": "num_inserted_rows",
         "type": "\"long\""
        }
       ],
       "type": "table"
      }
     },
     "output_type": "display_data"
    }
   ],
   "source": [
    "%sql\n",
    "MERGE INTO silver.claims AS target\n",
    "USING data_quality_check AS source\n",
    "ON target.ClaimID = source.ClaimID AND target.is_current = true\n",
    "\n",
    "-- Step 1: If a match is found but data has changed → mark old record inactive\n",
    "WHEN MATCHED AND (\n",
    "    target.SRC_ClaimID != source.SRC_ClaimID OR\n",
    "    target.TransactionID != source.TransactionID OR\n",
    "    target.PatientID != source.PatientID OR\n",
    "    target.EncounterID != source.EncounterID OR\n",
    "    target.ProviderID != source.ProviderID OR\n",
    "    target.DeptID != source.DeptID OR\n",
    "    target.ServiceDate != source.ServiceDate OR\n",
    "    target.ClaimDate != source.ClaimDate OR\n",
    "    target.PayorID != source.PayorID OR\n",
    "    target.ClaimAmount != source.ClaimAmount OR\n",
    "    target.PaidAmount != source.PaidAmount OR\n",
    "    target.ClaimStatus != source.ClaimStatus OR\n",
    "    target.PayorType != source.PayorType OR\n",
    "    target.Deductible != source.Deductible OR\n",
    "    target.Coinsurance != source.Coinsurance OR\n",
    "    target.Copay != source.Copay OR\n",
    "    target.SRC_InsertDate != source.SRC_InsertDate OR\n",
    "    target.SRC_ModifiedDate != source.SRC_ModifiedDate OR\n",
    "    target.datasource != source.datasource OR\n",
    "    target.is_quarantined != source.is_quarantined\n",
    ") THEN UPDATE SET\n",
    "    target.is_current = false,\n",
    "    target.audit_modifieddate = current_timestamp()\n",
    "\n",
    "-- Step 2: If no active version exists (new ClaimID or changed), insert new record\n",
    "WHEN NOT MATCHED BY TARGET THEN\n",
    "  INSERT (\n",
    "    ClaimID,\n",
    "    SRC_ClaimID,\n",
    "    TransactionID,\n",
    "    PatientID,\n",
    "    EncounterID,\n",
    "    ProviderID,\n",
    "    DeptID,\n",
    "    ServiceDate,\n",
    "    ClaimDate,\n",
    "    PayorID,\n",
    "    ClaimAmount,\n",
    "    PaidAmount,\n",
    "    ClaimStatus,\n",
    "    PayorType,\n",
    "    Deductible,\n",
    "    Coinsurance,\n",
    "    Copay,\n",
    "    SRC_InsertDate,\n",
    "    SRC_ModifiedDate,\n",
    "    datasource,\n",
    "    is_quarantined,\n",
    "    audit_insertdate,\n",
    "    audit_modifieddate,\n",
    "    is_current\n",
    "  )\n",
    "  VALUES (\n",
    "    source.ClaimID,\n",
    "    source.SRC_ClaimID,\n",
    "    source.TransactionID,\n",
    "    source.PatientID,\n",
    "    source.EncounterID,\n",
    "    source.ProviderID,\n",
    "    source.DeptID,\n",
    "    source.ServiceDate,\n",
    "    source.ClaimDate,\n",
    "    source.PayorID,\n",
    "    source.ClaimAmount,\n",
    "    source.PaidAmount,\n",
    "    source.ClaimStatus,\n",
    "    source.PayorType,\n",
    "    source.Deductible,\n",
    "    source.Coinsurance,\n",
    "    source.Copay,\n",
    "    source.SRC_InsertDate,\n",
    "    source.SRC_ModifiedDate,\n",
    "    source.datasource,\n",
    "    source.is_quarantined,\n",
    "    current_timestamp(),\n",
    "    current_timestamp(),\n",
    "    true\n",
    "  );\n"
   ]
  }
 ],
 "metadata": {
  "application/vnd.databricks.v1+notebook": {
   "computePreferences": null,
   "dashboards": [],
   "environmentMetadata": {
    "base_environment": "",
    "environment_version": "2"
   },
   "inputWidgetPreferences": null,
   "language": "python",
   "notebookMetadata": {
    "mostRecentlyExecutedCommandWithImplicitDF": {
     "commandId": 8642474128970708,
     "dataframes": [
      "_sqldf"
     ]
    },
    "pythonIndentUnit": 4
   },
   "notebookName": "Claims_Silver",
   "widgets": {}
  },
  "language_info": {
   "name": "python"
  }
 },
 "nbformat": 4,
 "nbformat_minor": 0
}