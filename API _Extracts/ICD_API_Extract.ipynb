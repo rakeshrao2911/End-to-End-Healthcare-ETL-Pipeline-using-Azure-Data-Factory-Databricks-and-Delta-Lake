{
 "cells": [
  {
   "cell_type": "code",
   "execution_count": 0,
   "metadata": {
    "application/vnd.databricks.v1+cell": {
     "cellMetadata": {
      "byteLimit": 2048000,
      "rowLimit": 10000
     },
     "inputWidgets": {},
     "nuid": "331b9e43-ac0c-4d53-ba77-b8a4ebc0bfda",
     "showTitle": false,
     "tableResultSettingsMap": {},
     "title": ""
    }
   },
   "outputs": [
    {
     "output_type": "stream",
     "name": "stdout",
     "output_type": "stream",
     "text": [
      "[{'icd_code': 'A00.0', 'icd_code_type': 'ICD-10', 'code_description': 'Cholera due to Vibrio cholerae 01, biovar cholerae', 'inserted_date': datetime.date(2025, 7, 29), 'updated_date': datetime.date(2025, 7, 29), 'is_current_flag': True}, {'icd_code': 'A00.1', 'icd_code_type': 'ICD-10', 'code_description': 'Cholera due to Vibrio cholerae 01, biovar eltor', 'inserted_date': datetime.date(2025, 7, 29), 'updated_date': datetime.date(2025, 7, 29), 'is_current_flag': True}, {'icd_code': 'A00.9', 'icd_code_type': 'ICD-10', 'code_description': 'Cholera, unspecified', 'inserted_date': datetime.date(2025, 7, 29), 'updated_date': datetime.date(2025, 7, 29), 'is_current_flag': True}, {'icd_code': 'A01.0', 'icd_code_type': 'ICD-10', 'code_description': 'Typhoid fever', 'inserted_date': datetime.date(2025, 7, 29), 'updated_date': datetime.date(2025, 7, 29), 'is_current_flag': True}, {'icd_code': 'A01.1', 'icd_code_type': 'ICD-10', 'code_description': 'Paratyphoid fever A', 'inserted_date': datetime.date(2025, 7, 29), 'updated_date': datetime.date(2025, 7, 29), 'is_current_flag': True}, {'icd_code': 'A01.2', 'icd_code_type': 'ICD-10', 'code_description': 'Paratyphoid fever B', 'inserted_date': datetime.date(2025, 7, 29), 'updated_date': datetime.date(2025, 7, 29), 'is_current_flag': True}, {'icd_code': 'A01.3', 'icd_code_type': 'ICD-10', 'code_description': 'Paratyphoid fever C', 'inserted_date': datetime.date(2025, 7, 29), 'updated_date': datetime.date(2025, 7, 29), 'is_current_flag': True}, {'icd_code': 'A01.4', 'icd_code_type': 'ICD-10', 'code_description': 'Paratyphoid fever, unspecified', 'inserted_date': datetime.date(2025, 7, 29), 'updated_date': datetime.date(2025, 7, 29), 'is_current_flag': True}, {'icd_code': 'A02.0', 'icd_code_type': 'ICD-10', 'code_description': 'Salmonella enteritis', 'inserted_date': datetime.date(2025, 7, 29), 'updated_date': datetime.date(2025, 7, 29), 'is_current_flag': True}, {'icd_code': 'A02.1', 'icd_code_type': 'ICD-10', 'code_description': 'Salmonella sepsis', 'inserted_date': datetime.date(2025, 7, 29), 'updated_date': datetime.date(2025, 7, 29), 'is_current_flag': True}, {'icd_code': 'A02.2', 'icd_code_type': 'ICD-10', 'code_description': 'Localized salmonella infections', 'inserted_date': datetime.date(2025, 7, 29), 'updated_date': datetime.date(2025, 7, 29), 'is_current_flag': True}, {'icd_code': 'A02.8', 'icd_code_type': 'ICD-10', 'code_description': 'Other specified salmonella infections', 'inserted_date': datetime.date(2025, 7, 29), 'updated_date': datetime.date(2025, 7, 29), 'is_current_flag': True}, {'icd_code': 'A02.9', 'icd_code_type': 'ICD-10', 'code_description': 'Salmonella infection, unspecified', 'inserted_date': datetime.date(2025, 7, 29), 'updated_date': datetime.date(2025, 7, 29), 'is_current_flag': True}, {'icd_code': 'A03.0', 'icd_code_type': 'ICD-10', 'code_description': 'Shigellosis due to Shigella dysenteriae', 'inserted_date': datetime.date(2025, 7, 29), 'updated_date': datetime.date(2025, 7, 29), 'is_current_flag': True}, {'icd_code': 'A03.1', 'icd_code_type': 'ICD-10', 'code_description': 'Shigellosis due to Shigella flexneri', 'inserted_date': datetime.date(2025, 7, 29), 'updated_date': datetime.date(2025, 7, 29), 'is_current_flag': True}, {'icd_code': 'A03.2', 'icd_code_type': 'ICD-10', 'code_description': 'Shigellosis due to Shigella boydii', 'inserted_date': datetime.date(2025, 7, 29), 'updated_date': datetime.date(2025, 7, 29), 'is_current_flag': True}, {'icd_code': 'A03.3', 'icd_code_type': 'ICD-10', 'code_description': 'Shigellosis due to Shigella sonnei', 'inserted_date': datetime.date(2025, 7, 29), 'updated_date': datetime.date(2025, 7, 29), 'is_current_flag': True}, {'icd_code': 'A03.8', 'icd_code_type': 'ICD-10', 'code_description': 'Other shigellosis', 'inserted_date': datetime.date(2025, 7, 29), 'updated_date': datetime.date(2025, 7, 29), 'is_current_flag': True}, {'icd_code': 'A03.9', 'icd_code_type': 'ICD-10', 'code_description': 'Shigellosis, unspecified', 'inserted_date': datetime.date(2025, 7, 29), 'updated_date': datetime.date(2025, 7, 29), 'is_current_flag': True}, {'icd_code': 'A04.0', 'icd_code_type': 'ICD-10', 'code_description': 'Enteropathogenic Escherichia coli infection', 'inserted_date': datetime.date(2025, 7, 29), 'updated_date': datetime.date(2025, 7, 29), 'is_current_flag': True}, {'icd_code': 'A04.1', 'icd_code_type': 'ICD-10', 'code_description': 'Enterotoxigenic Escherichia coli infection', 'inserted_date': datetime.date(2025, 7, 29), 'updated_date': datetime.date(2025, 7, 29), 'is_current_flag': True}, {'icd_code': 'A04.2', 'icd_code_type': 'ICD-10', 'code_description': 'Enteroinvasive Escherichia coli infection', 'inserted_date': datetime.date(2025, 7, 29), 'updated_date': datetime.date(2025, 7, 29), 'is_current_flag': True}, {'icd_code': 'A04.3', 'icd_code_type': 'ICD-10', 'code_description': 'Enterohaemorrhagic Escherichia coli infection', 'inserted_date': datetime.date(2025, 7, 29), 'updated_date': datetime.date(2025, 7, 29), 'is_current_flag': True}, {'icd_code': 'A04.4', 'icd_code_type': 'ICD-10', 'code_description': 'Other intestinal Escherichia coli infections', 'inserted_date': datetime.date(2025, 7, 29), 'updated_date': datetime.date(2025, 7, 29), 'is_current_flag': True}, {'icd_code': 'A04.5', 'icd_code_type': 'ICD-10', 'code_description': 'Campylobacter enteritis', 'inserted_date': datetime.date(2025, 7, 29), 'updated_date': datetime.date(2025, 7, 29), 'is_current_flag': True}, {'icd_code': 'A04.6', 'icd_code_type': 'ICD-10', 'code_description': 'Enteritis due to Yersinia enterocolitica', 'inserted_date': datetime.date(2025, 7, 29), 'updated_date': datetime.date(2025, 7, 29), 'is_current_flag': True}, {'icd_code': 'A04.7', 'icd_code_type': 'ICD-10', 'code_description': 'Enterocolitis due to Clostridium difficile', 'inserted_date': datetime.date(2025, 7, 29), 'updated_date': datetime.date(2025, 7, 29), 'is_current_flag': True}, {'icd_code': 'A04.8', 'icd_code_type': 'ICD-10', 'code_description': 'Other specified bacterial intestinal infections', 'inserted_date': datetime.date(2025, 7, 29), 'updated_date': datetime.date(2025, 7, 29), 'is_current_flag': True}, {'icd_code': 'A04.9', 'icd_code_type': 'ICD-10', 'code_description': 'Bacterial intestinal infection, unspecified', 'inserted_date': datetime.date(2025, 7, 29), 'updated_date': datetime.date(2025, 7, 29), 'is_current_flag': True}, {'icd_code': 'A05.0', 'icd_code_type': 'ICD-10', 'code_description': 'Foodborne staphylococcal intoxication', 'inserted_date': datetime.date(2025, 7, 29), 'updated_date': datetime.date(2025, 7, 29), 'is_current_flag': True}, {'icd_code': 'A05.1', 'icd_code_type': 'ICD-10', 'code_description': 'Botulism', 'inserted_date': datetime.date(2025, 7, 29), 'updated_date': datetime.date(2025, 7, 29), 'is_current_flag': True}, {'icd_code': 'A05.2', 'icd_code_type': 'ICD-10', 'code_description': 'Foodborne Clostridium perfringens [Clostridium welchii] intoxication', 'inserted_date': datetime.date(2025, 7, 29), 'updated_date': datetime.date(2025, 7, 29), 'is_current_flag': True}, {'icd_code': 'A05.3', 'icd_code_type': 'ICD-10', 'code_description': 'Foodborne Vibrio parahaemolyticus intoxication', 'inserted_date': datetime.date(2025, 7, 29), 'updated_date': datetime.date(2025, 7, 29), 'is_current_flag': True}, {'icd_code': 'A05.4', 'icd_code_type': 'ICD-10', 'code_description': 'Foodborne Bacillus cereus intoxication', 'inserted_date': datetime.date(2025, 7, 29), 'updated_date': datetime.date(2025, 7, 29), 'is_current_flag': True}, {'icd_code': 'A05.8', 'icd_code_type': 'ICD-10', 'code_description': 'Other specified bacterial foodborne intoxications', 'inserted_date': datetime.date(2025, 7, 29), 'updated_date': datetime.date(2025, 7, 29), 'is_current_flag': True}, {'icd_code': 'A05.9', 'icd_code_type': 'ICD-10', 'code_description': 'Bacterial foodborne intoxication, unspecified', 'inserted_date': datetime.date(2025, 7, 29), 'updated_date': datetime.date(2025, 7, 29), 'is_current_flag': True}, {'icd_code': 'A06.0', 'icd_code_type': 'ICD-10', 'code_description': 'Acute amoebic dysentery', 'inserted_date': datetime.date(2025, 7, 29), 'updated_date': datetime.date(2025, 7, 29), 'is_current_flag': True}, {'icd_code': 'A06.1', 'icd_code_type': 'ICD-10', 'code_description': 'Chronic intestinal amoebiasis', 'inserted_date': datetime.date(2025, 7, 29), 'updated_date': datetime.date(2025, 7, 29), 'is_current_flag': True}, {'icd_code': 'A06.2', 'icd_code_type': 'ICD-10', 'code_description': 'Amoebic nondysenteric colitis', 'inserted_date': datetime.date(2025, 7, 29), 'updated_date': datetime.date(2025, 7, 29), 'is_current_flag': True}, {'icd_code': 'A06.3', 'icd_code_type': 'ICD-10', 'code_description': 'Amoeboma of intestine', 'inserted_date': datetime.date(2025, 7, 29), 'updated_date': datetime.date(2025, 7, 29), 'is_current_flag': True}, {'icd_code': 'A06.4', 'icd_code_type': 'ICD-10', 'code_description': 'Amoebic liver abscess', 'inserted_date': datetime.date(2025, 7, 29), 'updated_date': datetime.date(2025, 7, 29), 'is_current_flag': True}, {'icd_code': 'A06.5', 'icd_code_type': 'ICD-10', 'code_description': 'Amoebic lung abscess', 'inserted_date': datetime.date(2025, 7, 29), 'updated_date': datetime.date(2025, 7, 29), 'is_current_flag': True}, {'icd_code': 'A06.6', 'icd_code_type': 'ICD-10', 'code_description': 'Amoebic brain abscess', 'inserted_date': datetime.date(2025, 7, 29), 'updated_date': datetime.date(2025, 7, 29), 'is_current_flag': True}, {'icd_code': 'A06.7', 'icd_code_type': 'ICD-10', 'code_description': 'Cutaneous amoebiasis', 'inserted_date': datetime.date(2025, 7, 29), 'updated_date': datetime.date(2025, 7, 29), 'is_current_flag': True}, {'icd_code': 'A06.8', 'icd_code_type': 'ICD-10', 'code_description': 'Amoebic infection of other sites', 'inserted_date': datetime.date(2025, 7, 29), 'updated_date': datetime.date(2025, 7, 29), 'is_current_flag': True}, {'icd_code': 'A06.9', 'icd_code_type': 'ICD-10', 'code_description': 'Amoebiasis, unspecified', 'inserted_date': datetime.date(2025, 7, 29), 'updated_date': datetime.date(2025, 7, 29), 'is_current_flag': True}, {'icd_code': 'A07.0', 'icd_code_type': 'ICD-10', 'code_description': 'Balantidiasis', 'inserted_date': datetime.date(2025, 7, 29), 'updated_date': datetime.date(2025, 7, 29), 'is_current_flag': True}, {'icd_code': 'A07.1', 'icd_code_type': 'ICD-10', 'code_description': 'Giardiasis [lambliasis]', 'inserted_date': datetime.date(2025, 7, 29), 'updated_date': datetime.date(2025, 7, 29), 'is_current_flag': True}, {'icd_code': 'A07.2', 'icd_code_type': 'ICD-10', 'code_description': 'Cryptosporidiosis', 'inserted_date': datetime.date(2025, 7, 29), 'updated_date': datetime.date(2025, 7, 29), 'is_current_flag': True}, {'icd_code': 'A07.3', 'icd_code_type': 'ICD-10', 'code_description': 'Isosporiasis', 'inserted_date': datetime.date(2025, 7, 29), 'updated_date': datetime.date(2025, 7, 29), 'is_current_flag': True}, {'icd_code': 'A07.8', 'icd_code_type': 'ICD-10', 'code_description': 'Other specified protozoal intestinal diseases', 'inserted_date': datetime.date(2025, 7, 29), 'updated_date': datetime.date(2025, 7, 29), 'is_current_flag': True}, {'icd_code': 'A07.9', 'icd_code_type': 'ICD-10', 'code_description': 'Protozoal intestinal disease, unspecified', 'inserted_date': datetime.date(2025, 7, 29), 'updated_date': datetime.date(2025, 7, 29), 'is_current_flag': True}, {'icd_code': 'A08.0', 'icd_code_type': 'ICD-10', 'code_description': 'Rotaviral enteritis', 'inserted_date': datetime.date(2025, 7, 29), 'updated_date': datetime.date(2025, 7, 29), 'is_current_flag': True}, {'icd_code': 'A08.1', 'icd_code_type': 'ICD-10', 'code_description': 'Acute gastroenteropathy due to Norovirus', 'inserted_date': datetime.date(2025, 7, 29), 'updated_date': datetime.date(2025, 7, 29), 'is_current_flag': True}, {'icd_code': 'A08.2', 'icd_code_type': 'ICD-10', 'code_description': 'Adenoviral enteritis', 'inserted_date': datetime.date(2025, 7, 29), 'updated_date': datetime.date(2025, 7, 29), 'is_current_flag': True}, {'icd_code': 'A08.3', 'icd_code_type': 'ICD-10', 'code_description': 'Other viral enteritis', 'inserted_date': datetime.date(2025, 7, 29), 'updated_date': datetime.date(2025, 7, 29), 'is_current_flag': True}, {'icd_code': 'A08.4', 'icd_code_type': 'ICD-10', 'code_description': 'Viral intestinal infection, unspecified', 'inserted_date': datetime.date(2025, 7, 29), 'updated_date': datetime.date(2025, 7, 29), 'is_current_flag': True}, {'icd_code': 'A08.5', 'icd_code_type': 'ICD-10', 'code_description': 'Other specified intestinal infections', 'inserted_date': datetime.date(2025, 7, 29), 'updated_date': datetime.date(2025, 7, 29), 'is_current_flag': True}, {'icd_code': 'A09.0', 'icd_code_type': 'ICD-10', 'code_description': 'Other and unspecified gastroenteritis and colitis of infectious origin', 'inserted_date': datetime.date(2025, 7, 29), 'updated_date': datetime.date(2025, 7, 29), 'is_current_flag': True}, {'icd_code': 'A09.9', 'icd_code_type': 'ICD-10', 'code_description': 'Gastroenteritis and colitis of unspecified origin', 'inserted_date': datetime.date(2025, 7, 29), 'updated_date': datetime.date(2025, 7, 29), 'is_current_flag': True}]\n"
     ]
    }
   ],
   "source": [
    "import requests\n",
    "from pyspark.sql import SparkSession\n",
    "from pyspark.sql.functions import current_date, lit\n",
    "from datetime import datetime\n",
    "from pyspark.sql.types import StructType, StructField, StringType, DateType, BooleanType\n",
    "\n",
    "\n",
    "\n",
    "client_id = 'c1b31e75-de89-4e9e-9738-87a4779e98e9_b7b0ac50-33a3-4ba5-abc2-4f4b1050ab15'\n",
    "client_secret = 'UtTb8EIodKWT2g3BoIkgGsNbMcv0ClZKJbEij4ySzTs='\n",
    "base_url = 'https://id.who.int/icd/'\n",
    "current_date=datetime.now().date()\n",
    "\n",
    "auth_url = 'https://icdaccessmanagement.who.int/connect/token'\n",
    "auth_response = requests.post(auth_url, data={\n",
    "    'client_id': client_id,\n",
    "    'client_secret': client_secret,\n",
    "    'grant_type': 'client_credentials'\n",
    "})\n",
    "\n",
    "if auth_response.status_code == 200:\n",
    "    access_token = auth_response.json().get('access_token')\n",
    "else:\n",
    "    raise Exception(f\"Failed to obtain access token: {auth_response.status_code} - {auth_response.text}\")\n",
    "\n",
    "headers = {\n",
    "    'Authorization': f'Bearer {access_token}',\n",
    "    'API-Version': 'v2',  # Add the API-Version header\n",
    "    'Accept-Language': 'en',\n",
    "}\n",
    "\n",
    "def fetch_icd_codes(url):\n",
    "    response = requests.get(url, headers=headers)\n",
    "    if response.status_code == 200:\n",
    "        return response.json()\n",
    "    else:\n",
    "        raise Exception(f\"Failed to fetch data: {response.status_code} - {response.text}\")\n",
    "\n",
    "def extract_codes(url):\n",
    "    data = fetch_icd_codes(url)\n",
    "    codes = []\n",
    "    if 'child' in data:\n",
    "        for child_url in data['child']:\n",
    "            codes.extend(extract_codes(child_url))\n",
    "    else:\n",
    "        if 'code' in data and 'title' in data:\n",
    "            # print(data['code'],data['title']['@value'])\n",
    "            codes.append({\n",
    "                'icd_code': data['code'],\n",
    "                'icd_code_type': 'ICD-10',\n",
    "                'code_description': data['title']['@value'],\n",
    "                'inserted_date': current_date,\n",
    "                'updated_date': current_date,\n",
    "                'is_current_flag': True\n",
    "            })\n",
    "    return codes\n",
    "\n",
    "# Start from the root URL\n",
    "root_url = 'https://id.who.int/icd/release/10/2019/A00-A09'\n",
    "icd_codes = extract_codes(root_url)\n",
    "\n",
    "\n",
    "# Define the schema explicitly\n",
    "schema = StructType([\n",
    "    StructField(\"icd_code\", StringType(), True),\n",
    "    StructField(\"icd_code_type\", StringType(), True),\n",
    "    StructField(\"code_description\", StringType(), True),\n",
    "    StructField(\"inserted_date\", DateType(), True),\n",
    "    StructField(\"updated_date\", DateType(), True),\n",
    "    StructField(\"is_current_flag\", BooleanType(), True)\n",
    "])\n",
    "\n",
    "# Create a DataFrame using the defined schema\n",
    "print(icd_codes)\n",
    "df = spark.createDataFrame(icd_codes, schema=schema)\n",
    "df.write.format(\"parquet\").mode(\"append\").save(\"/mnt/bronze/icd_codes/\")"
   ]
  }
 ],
 "metadata": {
  "application/vnd.databricks.v1+notebook": {
   "computePreferences": null,
   "dashboards": [],
   "environmentMetadata": {
    "base_environment": "",
    "environment_version": "2"
   },
   "inputWidgetPreferences": null,
   "language": "python",
   "notebookMetadata": {
    "pythonIndentUnit": 4
   },
   "notebookName": "ICD_API_Extract",
   "widgets": {}
  },
  "language_info": {
   "name": "python"
  }
 },
 "nbformat": 4,
 "nbformat_minor": 0
}