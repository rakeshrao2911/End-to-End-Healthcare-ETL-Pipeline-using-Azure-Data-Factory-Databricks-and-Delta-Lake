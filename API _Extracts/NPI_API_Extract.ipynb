{
 "cells": [
  {
   "cell_type": "code",
   "execution_count": 0,
   "metadata": {
    "application/vnd.databricks.v1+cell": {
     "cellMetadata": {
      "byteLimit": 2048000,
      "rowLimit": 10000
     },
     "inputWidgets": {},
     "nuid": "f8197680-c69b-4f5d-8f29-b93a1bba51d9",
     "showTitle": false,
     "tableResultSettingsMap": {},
     "title": ""
    }
   },
   "outputs": [
    {
     "output_type": "stream",
     "name": "stdout",
     "output_type": "stream",
     "text": [
      "[{'npi_id': '1487344586', 'first_name': 'MANEESH', 'last_name': 'SINGHAL', 'position': 'CEO/ Medical Director', 'organisation_name': '1 FAMILY CLINIC INC', 'last_updated': '2023-05-11', 'refreshed_at': datetime.date(2025, 7, 29)}, {'npi_id': '1417720848', 'first_name': 'DARCY', 'last_name': 'JOHNSTON', 'position': 'Director of Revenue Cycle Managment', 'organisation_name': '1 METHOD CORP', 'last_updated': '2024-11-13', 'refreshed_at': datetime.date(2025, 7, 29)}, {'npi_id': '1295509628', 'first_name': 'DARCY', 'last_name': 'JOHNSTON', 'position': 'Director of Revenue Cycle Mgmnt', 'organisation_name': '1 METHOD CORP', 'last_updated': '2024-11-13', 'refreshed_at': datetime.date(2025, 7, 29)}, {'npi_id': '1619741071', 'first_name': 'DARCY', 'last_name': 'JOHNSTON', 'position': 'Director of Revenue Cycle Mgmnt', 'organisation_name': '1 METHOD CORP', 'last_updated': '2024-11-13', 'refreshed_at': datetime.date(2025, 7, 29)}, {'npi_id': '1881083566', 'first_name': 'CASSIDY', 'last_name': 'COUSENS', 'position': 'Program Administrator', 'organisation_name': '1 METHOD, LLC', 'last_updated': '2015-01-18', 'refreshed_at': datetime.date(2025, 7, 29)}, {'npi_id': '1396505947', 'first_name': 'MICHAEL', 'last_name': 'YERIKYAN', 'position': 'OWNER', 'organisation_name': '1 STOP HOME HEALTH, INC.', 'last_updated': '2024-03-20', 'refreshed_at': datetime.date(2025, 7, 29)}, {'npi_id': '1689337768', 'first_name': 'MICHAEL', 'last_name': 'YERIKYAN', 'position': 'OWNER', 'organisation_name': '1 STOP HOSPICE AND PALLIATIVE CARE, INC.', 'last_updated': '2021-10-15', 'refreshed_at': datetime.date(2025, 7, 29)}, {'npi_id': '1265620926', 'first_name': 'KEVIN', 'last_name': 'CHOE', 'position': 'President', 'organisation_name': '10 BODY TYPE ACUPUNCTURE CLINIC', 'last_updated': '2011-07-12', 'refreshed_at': datetime.date(2025, 7, 29)}, {'npi_id': '1194834028', 'first_name': 'BAHRAM', 'last_name': 'PARSA', 'position': 'DIRECTOR', 'organisation_name': '100 PLAZA CLINICAL LAB INC', 'last_updated': '2009-03-27', 'refreshed_at': datetime.date(2025, 7, 29)}, {'npi_id': '1114580677', 'first_name': 'JOSHUA', 'last_name': 'ALOMIA', 'position': 'COO', 'organisation_name': '101 DANCE CENTER LLC', 'last_updated': '2024-07-16', 'refreshed_at': datetime.date(2025, 7, 29)}, {'npi_id': '1093157786', 'first_name': 'NICHOLAS', 'last_name': 'THOMAS', 'position': 'President', 'organisation_name': '1010 PHARMACY', 'last_updated': '2015-09-08', 'refreshed_at': datetime.date(2025, 7, 29)}, {'npi_id': '1235963950', 'first_name': 'DANIEL', 'last_name': 'TABELLO', 'position': 'Managing Member', 'organisation_name': '10120 S SPRING LA LLC', 'last_updated': '2024-08-27', 'refreshed_at': datetime.date(2025, 7, 29)}, {'npi_id': '1043921091', 'first_name': 'DAVID', 'last_name': 'GARETZ', 'position': 'CFO', 'organisation_name': '10425 OPCO LLC', 'last_updated': '2022-12-12', 'refreshed_at': datetime.date(2025, 7, 29)}, {'npi_id': '1649791633', 'first_name': 'EMMANUEL', 'last_name': 'ACHOLONU', 'position': 'Director', 'organisation_name': '10TH AVENUE PHARMACY', 'last_updated': '2017-06-29', 'refreshed_at': datetime.date(2025, 7, 29)}, {'npi_id': '1114291523', 'first_name': 'MARTIN', 'last_name': 'WEISS', 'position': 'Manager', 'organisation_name': '1100 SOUTH ALVARADO STREET, LLC', 'last_updated': '2014-07-20', 'refreshed_at': datetime.date(2025, 7, 29)}, {'npi_id': '1588306344', 'first_name': 'ALEXANDER', 'last_name': 'CHO', 'position': 'CEO', 'organisation_name': '11037 ANZIO HOME, INC.', 'last_updated': '2023-03-16', 'refreshed_at': datetime.date(2025, 7, 29)}, {'npi_id': '1164767356', 'first_name': 'DERRICK', 'last_name': 'FORTUNE', 'position': 'Counselor', 'organisation_name': '11821 FOOTHILL BLVD', 'last_updated': '2012-11-29', 'refreshed_at': datetime.date(2025, 7, 29)}, {'npi_id': '1497512693', 'first_name': 'AVROHOM', 'last_name': 'TRESS', 'position': 'Manager of Bold Quail 3 Operations', 'organisation_name': '13075 BLACKBIRD STREET OPCO, LLC', 'last_updated': '2024-03-04', 'refreshed_at': datetime.date(2025, 7, 29)}, {'npi_id': '1740343433', 'first_name': 'TEODORO', 'last_name': 'SANTOS', 'position': 'PHARMACIST', 'organisation_name': '1663 PHARMACY INC', 'last_updated': '2020-08-22', 'refreshed_at': datetime.date(2025, 7, 29)}, {'npi_id': '1548789753', 'first_name': 'DEZARAY', 'last_name': 'ROEBUCK', 'position': 'Employment specialist', 'organisation_name': '1736 FAMILY CRISIS CENTER', 'last_updated': '2022-07-21', 'refreshed_at': datetime.date(2025, 7, 29)}]\n"
     ]
    },
    {
     "output_type": "display_data",
     "data": {
      "text/html": [
       "<style scoped>\n",
       "  .table-result-container {\n",
       "    max-height: 300px;\n",
       "    overflow: auto;\n",
       "  }\n",
       "  table, th, td {\n",
       "    border: 1px solid black;\n",
       "    border-collapse: collapse;\n",
       "  }\n",
       "  th, td {\n",
       "    padding: 5px;\n",
       "  }\n",
       "  th {\n",
       "    text-align: left;\n",
       "  }\n",
       "</style><div class='table-result-container'><table class='table-result'><thead style='background-color: white'><tr><th>first_name</th><th>last_name</th><th>last_updated</th><th>npi_id</th><th>organisation_name</th><th>position</th><th>refreshed_at</th></tr></thead><tbody><tr><td>MANEESH</td><td>SINGHAL</td><td>2023-05-11</td><td>1487344586</td><td>1 FAMILY CLINIC INC</td><td>CEO/ Medical Director</td><td>2025-07-29</td></tr><tr><td>DARCY</td><td>JOHNSTON</td><td>2024-11-13</td><td>1417720848</td><td>1 METHOD CORP</td><td>Director of Revenue Cycle Managment</td><td>2025-07-29</td></tr><tr><td>DARCY</td><td>JOHNSTON</td><td>2024-11-13</td><td>1295509628</td><td>1 METHOD CORP</td><td>Director of Revenue Cycle Mgmnt</td><td>2025-07-29</td></tr><tr><td>DARCY</td><td>JOHNSTON</td><td>2024-11-13</td><td>1619741071</td><td>1 METHOD CORP</td><td>Director of Revenue Cycle Mgmnt</td><td>2025-07-29</td></tr><tr><td>CASSIDY</td><td>COUSENS</td><td>2015-01-18</td><td>1881083566</td><td>1 METHOD, LLC</td><td>Program Administrator</td><td>2025-07-29</td></tr><tr><td>MICHAEL</td><td>YERIKYAN</td><td>2024-03-20</td><td>1396505947</td><td>1 STOP HOME HEALTH, INC.</td><td>OWNER</td><td>2025-07-29</td></tr><tr><td>MICHAEL</td><td>YERIKYAN</td><td>2021-10-15</td><td>1689337768</td><td>1 STOP HOSPICE AND PALLIATIVE CARE, INC.</td><td>OWNER</td><td>2025-07-29</td></tr><tr><td>KEVIN</td><td>CHOE</td><td>2011-07-12</td><td>1265620926</td><td>10 BODY TYPE ACUPUNCTURE CLINIC</td><td>President</td><td>2025-07-29</td></tr><tr><td>BAHRAM</td><td>PARSA</td><td>2009-03-27</td><td>1194834028</td><td>100 PLAZA CLINICAL LAB INC</td><td>DIRECTOR</td><td>2025-07-29</td></tr><tr><td>JOSHUA</td><td>ALOMIA</td><td>2024-07-16</td><td>1114580677</td><td>101 DANCE CENTER LLC</td><td>COO</td><td>2025-07-29</td></tr><tr><td>NICHOLAS</td><td>THOMAS</td><td>2015-09-08</td><td>1093157786</td><td>1010 PHARMACY</td><td>President</td><td>2025-07-29</td></tr><tr><td>DANIEL</td><td>TABELLO</td><td>2024-08-27</td><td>1235963950</td><td>10120 S SPRING LA LLC</td><td>Managing Member</td><td>2025-07-29</td></tr><tr><td>DAVID</td><td>GARETZ</td><td>2022-12-12</td><td>1043921091</td><td>10425 OPCO LLC</td><td>CFO</td><td>2025-07-29</td></tr><tr><td>EMMANUEL</td><td>ACHOLONU</td><td>2017-06-29</td><td>1649791633</td><td>10TH AVENUE PHARMACY</td><td>Director</td><td>2025-07-29</td></tr><tr><td>MARTIN</td><td>WEISS</td><td>2014-07-20</td><td>1114291523</td><td>1100 SOUTH ALVARADO STREET, LLC</td><td>Manager</td><td>2025-07-29</td></tr><tr><td>ALEXANDER</td><td>CHO</td><td>2023-03-16</td><td>1588306344</td><td>11037 ANZIO HOME, INC.</td><td>CEO</td><td>2025-07-29</td></tr><tr><td>DERRICK</td><td>FORTUNE</td><td>2012-11-29</td><td>1164767356</td><td>11821 FOOTHILL BLVD</td><td>Counselor</td><td>2025-07-29</td></tr><tr><td>AVROHOM</td><td>TRESS</td><td>2024-03-04</td><td>1497512693</td><td>13075 BLACKBIRD STREET OPCO, LLC</td><td>Manager of Bold Quail 3 Operations</td><td>2025-07-29</td></tr><tr><td>TEODORO</td><td>SANTOS</td><td>2020-08-22</td><td>1740343433</td><td>1663 PHARMACY INC</td><td>PHARMACIST</td><td>2025-07-29</td></tr><tr><td>DEZARAY</td><td>ROEBUCK</td><td>2022-07-21</td><td>1548789753</td><td>1736 FAMILY CRISIS CENTER</td><td>Employment specialist</td><td>2025-07-29</td></tr></tbody></table></div>"
      ]
     },
     "metadata": {
      "application/vnd.databricks.v1+output": {
       "addedWidgets": {},
       "aggData": [],
       "aggError": "",
       "aggOverflow": false,
       "aggSchema": [],
       "aggSeriesLimitReached": false,
       "aggType": "",
       "arguments": {},
       "columnCustomDisplayInfos": {},
       "data": [
        [
         "MANEESH",
         "SINGHAL",
         "2023-05-11",
         "1487344586",
         "1 FAMILY CLINIC INC",
         "CEO/ Medical Director",
         "2025-07-29"
        ],
        [
         "DARCY",
         "JOHNSTON",
         "2024-11-13",
         "1417720848",
         "1 METHOD CORP",
         "Director of Revenue Cycle Managment",
         "2025-07-29"
        ],
        [
         "DARCY",
         "JOHNSTON",
         "2024-11-13",
         "1295509628",
         "1 METHOD CORP",
         "Director of Revenue Cycle Mgmnt",
         "2025-07-29"
        ],
        [
         "DARCY",
         "JOHNSTON",
         "2024-11-13",
         "1619741071",
         "1 METHOD CORP",
         "Director of Revenue Cycle Mgmnt",
         "2025-07-29"
        ],
        [
         "CASSIDY",
         "COUSENS",
         "2015-01-18",
         "1881083566",
         "1 METHOD, LLC",
         "Program Administrator",
         "2025-07-29"
        ],
        [
         "MICHAEL",
         "YERIKYAN",
         "2024-03-20",
         "1396505947",
         "1 STOP HOME HEALTH, INC.",
         "OWNER",
         "2025-07-29"
        ],
        [
         "MICHAEL",
         "YERIKYAN",
         "2021-10-15",
         "1689337768",
         "1 STOP HOSPICE AND PALLIATIVE CARE, INC.",
         "OWNER",
         "2025-07-29"
        ],
        [
         "KEVIN",
         "CHOE",
         "2011-07-12",
         "1265620926",
         "10 BODY TYPE ACUPUNCTURE CLINIC",
         "President",
         "2025-07-29"
        ],
        [
         "BAHRAM",
         "PARSA",
         "2009-03-27",
         "1194834028",
         "100 PLAZA CLINICAL LAB INC",
         "DIRECTOR",
         "2025-07-29"
        ],
        [
         "JOSHUA",
         "ALOMIA",
         "2024-07-16",
         "1114580677",
         "101 DANCE CENTER LLC",
         "COO",
         "2025-07-29"
        ],
        [
         "NICHOLAS",
         "THOMAS",
         "2015-09-08",
         "1093157786",
         "1010 PHARMACY",
         "President",
         "2025-07-29"
        ],
        [
         "DANIEL",
         "TABELLO",
         "2024-08-27",
         "1235963950",
         "10120 S SPRING LA LLC",
         "Managing Member",
         "2025-07-29"
        ],
        [
         "DAVID",
         "GARETZ",
         "2022-12-12",
         "1043921091",
         "10425 OPCO LLC",
         "CFO",
         "2025-07-29"
        ],
        [
         "EMMANUEL",
         "ACHOLONU",
         "2017-06-29",
         "1649791633",
         "10TH AVENUE PHARMACY",
         "Director",
         "2025-07-29"
        ],
        [
         "MARTIN",
         "WEISS",
         "2014-07-20",
         "1114291523",
         "1100 SOUTH ALVARADO STREET, LLC",
         "Manager",
         "2025-07-29"
        ],
        [
         "ALEXANDER",
         "CHO",
         "2023-03-16",
         "1588306344",
         "11037 ANZIO HOME, INC.",
         "CEO",
         "2025-07-29"
        ],
        [
         "DERRICK",
         "FORTUNE",
         "2012-11-29",
         "1164767356",
         "11821 FOOTHILL BLVD",
         "Counselor",
         "2025-07-29"
        ],
        [
         "AVROHOM",
         "TRESS",
         "2024-03-04",
         "1497512693",
         "13075 BLACKBIRD STREET OPCO, LLC",
         "Manager of Bold Quail 3 Operations",
         "2025-07-29"
        ],
        [
         "TEODORO",
         "SANTOS",
         "2020-08-22",
         "1740343433",
         "1663 PHARMACY INC",
         "PHARMACIST",
         "2025-07-29"
        ],
        [
         "DEZARAY",
         "ROEBUCK",
         "2022-07-21",
         "1548789753",
         "1736 FAMILY CRISIS CENTER",
         "Employment specialist",
         "2025-07-29"
        ]
       ],
       "datasetInfos": [],
       "dbfsResultPath": null,
       "isJsonSchema": true,
       "metadata": {},
       "overflow": false,
       "plotOptions": {
        "customPlotOptions": {},
        "displayType": "table",
        "pivotAggregation": null,
        "pivotColumns": null,
        "xColumns": null,
        "yColumns": null
       },
       "removedWidgets": [],
       "schema": [
        {
         "metadata": "{}",
         "name": "first_name",
         "type": "\"string\""
        },
        {
         "metadata": "{}",
         "name": "last_name",
         "type": "\"string\""
        },
        {
         "metadata": "{}",
         "name": "last_updated",
         "type": "\"string\""
        },
        {
         "metadata": "{}",
         "name": "npi_id",
         "type": "\"string\""
        },
        {
         "metadata": "{}",
         "name": "organisation_name",
         "type": "\"string\""
        },
        {
         "metadata": "{}",
         "name": "position",
         "type": "\"string\""
        },
        {
         "metadata": "{}",
         "name": "refreshed_at",
         "type": "\"date\""
        }
       ],
       "type": "table"
      }
     },
     "output_type": "display_data"
    }
   ],
   "source": [
    "from datetime import date\n",
    "import requests\n",
    "from pyspark.sql import SparkSession\n",
    "\n",
    "# No need to import or initialize SparkSession in Databricks notebooks\n",
    "# from pyspark.sql import SparkSession\n",
    "\n",
    "# Use date.today() to get the current date in a format that Spark can handle\n",
    "current_date = date.today()\n",
    "\n",
    "# Initialize Spark session\n",
    "spark = SparkSession.builder.appName(\"NPI Data\").getOrCreate()\n",
    "\n",
    "# Base URL for the NPI Registry API\n",
    "base_url = \"https://npiregistry.cms.hhs.gov/api/\"\n",
    "\n",
    "# Defining the parameters for the initial API request to get a list of NPIs\n",
    "params = {\n",
    "    \"version\": \"2.1\",  # API version\n",
    "    \"state\": \"CA\",  # Example state, replace with desired state or other criteria\n",
    "    \"city\": \"Los Angeles\",  # Example city, replace with desired city\n",
    "    \"limit\": 20,  # Limit the number of results for demonstration purposes\n",
    "}\n",
    "\n",
    "# Make the initial API request to get a list of NPIs\n",
    "response = requests.get(base_url, params=params)\n",
    "\n",
    "# Check if the request was successful\n",
    "if response.status_code == 200:\n",
    "    npi_data = response.json()\n",
    "    npi_list = [result[\"number\"] for result in npi_data.get(\"results\", [])]\n",
    "\n",
    "    # Initialize a list to store detailed NPI information\n",
    "    detailed_results = []\n",
    "\n",
    "    # Loop through each NPI to get their details\n",
    "    for npi in npi_list:\n",
    "        detail_params = {\"version\": \"2.1\", \"number\": npi}\n",
    "        detail_response = requests.get(base_url, params=detail_params)\n",
    "\n",
    "        if detail_response.status_code == 200:\n",
    "            detail_data = detail_response.json()\n",
    "            if \"results\" in detail_data and detail_data[\"results\"]:\n",
    "                for result in detail_data[\"results\"]:\n",
    "                    npi_number = result.get(\"number\")\n",
    "                    basic_info = result.get(\"basic\", {})\n",
    "                    if result[\"enumeration_type\"] == \"NPI-1\":\n",
    "                        fname = basic_info.get(\"first_name\", \"\")\n",
    "                        lname = basic_info.get(\"last_name\", \"\")\n",
    "                    else:\n",
    "                        fname = basic_info.get(\"authorized_official_first_name\", \"\")\n",
    "                        lname = basic_info.get(\"authorized_official_last_name\", \"\")\n",
    "                    position = (\n",
    "                        basic_info.get(\"authorized_official_title_or_position\", \"\")\n",
    "                        if \"authorized_official_title_or_position\" in basic_info\n",
    "                        else \"\"\n",
    "                    )\n",
    "                    organisation = basic_info.get(\"organization_name\", \"\")\n",
    "                    last_updated = basic_info.get(\"last_updated\", \"\")\n",
    "                    detailed_results.append(\n",
    "                        {\n",
    "                            \"npi_id\": npi_number,\n",
    "                            \"first_name\": fname,\n",
    "                            \"last_name\": lname,\n",
    "                            \"position\": position,\n",
    "                            \"organisation_name\": organisation,\n",
    "                            \"last_updated\": last_updated,\n",
    "                            \"refreshed_at\": current_date,\n",
    "                        }\n",
    "                    )\n",
    "\n",
    "    # Create a DataFrame\n",
    "    if detailed_results:\n",
    "        print(detailed_results)\n",
    "        df = spark.createDataFrame(detailed_results)\n",
    "        display(df)\n",
    "        df.write.format(\"parquet\").mode(\"overwrite\").save(\"/mnt/bronze/npi_extract/\")\n",
    "        df.write.format(\"delta\").mode(\"overwrite\").saveAsTable(\"npi_extract\")\n",
    "\n",
    "    else:\n",
    "        print(\"No detailed results found.\")\n",
    "else:\n",
    "    print(f\"Failed to fetch data: {response.status_code} - {response.text}\")\n",
    "     "
   ]
  }
 ],
 "metadata": {
  "application/vnd.databricks.v1+notebook": {
   "computePreferences": null,
   "dashboards": [],
   "environmentMetadata": {
    "base_environment": "",
    "environment_version": "2"
   },
   "inputWidgetPreferences": null,
   "language": "python",
   "notebookMetadata": {
    "pythonIndentUnit": 4
   },
   "notebookName": "NPI_API_Extract",
   "widgets": {}
  },
  "language_info": {
   "name": "python"
  }
 },
 "nbformat": 4,
 "nbformat_minor": 0
}